{
 "cells": [
  {
   "cell_type": "code",
   "execution_count": 1,
   "metadata": {},
   "outputs": [
    {
     "name": "stdout",
     "output_type": "stream",
     "text": [
      "Welcome to JupyROOT 6.14/04\n"
     ]
    }
   ],
   "source": [
    "from root_numpy import root2array, tree2array\n",
    "from root_numpy import testdata\n",
    "import numpy as np\n",
    "import pandas as pd\n",
    "import ROOT"
   ]
  },
  {
   "cell_type": "code",
   "execution_count": 2,
   "metadata": {},
   "outputs": [],
   "source": [
    "# Insert .root filepath \n",
    "filename = \"/home/andrea/Escritorio/Tutorial ROOT/Datos lxplus/ZtautauB_221.root\"\n",
    "\n",
    "# Convert a TTree in a ROOT file into a NumPy structured array\n",
    "arr = root2array(filename, 'Nominal')\n",
    "# The TTree name is always optional if there is only one TTree in the file\n",
    "\n",
    "# Or first get the TTree from the ROOT file\n",
    "rfile = ROOT.TFile(filename)\n",
    "intree = rfile.Get('Nominal')\n",
    "\n",
    "# and convert the TTree into an array\n",
    "array = tree2array(intree)"
   ]
  },
  {
   "cell_type": "code",
   "execution_count": 3,
   "metadata": {},
   "outputs": [
    {
     "data": {
      "text/plain": [
       "numpy.ndarray"
      ]
     },
     "execution_count": 3,
     "metadata": {},
     "output_type": "execute_result"
    }
   ],
   "source": [
    "type(array)"
   ]
  },
  {
   "cell_type": "code",
   "execution_count": 4,
   "metadata": {},
   "outputs": [
    {
     "data": {
      "text/plain": [
       "6.941541"
      ]
     },
     "execution_count": 4,
     "metadata": {},
     "output_type": "execute_result"
    }
   ],
   "source": [
    "array[0][1]"
   ]
  },
  {
   "cell_type": "code",
   "execution_count": 5,
   "metadata": {},
   "outputs": [],
   "source": [
    "df = pd.DataFrame(array, columns=['sample', 'EventWeight', 'EventNumber', 'BDT', 'NJets', 'NJetsbtagged', 'Tau1Pt', 'Tau1Eta', \n",
    "              'Tau1Phi', 'Tau1M', 'Tau2Pt', 'Tau2Eta', 'Tau2Phi', 'Tau2M', 'diTauVisM', 'diTauVisPt', \n",
    "              'diTauVisEta', 'diTauVisPhi', 'diTauMMCM', 'diTauMMCPt', 'diTauMMCEta', 'diTauMMCPhi', 'diTauDR', \n",
    "              'diTauDEta', 'diTauDPhi', 'Jet1Pt', 'Jet1Eta', 'Jet1Phi', 'Jet1M', 'Jet2Pt', 'Jet2Eta', 'Jet2Phi', 'Jet2M', \n",
    "              'diJetM', 'diJetPt', 'diJetEta', 'diJetPhi', 'diJetDR', 'diJetDEta', 'diJetDPhi', 'diHiggsMScaled', 'diHiggsM', \n",
    "              'diHiggsPt', 'diJetdiTauDR', 'diJetdiTauDPhi', 'MTW_Max', 'MTW_Clos', 'METCentrality', 'MET', 'boostedDT'])"
   ]
  },
  {
   "cell_type": "code",
   "execution_count": 18,
   "metadata": {},
   "outputs": [
    {
     "data": {
      "text/plain": [
       "0     0.494877\n",
       "1     3.111909\n",
       "2    -2.515044\n",
       "3    -0.938832\n",
       "4    -0.521491\n",
       "5    -0.735938\n",
       "6    -2.425866\n",
       "7    -0.401442\n",
       "8     2.532020\n",
       "9     1.320876\n",
       "10    1.387345\n",
       "11    2.307183\n",
       "12   -0.842878\n",
       "13    3.080454\n",
       "14    0.389449\n",
       "15   -0.019408\n",
       "16    3.052199\n",
       "17    0.152758\n",
       "Name: Tau1Phi, dtype: float32"
      ]
     },
     "execution_count": 18,
     "metadata": {},
     "output_type": "execute_result"
    }
   ],
   "source": [
    "df.loc[:, 'Tau1Phi']"
   ]
  },
  {
   "cell_type": "code",
   "execution_count": null,
   "metadata": {},
   "outputs": [],
   "source": []
  }
 ],
 "metadata": {
  "kernelspec": {
   "display_name": "Python 3",
   "language": "python",
   "name": "python3"
  },
  "language_info": {
   "codemirror_mode": {
    "name": "ipython",
    "version": 3
   },
   "file_extension": ".py",
   "mimetype": "text/x-python",
   "name": "python",
   "nbconvert_exporter": "python",
   "pygments_lexer": "ipython3",
   "version": "3.5.5"
  }
 },
 "nbformat": 4,
 "nbformat_minor": 2
}
