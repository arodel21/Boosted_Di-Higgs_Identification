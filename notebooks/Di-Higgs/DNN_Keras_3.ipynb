{
 "cells": [
  {
   "cell_type": "code",
   "execution_count": 1,
   "metadata": {},
   "outputs": [
    {
     "name": "stdout",
     "output_type": "stream",
     "text": [
      "Welcome to JupyROOT 6.14/04\n"
     ]
    },
    {
     "name": "stderr",
     "output_type": "stream",
     "text": [
      "Using TensorFlow backend.\n"
     ]
    }
   ],
   "source": [
    "import ROOT\n",
    "import math\n",
    "# Colors\n",
    "import numpy as np\n",
    "import matplotlib.pyplot as plt\n",
    "import matplotlib.gridspec as gridspec\n",
    "from matplotlib.ticker import AutoMinorLocator, MultipleLocator\n",
    "from root_numpy import root2array, tree2array\n",
    "from root_numpy import testdata, fill_hist\n",
    "import pandas as pd\n",
    "from sklearn.model_selection import train_test_split\n",
    "from keras.callbacks import ModelCheckpoint\n",
    "from keras.models import Sequential\n",
    "from keras.layers import Dense, Activation, Flatten, Dropout\n",
    "from sklearn.preprocessing import StandardScaler\n",
    "from sklearn.metrics import (recall_score,  precision_score, f1_score, roc_auc_score, precision_recall_curve,\n",
    "                             make_scorer, confusion_matrix, accuracy_score, roc_curve)\n",
    "from keras import backend as K\n",
    "\n",
    "import warnings\n",
    "warnings.filterwarnings('ignore')"
   ]
  },
  {
   "cell_type": "markdown",
   "metadata": {},
   "source": [
    "## Previous Analysis\n",
    "\n",
    "Checking amount of signal and background events in all of the configurations formed by region, tag and signal type.\n",
    "\n",
    "#### Add new column with signal label"
   ]
  },
  {
   "cell_type": "code",
   "execution_count": 2,
   "metadata": {},
   "outputs": [],
   "source": [
    "# If the row sample is 'Xtohh1000' or 'Xtohh2000', then the new columns will have a 1 in this row.\n",
    "def classifier(row):\n",
    "    if row['sample'] == 'Xtohh1000':\n",
    "        return 1\n",
    "    #else if row['sample'] == 'Xtohh2000':\n",
    "    #    return 1\n",
    "    else:\n",
    "        return 0"
   ]
  },
  {
   "cell_type": "code",
   "execution_count": 3,
   "metadata": {},
   "outputs": [],
   "source": [
    "# Select rows different of data samples\n",
    "# Select rows on the SR_1tag region\n",
    "def sel_df(df, region):\n",
    "    df = df[(df['sample']!='data') & (df['m_region']==region)]\n",
    "    df[\"signal\"] = df.apply(classifier, axis=1)\n",
    "    return df"
   ]
  },
  {
   "cell_type": "code",
   "execution_count": 4,
   "metadata": {},
   "outputs": [],
   "source": [
    "def print_configs():\n",
    "    print('%-15s%-10s%-10s%-10s%-10s' % (\"Region\", \"Xtohh\", \"Signal\", \"Bkg\", \"Data\"))\n",
    "    for sig in [1000,2000]:\n",
    "        rfile = ROOT.TFile(\"/home/andrea/Escritorio/CERN data/Try3/all_\"+str(sig)+\".root\")\n",
    "        intree = rfile.Get(\"Nominal\")\n",
    "        array = tree2array(intree)\n",
    "        df = pd.DataFrame(array)\n",
    "        for reg in np.unique(df['m_region'].values):\n",
    "            df2 = df[(df['sample']=='data') & (df['m_region']==reg)]\n",
    "            data = df2['sample'].value_counts().values[0]\n",
    "            df_aux = sel_df(df, reg)\n",
    "            bkg = df_aux[\"signal\"].value_counts(sort=False).values[0]\n",
    "            signal = df_aux[\"signal\"].value_counts(sort=False).values[1]\n",
    "            print('%-15s%-10i%-10i%-10i%-10i' % (reg, sig, signal, bkg, data))\n",
    "    return"
   ]
  },
  {
   "cell_type": "markdown",
   "metadata": {},
   "source": [
    "##### Run once"
   ]
  },
  {
   "cell_type": "code",
   "execution_count": 35,
   "metadata": {},
   "outputs": [
    {
     "name": "stdout",
     "output_type": "stream",
     "text": [
      "Region         Xtohh     Signal    Bkg       Data      \n",
      "PreSel_0tag    1000      2550      98061     713       \n",
      "PreSel_1tag    1000      4681      16467     130       \n",
      "PreSel_2tag    1000      4343      995       6         \n",
      "QCDCR_0tag     1000      557       38603     279       \n",
      "QCDCR_1tag     1000      1128      7205      49        \n",
      "QCDCR_2tag     1000      1166      556       5         \n",
      "SR_0tag        1000      1993      59458     434       \n",
      "SR_1tag        1000      3553      9262      81        \n",
      "SR_2tag        1000      3177      439       1         \n",
      "PreSel_0tag    2000      2867      98061     713       \n",
      "PreSel_1tag    2000      11507     16467     130       \n",
      "PreSel_2tag    2000      13720     995       6         \n",
      "QCDCR_0tag     2000      544       38603     279       \n",
      "QCDCR_1tag     2000      2152      7205      49        \n",
      "QCDCR_2tag     2000      2271      556       5         \n",
      "SR_0tag        2000      2323      59458     434       \n",
      "SR_1tag        2000      9355      9262      81        \n",
      "SR_2tag        2000      11449     439       1         \n"
     ]
    }
   ],
   "source": [
    "print_configs()"
   ]
  },
  {
   "cell_type": "markdown",
   "metadata": {},
   "source": [
    "## Import ROOT file\n",
    "\n",
    "You can either import a file which includes both Xtohh1000 and Xtohh2000 signal events, but their samples must be different or import just the file which includes one of the signals and the background."
   ]
  },
  {
   "cell_type": "code",
   "execution_count": 5,
   "metadata": {},
   "outputs": [],
   "source": [
    "rfile = ROOT.TFile(\"/home/andrea/Escritorio/CERN data/Try3/all_1000.root\")\n",
    "intree = rfile.Get(\"Nominal\")\n",
    "array = tree2array(intree)\n",
    "df = pd.DataFrame(array)\n",
    "df = sel_df(df, \"SR_1tag\")\n",
    "\n",
    "# Delete columns\n",
    "not_cons = ['sample', 'EventNumber', 'm_region', 'm_FJNbtagJets', 'm_FJphi', 'm_FJeta', 'm_DTeta', 'm_DTphi']\n",
    "df.drop(not_cons, axis=1, inplace=True)"
   ]
  },
  {
   "cell_type": "markdown",
   "metadata": {},
   "source": [
    "## Dividing data for training and testing"
   ]
  },
  {
   "cell_type": "code",
   "execution_count": 6,
   "metadata": {},
   "outputs": [
    {
     "name": "stdout",
     "output_type": "stream",
     "text": [
      "Training size: 14804\n",
      "Test size: 2563\n",
      "Signal amount: 3553 , 0.28 %\n",
      "Background amount: 9262 , 0.72 %\n"
     ]
    }
   ],
   "source": [
    "# Features\n",
    "feature_cols = df.columns.values[:-1]\n",
    "\n",
    "X = df.loc[:, feature_cols].values\n",
    "# Targets\n",
    "y = df['signal'].values\n",
    "\n",
    "#from imblearn.over_sampling import RandomOverSampler\n",
    "#ros = RandomOverSampler(random_state=0)\n",
    "#X_resampled, y_resampled = ros.fit_resample(X, y)\n",
    "\n",
    "from imblearn.over_sampling import SMOTE, ADASYN\n",
    "#https://imbalanced-learn.readthedocs.io/en/stable/over_sampling.html\n",
    "\n",
    "X_train, X_test, y_train, y_test = train_test_split(X, y, test_size=0.2)\n",
    "X_train, y_train = SMOTE().fit_resample(X_train, y_train)\n",
    "\n",
    "\n",
    "print(\"Training size:\",X_train.shape[0])\n",
    "print(\"Test size:\", X_test.shape[0])\n",
    "values, counts = np.unique(y, return_counts=True)\n",
    "print(\"Signal amount:\", counts[1],\",\", round(counts[1]/y.shape[0], 2),\"%\")\n",
    "print(\"Background amount:\", counts[0],\",\", round(counts[0]/y.shape[0], 2),\"%\")"
   ]
  },
  {
   "cell_type": "code",
   "execution_count": 7,
   "metadata": {},
   "outputs": [
    {
     "name": "stdout",
     "output_type": "stream",
     "text": [
      "Signal training events: 7402 , 0.5 %\n",
      "Background training events: 7402 , 0.5 %\n",
      "Signal testing events: 703 , 0.27 %\n",
      "Background testing events: 1860 , 0.73 %\n"
     ]
    }
   ],
   "source": [
    "values_s, count_s = np.unique(y_train, return_counts=True)\n",
    "print(\"Signal training events:\", count_s[1],\",\", round(count_s[1]/X_train.shape[0], 2),\"%\")\n",
    "print(\"Background training events:\", count_s[0],\",\", round(count_s[0]/X_train.shape[0],2),\"%\")\n",
    "values_b, count_b = np.unique(y_test, return_counts=True)\n",
    "print(\"Signal testing events:\", count_b[1],\",\", round(count_b[1]/X_test.shape[0],2),\"%\")\n",
    "print(\"Background testing events:\", count_b[0],\",\", round(count_b[0]/X_test.shape[0],2),\"%\")"
   ]
  },
  {
   "cell_type": "markdown",
   "metadata": {},
   "source": [
    "## Custom metric: F1"
   ]
  },
  {
   "cell_type": "code",
   "execution_count": 8,
   "metadata": {},
   "outputs": [],
   "source": [
    "def f1_(y_true, y_pred):\n",
    "    def recall_(y_true, y_pred):\n",
    "        \"\"\"Recall metric.\n",
    "        Only computes a batch-wise average of recall.\n",
    "        Computes the recall, a metric for multi-label classification of\n",
    "        how many relevant items are selected.\n",
    "        \"\"\"\n",
    "        true_positives = K.sum(K.round(K.clip(y_true * y_pred, 0, 1)))\n",
    "        possible_positives = K.sum(K.round(K.clip(y_true, 0, 1)))\n",
    "        recall = true_positives / (possible_positives + K.epsilon())\n",
    "        return recall\n",
    "\n",
    "    def precision_(y_true, y_pred):\n",
    "        \"\"\"Precision metric.\n",
    "\n",
    "        Only computes a batch-wise average of precision.\n",
    "\n",
    "        Computes the precision, a metric for multi-label classification of\n",
    "        how many selected items are relevant.\n",
    "        \"\"\"\n",
    "        true_positives = K.sum(K.round(K.clip(y_true * y_pred, 0, 1)))\n",
    "        predicted_positives = K.sum(K.round(K.clip(y_pred, 0, 1)))\n",
    "        precision = true_positives / (predicted_positives + K.epsilon())\n",
    "        return precision\n",
    "    precision = precision_(y_true, y_pred)\n",
    "    recall = recall_(y_true, y_pred)\n",
    "    return 2*((precision*recall)/(precision+recall+K.epsilon()))"
   ]
  },
  {
   "cell_type": "markdown",
   "metadata": {},
   "source": [
    "## Configure neural network"
   ]
  },
  {
   "cell_type": "code",
   "execution_count": 10,
   "metadata": {},
   "outputs": [],
   "source": [
    "classifier = Sequential()\n",
    "#First Hidden Layer\n",
    "classifier.add(Dense(100, activation='relu', kernel_initializer='uniform', input_dim=11))\n",
    "classifier.add(Dropout(rate= 0.1))\n",
    "#Second  Hidden Layer\n",
    "classifier.add(Dense(100, activation='relu', kernel_initializer='uniform'))\n",
    "classifier.add(Dropout(rate= 0.1))\n",
    "#Third  Hidden Layer\n",
    "classifier.add(Dense(100, activation='relu', kernel_initializer='uniform'))\n",
    "classifier.add(Dropout(rate= 0.1))\n",
    "#Fourth Hidden Layer\n",
    "classifier.add(Dense(100, activation='relu', kernel_initializer='uniform'))\n",
    "classifier.add(Dropout(rate= 0.1))\n",
    "#Fifth Hidden Layer\n",
    "classifier.add(Dense(100, activation='relu', kernel_initializer='uniform'))\n",
    "classifier.add(Dropout(rate= 0.1))\n",
    "#Output Layer\n",
    "classifier.add(Dense(1, activation='sigmoid', kernel_initializer='uniform'))"
   ]
  },
  {
   "cell_type": "code",
   "execution_count": 11,
   "metadata": {},
   "outputs": [],
   "source": [
    "#Compiling the neural network\n",
    "classifier.compile(optimizer ='adam',loss='binary_crossentropy', metrics =[f1_])"
   ]
  },
  {
   "cell_type": "code",
   "execution_count": 12,
   "metadata": {},
   "outputs": [
    {
     "name": "stdout",
     "output_type": "stream",
     "text": [
      "Epoch 1/200\n",
      "14804/14804 [==============================] - 3s 226us/step - loss: 0.6679 - f1_: 0.6562\n",
      "Epoch 2/200\n",
      "14804/14804 [==============================] - 2s 121us/step - loss: 0.6392 - f1_: 0.6869\n",
      "Epoch 3/200\n",
      "14804/14804 [==============================] - 2s 103us/step - loss: 0.6349 - f1_: 0.6885\n",
      "Epoch 4/200\n",
      "14804/14804 [==============================] - 2s 103us/step - loss: 0.6136 - f1_: 0.6924\n",
      "Epoch 5/200\n",
      "14804/14804 [==============================] - 2s 104us/step - loss: 0.5937 - f1_: 0.7044\n",
      "Epoch 6/200\n",
      "14804/14804 [==============================] - 2s 106us/step - loss: 0.5674 - f1_: 0.7304\n",
      "Epoch 7/200\n",
      "14804/14804 [==============================] - 2s 120us/step - loss: 0.5732 - f1_: 0.7269\n",
      "Epoch 8/200\n",
      "14804/14804 [==============================] - 2s 110us/step - loss: 0.5677 - f1_: 0.7340\n",
      "Epoch 9/200\n",
      "14804/14804 [==============================] - 2s 114us/step - loss: 0.5534 - f1_: 0.7342\n",
      "Epoch 10/200\n",
      "14804/14804 [==============================] - 2s 112us/step - loss: 0.5521 - f1_: 0.7337\n",
      "Epoch 11/200\n",
      "14804/14804 [==============================] - 2s 111us/step - loss: 0.5440 - f1_: 0.7416\n",
      "Epoch 12/200\n",
      "14804/14804 [==============================] - 2s 110us/step - loss: 0.5470 - f1_: 0.7375\n",
      "Epoch 13/200\n",
      "14804/14804 [==============================] - 2s 120us/step - loss: 0.5371 - f1_: 0.7540\n",
      "Epoch 14/200\n",
      "14804/14804 [==============================] - 2s 155us/step - loss: 0.5305 - f1_: 0.7541\n",
      "Epoch 15/200\n",
      "14804/14804 [==============================] - 3s 186us/step - loss: 0.5306 - f1_: 0.7530\n",
      "Epoch 16/200\n",
      "14804/14804 [==============================] - 2s 131us/step - loss: 0.5336 - f1_: 0.7479\n",
      "Epoch 17/200\n",
      "14804/14804 [==============================] - 2s 127us/step - loss: 0.5529 - f1_: 0.7379\n",
      "Epoch 18/200\n",
      "14804/14804 [==============================] - 2s 129us/step - loss: 0.5365 - f1_: 0.7534\n",
      "Epoch 19/200\n",
      "14804/14804 [==============================] - 2s 117us/step - loss: 0.5431 - f1_: 0.7515\n",
      "Epoch 20/200\n",
      "14804/14804 [==============================] - 2s 113us/step - loss: 0.5372 - f1_: 0.7527\n",
      "Epoch 21/200\n",
      "14804/14804 [==============================] - 2s 120us/step - loss: 0.5333 - f1_: 0.7568\n",
      "Epoch 22/200\n",
      "14804/14804 [==============================] - 2s 128us/step - loss: 0.5328 - f1_: 0.7574\n",
      "Epoch 23/200\n",
      "14804/14804 [==============================] - 2s 126us/step - loss: 0.5267 - f1_: 0.7603\n",
      "Epoch 24/200\n",
      "14804/14804 [==============================] - 2s 112us/step - loss: 0.5275 - f1_: 0.7617\n",
      "Epoch 25/200\n",
      "14804/14804 [==============================] - 2s 116us/step - loss: 0.5417 - f1_: 0.7501\n",
      "Epoch 26/200\n",
      "14804/14804 [==============================] - 2s 124us/step - loss: 0.5266 - f1_: 0.7573\n",
      "Epoch 27/200\n",
      "14804/14804 [==============================] - 2s 128us/step - loss: 0.5282 - f1_: 0.7587\n",
      "Epoch 28/200\n",
      "14804/14804 [==============================] - 2s 116us/step - loss: 0.5340 - f1_: 0.7545\n",
      "Epoch 29/200\n",
      "14804/14804 [==============================] - 2s 120us/step - loss: 0.5260 - f1_: 0.7641\n",
      "Epoch 30/200\n",
      "14804/14804 [==============================] - 2s 117us/step - loss: 0.5265 - f1_: 0.7622\n",
      "Epoch 31/200\n",
      "14804/14804 [==============================] - 2s 127us/step - loss: 0.5249 - f1_: 0.7637\n",
      "Epoch 32/200\n",
      "14804/14804 [==============================] - 2s 146us/step - loss: 0.5237 - f1_: 0.7660\n",
      "Epoch 33/200\n",
      "14804/14804 [==============================] - 2s 136us/step - loss: 0.5248 - f1_: 0.7625\n",
      "Epoch 34/200\n",
      "14804/14804 [==============================] - 2s 132us/step - loss: 0.5226 - f1_: 0.7660\n",
      "Epoch 35/200\n",
      "14804/14804 [==============================] - 2s 143us/step - loss: 0.5216 - f1_: 0.7645\n",
      "Epoch 36/200\n",
      "14804/14804 [==============================] - 2s 129us/step - loss: 0.5218 - f1_: 0.7600\n",
      "Epoch 37/200\n",
      "14804/14804 [==============================] - 2s 120us/step - loss: 0.5331 - f1_: 0.7511\n",
      "Epoch 38/200\n",
      "14804/14804 [==============================] - 2s 135us/step - loss: 0.5254 - f1_: 0.7609\n",
      "Epoch 39/200\n",
      "14804/14804 [==============================] - 2s 137us/step - loss: 0.5274 - f1_: 0.7672\n",
      "Epoch 40/200\n",
      "14804/14804 [==============================] - 2s 126us/step - loss: 0.5208 - f1_: 0.7614\n",
      "Epoch 41/200\n",
      "14804/14804 [==============================] - 2s 118us/step - loss: 0.5365 - f1_: 0.7474\n",
      "Epoch 42/200\n",
      "14804/14804 [==============================] - 2s 117us/step - loss: 0.5285 - f1_: 0.7545\n",
      "Epoch 43/200\n",
      "14804/14804 [==============================] - 2s 126us/step - loss: 0.5448 - f1_: 0.7451\n",
      "Epoch 44/200\n",
      "14804/14804 [==============================] - 2s 128us/step - loss: 0.5248 - f1_: 0.7575\n",
      "Epoch 45/200\n",
      "14804/14804 [==============================] - 2s 119us/step - loss: 0.5402 - f1_: 0.7505\n",
      "Epoch 46/200\n",
      "14804/14804 [==============================] - 2s 120us/step - loss: 0.5310 - f1_: 0.7559\n",
      "Epoch 47/200\n",
      "14804/14804 [==============================] - 2s 122us/step - loss: 0.5335 - f1_: 0.7502\n",
      "Epoch 48/200\n",
      "14804/14804 [==============================] - 2s 129us/step - loss: 0.5404 - f1_: 0.7464\n",
      "Epoch 49/200\n",
      "14804/14804 [==============================] - 2s 120us/step - loss: 0.5537 - f1_: 0.7352\n",
      "Epoch 50/200\n",
      "14804/14804 [==============================] - 2s 117us/step - loss: 0.5934 - f1_: 0.7330\n",
      "Epoch 51/200\n",
      "14804/14804 [==============================] - 2s 116us/step - loss: 0.5416 - f1_: 0.7503\n",
      "Epoch 52/200\n",
      "14804/14804 [==============================] - 2s 131us/step - loss: 0.5410 - f1_: 0.7455\n",
      "Epoch 53/200\n",
      "14804/14804 [==============================] - 2s 130us/step - loss: 0.5525 - f1_: 0.7322\n",
      "Epoch 54/200\n",
      "14804/14804 [==============================] - 4s 253us/step - loss: 0.5744 - f1_: 0.7022\n",
      "Epoch 55/200\n",
      "14804/14804 [==============================] - 3s 212us/step - loss: 0.5487 - f1_: 0.7476\n",
      "Epoch 56/200\n",
      "14804/14804 [==============================] - 2s 149us/step - loss: 0.5348 - f1_: 0.7549\n",
      "Epoch 57/200\n",
      "14804/14804 [==============================] - 2s 132us/step - loss: 0.5340 - f1_: 0.7536\n",
      "Epoch 58/200\n",
      "14804/14804 [==============================] - 2s 124us/step - loss: 0.5297 - f1_: 0.7563\n",
      "Epoch 59/200\n",
      "14804/14804 [==============================] - 2s 110us/step - loss: 0.5422 - f1_: 0.7408\n",
      "Epoch 60/200\n",
      "14804/14804 [==============================] - 2s 112us/step - loss: 0.5333 - f1_: 0.7569\n",
      "Epoch 61/200\n",
      "14804/14804 [==============================] - 2s 125us/step - loss: 0.5549 - f1_: 0.7198\n",
      "Epoch 62/200\n",
      "14804/14804 [==============================] - 2s 124us/step - loss: 0.5368 - f1_: 0.7514\n",
      "Epoch 63/200\n",
      "14804/14804 [==============================] - 2s 112us/step - loss: 0.5470 - f1_: 0.7453\n",
      "Epoch 64/200\n",
      "14804/14804 [==============================] - 2s 113us/step - loss: 0.5336 - f1_: 0.7463\n",
      "Epoch 65/200\n",
      "14804/14804 [==============================] - 2s 126us/step - loss: 0.5650 - f1_: 0.7104\n",
      "Epoch 66/200\n",
      "14804/14804 [==============================] - 3s 172us/step - loss: 0.5445 - f1_: 0.7479\n",
      "Epoch 67/200\n",
      "14804/14804 [==============================] - 5s 325us/step - loss: 0.5397 - f1_: 0.7526\n",
      "Epoch 68/200\n",
      "14804/14804 [==============================] - 3s 216us/step - loss: 0.5331 - f1_: 0.7635\n",
      "Epoch 69/200\n",
      "14804/14804 [==============================] - 2s 148us/step - loss: 0.5428 - f1_: 0.7399\n",
      "Epoch 70/200\n",
      "14804/14804 [==============================] - 2s 155us/step - loss: 0.5310 - f1_: 0.7551\n",
      "Epoch 71/200\n",
      "14804/14804 [==============================] - 3s 195us/step - loss: 0.5476 - f1_: 0.7278\n",
      "Epoch 72/200\n",
      "14804/14804 [==============================] - 2s 158us/step - loss: 0.5308 - f1_: 0.7546\n",
      "Epoch 73/200\n",
      "14804/14804 [==============================] - 2s 130us/step - loss: 0.5275 - f1_: 0.7570\n",
      "Epoch 74/200\n",
      "14804/14804 [==============================] - 2s 136us/step - loss: 0.5239 - f1_: 0.7633\n",
      "Epoch 75/200\n",
      "14804/14804 [==============================] - 2s 139us/step - loss: 0.5305 - f1_: 0.7593\n",
      "Epoch 76/200\n",
      "14804/14804 [==============================] - 2s 164us/step - loss: 0.5415 - f1_: 0.7516\n",
      "Epoch 77/200\n",
      "14804/14804 [==============================] - 2s 142us/step - loss: 0.5535 - f1_: 0.7444\n",
      "Epoch 78/200\n",
      "14804/14804 [==============================] - 4s 242us/step - loss: 0.5280 - f1_: 0.7584\n",
      "Epoch 79/200\n",
      "14804/14804 [==============================] - 3s 233us/step - loss: 0.5209 - f1_: 0.7639\n",
      "Epoch 80/200\n"
     ]
    },
    {
     "name": "stdout",
     "output_type": "stream",
     "text": [
      "14804/14804 [==============================] - 3s 196us/step - loss: 0.5261 - f1_: 0.7586\n",
      "Epoch 81/200\n",
      "14804/14804 [==============================] - 4s 282us/step - loss: 0.5287 - f1_: 0.7552\n",
      "Epoch 82/200\n",
      "14804/14804 [==============================] - 3s 225us/step - loss: 0.5329 - f1_: 0.7564\n",
      "Epoch 83/200\n",
      "14804/14804 [==============================] - 2s 169us/step - loss: 0.5231 - f1_: 0.7658\n",
      "Epoch 84/200\n",
      "14804/14804 [==============================] - 3s 197us/step - loss: 0.5317 - f1_: 0.7560\n",
      "Epoch 85/200\n",
      "14804/14804 [==============================] - 3s 169us/step - loss: 0.5254 - f1_: 0.7639\n",
      "Epoch 86/200\n",
      "14804/14804 [==============================] - 2s 149us/step - loss: 0.5504 - f1_: 0.7392\n",
      "Epoch 87/200\n",
      "14804/14804 [==============================] - 3s 179us/step - loss: 0.5480 - f1_: 0.7321\n",
      "Epoch 88/200\n",
      "14804/14804 [==============================] - 3s 177us/step - loss: 0.5325 - f1_: 0.7550\n",
      "Epoch 89/200\n",
      "14804/14804 [==============================] - 2s 146us/step - loss: 0.5561 - f1_: 0.7221\n",
      "Epoch 90/200\n",
      "14804/14804 [==============================] - 3s 176us/step - loss: 0.5620 - f1_: 0.7233\n",
      "Epoch 91/200\n",
      "14804/14804 [==============================] - 3s 203us/step - loss: 0.5509 - f1_: 0.7433\n",
      "Epoch 92/200\n",
      "14804/14804 [==============================] - 2s 150us/step - loss: 0.5323 - f1_: 0.7566\n",
      "Epoch 93/200\n",
      "14804/14804 [==============================] - 2s 166us/step - loss: 0.5275 - f1_: 0.7605\n",
      "Epoch 94/200\n",
      "14804/14804 [==============================] - 3s 197us/step - loss: 0.5432 - f1_: 0.7468\n",
      "Epoch 95/200\n",
      "14804/14804 [==============================] - 2s 152us/step - loss: 0.5397 - f1_: 0.7434\n",
      "Epoch 96/200\n",
      "14804/14804 [==============================] - 2s 145us/step - loss: 0.5797 - f1_: 0.7294\n",
      "Epoch 97/200\n",
      "14804/14804 [==============================] - 2s 135us/step - loss: 0.5549 - f1_: 0.7475\n",
      "Epoch 98/200\n",
      "14804/14804 [==============================] - 2s 139us/step - loss: 0.5379 - f1_: 0.7632\n",
      "Epoch 99/200\n",
      "14804/14804 [==============================] - 2s 150us/step - loss: 0.5207 - f1_: 0.7607\n",
      "Epoch 100/200\n",
      "14804/14804 [==============================] - 3s 201us/step - loss: 0.5222 - f1_: 0.7693\n",
      "Epoch 101/200\n",
      "14804/14804 [==============================] - 4s 261us/step - loss: 0.5266 - f1_: 0.7623\n",
      "Epoch 102/200\n",
      "14804/14804 [==============================] - 3s 213us/step - loss: 0.5307 - f1_: 0.7539\n",
      "Epoch 103/200\n",
      "14804/14804 [==============================] - 2s 136us/step - loss: 0.5452 - f1_: 0.7450\n",
      "Epoch 104/200\n",
      "14804/14804 [==============================] - 2s 134us/step - loss: 0.5485 - f1_: 0.7434\n",
      "Epoch 105/200\n",
      "14804/14804 [==============================] - 2s 128us/step - loss: 0.5795 - f1_: 0.7019\n",
      "Epoch 106/200\n",
      "14804/14804 [==============================] - 2s 123us/step - loss: 0.5666 - f1_: 0.7356\n",
      "Epoch 107/200\n",
      "14804/14804 [==============================] - 3s 174us/step - loss: 0.5406 - f1_: 0.7549\n",
      "Epoch 108/200\n",
      "14804/14804 [==============================] - 2s 150us/step - loss: 0.5299 - f1_: 0.7548\n",
      "Epoch 109/200\n",
      "14804/14804 [==============================] - 2s 133us/step - loss: 0.5322 - f1_: 0.7494\n",
      "Epoch 110/200\n",
      "14804/14804 [==============================] - 2s 133us/step - loss: 0.5204 - f1_: 0.7654\n",
      "Epoch 111/200\n",
      "14804/14804 [==============================] - 2s 128us/step - loss: 0.5291 - f1_: 0.7606\n",
      "Epoch 112/200\n",
      "14804/14804 [==============================] - 3s 214us/step - loss: 0.5256 - f1_: 0.7689\n",
      "Epoch 113/200\n",
      "14804/14804 [==============================] - 3s 233us/step - loss: 0.5282 - f1_: 0.7604\n",
      "Epoch 114/200\n",
      "14804/14804 [==============================] - 3s 209us/step - loss: 0.5216 - f1_: 0.7714\n",
      "Epoch 115/200\n",
      "14804/14804 [==============================] - 3s 217us/step - loss: 0.5324 - f1_: 0.7602\n",
      "Epoch 116/200\n",
      "14804/14804 [==============================] - 4s 282us/step - loss: 0.5319 - f1_: 0.7561\n",
      "Epoch 117/200\n",
      "14804/14804 [==============================] - 2s 132us/step - loss: 0.5190 - f1_: 0.7695\n",
      "Epoch 118/200\n",
      "14804/14804 [==============================] - 2s 131us/step - loss: 0.5301 - f1_: 0.7669\n",
      "Epoch 119/200\n",
      "14804/14804 [==============================] - 2s 120us/step - loss: 0.5315 - f1_: 0.7572\n",
      "Epoch 120/200\n",
      "14804/14804 [==============================] - 2s 143us/step - loss: 0.5401 - f1_: 0.7563\n",
      "Epoch 121/200\n",
      "14804/14804 [==============================] - 2s 136us/step - loss: 0.5366 - f1_: 0.7540\n",
      "Epoch 122/200\n",
      "14804/14804 [==============================] - 2s 136us/step - loss: 0.5280 - f1_: 0.7604\n",
      "Epoch 123/200\n",
      "14804/14804 [==============================] - 3s 232us/step - loss: 0.5266 - f1_: 0.7613\n",
      "Epoch 124/200\n",
      "14804/14804 [==============================] - 3s 177us/step - loss: 0.5333 - f1_: 0.7641\n",
      "Epoch 125/200\n",
      "14804/14804 [==============================] - 2s 161us/step - loss: 0.5384 - f1_: 0.7645\n",
      "Epoch 126/200\n",
      "14804/14804 [==============================] - 2s 129us/step - loss: 0.5264 - f1_: 0.7685\n",
      "Epoch 127/200\n",
      "14804/14804 [==============================] - 2s 131us/step - loss: 0.5284 - f1_: 0.7708\n",
      "Epoch 128/200\n",
      "14804/14804 [==============================] - 2s 120us/step - loss: 0.5481 - f1_: 0.7547\n",
      "Epoch 129/200\n",
      "14804/14804 [==============================] - 2s 123us/step - loss: 0.5485 - f1_: 0.7617\n",
      "Epoch 130/200\n",
      "14804/14804 [==============================] - 2s 129us/step - loss: 0.5362 - f1_: 0.7619\n",
      "Epoch 131/200\n",
      "14804/14804 [==============================] - 2s 129us/step - loss: 0.5720 - f1_: 0.7012\n",
      "Epoch 132/200\n",
      "14804/14804 [==============================] - 2s 129us/step - loss: 0.6302 - f1_: 0.6366\n",
      "Epoch 133/200\n",
      "14804/14804 [==============================] - 2s 118us/step - loss: 0.6082 - f1_: 0.7191\n",
      "Epoch 134/200\n",
      "14804/14804 [==============================] - 2s 125us/step - loss: 0.5776 - f1_: 0.7347\n",
      "Epoch 135/200\n",
      "14804/14804 [==============================] - 2s 128us/step - loss: 0.5834 - f1_: 0.7302\n",
      "Epoch 136/200\n",
      "14804/14804 [==============================] - 2s 122us/step - loss: 0.5732 - f1_: 0.7424\n",
      "Epoch 137/200\n",
      "14804/14804 [==============================] - 2s 124us/step - loss: 0.5556 - f1_: 0.7450\n",
      "Epoch 138/200\n",
      "14804/14804 [==============================] - 2s 131us/step - loss: 0.5371 - f1_: 0.7536\n",
      "Epoch 139/200\n",
      "14804/14804 [==============================] - 2s 145us/step - loss: 0.5439 - f1_: 0.7574\n",
      "Epoch 140/200\n",
      "14804/14804 [==============================] - 2s 135us/step - loss: 0.5316 - f1_: 0.7577\n",
      "Epoch 141/200\n",
      "14804/14804 [==============================] - 2s 118us/step - loss: 0.5362 - f1_: 0.7564\n",
      "Epoch 142/200\n",
      "14804/14804 [==============================] - 2s 135us/step - loss: 0.5432 - f1_: 0.7597\n",
      "Epoch 143/200\n",
      "14804/14804 [==============================] - 2s 131us/step - loss: 0.5304 - f1_: 0.7599\n",
      "Epoch 144/200\n",
      "14804/14804 [==============================] - 2s 132us/step - loss: 0.5143 - f1_: 0.7717\n",
      "Epoch 145/200\n",
      "14804/14804 [==============================] - 2s 117us/step - loss: 0.5377 - f1_: 0.7614\n",
      "Epoch 146/200\n",
      "14804/14804 [==============================] - 2s 126us/step - loss: 0.5234 - f1_: 0.7642\n",
      "Epoch 147/200\n",
      "14804/14804 [==============================] - 2s 129us/step - loss: 0.5103 - f1_: 0.7756\n",
      "Epoch 148/200\n",
      "14804/14804 [==============================] - 2s 135us/step - loss: 0.5209 - f1_: 0.7649\n",
      "Epoch 149/200\n",
      "14804/14804 [==============================] - 2s 117us/step - loss: 0.5219 - f1_: 0.7706\n",
      "Epoch 150/200\n",
      "14804/14804 [==============================] - 2s 116us/step - loss: 0.5095 - f1_: 0.7691\n",
      "Epoch 151/200\n",
      "14804/14804 [==============================] - 2s 124us/step - loss: 0.5104 - f1_: 0.7742\n",
      "Epoch 152/200\n",
      "14804/14804 [==============================] - 2s 136us/step - loss: 0.5146 - f1_: 0.7696\n",
      "Epoch 153/200\n",
      "14804/14804 [==============================] - 3s 193us/step - loss: 0.5318 - f1_: 0.7619\n",
      "Epoch 154/200\n",
      "14804/14804 [==============================] - 4s 247us/step - loss: 0.5438 - f1_: 0.7417\n",
      "Epoch 155/200\n",
      "14804/14804 [==============================] - 3s 191us/step - loss: 0.5319 - f1_: 0.7630\n",
      "Epoch 156/200\n",
      "14804/14804 [==============================] - 2s 157us/step - loss: 0.5393 - f1_: 0.7543\n",
      "Epoch 157/200\n",
      "14804/14804 [==============================] - 2s 125us/step - loss: 0.5237 - f1_: 0.7678\n",
      "Epoch 158/200\n",
      "14804/14804 [==============================] - 2s 118us/step - loss: 0.5218 - f1_: 0.7658\n",
      "Epoch 159/200\n"
     ]
    },
    {
     "name": "stdout",
     "output_type": "stream",
     "text": [
      "14804/14804 [==============================] - 2s 119us/step - loss: 0.5312 - f1_: 0.7567\n",
      "Epoch 160/200\n",
      "14804/14804 [==============================] - 2s 130us/step - loss: 0.5211 - f1_: 0.7693\n",
      "Epoch 161/200\n",
      "14804/14804 [==============================] - 2s 130us/step - loss: 0.5264 - f1_: 0.7706\n",
      "Epoch 162/200\n",
      "14804/14804 [==============================] - 2s 113us/step - loss: 0.5146 - f1_: 0.7726\n",
      "Epoch 163/200\n",
      "14804/14804 [==============================] - 2s 115us/step - loss: 0.5190 - f1_: 0.7693\n",
      "Epoch 164/200\n",
      "14804/14804 [==============================] - 2s 126us/step - loss: 0.5077 - f1_: 0.7740\n",
      "Epoch 165/200\n",
      "14804/14804 [==============================] - 2s 129us/step - loss: 0.5072 - f1_: 0.7740\n",
      "Epoch 166/200\n",
      "14804/14804 [==============================] - 2s 119us/step - loss: 0.5115 - f1_: 0.7701\n",
      "Epoch 167/200\n",
      "14804/14804 [==============================] - 2s 115us/step - loss: 0.5017 - f1_: 0.7804\n",
      "Epoch 168/200\n",
      "14804/14804 [==============================] - 2s 119us/step - loss: 0.5103 - f1_: 0.7753\n",
      "Epoch 169/200\n",
      "14804/14804 [==============================] - 2s 136us/step - loss: 0.5056 - f1_: 0.7784\n",
      "Epoch 170/200\n",
      "14804/14804 [==============================] - 2s 131us/step - loss: 0.5065 - f1_: 0.7743\n",
      "Epoch 171/200\n",
      "14804/14804 [==============================] - 2s 119us/step - loss: 0.5072 - f1_: 0.7697\n",
      "Epoch 172/200\n",
      "14804/14804 [==============================] - 2s 117us/step - loss: 0.5033 - f1_: 0.7827\n",
      "Epoch 173/200\n",
      "14804/14804 [==============================] - 2s 128us/step - loss: 0.5227 - f1_: 0.7730\n",
      "Epoch 174/200\n",
      "14804/14804 [==============================] - 2s 131us/step - loss: 0.5171 - f1_: 0.7588\n",
      "Epoch 175/200\n",
      "14804/14804 [==============================] - 2s 127us/step - loss: 0.5144 - f1_: 0.7743\n",
      "Epoch 176/200\n",
      "14804/14804 [==============================] - 2s 126us/step - loss: 0.5084 - f1_: 0.7707\n",
      "Epoch 177/200\n",
      "14804/14804 [==============================] - 2s 148us/step - loss: 0.5140 - f1_: 0.7556\n",
      "Epoch 178/200\n",
      "14804/14804 [==============================] - 2s 156us/step - loss: 0.5123 - f1_: 0.7564\n",
      "Epoch 179/200\n",
      "14804/14804 [==============================] - 2s 138us/step - loss: 0.5310 - f1_: 0.7479\n",
      "Epoch 180/200\n",
      "14804/14804 [==============================] - 2s 143us/step - loss: 0.5225 - f1_: 0.7565\n",
      "Epoch 181/200\n",
      "14804/14804 [==============================] - 2s 133us/step - loss: 0.5273 - f1_: 0.7491\n",
      "Epoch 182/200\n",
      "14804/14804 [==============================] - 2s 125us/step - loss: 0.5252 - f1_: 0.7626\n",
      "Epoch 183/200\n",
      "14804/14804 [==============================] - 2s 109us/step - loss: 0.5107 - f1_: 0.7711\n",
      "Epoch 184/200\n",
      "14804/14804 [==============================] - 2s 116us/step - loss: 0.5092 - f1_: 0.7681\n",
      "Epoch 185/200\n",
      "14804/14804 [==============================] - 2s 118us/step - loss: 0.5169 - f1_: 0.7467\n",
      "Epoch 186/200\n",
      "14804/14804 [==============================] - 2s 125us/step - loss: 0.5085 - f1_: 0.7648\n",
      "Epoch 187/200\n",
      "14804/14804 [==============================] - 2s 125us/step - loss: 0.5106 - f1_: 0.7665\n",
      "Epoch 188/200\n",
      "14804/14804 [==============================] - 2s 110us/step - loss: 0.5128 - f1_: 0.7488\n",
      "Epoch 189/200\n",
      "14804/14804 [==============================] - 2s 112us/step - loss: 0.5129 - f1_: 0.7633\n",
      "Epoch 190/200\n",
      "14804/14804 [==============================] - 2s 125us/step - loss: 0.5028 - f1_: 0.7763\n",
      "Epoch 191/200\n",
      "14804/14804 [==============================] - 2s 125us/step - loss: 0.5076 - f1_: 0.7713\n",
      "Epoch 192/200\n",
      "14804/14804 [==============================] - 2s 117us/step - loss: 0.5164 - f1_: 0.7597\n",
      "Epoch 193/200\n",
      "14804/14804 [==============================] - 2s 126us/step - loss: 0.5266 - f1_: 0.7472\n",
      "Epoch 194/200\n",
      "14804/14804 [==============================] - 2s 165us/step - loss: 0.5159 - f1_: 0.7581\n",
      "Epoch 195/200\n",
      "14804/14804 [==============================] - 2s 147us/step - loss: 0.5605 - f1_: 0.7344\n",
      "Epoch 196/200\n",
      "14804/14804 [==============================] - 2s 120us/step - loss: 0.5779 - f1_: 0.7304\n",
      "Epoch 197/200\n",
      "14804/14804 [==============================] - 2s 120us/step - loss: 0.5607 - f1_: 0.7404\n",
      "Epoch 198/200\n",
      "14804/14804 [==============================] - 2s 127us/step - loss: 0.6198 - f1_: 0.6819\n",
      "Epoch 199/200\n",
      "14804/14804 [==============================] - 2s 128us/step - loss: 0.5915 - f1_: 0.6421\n",
      "Epoch 200/200\n",
      "14804/14804 [==============================] - 2s 119us/step - loss: 0.5419 - f1_: 0.7610\n"
     ]
    },
    {
     "data": {
      "text/plain": [
       "<keras.callbacks.History at 0x7f00b2ac1710>"
      ]
     },
     "execution_count": 12,
     "metadata": {},
     "output_type": "execute_result"
    }
   ],
   "source": [
    "#Fitting the data to the training dataset\n",
    "classifier.fit(X_train,y_train, batch_size=50, epochs=200)"
   ]
  },
  {
   "cell_type": "code",
   "execution_count": 13,
   "metadata": {},
   "outputs": [
    {
     "data": {
      "text/plain": [
       "0.8181185854785176"
      ]
     },
     "execution_count": 13,
     "metadata": {},
     "output_type": "execute_result"
    },
    {
     "data": {
      "image/png": "[encoded data removed]",
      "text/plain": [
       "<Figure size 432x288 with 1 Axes>"
      ]
     },
     "metadata": {
      "needs_background": "light"
     },
     "output_type": "display_data"
    }
   ],
   "source": [
    "y_pred_prob = classifier.predict(X_test)\n",
    "y_pred = (y_pred_prob>0.5)\n",
    "fpr, tpr, thresholds = roc_curve(y_test, y_pred_prob, pos_label=1)\n",
    "plt.plot(fpr, tpr)\n",
    "roc_auc_score(y_test, y_pred_prob)\n"
   ]
  },
  {
   "cell_type": "code",
   "execution_count": 14,
   "metadata": {},
   "outputs": [
    {
     "name": "stdout",
     "output_type": "stream",
     "text": [
      "recall: 0.9231863442389758\n",
      "precision: 0.43703703703703706\n",
      "accuracy: 0.6527506827936013\n"
     ]
    }
   ],
   "source": [
    "r = recall_score(y_test,y_pred)\n",
    "p = precision_score(y_test,y_pred)\n",
    "a = accuracy_score(y_test,y_pred)\n",
    "\n",
    "print(\"recall:\", r)\n",
    "print(\"precision:\", p)\n",
    "print(\"accuracy:\", a)"
   ]
  },
  {
   "cell_type": "code",
   "execution_count": 15,
   "metadata": {},
   "outputs": [
    {
     "data": {
      "text/plain": [
       "[<matplotlib.lines.Line2D at 0x7f00a4589d30>]"
      ]
     },
     "execution_count": 15,
     "metadata": {},
     "output_type": "execute_result"
    },
    {
     "data": {
      "image/png": "[encoded data removed]",
      "text/plain": [
       "<Figure size 432x288 with 1 Axes>"
      ]
     },
     "metadata": {
      "needs_background": "light"
     },
     "output_type": "display_data"
    }
   ],
   "source": [
    "precision, recall, _ = precision_recall_curve(y_test, y_pred)\n",
    "plt.plot(recall, precision)"
   ]
  },
  {
   "cell_type": "code",
   "execution_count": 16,
   "metadata": {},
   "outputs": [
    {
     "name": "stdout",
     "output_type": "stream",
     "text": [
      "[[1024  836]\n",
      " [  54  649]]\n"
     ]
    }
   ],
   "source": [
    "cm = confusion_matrix(y_test, y_pred)\n",
    "print(cm)"
   ]
  },
  {
   "cell_type": "code",
   "execution_count": 17,
   "metadata": {},
   "outputs": [
    {
     "data": {
      "text/plain": [
       "array([0, 0, 0, 0, 0, 0, 0, 0, 0, 0, 0, 1, 0, 0, 0, 0, 0, 1, 0, 0])"
      ]
     },
     "execution_count": 17,
     "metadata": {},
     "output_type": "execute_result"
    }
   ],
   "source": [
    "y_test[:20]"
   ]
  },
  {
   "cell_type": "code",
   "execution_count": 18,
   "metadata": {},
   "outputs": [
    {
     "data": {
      "text/plain": [
       "array([1, 0, 0, 0, 0, 0, 0, 0, 0, 0, 0, 1, 0, 1, 0, 0, 0, 1, 1, 1])"
      ]
     },
     "execution_count": 18,
     "metadata": {},
     "output_type": "execute_result"
    }
   ],
   "source": [
    "y_pred[:20]\n",
    "aux = np.concatenate(y_pred[:20])\n",
    "1*aux"
   ]
  },
  {
   "cell_type": "markdown",
   "metadata": {},
   "source": [
    "## TO DO:\n",
    "\n",
    "- Ver método de oversampling debido al desbalanceo de los datos. Un método típico es el SMOTE.\n",
    "- Hacer una tabla resumen de las configuraciones de región y señal, para generar los modelos de entrenamiento, contar la cantidad de señal y background en cada configuración.\n",
    "- Usar f1 de HER2 como métrica de entrenamiento."
   ]
  },
  {
   "cell_type": "code",
   "execution_count": null,
   "metadata": {},
   "outputs": [],
   "source": []
  }
 ],
 "metadata": {
  "kernelspec": {
   "display_name": "Python 3",
   "language": "python",
   "name": "python3"
  },
  "language_info": {
   "codemirror_mode": {
    "name": "ipython",
    "version": 3
   },
   "file_extension": ".py",
   "mimetype": "text/x-python",
   "name": "python",
   "nbconvert_exporter": "python",
   "pygments_lexer": "ipython3",
   "version": "3.5.5"
  }
 },
 "nbformat": 4,
 "nbformat_minor": 2
}
