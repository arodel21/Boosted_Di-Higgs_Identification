{
 "cells": [
  {
   "cell_type": "code",
   "execution_count": 2,
   "metadata": {},
   "outputs": [
    {
     "name": "stdout",
     "output_type": "stream",
     "text": [
      "Welcome to JupyROOT 6.14/04\n"
     ]
    }
   ],
   "source": [
    "import ROOT\n",
    "import math\n",
    "# Colors\n",
    "from ROOT import kYellow, kBlue, kRed, kGreen"
   ]
  },
  {
   "cell_type": "code",
   "execution_count": null,
   "metadata": {},
   "outputs": [],
   "source": [
    "def getTHLimits(files, ttree, var):\n",
    "    g_min = 99999999999.\n",
    "    g_max = -99999999999.\n",
    "    for f in files:\n",
    "        aux = ROOT.TFile.Open(f)\n",
    "        tree = aux.Get(ttree)\n",
    "        maxv=int(round(tree.GetMaximum(var)))\n",
    "        minv=int(round(tree.GetMinimum(var)))\n",
    "        if(minv < g_min):\n",
    "            g_min = minv\n",
    "        if(maxv > g_max):\n",
    "            g_max = maxv\n",
    "        return g_min-2.,g_max+2."
   ]
  },
  {
   "cell_type": "code",
   "execution_count": null,
   "metadata": {},
   "outputs": [],
   "source": [
    "def genHist(filename, ttree, var, hmin, hmax, signal=False):\n",
    "    # To do: Check if var is vector or not\n",
    "    # Open file .root\n",
    "    file = ROOT.TFile.Open(filename)\n",
    "    # Select tree. Usually we'll use \"Nominal\"\n",
    "    tree = file.Get(ttree)\n",
    "    # Create empty histogram hist\n",
    "    hist = ROOT.TH1F(\"h\",var,100,hmin,hmax) # (minv-1,maxv+1) range of the histogram\n",
    "    # For each row in the tree, \n",
    "    for entry in tree:\n",
    "        # we'll select the value in the var column\n",
    "        event = getattr(entry,var)\n",
    "        # and fill the histogram with it\n",
    "        hist.Fill(event)\n",
    "    # Set the histogram memory direction\n",
    "    hist.SetDirectory(0)        \n",
    "    ROOT.TH1F.AddDirectory(False)\n",
    "    return hist"
   ]
  },
  {
   "cell_type": "code",
   "execution_count": 12,
   "metadata": {},
   "outputs": [],
   "source": [
    "ttree = \"Nominal\"\n",
    "var = \"m_DTphi\"\n",
    "files = [\"ttbar-all.root\", \"Wtaunu_221-all.root\", \"WW_Pw-all.root\"] \n",
    "#files = [\"ZtautauB_221.root\", \"ZtautauC_221.root\", \"ZtautauL_221.root\"]\n",
    "\n",
    "# Stacked histogram object\n",
    "hs = ROOT.THStack(\"hs\",\" stacked histograms\")\n",
    "# colors must be bigger or size equal to the files list.\n",
    "colors = [kYellow, kBlue, kRed, kGreen]\n",
    "hmin, hmax = getTHLimits(files, ttree, var)\n",
    "hists = []\n",
    "\n",
    "# Get stacked histogram of var for each file. \n",
    "for i in range(len(files)):\n",
    "    hist = genHist(files[i], ttree, var, hmin, hmax)\n",
    "    hist.SetFillColor(colors[i])\n",
    "    #hist.GetXaxis().SetLimits(-3,3)\n",
    "    #hist.GetYaxis().SetLimits(0, 30)\n",
    "    hists.append(hist)\n",
    "    hs.Add(hist)\n",
    "    "
   ]
  },
  {
   "cell_type": "code",
   "execution_count": 13,
   "metadata": {},
   "outputs": [
    {
     "name": "stderr",
     "output_type": "stream",
     "text": [
      "Warning in <TCanvas::Constructor>: Deleting canvas with same name: Canvas\n"
     ]
    },
    {
     "data": {
      "image/png": "[encoded data removed]",
      "text/plain": [
       "<IPython.core.display.Image object>"
      ]
     },
     "metadata": {},
     "output_type": "display_data"
    }
   ],
   "source": [
    "# Plot histogram\n",
    "c = ROOT.TCanvas(\"Canvas\",var,600,400)\n",
    "hs.Draw()\n",
    "#hs.GetXaxis().SetRangeUser(-3.5,3.5)\n",
    "#hs.GetYaxis().SetRangeUser(0,90)\n",
    "c.Draw()"
   ]
  },
  {
   "cell_type": "code",
   "execution_count": null,
   "metadata": {},
   "outputs": [],
   "source": []
  }
 ],
 "metadata": {
  "kernelspec": {
   "display_name": "Python 3",
   "language": "python",
   "name": "python3"
  },
  "language_info": {
   "codemirror_mode": {
    "name": "ipython",
    "version": 3
   },
   "file_extension": ".py",
   "mimetype": "text/x-python",
   "name": "python",
   "nbconvert_exporter": "python",
   "pygments_lexer": "ipython3",
   "version": "3.5.5"
  }
 },
 "nbformat": 4,
 "nbformat_minor": 2
}
