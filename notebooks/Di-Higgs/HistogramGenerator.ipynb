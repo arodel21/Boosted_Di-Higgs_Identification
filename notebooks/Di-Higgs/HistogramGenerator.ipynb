{
 "cells": [
  {
   "cell_type": "code",
   "execution_count": 1,
   "metadata": {},
   "outputs": [
    {
     "name": "stdout",
     "output_type": "stream",
     "text": [
      "Welcome to JupyROOT 6.14/04\n"
     ]
    },
    {
     "name": "stderr",
     "output_type": "stream",
     "text": [
      "DEBUG:matplotlib] $HOME=/home/andrea\n",
      "DEBUG:matplotlib] matplotlib data path /home/andrea/anaconda3/lib/python3.5/site-packages/matplotlib/mpl-data\n",
      "DEBUG:matplotlib] loaded rc file /home/andrea/anaconda3/lib/python3.5/site-packages/matplotlib/mpl-data/matplotlibrc\n",
      "DEBUG:matplotlib] matplotlib version 2.2.3\n",
      "DEBUG:matplotlib] interactive is False\n",
      "DEBUG:matplotlib] platform is linux\n",
      "DEBUG:matplotlib] loaded modules: ['IPython.core.pylabtools', 'numpy.core.machar', 'ipywidgets.widgets.widget_controller', 'ROOT.TH3F', 'heapq', 'numpy.lib', 'IPython.core.interactiveshell', '_functools', 'ROOT.TPad', 'ROOT.TCanvas', 'pygments.lexer', 'rootpy.utils.inject_closure', 'mtrand', 'logging.handlers', 'prompt_toolkit.renderer', 'pkg_resources.extern.six.moves', 'ipython_genutils.text', 'pexpect.expect', 'traitlets.utils.importstring', 'prompt_toolkit.key_binding.bindings.scroll', 'code', '_collections_abc', 'matplotlib.cbook._backports', 'numpy.fft', 'pkg_resources.py31compat', 'tornado.queues', 'pygments.styles', 'IPython.lib.security', 'prompt_toolkit.filters', 'pkg_resources._vendor', 'jupyter_client.localinterfaces', 'email.quoprimime', 'prompt_toolkit.validation', 'ROOT.TSystem', 'ipywidgets.widgets.widget_description', 'prompt_toolkit.styles', 'numpy._mklinit', 'pygments.modeline', 'zmq.sugar.tracker', 'IPython.core.compilerop', 'numpy.compat._inspect', 'string', 'array', 'IPython.core.usage', 'asyncio.log', 'IPython.utils._process_posix', '_ast', 'parso.python.pep8', 'importlib', 'jedi.evaluate.finder', 'IPython.utils.colorable', 'IPython.core.payloadpage', 'asyncio.unix_events', 'prompt_toolkit.mouse_events', 'pygments.lexers._mapping', 'prompt_toolkit.layout.mouse_handlers', 'rootpy.utils.hook', 'unittest.case', 'prompt_toolkit.eventloop.coroutine', 'jedi.settings', 'jedi.common', '_pythonization', 'matplotlib._version', 'collections.abc', 'rootpy.extern.lockfile', 'numpy.lib.function_base', 'ipywidgets.widgets.interaction', 'prompt_toolkit.shortcuts.utils', 'IPython.core.magics', 'zlib', 'pexpect.spawnbase', 'jupyter_client._version', 'pygments.regexopt', 'resource', 'unittest', 'asyncio.protocols', 'ipywidgets.widgets.valuewidget', 'ipywidgets.widgets.widget_style', '_imp', 'IPython.core.magics.history', 'prompt_toolkit.eventloop.defaults', 'io', 'prompt_toolkit.layout', 'ipywidgets.widgets.widget_layout', 'ROOT.ROOT.VecOps.RVec<int>', 'prompt_toolkit.layout.screen', 'unicodedata', 'select', 'shutil', 'asyncio.tasks', 'ROOT.TH1S', 'pexpect.run', 'rootpy.plotting.box', 'numpy.lib.format', 'rootpy.stl', 'typing', 'pygments.plugin', 'email.parser', 'pty', 'pygments.filter', 'IPython.utils.sentinel', 'numpy', 'prompt_toolkit.layout.utils', 'numpy.core.defchararray', 'prompt_toolkit.input.typeahead', 'numpy.core.arrayprint', 'ROOT.TGraphAsymmErrors', 'pkg_resources', 'ROOT.TROOT', 'numpy.core.getlimits', 'codeop', 'ipywidgets.widgets', 'numpy.polynomial._polybase', 'pydoc_data', '_io', 'numpy.lib.arrayterator', 'numpy.core.records', 'jedi.evaluate.context.klass', '_lzma', 'rootpy.plotting.style', 'numpy.ma.extras', 'jupyter_client.adapter', 'jedi.api.interpreter', 'JupyROOT.magics', 'threading', 'tornado.locks', 'colorsys', 'rootpy.plotting.hist', 'zmq.backend', 'ptyprocess.util', 'rootpy.interactive.rootwait', 'colorama.win32', 'jedi.evaluate.docstrings', 'rootpy.logger.magic', 'prompt_toolkit.filters.cli', 'sre_constants', 'numpy.compat', 'jedi.evaluate.arguments', 'mkl_fft._pydfti', 'html', 'email.utils', 'zmq.sugar.stopwatch', 'pkg_resources.extern.pyparsing', 'rootpy.info', 'jedi.evaluate.sys_path', 'urllib.response', 'decimal', 'prompt_toolkit.clipboard', 'numpy.polynomial.polynomial', 'ROOT.vector<unsigned int>', 'numpy.ma', 'IPython.utils.encoding', 'prompt_toolkit.shortcuts.prompt', 'prompt_toolkit.utils', 'IPython.utils.generics', 'zmq.backend.select', 'tornado.platform', 'six', '_weakref', 'parso.pgen2.generator', 'ipykernel.heartbeat', 'filecmp', 'parso.python.token', '_json', 'IPython.core.release', 'prompt_toolkit.key_binding.defaults', 'zope', 'IPython.utils.ipstruct', 'IPython.terminal', 'concurrent.futures._base', 'cmd', 're', 'rootpy.utils', 'ROOT.TH2I', 'enum', 'rootpy', 'jedi.evaluate.compiled.access', 'ROOT.THStack', 'prompt_toolkit.application.application', 'IPython.utils.py3compat', 'ROOT.TBox', 'ipywidgets._version', 'platform', 'IPython.core.completer', 'pexpect.pty_spawn', 'prompt_toolkit.key_binding.bindings.cpr', 'numpy.polynomial.polyutils', 'pyexpat.errors', 'ROOT.TEfficiency', 'ROOT.TH1D', 'prompt_toolkit.key_binding.bindings.open_in_editor', 'IPython.utils.path', 'IPython.core.magic_arguments', 'ctypes.util', 'IPython.utils.dir2', 'hmac', 'numpy.core._internal', 'linecache', '_socket', 'cProfile', 'IPython.core.display', 'ipykernel.pickleutil', 'ipykernel.comm', 'ipykernel.zmqshell', 'prompt_toolkit.lexers.base', 'matplotlib.compat', 'bdb', 'prompt_toolkit.history', 'parso.grammar', '_stat', 'xml.dom.minicompat', 'jedi.api.exceptions', 'ipywidgets.widgets.widget_core', 'rootpy.ROOT', 'prompt_toolkit.application.run_in_terminal', 'zmq.backend.cython.error', 'prompt_toolkit.completion.base', 'pexpect.utils', 'ctypes', '_strptime', 'prompt_toolkit.styles.base', 'IPython.core.crashhandler', 'IPython.extensions.storemagic', 'ROOT.TGraph2DErrors', 'prompt_toolkit.layout.controls', 'os.path', 'parso.utils', 'ROOT.TF3', 'IPython.utils.process', 'encodings', 'numpy.lib.nanfunctions', 'multiprocessing.process', 'IPython.core.payload', 'ROOT.TAtt3D', 'zmq.utils.constant_names', 'ROOT.TAttPad', 'uuid', 'ipykernel.kernelapp', 'ROOT.TProfile2D', 'traitlets.config.application', 'numpy.lib.type_check', 'dateutil.tz._common', 'pkg_resources.extern.six.moves.urllib', 'jedi.api.completion', 'jedi.cache', 'jupyter_client.connect', 'importlib.machinery', 'xml.parsers.expat', 'ipykernel._version', 'rootpy.logger.utils', 'ipywidgets.widgets.trait_types', 'tornado.platform.common', 'ipykernel.serialize', 'wcwidth', 'prompt_toolkit.styles.named_colors', 'dateutil.parser._parser', 'numpy.testing._private', 'prompt_toolkit.input.ansi_escape_sequences', 'pygments.formatters', 'rootpy.defaults', 'numpy.lib.index_tricks', 'ROOT.TEllipse', 'jupyter_client.clientabc', 'ROOT.TText', 'prompt_toolkit.document', 'prompt_toolkit.application', 'asyncio.constants', 'warnings', 'marshal', 'prompt_toolkit.completion.word_completer', 'prompt_toolkit.output.defaults', 'ROOT.TAttText', 'ROOT.TH1', 'ipykernel.ipkernel', 'unittest.signals', 'prompt_toolkit.layout.margins', 'ROOT._Vector_base<double,allocator<double> >', '_ssl', 'asyncio.queues', 'tornado', 'numpy.polynomial.hermite_e', 'ROOT._Vector_base<unsigned long,allocator<unsigned long> >', 'jupyter_client.managerabc', 'IPython.core.extensions', 'plistlib', 'JupyROOT.handlers', 'profile', 'argparse', 'jupyter_client', 'prompt_toolkit.cache', 'pkg_resources._vendor.packaging.__about__', 'asyncio.base_subprocess', 'asyncio.selector_events', '_cython_0_28_5', 'rootpy.memory', 'timeit', 'IPython.terminal.prompts', 'IPython.core.magics.pylab', 'ipywidgets.widgets.widget_media', 'pathlib', 'zmq.sugar.poll', 'sphinxcontrib', '_frozen_importlib', 'IPython.utils.frame', 'parso.python.tree', 'cppyy', 'mimetypes', 'numpy.lib.stride_tricks', 'rootpy.base', 'ipykernel.comm.comm', 'prompt_toolkit.formatted_text.ansi', 'tornado.gen', 'ROOT.TH2D', 'IPython.utils.contexts', 'curses', 'wcwidth.table_zero', 'numpy.polynomial.chebyshev', 'gettext', 'numpy.testing._private.utils', 'ipywidgets.widgets.widget_link', 'zmq.eventloop', 'xml.parsers.expat.errors', 'IPython.testing', 'ROOT.string', 'rootpy.interactive.canvas_events', 'pygments.style', 'prompt_toolkit.application.current', 'JsMVA', 'http', 'traitlets.utils.bunch', 'ipywidgets.widgets.docutils', 'rootpy.plotting.root2matplotlib', 'prompt_toolkit.widgets.dialogs', 'ROOT.ROOT.VecOps', 'rootpy.plotting.utils', 'rootpy.extern.lockfile.linklockfile', 'ROOT.vector<float>', 'IPython.core.magics.extension', 'datetime', 'storemagic', 'ROOT._Vector_base<float,allocator<float> >', 'prompt_toolkit.layout.dummy', 'ROOT.TAttBBox2D', 'pyexpat.model', 'numpy.lib.twodim_base', 'parso.python.parser', 'email', 'numpy.lib.arraypad', 'urllib', 'prompt_toolkit.key_binding.bindings', 'dis', 'multiprocessing.util', 'ipykernel.comm.manager', 'numpy.matrixlib', 'email.errors', 'prompt_toolkit.input.defaults', 'pkg_resources.extern.six', 'rootpy.logger.formatter', 'rootpy.plotting.profile', 'copyreg', 'ipywidgets.widgets.widget_date', '_random', 'rootpy.extern.pyparsing', 'tornado.util', 'pygments.formatters.html', 'IPython.core.displayhook', 'ipykernel.kernelbase', 'prompt_toolkit.clipboard.base', 'pkg_resources.extern.packaging._structures', 'ROOT.ROOT.VecOps.RVec<unsigned long>', 'parso.python', 'numpy.lib.ufunclike', 'IPython.utils.decorators', 'colorama.ansi', 'numpy.core.einsumfunc', 'jupyter_client.session', 'IPython.utils.coloransi', 'prompt_toolkit.eventloop.event', 'ROOT.TH3D', 'six.moves.queue', 'IPython.utils.tokenutil', 'rootpy.utils.extras', '_compat_pickle', 'IPython.core.prefilter', 'IPython.utils.syspathcontext', 'ROOT.TPave', 'IPython.terminal.embed', 'pkg_resources._vendor.six.moves', '__mp_main__', 'numpy.testing._private.nosetester', '_decimal', 'dateutil._version', 'IPython.core.events', '_lsprof', 'tornado.concurrent', 'backcall.backcall', 'IPython.core.magics.config', '_struct', 'prompt_toolkit.layout.menus', 'numpy._globals', 'concurrent.futures', 'ROOT.TArrayS', 'IPython.core.builtin_trap', 'numpy.lib.mixins', 'ROOT.TPaveStats', 'numpy._distributor_init', 'xml.parsers.expat.model', 'rootpy.utils.quickroot', 'tornado.log', 'prompt_toolkit.key_binding.bindings.auto_suggest', 'ipywidgets.widgets.widget_float', 'jedi.evaluate.utils', 'pygments.token', 'parso.tree', 'prompt_toolkit.shortcuts.progress_bar', 'prompt_toolkit.key_binding.vi_state', 'jedi.evaluate.context.function', 'IPython.utils.capture', 'ipaddress', 'rootpy.plotting', 'ast', 'ROOT.TUnixSystem', 'dateutil', 'traceback', 'prompt_toolkit.formatted_text.pygments', 'ROOT.TVirtualPad', 'zmq.backend.cython._version', 'IPython.core.debugger', 'jupyter_client.kernelspec', 'encodings.latin_1', 'jedi.evaluate.cache', 'rootpy.plotting.func', 'ipywidgets.widgets.widget_color', 'ROOT.TArrow', 'prompt_toolkit.eventloop.async_generator', 'difflib', 'numpy.version', 'types', 'parso._compatibility', 'jedi.api.helpers', '_datetime', 'ipywidgets.widgets.widget_selectioncontainer', 'prompt_toolkit.clipboard.in_memory', 'rootpy.interactive.console', '_posixsubprocess', 'urllib.error', 'struct', 'numpy.testing._private.decorators', 'xml.dom.minidom', 'cppyy.gbl', 'urllib.parse', 'operator', 'rootpy.utils.cpp', 'IPython.paths', 'ROOT.TObject', '_ctypes', 'selectors', '_collections', 'getpass', 'IPython.utils.strdispatch', 'calendar', 'json.decoder', 'numpy.lib.arraysetops', 'IPython.core.logger', 'pkg_resources.extern', 'time', 'prompt_toolkit.widgets.toolbars', 'ROOT.vector<unsigned long>', '_thread', 'numpy.fft.fftpack', 'tornado.escape', 'numpy.core.fromnumeric', 'ROOT._Vector_base<unsigned int,allocator<unsigned int> >', 'numpy.polynomial.hermite', 'matplotlib.cbook', 'IPython.core.magics.script', 'opcode', 'ROOT', 'jedi.evaluate.context.iterable', 'prompt_toolkit.eventloop.future', 'mkl_fft._numpy_fft', 'zmq.sugar.attrsettr', 'tornado.platform.auto', 'six.moves', 'cython_runtime', 'pydoc', 'ROOT._Vector_base<long,allocator<long> >', 'colorama.initialise', 'IPython.core.formatters', 'IPython.lib.pretty', 'IPython.utils.PyColorize', 'prompt_toolkit.lexers', 'prompt_toolkit.enums', 'email.header', 'numpy.ma.core', 'jedi.evaluate.context.module', 'IPython.core.page', 'numpy.polynomial.laguerre', 'prompt_toolkit.key_binding.bindings.vi', 'readline', 'IPython.terminal.interactiveshell', 'decorator', 'runpy', 'zmq.sugar.version', 'numpy.compat.py3k', 'token', 'matplotlib.cbook.deprecation', 'tornado.platform.posix', 'IPython.utils.module_paths', 'jedi.evaluate.context', 'prompt_toolkit.completion.filesystem', 'matplotlib.colors', 'matplotlib.testing', 'IPython.terminal.ipapp', 'prompt_toolkit.key_binding.digraphs', 'numpy.core.umath', 'pkg_resources.extern.packaging', 'tornado.speedups', 'IPython.core.async_helpers', 'abc', 'JupyROOT', 'tornado.platform.asyncio', 'jedi.evaluate', 'ROOT.TStyle', '_weakrefset', 'pkg_resources.extern.packaging._compat', 'IPython.extensions', 'traitlets._version', 'numpy.core._methods', 'ROOT.TTree', 'pydoc_data.topics', 'wcwidth.table_wide', 'ipywidgets.widgets.widget_box', 'jupyter_client.channels', 'jedi.evaluate.usages', 'inspect', 'simplegeneric', 'numpy.fft.info', 'numbers', 'posix', 'traitlets.utils.sentinel', 'prompt_toolkit.key_binding.bindings.emacs', '_bz2', 'traitlets', 'prompt_toolkit.input.base', 'prompt_toolkit.key_binding.bindings.basic', 'ROOT.TLegend', 'IPython.terminal.debugger', 'IPython.lib', 'IPython.core.history', 'ipykernel.connect', 'backcall', 'numpy.lib._iotools', 'jupyter_client.launcher', 'rootpy.plotting.base', 'pkg_resources.extern.appdirs', 'pygments', 'numpy.lib.scimath', 'IPython.utils.openpy', 'bz2', 'tty', 'jedi.evaluate.lazy_context', 'IPython.utils.data', 'uu', 'ROOT.ROOT.VecOps.RVec<unsigned int>', 'jupyter_core', 'ROOT.TArray', 'IPython.core.autocall', 'faulthandler', 'prompt_toolkit.log', 'zmq.backend.cython.socket', '_string', 'jedi.evaluate.syntax_tree', 'parso.python.prefix', 'jedi.api.classes', 'pygments.lexers.python', 'zmq.eventloop.zmqstream', 'numpy.lib.info', '_pickle', '_signal', 'prompt_toolkit.auto_suggest', 'tornado.stack_context', 'termios', 'importlib._bootstrap', 'IPython.utils.terminal', 'getopt', 'email.iterators', 'IPython.core.oinspect', 'zmq.eventloop.ioloop', 'prompt_toolkit.key_binding.key_bindings', 'keyword', 'ipython_genutils._version', 'IPython.core.magics.auto', 'prompt_toolkit.filters.app', 'numpy.lib._datasource', 'prompt_toolkit.input.vt100_parser', 'ipywidgets', 'jedi.evaluate.context.asynchronous', 'IPython.display', 'numpy.polynomial', 'rootpy.plotting.graph', 'prompt_toolkit.output.color_depth', 'IPython.testing.skipdoctest', '__main__', 'ipykernel.jsonutil', 'prompt_toolkit.application.dummy', 'pkg_resources.extern.packaging.requirements', 'asyncio', 'zmq.utils.jsonapi', 'zmq.sugar', 'signal', 'jedi.evaluate.helpers', 'unittest.result', 'prompt_toolkit.key_binding.bindings.focus', 'numpy.matrixlib.defmatrix', 'prompt_toolkit.styles.defaults', 'prompt_toolkit.widgets', 'IPython.utils.io', 'jedi.evaluate.context.instance', 'rootpy.compiled', 'rootpy.decorators', 'jedi.common.context', 'wcwidth.wcwidth', '_curses', 'zmq.utils.strtypes', 'posixpath', 'ipykernel.parentpoller', 'dateutil._common', 'quopri', 'email.encoders', 'IPython.lib.backgroundjobs', 'pygments.util', 'IPython.core.shellapp', 'ROOT.std', 'traitlets.traitlets', 'cycler', 'pdb', 'ROOT.TProfile3D', 'unittest.runner', 'ROOT.TApplication', 'encodings.aliases', 'prompt_toolkit.lexers.pygments', '_locale', 'ROOT.TGraphErrors', 'IPython.core.alias', 'http.client', 'ROOT.TDirectory', 'parso.parser', 'json.encoder', 'zmq.backend.cython.context', 'ROOT.PyROOT.TPyROOTApplication', 'imp', 'rootpy.utils.module_facade', 'prompt_toolkit.shortcuts.progress_bar.formatters', 'asyncio.compat', 'optparse', 'numpy.testing._private.pytesttester', 'base64', 'jedi._compatibility', 'IPython', 'locale', '_hashlib', 'parso.python.tokenize', 'ROOT.vector<double>', 'IPython.core.error', 'jedi.evaluate.flow_analysis', 'prompt_toolkit.shortcuts', 'dateutil.tz', 'IPython.core.display_trap', 'stat', 'functools', 'ROOT.ROOT.VecOps.RVec<float>', 'fnmatch', 'ROOT.TF1', 'IPython.core.getipython', 'tornado.ioloop', 'pprint', 'ROOT.TH3', 'IPython.core.magic', 'traitlets.config.loader', 'pygments.formatter', 'prompt_toolkit.eventloop.context', 'IPython.utils.text', 'numpy.testing', 'jedi.evaluate.pep0484', 'IPython.utils.timing', 'jupyter_client.blocking.client', 'IPython.lib.clipboard', 'numpy.core.multiarray', 'ROOT.TH3S', 'errno', 'parso.pgen2.grammar_parser', 'numpy.polynomial.legendre', 'ipykernel.datapub', 'prompt_toolkit.keys', 'asyncio.transports', 'IPython.core.completerlib', 'builtins', 'numpy.lib.financial', 'prompt_toolkit.key_binding.bindings.mouse', 'ipywidgets.widgets.widget_int', 'asyncio.coroutines', 'ROOT.TAttLine', 'grp', 'jedi.evaluate.base_context', 'rootpy.logger.roothandler', 'JsMVA.JsMVAMagic', 'numpy._import_tools', 'ROOT.atomic<bool>', 'jupyter_client.blocking.channels', 'ROOT.TH2C', 'sqlite3.dbapi2', 'ROOT.TH2S', 'xml.dom', 'IPython.core.magics.code', 'jedi.api', 'IPython.core.magics.basic', 'ROOT.TH1F', 'ipython_genutils', 'jedi.api.environment', 'rootpy.extern.six.moves', 'ROOT.TAttFill', 'dateutil.relativedelta', 'pwd', 'traitlets.config', 'JupyROOT.cppcompleter', 'prompt_toolkit.filters.base', 'ROOT.TGraph2D', 'typing.re', 'ssl', 'jedi.evaluate.compiled.subprocess', 'html.entities', 'sqlite3', 'IPython.terminal.shortcuts', 'jedi.evaluate.filters', 'importlib.abc', 'sys', 'concurrent.futures.thread', 'numpy.core.memmap', 'IPython.core.magics.osm', 'numpy.linalg', 'jupyter_client.manager', 'IPython.core.profiledir', 'numpy.core.info', 'numpy.linalg.linalg', 'pygments.lexers', 'zipimport', 'xml.parsers', 'numpy.ctypeslib', 'multiprocessing', 'prompt_toolkit.output.base', 'concurrent.futures.process', 'pkgutil', 'prompt_toolkit.styles.pygments', 'json.scanner', 'parso', 'random', 'zmq.backend.cython', 'IPython.utils.sysinfo', 'rootpy.plotting.canvas', 'jupyter_core.paths', 'unittest.loader', 'tempfile', 'ROOT.TProfile', 'fcntl', 'ROOT.TGraph', 'rootpy.interactive', 'ipywidgets.widgets.widget_button', 'prompt_toolkit.selection', 'itertools', 'numpy.linalg._umath_linalg', 'pkg_resources._vendor.six', 'ROOT.TH1I', 'ipywidgets.widgets.widget_string', 'rootpy.context', 'numpy.lib._version', 'IPython.terminal.pt_inputhooks', 'ROOT.TGraphBentErrors', 'rlcompleter', 'codecs', 'pyexpat', 'ipykernel.displayhook', 'importlib._bootstrap_external', 'rootpy.logger.extended_logger', '_opcode', 'asyncio.futures', 'parso.cache', 'jupyter_client.blocking', 'IPython.core.excolors', 'rootpy.extern.shortuuid', 'prompt_toolkit.key_binding.bindings.completion', 'rootpy.extern.byteplay3.byteplay', '_operator', 'prompt_toolkit.layout.dimension', '_compression', 'IPython.core.magics.display', 'IPython.utils._sysinfo', 'libPyROOT', 'ptyprocess.ptyprocess', 'numpy.core', 'parso.python.errors', 'JupyROOT.magics.jsrootmagic', 'jedi.debug', 'ROOT.TF2', 'multiprocessing.connection', 'prompt_toolkit.patch_stdout', 'prompt_toolkit.output', 'jedi.evaluate.compiled', 'ipykernel', 'weakref', 'ROOT.vector<long>', 'multiprocessing.context', 'IPython.terminal.magics', 'reprlib', 'prompt_toolkit.completion', 'prompt_toolkit.key_binding', 'ROOT.TPaveText', 'encodings.utf_8', 'IPython.utils', 'jedi.evaluate.recursion', 'textwrap', 'prompt_toolkit.eventloop', 'asyncio.base_events', 'zmq.sugar.socket', 'jupyter_client.multikernelmanager', 'typing.io', 'ROOT.TH2F', 'sre_parse', 'jedi.evaluate.compiled.mixed', 'pstats', 'asyncio.subprocess', 'ROOT.TH3C', 'email.feedparser', 'zmq.sugar.frame', 'six.moves.urllib.request', 'ROOT.ROOT.VecOps.RVec<double>', 'rootpy.userdata', '_warnings', 'matplotlib.compat.subprocess', '_sitebuiltins', '_bootlocale', 'ipywidgets.widgets.widget_output', 'hashlib', 'jedi.evaluate.analysis', 'prompt_toolkit.key_binding.emacs_state', 'matplotlib.rcsetup', 'prompt_toolkit.styles.style', 'IPython.core.latex_symbols', 'prompt_toolkit.widgets.menus', 'xml.dom.xmlbuilder', 'jedi.evaluate.compiled.getattr_static', 'zmq.error', 'ROOT.TArrayF', 'prompt_toolkit.key_binding.bindings.page_navigation', 'IPython.core.inputtransformer2', 'traitlets.log', 'site', 'prompt_toolkit.eventloop.base', 'mkl_fft', 'zmq.utils', 'ROOT.TH3I', 'xml', 'IPython.terminal.ptutils', 'email.message', 'six.moves.urllib', 'zmq.sugar.context', 'ipywidgets.widgets.widget_bool', 'jedi.evaluate.param', 'prompt_toolkit.shortcuts.dialogs', 'ROOT.PyROOT', 'email._policybase', 'prompt_toolkit', '_sre', 'jupyter_client.channelsabc', 'ROOT.TArrayI', 'ROOT.TString', 'prompt_toolkit.input', 'traitlets.config.configurable', 'ROOT.TInterpreter', 'jedi.common.utils', 'copy', 'email.charset', 'IPython.utils.tempdir', 'IPython.utils.importstring', 'unittest.main', 'IPython.core.ultratb', 'ipykernel.codeutil', 'pexpect', 'zmq', '_frozen_importlib_external', 'lzma', 'ntpath', 'pkg_resources.extern.packaging.version', 'unittest.suite', 'unittest.util', 'pygments.unistring', 'queue', 'ROOT.TH1C', 'zmq.backend.cython.message', 'JupyROOT.magics.cppmagic', 'contextlib', 'asyncio.events', 'numpy.random.info', 'rootpy.extern', 'ROOT.TArrayC', 'email._parseaddr', 'jedi.parser_utils', 'ROOT.TNamed', 'email.base64mime', 'ipython_genutils.importstring', '__future__', 'traitlets.utils.getargspec', 'rootpy.plotting.legend', '_bisect', 'IPython.core.macro', 'pkg_resources.extern.packaging.markers', 'ptyprocess', 'distutils', 'IPython.lib.display', 'numpy.core.numerictypes', 'binascii', 'ROOT.TH2', 'prompt_toolkit.formatted_text.utils', 'parso.pgen2', 'genericpath', 'ROOT.TLine', 'dateutil.parser.isoparser', 'rootpy.logger', 'gzip', 'jedi.api.keywords', 'ipython_genutils.encoding', 'ROOT.ROOT.VecOps.RVec<long>', 'IPython.core.hooks', 'pygments.filters', 'dateutil.tz.tz', 'math', 'numpy.lib.npyio', 'ROOT._Vector_base<int,allocator<int> >', 'ROOT.TAttMarker', 'logging', 'ROOT.vector<int>', 'prompt_toolkit.key_binding.bindings.named_commands', 'jedi.evaluate.compiled.context', 'importlib.util', 'zipfile', 'parso.normalizer', 'subprocess', 'shlex', 'prompt_toolkit.formatted_text.html', 'numpy.fft.helper', 'numpy.core.function_base', 'ROOT.TArrayD', 'prompt_toolkit.output.vt100', 'socket', 'IPython.core.magics.namespace', 'IPython.core', 'os', 'numpy.linalg.lapack_lite', 'numpy.core.shape_base', '_sysconfigdata', '_heapq', 'dateutil.tz._factories', 'ipython_genutils.py3compat', 'numpy.random', 'pygments.formatters._mapping', 'IPython.core.displaypub', 'jedi.api.project', 'zmq.backend.cython.utils', 'JupyROOT.utils', 'pickleshare', 'pexpect.exceptions', 'xml.dom.NodeFilter', 'distutils.version', 'jupyter_client.jsonutil', 'rootpy.utils.path', 'prompt_toolkit.styles.style_transformation', '_multiprocessing', 'matplotlib', 'atexit', 'prompt_toolkit.widgets.base', 'matplotlib.fontconfig_pattern', 'IPython.utils._process_common', '_sqlite3', 'pkg_resources.extern.packaging.specifiers', 'gc', 'IPython.utils.wildcard', 'pyparsing', 'dateutil.parser', 'numpy.lib.polynomial', 'tokenize', 'zmq.sugar.constants', 'numpy.lib.histograms', 'traitlets.utils', 'numpy.lib.shape_base', 'rootpy.interactive.notebook', 'prompt_toolkit.key_binding.key_processor', 'matplotlib._color_data', 'google', 'collections', 'rootpy.extern.byteplay3', 'prompt_toolkit.search', 'numpy.lib.utils', 'jedi.evaluate.imports', 'pickle', 'prompt_toolkit.layout.containers', 'sre_compile', 'asyncio.locks', 'rootpy.utils.lock', 'zmq.backend.cython._poll', 'bisect', 'jedi.evaluate.parser_cache', 'multiprocessing.reduction', 'colorama', 'colorama.ansitowin32', 'numpy.linalg.info', 'asyncio.sslproto', 'numpy.__config__', 'zmq.backend.cython.constants', 'prompt_toolkit.formatted_text.base', 'asyncio.streams', 'json', 'email._encoded_words', 'ipykernel.iostream', 'concurrent', 'jedi.evaluate.compiled.fake', 'zmq.backend.cython._device', 'IPython.core.splitinput', 'tornado.platform.interface', 'jedi.evaluate.compiled.subprocess.functions', 'numpy.core._multiarray_tests', 'ipywidgets.widgets.widget_selection', 'prompt_toolkit.shortcuts.progress_bar.base', 'parso.python.diff', 'rootpy.extern.six', 'rootpy.memory.keepalive', 'jupyter_core.version', 'IPython.core.magics.logging', 'xml.dom.domreg', 'colorama.winterm', 'sysconfig', 'prompt_toolkit.buffer', 'jupyter_client.client', 'glob', '_codecs', 'mpl_toolkits', 'urllib.request', 'prompt_toolkit.layout.layout', 'numpy.random.mtrand', 'ctypes._endian', 'numpy.core.numeric', 'numpy.add_newdocs', 'IPython.core.application', 'ROOT.TQObject', 'ipywidgets.widgets.domwidget', 'prompt_toolkit.layout.processors', 'ipywidgets.widgets.widget', 'ipython_genutils.path', 'numpy.fft.fftpack_lite', 'mkl_fft._version', 'prompt_toolkit.formatted_text', 'jedi', 'prompt_toolkit.filters.utils', 'IPython.core.magics.execution']\n"
     ]
    },
    {
     "name": "stderr",
     "output_type": "stream",
     "text": [
      "DEBUG:matplotlib] CACHEDIR=/home/andrea/.cache/matplotlib\n",
      "DEBUG:matplotlib.font_manager] Using fontManager instance from /home/andrea/.cache/matplotlib/fontList.json\n",
      "DEBUG:matplotlib.backends] backend module://ipykernel.pylab.backend_inline version unknown\n",
      "DEBUG:matplotlib.backends] backend module://ipykernel.pylab.backend_inline version unknown\n"
     ]
    }
   ],
   "source": [
    "import ROOT\n",
    "import math\n",
    "# Colors\n",
    "from ROOT import kYellow, kBlue, kRed, kGreen\n",
    "import numpy as np\n",
    "from rootpy.plotting import Hist, HistStack, Legend, Canvas, set_style\n",
    "from rootpy.plotting.style import get_style, set_style\n",
    "from rootpy.plotting.utils import draw\n",
    "from rootpy.interactive import wait\n",
    "import rootpy.plotting.root2matplotlib as rplt\n",
    "import matplotlib.pyplot as plt\n",
    "from matplotlib.ticker import AutoMinorLocator, MultipleLocator\n",
    "from root_numpy import root2array, tree2array\n",
    "from root_numpy import testdata, fill_hist\n",
    "import pandas as pd"
   ]
  },
  {
   "cell_type": "markdown",
   "metadata": {},
   "source": [
    "## Matplotlib Function"
   ]
  },
  {
   "cell_type": "code",
   "execution_count": 2,
   "metadata": {},
   "outputs": [],
   "source": [
    "def getTHLimits(file_path, ttree, var):\n",
    "    g_min = 99999999999.\n",
    "    g_max = -99999999999.\n",
    "    aux = ROOT.TFile.Open(file_path)\n",
    "    tree = aux.Get(ttree)\n",
    "    maxv=int(round(tree.GetMaximum(var)))\n",
    "    minv=int(round(tree.GetMinimum(var)))\n",
    "    return minv-1.,maxv+1."
   ]
  },
  {
   "cell_type": "code",
   "execution_count": 26,
   "metadata": {},
   "outputs": [],
   "source": [
    "def hist_gen(file, data, background, signal, ttree, var, region, nbins):\n",
    "    \n",
    "    rfile = ROOT.TFile(file)\n",
    "    intree = rfile.Get(ttree)\n",
    "    array = tree2array(intree)\n",
    "    df = pd.DataFrame(array)\n",
    "    df = df.loc[df['m_region'] == region]\n",
    "    \n",
    "    # data, background and signal are filenames arrays\n",
    "    arrB = df.loc[df['sample'].isin(background)]\n",
    "    arrS = df.loc[df['sample'].isin(signal)]\n",
    "    arrD = df.loc[df['sample'].isin(data)]\n",
    "    \n",
    "    # set the style\n",
    "    style = get_style('ATLAS')\n",
    "    style.SetEndErrorSize(3)\n",
    "    set_style(style)\n",
    "    \n",
    "    # create histograms\n",
    "    hmin, hmax = getTHLimits(file, ttree, var)\n",
    "    h = Hist(nbins, hmin, hmax, markersize=0, legendstyle='F')\n",
    "    h_sig = []\n",
    "    h_bkg = []\n",
    "    colorsS = ['red', 'firebrick']\n",
    "    colorsB = ['blue', 'yellow', 'green', 'purple', 'orange', 'skyblue', 'lightsalmon', 'olivedrab', 'slateblue', 'sandybrown', 'turquoise']\n",
    "    for i, s in enumerate(signal):\n",
    "        h_aux = Hist(nbins, hmin, hmax, title=s+\"x10\", drawstyle='hist', color=colorsS[i])\n",
    "        arr_aux = arrS.loc[arrS['sample'] == s]\n",
    "        fill_hist(h_aux, arr_aux.loc[:,var], arr_aux.loc[:,'EventWeight'])\n",
    "        #h_aux.fillstyle = 'solid'\n",
    "        #h_aux.fillcolor = colorsS[i]\n",
    "        #h_aux.linecolor = colorsS[i]\n",
    "        #h_aux.linewidth = 1\n",
    "        h_sig.append(h_aux)\n",
    "    for i, b in enumerate(background):\n",
    "        h_aux = h.Clone(title=background[i])\n",
    "        arr_aux = arrB.loc[arrB['sample'] == b]\n",
    "        fill_hist(h_aux, arr_aux.loc[:,var], arr_aux.loc[:,'EventWeight'])\n",
    "        h_aux.fillstyle = 'solid'\n",
    "        h_aux.fillcolor = colorsB[i]\n",
    "        h_aux.linecolor = colorsB[i]\n",
    "        h_aux.linewidth = 0\n",
    "        h_bkg.append(h_aux)\n",
    "\n",
    "    h_data = h.Clone(title=data[0], drawstyle='E1 X0', legendstyle='LEP')\n",
    "    h_data.markersize = 1.2\n",
    "    arr_aux = arrD.loc[arrD['sample'] == data[0]]\n",
    "    fill_hist(h_data, arr_aux.loc[:,var], arr_aux.loc[:,'EventWeight'])\n",
    "\n",
    "    # histograms stack\n",
    "    stack = HistStack(h_bkg, drawstyle='HIST E1 X0')\n",
    "\n",
    "    # plot with ROOT\n",
    "    canvas = Canvas(width=1000, height=800)\n",
    "    draw([stack, h_data, h_sig[0]], xtitle=var, ytitle='Events', pad=canvas)\n",
    "    \n",
    "    # set the number of expected legend entries\n",
    "    legend = Legend(h_bkg, leftmargin=0.25, margin=0.1, pad=canvas)\n",
    "    legend.Draw()\n",
    "    label = ROOT.TText(0.2, 0.6, 'ROOT')\n",
    "    label.SetTextFont(43)\n",
    "    label.SetTextSize(15)\n",
    "    label.SetNDC()\n",
    "    label.Draw()\n",
    "    canvas.Modified()\n",
    "    canvas.Update()\n",
    "\n",
    "    # plot with matplotlib\n",
    "    set_style('ATLAS')\n",
    "    fig = plt.figure(figsize=(9, 8), dpi=100)\n",
    "    axes = plt.axes()\n",
    "    axes.xaxis.set_minor_locator(AutoMinorLocator())\n",
    "    axes.yaxis.set_minor_locator(AutoMinorLocator())\n",
    "    axes.yaxis.set_major_locator(MultipleLocator(100))\n",
    "    rplt.bar(stack, stacked=True, axes=axes)\n",
    "    rplt.bar(h_sig, stacked=False, axes=axes)\n",
    "    rplt.errorbar(h_data, xerr=False, emptybins=False, axes=axes)\n",
    "    plt.xlabel(var, position=(1., 0.), va='bottom', ha='right')\n",
    "    plt.ylabel('Events', position=(0., 1.), va='top', ha='right')\n",
    "    axes.xaxis.set_label_coords(1., -0.20)\n",
    "    axes.yaxis.set_label_coords(-0.18, 1.)\n",
    "    leg = plt.legend()\n",
    "    plt.grid()\n",
    "\n",
    "    if not ROOT.gROOT.IsBatch():\n",
    "        plt.show()\n",
    "        # wait for you to close the ROOT canvas before exiting\n",
    "        wait(True)\n",
    "    canvas.Draw()\n",
    "    \n",
    "    #fig, axes = plt.subplots(nrows=3, ncols=4, figsize=(8,6), sharey=True, sharex=True)\n",
    "    \n",
    "    return\n",
    "    "
   ]
  },
  {
   "cell_type": "code",
   "execution_count": null,
   "metadata": {
    "scrolled": false
   },
   "outputs": [],
   "source": [
    "# Base directory\n",
    "b = \"/home/andrea/Escritorio/CERN data/Try3/all.root\"\n",
    "# Background files array\n",
    "filesB = ['W', 'WWPw', 'WZPw', 'ZZPw', 'ZeeSh221', 'ZtautauSh221', 'fakes', 'stopWt', 'stops', 'stopt', 'ttbar'] \n",
    "# Signal files array\n",
    "filesS = ['Xtohh1000']\n",
    "# Data files array\n",
    "filesD = ['data']\n",
    "# Histogram generation\n",
    "hist_gen(b, filesD, filesB, filesS, \"Nominal\", \"m_hhm\", \"SR_0tag\", 30)"
   ]
  },
  {
   "cell_type": "markdown",
   "metadata": {},
   "source": [
    "## TODO:\n",
    "\n",
    "- Calcular integral de los histogramas y ponerlos en una tabla.\n",
    "- Ver qué pasó con el eje y.\n",
    "- Al generar los histogramas, abajo de este se debe calcular ((Data-bkg_tot)/bkg_tot) y los Residuos (que se verían como puntos de datos). Adjuntar ambos a una sección bajo el histograma, con TRatioPlot."
   ]
  },
  {
   "cell_type": "code",
   "execution_count": null,
   "metadata": {},
   "outputs": [],
   "source": []
  }
 ],
 "metadata": {
  "kernelspec": {
   "display_name": "Python 3",
   "language": "python",
   "name": "python3"
  },
  "language_info": {
   "codemirror_mode": {
    "name": "ipython",
    "version": 3
   },
   "file_extension": ".py",
   "mimetype": "text/x-python",
   "name": "python",
   "nbconvert_exporter": "python",
   "pygments_lexer": "ipython3",
   "version": "3.5.5"
  }
 },
 "nbformat": 4,
 "nbformat_minor": 2
}
