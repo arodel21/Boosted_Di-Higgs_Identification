{
 "cells": [
  {
   "cell_type": "code",
   "execution_count": 1,
   "metadata": {},
   "outputs": [
    {
     "name": "stdout",
     "output_type": "stream",
     "text": [
      "Welcome to JupyROOT 6.14/04\n"
     ]
    }
   ],
   "source": [
    "import ROOT\n",
    "from ROOT import TMVA"
   ]
  },
  {
   "cell_type": "code",
   "execution_count": 10,
   "metadata": {},
   "outputs": [
    {
     "name": "stdout",
     "output_type": "stream",
     "text": [
      "33.44744110107422\n",
      "31.656259536743164\n",
      "40.7857666015625\n",
      "31.055620193481445\n",
      "41.4812126159668\n",
      "41.694419860839844\n",
      "33.36262130737305\n",
      "31.215810775756836\n",
      "37.411659240722656\n",
      "45.4841423034668\n",
      "40.066246032714844\n",
      "49.29963302612305\n",
      "31.447458267211914\n",
      "55.25912094116211\n",
      "39.5938606262207\n",
      "34.079376220703125\n"
     ]
    },
    {
     "name": "stderr",
     "output_type": "stream",
     "text": [
      "Warning in <TCanvas::Constructor>: Deleting canvas with same name: myCanvasName\n"
     ]
    },
    {
     "data": {
      "image/png": "[encoded data removed]",
      "text/plain": [
       "<IPython.core.display.Image object>"
      ]
     },
     "metadata": {},
     "output_type": "display_data"
    }
   ],
   "source": [
    "ROOT.TMVA.Tools.Instance()\n",
    "## For PYMVA methods\n",
    "TMVA.PyMethodBase.PyInitialize()\n",
    "\n",
    "c = ROOT.TCanvas(\"myCanvasName\",\"The Canvas Title\",800,600)\n",
    "\n",
    "filename = \"ZtautauC_221.root\"\n",
    "file = ROOT.TFile.Open(filename)\n",
    "tree = file.Get(\"Nominal\")\n",
    "# GetBranch.GetValue\n",
    "# TTreeReader\n",
    "var = \"Tau2Pt\"\n",
    "hist = ROOT.TH1F(\"h1\", \"MET\", 100, 0, 160)\n",
    "for entry in tree:         \n",
    "    #event = entry.Tau2Pt\n",
    "    event = getattr(entry,var)\n",
    "    print(event)\n",
    "    hist.Fill(event)\n",
    "hist.Draw()\n",
    "hist.GetYaxis().SetRangeUser(0,8);\n",
    "hist.GetXaxis().SetRangeUser(20,60);\n",
    "c.Draw()"
   ]
  },
  {
   "cell_type": "code",
   "execution_count": 73,
   "metadata": {},
   "outputs": [],
   "source": [
    "def genHist(filename, ttree, var):\n",
    "    # Check if var is vector or not\n",
    "    file = ROOT.TFile.Open(filename)\n",
    "    tree = file.Get(ttree)\n",
    "    hist = ROOT.TH1F(\"h1\",\"Tau1Pt\",100,0,160)\n",
    "    for entry in tree:         \n",
    "        event = entry.\n",
    "        hist.Fill(event)\n",
    "    hist.SetDirectory(0)        \n",
    "    ROOT.TH1F.AddDirectory(False)\n",
    "    return hist\n",
    "\n",
    "files = [\"ZtautauB_221.root\", \"ZtautauC_221.root\", \"ZtautauL_221.root\"]\n",
    "hists = []\n",
    "\n",
    "hist = genHist(\"ZtautauB_221.root\", \"Nominal\")"
   ]
  },
  {
   "cell_type": "code",
   "execution_count": 75,
   "metadata": {},
   "outputs": [],
   "source": []
  },
  {
   "cell_type": "code",
   "execution_count": null,
   "metadata": {},
   "outputs": [],
   "source": []
  }
 ],
 "metadata": {
  "kernelspec": {
   "display_name": "Python 3",
   "language": "python",
   "name": "python3"
  },
  "language_info": {
   "codemirror_mode": {
    "name": "ipython",
    "version": 3
   },
   "file_extension": ".py",
   "mimetype": "text/x-python",
   "name": "python",
   "nbconvert_exporter": "python",
   "pygments_lexer": "ipython3",
   "version": "3.5.5"
  }
 },
 "nbformat": 4,
 "nbformat_minor": 2
}
