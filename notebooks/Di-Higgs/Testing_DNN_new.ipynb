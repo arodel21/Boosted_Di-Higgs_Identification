{
 "cells": [
  {
   "cell_type": "markdown",
   "metadata": {},
   "source": [
    "# <center>TMVA Classification Using Deep Neural Networks</center>\n",
    "\n",
    "In this notebook we still classify di-Higgs new data with Deep Neural Networks meethod."
   ]
  },
  {
   "cell_type": "code",
   "execution_count": 1,
   "metadata": {},
   "outputs": [
    {
     "name": "stdout",
     "output_type": "stream",
     "text": [
      "Welcome to JupyROOT 6.14/04\n"
     ]
    }
   ],
   "source": [
    "import ROOT\n",
    "from ROOT import TMVA\n",
    "\n",
    "ROOT.TMVA.Tools.Instance()\n",
    "## For PYMVA methods\n",
    "TMVA.PyMethodBase.PyInitialize()"
   ]
  },
  {
   "cell_type": "markdown",
   "metadata": {},
   "source": [
    "## Declare Factory and Input Data"
   ]
  },
  {
   "cell_type": "code",
   "execution_count": 2,
   "metadata": {},
   "outputs": [
    {
     "data": {
      "text/plain": [
       "13758"
      ]
     },
     "execution_count": 2,
     "metadata": {},
     "output_type": "execute_result"
    }
   ],
   "source": [
    "oldfile = ROOT.TFile(\"data.root\")\n",
    "oldtree = oldfile.Get(\"Nominal\")\n",
    "nentries = oldtree.GetEntries()\n",
    "\n",
    "newfile = ROOT.TFile(\"small.root\",\"recreate\")\n",
    "backgroundTreeB1 = oldtree.CloneTree(0)\n",
    "\n",
    "for i in range(nentries):\n",
    "    sample = oldtree.GetBranch('sample').GetEntry(i)\n",
    "    if (sample == 6):\n",
    "        backgroundTreeB1.Fill()\n",
    "    \n",
    "backgroundTreeB1.AutoSave()"
   ]
  },
  {
   "cell_type": "code",
   "execution_count": 3,
   "metadata": {},
   "outputs": [
    {
     "name": "stdout",
     "output_type": "stream",
     "text": [
      "******************************************************************************\n",
      "*Tree    :Nominal   : Nominal                                                *\n",
      "*Entries :    23148 : Total =         2341482 bytes  File  Size =     894529 *\n",
      "*        :          : Tree compression factor =   2.61                       *\n",
      "******************************************************************************\n",
      "*Br    0 :sample    : string                                                 *\n",
      "*Entries :    23148 : Total  Size=     325841 bytes  File Size  =      36319 *\n",
      "*Baskets :       14 : Basket Size=      32000 bytes  Compression=   8.96     *\n",
      "*............................................................................*\n",
      "*Br    1 :EventWeight : EventWeight/F                                        *\n",
      "*Entries :    23148 : Total  Size=      93425 bytes  File Size  =      18889 *\n",
      "*Baskets :        4 : Basket Size=      32000 bytes  Compression=   4.92     *\n",
      "*............................................................................*\n",
      "*Br    2 :EventNumber : EventNumber/l                                        *\n",
      "*Entries :    23148 : Total  Size=     186268 bytes  File Size  =      46894 *\n",
      "*Baskets :        7 : Basket Size=      32000 bytes  Compression=   3.96     *\n",
      "*............................................................................*\n",
      "*Br    3 :m_region  : string                                                 *\n",
      "*Entries :    23148 : Total  Size=     334430 bytes  File Size  =      69590 *\n",
      "*Baskets :       14 : Basket Size=      32000 bytes  Compression=   4.80     *\n",
      "*............................................................................*\n",
      "*Br    4 :m_FJNbtagJets : m_FJNbtagJets/I                                    *\n",
      "*Entries :    23148 : Total  Size=      93441 bytes  File Size  =       8078 *\n",
      "*Baskets :        4 : Basket Size=      32000 bytes  Compression=  11.50     *\n",
      "*............................................................................*\n",
      "*Br    5 :m_FJpt    : m_FJpt/F                                               *\n",
      "*Entries :    23148 : Total  Size=      93385 bytes  File Size  =      50923 *\n",
      "*Baskets :        4 : Basket Size=      32000 bytes  Compression=   1.82     *\n",
      "*............................................................................*\n",
      "*Br    6 :m_FJeta   : m_FJeta/F                                              *\n",
      "*Entries :    23148 : Total  Size=      93393 bytes  File Size  =      51680 *\n",
      "*Baskets :        4 : Basket Size=      32000 bytes  Compression=   1.80     *\n",
      "*............................................................................*\n",
      "*Br    7 :m_FJphi   : m_FJphi/F                                              *\n",
      "*Entries :    23148 : Total  Size=      93393 bytes  File Size  =      51972 *\n",
      "*Baskets :        4 : Basket Size=      32000 bytes  Compression=   1.79     *\n",
      "*............................................................................*\n",
      "*Br    8 :m_FJm     : m_FJm/F                                                *\n",
      "*Entries :    23148 : Total  Size=      93377 bytes  File Size  =      51076 *\n",
      "*Baskets :        4 : Basket Size=      32000 bytes  Compression=   1.82     *\n",
      "*............................................................................*\n",
      "*Br    9 :m_DTpt    : m_DTpt/F                                               *\n",
      "*Entries :    23148 : Total  Size=      93385 bytes  File Size  =      50737 *\n",
      "*Baskets :        4 : Basket Size=      32000 bytes  Compression=   1.83     *\n",
      "*............................................................................*\n",
      "*Br   10 :m_DTeta   : m_DTeta/F                                              *\n",
      "*Entries :    23148 : Total  Size=      93393 bytes  File Size  =      51799 *\n",
      "*Baskets :        4 : Basket Size=      32000 bytes  Compression=   1.79     *\n",
      "*............................................................................*\n",
      "*Br   11 :m_DTphi   : m_DTphi/F                                              *\n",
      "*Entries :    23148 : Total  Size=      93393 bytes  File Size  =      52102 *\n",
      "*Baskets :        4 : Basket Size=      32000 bytes  Compression=   1.78     *\n",
      "*............................................................................*\n",
      "*Br   12 :m_DTm     : m_DTm/F                                                *\n",
      "*Entries :    23148 : Total  Size=      93377 bytes  File Size  =      50364 *\n",
      "*Baskets :        4 : Basket Size=      32000 bytes  Compression=   1.84     *\n",
      "*............................................................................*\n",
      "*Br   13 :m_dPhiFTwDT : m_dPhiFTwDT/F                                        *\n",
      "*Entries :    23148 : Total  Size=      93425 bytes  File Size  =      49560 *\n",
      "*Baskets :        4 : Basket Size=      32000 bytes  Compression=   1.87     *\n",
      "*............................................................................*\n",
      "*Br   14 :m_dRFJwDT : m_dRFJwDT/F                                            *\n",
      "*Entries :    23148 : Total  Size=      93409 bytes  File Size  =      49352 *\n",
      "*Baskets :        4 : Basket Size=      32000 bytes  Compression=   1.88     *\n",
      "*............................................................................*\n",
      "*Br   15 :m_dPhiDTwMET : m_dPhiDTwMET/F                                      *\n",
      "*Entries :    23148 : Total  Size=      93433 bytes  File Size  =      52340 *\n",
      "*Baskets :        4 : Basket Size=      32000 bytes  Compression=   1.78     *\n",
      "*............................................................................*\n",
      "*Br   16 :m_MET     : m_MET/F                                                *\n",
      "*Entries :    23148 : Total  Size=      93377 bytes  File Size  =      50748 *\n",
      "*Baskets :        4 : Basket Size=      32000 bytes  Compression=   1.83     *\n",
      "*............................................................................*\n",
      "*Br   17 :m_hhm     : m_hhm/F                                                *\n",
      "*Entries :    23148 : Total  Size=      93377 bytes  File Size  =      48731 *\n",
      "*Baskets :        4 : Basket Size=      32000 bytes  Compression=   1.91     *\n",
      "*............................................................................*\n",
      "*Br   18 :m_bbttpt  : m_bbttpt/F                                             *\n",
      "*Entries :    23148 : Total  Size=      93401 bytes  File Size  =      50845 *\n",
      "*Baskets :        4 : Basket Size=      32000 bytes  Compression=   1.83     *\n",
      "*............................................................................*\n"
     ]
    }
   ],
   "source": [
    "outputFile = ROOT.TFile.Open(\"Higgs_ClassificationOutput.root\", \"RECREATE\")\n",
    "\n",
    "# Factory\n",
    "factory = ROOT.TMVA.Factory(\"TMVA_Higgs_Classification\", outputFile,\n",
    "                      \"!V:ROC:!Silent:Color:!DrawProgressBar:AnalysisType=Classification\" )\n",
    "\n",
    "# Input data\n",
    "# We define now the input data file and we retrieve the ROOT TTree objects with the signal and background input events\n",
    "inputFileS1 = ROOT.TFile.Open(\"Xtohh1000.root\")\n",
    "inputFileS2 = ROOT.TFile.Open(\"Xtohh2000.root\")\n",
    "inputFileB2 = ROOT.TFile.Open(\"stop.root\")\n",
    "inputFileB3 = ROOT.TFile.Open(\"ttbar.root\")\n",
    "inputFileB4 = ROOT.TFile.Open(\"W+jets.root\")\n",
    "inputFileB5 = ROOT.TFile.Open(\"Zee_221.root\")\n",
    "inputFileB6 = ROOT.TFile.Open(\"Ztautau_221.root\")\n",
    "inputFileB7 = ROOT.TFile.Open(\"ZZ_Pw.root\")\n",
    "\n",
    "# retrieve input trees\n",
    "signalTree1     = inputFileS1.Get(\"Nominal\")\n",
    "signalTree2     = inputFileS2.Get(\"Nominal\")\n",
    "backgroundTreeB2 = inputFileB2.Get(\"Nominal\")\n",
    "backgroundTreeB3 = inputFileB3.Get(\"Nominal\")\n",
    "backgroundTreeB4 = inputFileB4.Get(\"Nominal\")\n",
    "backgroundTreeB5 = inputFileB5.Get(\"Nominal\")\n",
    "backgroundTreeB6 = inputFileB6.Get(\"Nominal\")\n",
    "backgroundTreeB7 = inputFileB7.Get(\"Nominal\")\n",
    "\n",
    "signalTree1.Print()"
   ]
  },
  {
   "cell_type": "markdown",
   "metadata": {},
   "source": [
    "## Declare DataLoader(s)\n",
    "\n",
    "The next step is to declare the DataLoader class that deals with input data abd variables \n",
    "\n",
    "We add first the signal and background trees in the data loader and then we\n",
    "define the input variables that shall be used for the MVA training\n",
    "note that you may also use variable expressions, which can be parsed by TTree::Draw( \"expression\" )]"
   ]
  },
  {
   "cell_type": "code",
   "execution_count": 4,
   "metadata": {},
   "outputs": [
    {
     "name": "stdout",
     "output_type": "stream",
     "text": [
      "DataSetInfo              : [dataset] : Added class \"Signal\"\n",
      "                         : Add Tree Nominal of type Signal with 23148 events\n",
      "                         : Add Tree Nominal of type Signal with 56188 events\n",
      "DataSetInfo              : [dataset] : Added class \"Background\"\n",
      "                         : Add Tree Nominal of type Background with 101752 events\n",
      "                         : Add Tree Nominal of type Background with 1096 events\n",
      "                         : Add Tree Nominal of type Background with 5480 events\n",
      "                         : Add Tree Nominal of type Background with 22618 events\n",
      "                         : Add Tree Nominal of type Background with 14740 events\n",
      "                         : Add Tree Nominal of type Background with 84726 events\n",
      "                         : Add Tree Nominal of type Background with 634 events\n"
     ]
    }
   ],
   "source": [
    "loader = ROOT.TMVA.DataLoader(\"dataset\")\n",
    "\n",
    "### global event weights per tree (see below for setting event-wise weights)\n",
    "signalWeight     = 1.0\n",
    "backgroundWeight = 1.0\n",
    "   \n",
    "### You can add an arbitrary number of signal or background trees\n",
    "loader.AddSignalTree    ( signalTree1,     signalWeight     )\n",
    "loader.AddSignalTree    ( signalTree2,     signalWeight     )\n",
    "loader.AddBackgroundTree( backgroundTreeB1, backgroundWeight )\n",
    "loader.AddBackgroundTree( backgroundTreeB2, backgroundWeight )\n",
    "loader.AddBackgroundTree( backgroundTreeB3, backgroundWeight )\n",
    "loader.AddBackgroundTree( backgroundTreeB4, backgroundWeight )\n",
    "loader.AddBackgroundTree( backgroundTreeB5, backgroundWeight )\n",
    "loader.AddBackgroundTree( backgroundTreeB6, backgroundWeight )\n",
    "loader.AddBackgroundTree( backgroundTreeB7, backgroundWeight )\n",
    "\n",
    "## Define input variables \n",
    "for branch in signalTree1.GetListOfBranches():\n",
    "    loader.AddVariable(branch.GetName())"
   ]
  },
  {
   "cell_type": "markdown",
   "metadata": {},
   "source": [
    "## Setup Dataset(s)\n",
    "\n",
    "Setup the DataLoader by splitting events in training and test samples. \n",
    "Here we use a random split and a fixed number of training and test events."
   ]
  },
  {
   "cell_type": "code",
   "execution_count": 5,
   "metadata": {},
   "outputs": [],
   "source": [
    "## Apply additional cuts on the signal and background samples (can be different)\n",
    "mycuts = ROOT.TCut(\"\")   ## for example: TCut mycuts = \"abs(var1)<0.5 && abs(var2-0.5)<1\";\n",
    "mycutb = ROOT.TCut(\"\")   ## for example: TCut mycutb = \"abs(var1)<0.5\";\n",
    "\n",
    "loader.PrepareTrainingAndTestTree(mycuts, mycutb,\n",
    "                                  \"nTrain_Signal=70000:nTrain_Background=70000:SplitMode=Random:\"\n",
    "                                   \"NormMode=NumEvents:!V\" )"
   ]
  },
  {
   "cell_type": "markdown",
   "metadata": {},
   "source": [
    "## DNN"
   ]
  },
  {
   "cell_type": "code",
   "execution_count": 6,
   "metadata": {},
   "outputs": [
    {
     "name": "stderr",
     "output_type": "stream",
     "text": [
      "Using TensorFlow backend.\n"
     ]
    }
   ],
   "source": [
    "import os\n",
    "os.environ[\"KERAS_BACKEND\"] = \"tensorflow\"\n",
    "\n",
    "from keras.models import Sequential\n",
    "from keras.optimizers import Adam, SGD\n",
    "#from keras.initializers import TruncatedNormal\n",
    "#from keras import initializations\n",
    "from keras.layers import Input, Dense, Dropout, Flatten, Conv2D, MaxPooling2D, Reshape\n",
    "#from keras.callbacks import ReduceLROnPlateau"
   ]
  },
  {
   "cell_type": "code",
   "execution_count": 7,
   "metadata": {},
   "outputs": [
    {
     "name": "stdout",
     "output_type": "stream",
     "text": [
      "_________________________________________________________________\n",
      "Layer (type)                 Output Shape              Param #   \n",
      "=================================================================\n",
      "dense_1 (Dense)              (None, 64)                1280      \n",
      "_________________________________________________________________\n",
      "dense_2 (Dense)              (None, 64)                4160      \n",
      "_________________________________________________________________\n",
      "dense_3 (Dense)              (None, 64)                4160      \n",
      "_________________________________________________________________\n",
      "dense_4 (Dense)              (None, 64)                4160      \n",
      "_________________________________________________________________\n",
      "dense_5 (Dense)              (None, 2)                 130       \n",
      "=================================================================\n",
      "Total params: 13,890\n",
      "Trainable params: 13,890\n",
      "Non-trainable params: 0\n",
      "_________________________________________________________________\n"
     ]
    }
   ],
   "source": [
    "# Define model\n",
    "model = Sequential()\n",
    "model.add(Dense(64, kernel_initializer='glorot_normal', activation='sigmoid', input_dim=19))\n",
    "#model.add(Dropout(0.2))\n",
    "model.add(Dense(64, kernel_initializer='glorot_normal', activation='relu'))\n",
    "#model.add(Dropout(0.2))\n",
    "model.add(Dense(64, kernel_initializer='glorot_normal', activation='relu'))\n",
    "model.add(Dense(64, kernel_initializer='glorot_normal', activation='relu'))\n",
    "model.add(Dense(2, kernel_initializer='glorot_uniform', activation='softmax'))\n",
    "\n",
    "# Set loss and optimizer\n",
    "model.compile(loss='categorical_crossentropy', optimizer=Adam(), metrics=['categorical_accuracy',])\n",
    "\n",
    "# Store model to file\n",
    "model.save('model_dense.h5')\n",
    "\n",
    "# Print summary of model\n",
    "model.summary()"
   ]
  },
  {
   "cell_type": "code",
   "execution_count": 8,
   "metadata": {},
   "outputs": [
    {
     "data": {
      "text/plain": [
       "<ROOT.TMVA::MethodPyKeras object (\"Keras_Dense\") at 0x840cb70>"
      ]
     },
     "execution_count": 8,
     "metadata": {},
     "output_type": "execute_result"
    },
    {
     "name": "stdout",
     "output_type": "stream",
     "text": [
      "Factory                  : Booking method: \u001b[1mKeras_Dense\u001b[0m\n",
      "                         : \n",
      "Keras_Dense              : [dataset] : Create Transformation \"G\" with events from all classes.\n",
      "                         : \n",
      "                         : Transformation, Variable selection : \n",
      "                         : Input : variable 'sample' <---> Output : variable 'sample'\n",
      "                         : Input : variable 'EventWeight' <---> Output : variable 'EventWeight'\n",
      "                         : Input : variable 'EventNumber' <---> Output : variable 'EventNumber'\n",
      "                         : Input : variable 'm_region' <---> Output : variable 'm_region'\n",
      "                         : Input : variable 'm_FJNbtagJets' <---> Output : variable 'm_FJNbtagJets'\n",
      "                         : Input : variable 'm_FJpt' <---> Output : variable 'm_FJpt'\n",
      "                         : Input : variable 'm_FJeta' <---> Output : variable 'm_FJeta'\n",
      "                         : Input : variable 'm_FJphi' <---> Output : variable 'm_FJphi'\n",
      "                         : Input : variable 'm_FJm' <---> Output : variable 'm_FJm'\n",
      "                         : Input : variable 'm_DTpt' <---> Output : variable 'm_DTpt'\n",
      "                         : Input : variable 'm_DTeta' <---> Output : variable 'm_DTeta'\n",
      "                         : Input : variable 'm_DTphi' <---> Output : variable 'm_DTphi'\n",
      "                         : Input : variable 'm_DTm' <---> Output : variable 'm_DTm'\n",
      "                         : Input : variable 'm_dPhiFTwDT' <---> Output : variable 'm_dPhiFTwDT'\n",
      "                         : Input : variable 'm_dRFJwDT' <---> Output : variable 'm_dRFJwDT'\n",
      "                         : Input : variable 'm_dPhiDTwMET' <---> Output : variable 'm_dPhiDTwMET'\n",
      "                         : Input : variable 'm_MET' <---> Output : variable 'm_MET'\n",
      "                         : Input : variable 'm_hhm' <---> Output : variable 'm_hhm'\n",
      "                         : Input : variable 'm_bbttpt' <---> Output : variable 'm_bbttpt'\n",
      "                         : Load model from file: model_dense.h5\n"
     ]
    }
   ],
   "source": [
    "factory.BookMethod(loader, ROOT.TMVA.Types.kPyKeras, 'Keras_Dense',\n",
    "        'H:!V:VarTransform=G:FilenameModel=model_dense.h5:'+\\\n",
    "        'NumEpochs=10:BatchSize=16:TriesEarlyStopping=10')"
   ]
  },
  {
   "cell_type": "markdown",
   "metadata": {},
   "source": [
    "## Train Methods"
   ]
  },
  {
   "cell_type": "code",
   "execution_count": 9,
   "metadata": {},
   "outputs": [
    {
     "name": "stderr",
     "output_type": "stream",
     "text": [
      "/home/andrea/anaconda3/lib/python3.5/site-packages/keras/models.py:981: UserWarning: The `nb_epoch` argument in `fit` has been renamed `epochs`.\n",
      "  warnings.warn('The `nb_epoch` argument in `fit` '\n"
     ]
    },
    {
     "name": "stdout",
     "output_type": "stream",
     "text": [
      "Train on 140000 samples, validate on 170382 samples\n",
      "Epoch 1/10\n",
      "140000/140000 [==============================] - 44s 314us/step - loss: 0.0054 - categorical_accuracy: 0.9981 - val_loss: 0.0021 - val_categorical_accuracy: 0.9994\n",
      "\n",
      "Epoch 00001: val_loss improved from inf to 0.00206, saving model to dataset/weights/TrainedModel_Keras_Dense.h5\n",
      "Epoch 2/10\n",
      "140000/140000 [==============================] - 45s 325us/step - loss: 6.0350e-04 - categorical_accuracy: 0.9999 - val_loss: 7.6663e-04 - val_categorical_accuracy: 0.9999\n",
      "\n",
      "Epoch 00002: val_loss improved from 0.00206 to 0.00077, saving model to dataset/weights/TrainedModel_Keras_Dense.h5\n",
      "Epoch 3/10\n",
      "140000/140000 [==============================] - 47s 334us/step - loss: 8.3826e-04 - categorical_accuracy: 0.9998 - val_loss: 4.7999e-04 - val_categorical_accuracy: 0.9999\n",
      "\n",
      "Epoch 00003: val_loss improved from 0.00077 to 0.00048, saving model to dataset/weights/TrainedModel_Keras_Dense.h5\n",
      "Epoch 4/10\n",
      "140000/140000 [==============================] - 47s 339us/step - loss: 4.1405e-04 - categorical_accuracy: 0.9999 - val_loss: 2.2340e-04 - val_categorical_accuracy: 1.0000\n",
      "\n",
      "Epoch 00004: val_loss improved from 0.00048 to 0.00022, saving model to dataset/weights/TrainedModel_Keras_Dense.h5\n",
      "Epoch 5/10\n",
      "140000/140000 [==============================] - 46s 330us/step - loss: 1.4326e-07 - categorical_accuracy: 1.0000 - val_loss: 2.9408e-04 - val_categorical_accuracy: 1.0000\n",
      "\n",
      "Epoch 00005: val_loss did not improve from 0.00022\n",
      "Epoch 6/10\n",
      "140000/140000 [==============================] - 46s 332us/step - loss: 2.0946e-04 - categorical_accuracy: 1.0000 - val_loss: 0.0066 - val_categorical_accuracy: 0.9986\n",
      "\n",
      "Epoch 00006: val_loss did not improve from 0.00022\n",
      "Epoch 7/10\n",
      "140000/140000 [==============================] - 47s 336us/step - loss: 3.7871e-04 - categorical_accuracy: 0.9999 - val_loss: 2.5415e-04 - val_categorical_accuracy: 1.0000\n",
      "\n",
      "Epoch 00007: val_loss did not improve from 0.00022\n",
      "Epoch 8/10\n",
      "140000/140000 [==============================] - 46s 330us/step - loss: 2.3397e-07 - categorical_accuracy: 1.0000 - val_loss: 3.4064e-04 - val_categorical_accuracy: 1.0000\n",
      "\n",
      "Epoch 00008: val_loss did not improve from 0.00022\n",
      "Epoch 9/10\n",
      "140000/140000 [==============================] - 47s 339us/step - loss: 4.1446e-04 - categorical_accuracy: 0.9999 - val_loss: 3.6046e-04 - val_categorical_accuracy: 1.0000\n",
      "\n",
      "Epoch 00009: val_loss did not improve from 0.00022\n",
      "Epoch 10/10\n",
      "140000/140000 [==============================] - 47s 339us/step - loss: 1.9497e-04 - categorical_accuracy: 1.0000 - val_loss: 0.0017 - val_categorical_accuracy: 0.9998\n",
      "\n",
      "Epoch 00010: val_loss did not improve from 0.00022\n",
      "Factory                  : \u001b[1mTrain all methods\u001b[0m\n",
      "DataSetFactory           : [dataset] : Number of events in input trees\n",
      "                         : \n",
      "                         : \n",
      "                         : Number of training and testing events\n",
      "                         : ---------------------------------------------------------------------------\n",
      "                         : Signal     -- training events            : 70000\n",
      "                         : Signal     -- testing events             : 9336\n",
      "                         : Signal     -- training and testing events: 79336\n",
      "                         : Background -- training events            : 70000\n",
      "                         : Background -- testing events             : 161046\n",
      "                         : Background -- training and testing events: 231046\n",
      "                         : \n",
      "DataSetInfo              : Correlation matrix (Signal):\n",
      "                         : -------------------------------------------------------------------------------------------------------------------------------------------------------------------------------------------------\n",
      "                         :                 sample EventWeight EventNumber m_region m_FJNbtagJets  m_FJpt m_FJeta m_FJphi   m_FJm  m_DTpt m_DTeta m_DTphi   m_DTm m_dPhiFTwDT m_dRFJwDT m_dPhiDTwMET   m_MET   m_hhm m_bbttpt\n",
      "                         :        sample:  +1.000      -0.491      +0.493   -1.000        -0.151  -0.613  +0.004  +0.005  -0.003  -0.422  +0.002  -0.006  -0.012      -0.223    -0.345       -0.006  -0.353  -0.711   -0.162\n",
      "                         :   EventWeight:  -0.491      +1.000      -0.183   +0.491        +0.078  +0.294  -0.006  -0.002  -0.007  +0.193  -0.002  +0.001  -0.045      +0.110    +0.172       +0.004  +0.169  +0.338   +0.082\n",
      "                         :   EventNumber:  +0.493      -0.183      +1.000   -0.493        -0.075  -0.308  +0.007  +0.003  -0.005  -0.161  +0.005  -0.004  +0.214      -0.109    -0.165       -0.006  -0.177  -0.321   -0.092\n",
      "                         :      m_region:  -1.000      +0.491      -0.493   +1.000        +0.151  +0.613  -0.004  -0.005  +0.003  +0.422  -0.002  +0.006  +0.012      +0.223    +0.345       +0.006  +0.353  +0.711   +0.162\n",
      "                         : m_FJNbtagJets:  -0.151      +0.078      -0.075   +0.151        +1.000  +0.039  +0.001  -0.004  +0.079  -0.016  -0.001  +0.001  -0.014      +0.093    +0.066       +0.001  +0.006  +0.012   -0.061\n",
      "                         :        m_FJpt:  -0.613      +0.294      -0.308   +0.613        +0.039  +1.000  -0.005  -0.005  +0.216  +0.399  -0.004  -0.005  +0.042      +0.073    -0.078       +0.005  +0.461  +0.650   +0.482\n",
      "                         :       m_FJeta:  +0.004      -0.006      +0.007   -0.004        +0.001  -0.005  +1.000  +0.008  -0.000  +0.005  +0.089  +0.001  +0.008      -0.003    -0.007       +0.004  -0.006  -0.008   -0.005\n",
      "                         :       m_FJphi:  +0.005      -0.002      +0.003   -0.005        -0.004  -0.005  +0.008  +1.000  -0.000  -0.014  -0.003  -0.480  -0.019      +0.003    -0.001       +0.000  +0.011  -0.015   -0.001\n",
      "                         :         m_FJm:  -0.003      -0.007      -0.005   +0.003        +0.079  +0.216  -0.000  -0.000  +1.000  +0.079  +0.001  -0.010  +0.026      +0.073    +0.036       -0.002  +0.105  +0.196   +0.045\n",
      "                         :        m_DTpt:  -0.422      +0.193      -0.161   +0.422        -0.016  +0.399  +0.005  -0.014  +0.079  +1.000  +0.005  +0.007  +0.559      +0.116    -0.010       -0.008  -0.149  +0.690   -0.109\n",
      "                         :       m_DTeta:  +0.002      -0.002      +0.005   -0.002        -0.001  -0.004  +0.089  -0.003  +0.001  +0.005  +1.000  +0.016  +0.010      -0.008    -0.006       +0.001  -0.004  +0.000   +0.002\n",
      "                         :       m_DTphi:  -0.006      +0.001      -0.004   +0.006        +0.001  -0.005  +0.001  -0.480  -0.010  +0.007  +0.016  +1.000  +0.009      -0.003    +0.001       +0.002  -0.005  +0.004   -0.002\n",
      "                         :         m_DTm:  -0.012      -0.045      +0.214   +0.012        -0.014  +0.042  +0.008  -0.019  +0.026  +0.559  +0.010  +0.009  +1.000      +0.039    -0.016       -0.014  -0.256  +0.321   -0.180\n",
      "                         :   m_dPhiFTwDT:  -0.223      +0.110      -0.109   +0.223        +0.093  +0.073  -0.003  +0.003  +0.073  +0.116  -0.008  -0.003  +0.039      +1.000    +0.740       +0.008  +0.016  +0.186   -0.622\n",
      "                         :     m_dRFJwDT:  -0.345      +0.172      -0.165   +0.345        +0.066  -0.078  -0.007  -0.001  +0.036  -0.010  -0.006  +0.001  -0.016      +0.740    +1.000       +0.009  -0.052  +0.402   -0.532\n",
      "                         :  m_dPhiDTwMET:  -0.006      +0.004      -0.006   +0.006        +0.001  +0.005  +0.004  +0.000  -0.002  -0.008  +0.001  +0.002  -0.014      +0.008    +0.009       +1.000  -0.000  +0.003   -0.010\n",
      "                         :         m_MET:  -0.353      +0.169      -0.177   +0.353        +0.006  +0.461  -0.006  +0.011  +0.105  -0.149  -0.004  -0.005  -0.256      +0.016    -0.052       -0.000  +1.000  +0.091   +0.470\n",
      "                         :         m_hhm:  -0.711      +0.338      -0.321   +0.711        +0.012  +0.650  -0.008  -0.015  +0.196  +0.690  +0.000  +0.004  +0.321      +0.186    +0.402       +0.003  +0.091  +1.000   +0.054\n",
      "                         :      m_bbttpt:  -0.162      +0.082      -0.092   +0.162        -0.061  +0.482  -0.005  -0.001  +0.045  -0.109  +0.002  -0.002  -0.180      -0.622    -0.532       -0.010  +0.470  +0.054   +1.000\n",
      "                         : -------------------------------------------------------------------------------------------------------------------------------------------------------------------------------------------------\n",
      "DataSetInfo              : Correlation matrix (Background):\n",
      "                         : -------------------------------------------------------------------------------------------------------------------------------------------------------------------------------------------------\n",
      "                         :                 sample EventWeight EventNumber m_region m_FJNbtagJets  m_FJpt m_FJeta m_FJphi   m_FJm  m_DTpt m_DTeta m_DTphi   m_DTm m_dPhiFTwDT m_dRFJwDT m_dPhiDTwMET   m_MET   m_hhm m_bbttpt\n",
      "                         :        sample:  +1.000      -0.172      -0.012   -0.963        -0.170  -0.877  -0.001  +0.001  -0.472  -0.873  +0.004  -0.005  -0.844      -0.931    -0.927       -0.001  -0.610  -0.855   -0.585\n",
      "                         :   EventWeight:  -0.172      +1.000      +0.096   +0.201        +0.058  +0.157  -0.004  -0.003  +0.124  +0.165  -0.004  -0.002  +0.155      +0.198    +0.194       -0.002  +0.111  +0.152   +0.109\n",
      "                         :   EventNumber:  -0.012      +0.096      +1.000   +0.122        +0.203  +0.203  +0.000  -0.004  +0.220  +0.233  +0.002  +0.002  +0.278      +0.252    +0.251       -0.010  +0.156  +0.214   +0.143\n",
      "                         :      m_region:  -0.963      +0.201      +0.122   +1.000        +0.215  +0.892  +0.000  +0.000  +0.496  +0.897  -0.004  +0.006  +0.863      +0.961    +0.953       +0.001  +0.605  +0.864   +0.595\n",
      "                         : m_FJNbtagJets:  -0.170      +0.058      +0.203   +0.215        +1.000  +0.243  -0.006  -0.004  +0.222  +0.251  -0.003  +0.002  +0.253      +0.252    +0.253       +0.002  +0.174  +0.242   +0.207\n",
      "                         :        m_FJpt:  -0.877      +0.157      +0.203   +0.892        +0.243  +1.000  +0.000  +0.005  +0.561  +0.916  -0.003  +0.001  +0.866      +0.918    +0.913       -0.001  +0.730  +0.930   +0.714\n",
      "                         :       m_FJeta:  -0.001      -0.004      +0.000   +0.000        -0.006  +0.000  +1.000  +0.011  +0.004  -0.003  +0.242  +0.004  -0.003      +0.001    -0.001       -0.002  -0.008  -0.005   -0.007\n",
      "                         :       m_FJphi:  +0.001      -0.003      -0.004   +0.000        -0.004  +0.005  +0.011  +1.000  +0.002  -0.004  +0.007  -0.488  -0.004      +0.001    +0.002       -0.005  +0.014  +0.001   +0.004\n",
      "                         :         m_FJm:  -0.472      +0.124      +0.220   +0.496        +0.222  +0.561  +0.004  +0.002  +1.000  +0.546  +0.004  -0.001  +0.529      +0.541    +0.542       -0.007  +0.408  +0.555   +0.413\n",
      "                         :        m_DTpt:  -0.873      +0.165      +0.233   +0.897        +0.251  +0.916  -0.003  -0.004  +0.546  +1.000  -0.003  +0.008  +0.940      +0.929    +0.925       -0.004  +0.558  +0.935   +0.562\n",
      "                         :       m_DTeta:  +0.004      -0.004      +0.002   -0.004        -0.003  -0.003  +0.242  +0.007  +0.004  -0.003  +1.000  +0.000  -0.003      -0.002    -0.001       -0.011  +0.001  +0.001   -0.005\n",
      "                         :       m_DTphi:  -0.005      -0.002      +0.002   +0.006        +0.002  +0.001  +0.004  -0.488  -0.001  +0.008  +0.000  +1.000  +0.009      +0.005    +0.005       +0.005  -0.015  +0.005   +0.000\n",
      "                         :         m_DTm:  -0.844      +0.155      +0.278   +0.863        +0.253  +0.866  -0.003  -0.004  +0.529  +0.940  -0.003  +0.009  +1.000      +0.912    +0.910       -0.002  +0.543  +0.892   +0.540\n",
      "                         :   m_dPhiFTwDT:  -0.931      +0.198      +0.252   +0.961        +0.252  +0.918  +0.001  +0.001  +0.541  +0.929  -0.002  +0.005  +0.912      +1.000    +0.992       +0.000  +0.637  +0.903   +0.559\n",
      "                         :     m_dRFJwDT:  -0.927      +0.194      +0.251   +0.953        +0.253  +0.913  -0.001  +0.002  +0.542  +0.925  -0.001  +0.005  +0.910      +0.992    +1.000       +0.001  +0.631  +0.934   +0.572\n",
      "                         :  m_dPhiDTwMET:  -0.001      -0.002      -0.010   +0.001        +0.002  -0.001  -0.002  -0.005  -0.007  -0.004  -0.011  +0.005  -0.002      +0.000    +0.001       +1.000  +0.001  +0.001   -0.000\n",
      "                         :         m_MET:  -0.610      +0.111      +0.156   +0.605        +0.174  +0.730  -0.008  +0.014  +0.408  +0.558  +0.001  -0.015  +0.543      +0.637    +0.631       +0.001  +1.000  +0.614   +0.665\n",
      "                         :         m_hhm:  -0.855      +0.152      +0.214   +0.864        +0.242  +0.930  -0.005  +0.001  +0.555  +0.935  +0.001  +0.005  +0.892      +0.903    +0.934       +0.001  +0.614  +1.000   +0.607\n",
      "                         :      m_bbttpt:  -0.585      +0.109      +0.143   +0.595        +0.207  +0.714  -0.007  +0.004  +0.413  +0.562  -0.005  +0.000  +0.540      +0.559    +0.572       -0.000  +0.665  +0.607   +1.000\n",
      "                         : -------------------------------------------------------------------------------------------------------------------------------------------------------------------------------------------------\n",
      "DataSetFactory           : [dataset] :  \n",
      "                         : \n",
      "Factory                  : [dataset] : Create Transformation \"I\" with events from all classes.\n",
      "                         : \n",
      "                         : Transformation, Variable selection : \n",
      "                         : Input : variable 'sample' <---> Output : variable 'sample'\n",
      "                         : Input : variable 'EventWeight' <---> Output : variable 'EventWeight'\n",
      "                         : Input : variable 'EventNumber' <---> Output : variable 'EventNumber'\n",
      "                         : Input : variable 'm_region' <---> Output : variable 'm_region'\n",
      "                         : Input : variable 'm_FJNbtagJets' <---> Output : variable 'm_FJNbtagJets'\n",
      "                         : Input : variable 'm_FJpt' <---> Output : variable 'm_FJpt'\n",
      "                         : Input : variable 'm_FJeta' <---> Output : variable 'm_FJeta'\n",
      "                         : Input : variable 'm_FJphi' <---> Output : variable 'm_FJphi'\n",
      "                         : Input : variable 'm_FJm' <---> Output : variable 'm_FJm'\n",
      "                         : Input : variable 'm_DTpt' <---> Output : variable 'm_DTpt'\n",
      "                         : Input : variable 'm_DTeta' <---> Output : variable 'm_DTeta'\n",
      "                         : Input : variable 'm_DTphi' <---> Output : variable 'm_DTphi'\n",
      "                         : Input : variable 'm_DTm' <---> Output : variable 'm_DTm'\n",
      "                         : Input : variable 'm_dPhiFTwDT' <---> Output : variable 'm_dPhiFTwDT'\n",
      "                         : Input : variable 'm_dRFJwDT' <---> Output : variable 'm_dRFJwDT'\n",
      "                         : Input : variable 'm_dPhiDTwMET' <---> Output : variable 'm_dPhiDTwMET'\n",
      "                         : Input : variable 'm_MET' <---> Output : variable 'm_MET'\n",
      "                         : Input : variable 'm_hhm' <---> Output : variable 'm_hhm'\n",
      "                         : Input : variable 'm_bbttpt' <---> Output : variable 'm_bbttpt'\n",
      "TFHandler_Factory        :      Variable             Mean             RMS     [        Min             Max ]\n",
      "                         : ------------------------------------------------------------------------------------\n",
      "                         :        sample:     1.1475e+08     2.0598e+07   [     9.8551e+07     1.4215e+08 ]\n",
      "                         :   EventWeight:      0.0032394       0.017049   [       -0.74930        0.94195 ]\n",
      "                         :   EventNumber:     1.4835e+06     7.2218e+06   [         0.0000     1.3499e+08 ]\n",
      "                         :      m_region:     1.4092e+08     1.8362e+06   [     1.3849e+08     1.4406e+08 ]\n",
      "                         : m_FJNbtagJets:        0.70315        0.81738   [         0.0000         2.0000 ]\n",
      "                         :        m_FJpt:         529.83         338.57   [         0.0000         2389.9 ]\n",
      "                         :       m_FJeta:      0.0016715        0.74488   [        -2.0000         1.9997 ]\n",
      "                         :       m_FJphi:      0.0068194         1.6028   [        -3.1415         3.1416 ]\n",
      "                         :         m_FJm:         78609.         76680.   [      -0.015625     9.1402e+05 ]\n",
      "                         :        m_DTpt:         436.97         272.09   [         0.0000         2211.2 ]\n",
      "                         :       m_DTeta:     0.00025870        0.70510   [        -2.3007         2.2011 ]\n",
      "                         :       m_DTphi:      0.0060135         1.5999   [        -3.1415         3.1415 ]\n",
      "                         :         m_DTm:     1.2174e+05         74639.   [         0.0000     5.7297e+05 ]\n",
      "                         :   m_dPhiFTwDT:         2.3016         1.2477   [         0.0000         3.1416 ]\n",
      "                         :     m_dRFJwDT:         2.4430         1.3316   [         0.0000         4.9152 ]\n",
      "                         :  m_dPhiDTwMET:     -0.0030419         1.0247   [        -3.1415         3.1415 ]\n",
      "                         :         m_MET:         148.77         154.99   [         0.0000         7348.4 ]\n",
      "                         :         m_hhm:         1102.0         679.51   [         0.0000         5465.6 ]\n",
      "                         :      m_bbttpt:         183.30         191.04   [         0.0000         2556.7 ]\n",
      "                         : ------------------------------------------------------------------------------------\n",
      "                         : Ranking input variables (method unspecific)...\n",
      "IdTransformation         : Ranking result (top variable is best ranked)\n",
      "                         : --------------------------------------\n",
      "                         : Rank : Variable      : Separation\n",
      "                         : --------------------------------------\n",
      "                         :    1 : m_region      : 1.000e+00\n",
      "                         :    2 : m_FJNbtagJets : 6.211e-01\n",
      "                         :    3 : m_FJm         : 4.870e-01\n",
      "                         :    4 : m_hhm         : 3.931e-01\n",
      "                         :    5 : sample        : 3.897e-01\n",
      "                         :    6 : m_FJpt        : 3.818e-01\n",
      "                         :    7 : m_DTpt        : 3.238e-01\n",
      "                         :    8 : m_DTm         : 2.944e-01\n",
      "                         :    9 : m_dRFJwDT     : 2.942e-01\n",
      "                         :   10 : m_dPhiFTwDT   : 2.897e-01\n",
      "                         :   11 : m_bbttpt      : 2.866e-01\n",
      "                         :   12 : m_MET         : 2.615e-01\n",
      "                         :   13 : m_DTphi       : 2.558e-01\n",
      "                         :   14 : m_FJphi       : 2.534e-01\n",
      "                         :   15 : m_DTeta       : 2.468e-01\n",
      "                         :   16 : m_FJeta       : 2.369e-01\n",
      "                         :   17 : EventNumber   : 2.339e-01\n",
      "                         :   18 : EventWeight   : 1.875e-01\n",
      "                         :   19 : m_dPhiDTwMET  : 8.391e-02\n",
      "                         : --------------------------------------\n",
      "Factory                  : Train method: Keras_Dense for Classification\n",
      "                         : \n",
      "                         : \n",
      "                         : \u001b[1m================================================================\u001b[0m\n",
      "                         : \u001b[1mH e l p   f o r   M V A   m e t h o d   [ Keras_Dense ] :\u001b[0m\n",
      "                         : \n",
      "                         : Keras is a high-level API for the Theano and Tensorflow packages.\n",
      "                         : This method wraps the training and predictions steps of the Keras\n",
      "                         : Python package for TMVA, so that dataloading, preprocessing and\n",
      "                         : evaluation can be done within the TMVA system. To use this Keras\n",
      "                         : interface, you have to generate a model with Keras first. Then,\n",
      "                         : this model can be loaded and trained in TMVA.\n",
      "                         : \n",
      "                         : \n",
      "                         : <Suppress this message by specifying \"!H\" in the booking option>\n",
      "                         : \u001b[1m================================================================\u001b[0m\n",
      "                         : \n",
      "                         : Preparing the Gaussian transformation...\n",
      "TFHandler_Keras_Dense    :      Variable             Mean             RMS     [        Min             Max ]\n",
      "                         : ------------------------------------------------------------------------------------\n",
      "                         :        sample:        0.74526         1.1922   [       -0.64760         5.7307 ]\n",
      "                         :   EventWeight:       -0.19088        0.98054   [        -3.2240         5.7307 ]\n",
      "                         :   EventNumber:        -1.2673         2.5420   [        -5.7307         5.7307 ]\n",
      "                         :      m_region:         1.2317         1.5961   [       -0.71572         5.7307 ]\n",
      "                         : m_FJNbtagJets:         1.0389         2.5939   [       -0.67441         5.7307 ]\n",
      "                         :        m_FJpt:       -0.71586         1.6116   [        -3.2607         5.7307 ]\n",
      "                         :       m_FJeta:     0.00084430        0.87952   [        -3.2419         5.7307 ]\n",
      "                         :       m_FJphi:      0.0013793        0.87856   [        -3.2255         5.7307 ]\n",
      "                         :         m_FJm:       -0.70463         1.5958   [        -3.2079         5.7307 ]\n",
      "                         :        m_DTpt:       -0.70673         1.5972   [        -3.2203         5.7307 ]\n",
      "                         :       m_DTeta:      0.0032076        0.87963   [        -3.2275         5.7307 ]\n",
      "                         :       m_DTphi:      0.0038557        0.88171   [        -3.2172         5.7307 ]\n",
      "                         :         m_DTm:       -0.70639         1.5977   [        -3.2203         5.7307 ]\n",
      "                         :   m_dPhiFTwDT:       -0.71535         1.6111   [        -3.2590         3.3679 ]\n",
      "                         :     m_dRFJwDT:       -0.71588         1.6116   [        -3.2607         5.7307 ]\n",
      "                         :  m_dPhiDTwMET:      0.0015777        0.87811   [        -3.2210         5.7307 ]\n",
      "                         :         m_MET:       -0.71587         1.6114   [        -3.2607         5.7307 ]\n",
      "                         :         m_hhm:       -0.70667         1.5974   [        -3.2203         5.7307 ]\n",
      "                         :      m_bbttpt:       -0.70096         1.5885   [        -3.1946         5.7307 ]\n",
      "                         : ------------------------------------------------------------------------------------\n",
      "                         : Option SaveBestOnly: Only model weights with smallest validation loss will be stored\n",
      "                         : Option TriesEarlyStopping: Training will stop after 10 number of epochs with no improvement of validation loss\n",
      "                         : Elapsed time for training with 140000 events: 471 sec         \n",
      "                         : Creating xml weight file: \u001b[0;36mdataset/weights/TMVA_Higgs_Classification_Keras_Dense.weights.xml\u001b[0m\n",
      "                         : Creating standalone class: \u001b[0;36mdataset/weights/TMVA_Higgs_Classification_Keras_Dense.class.C\u001b[0m\n",
      "Factory                  : Training finished\n",
      "                         : \n",
      "                         : Ranking input variables (method specific)...\n",
      "                         : No variable ranking supplied by classifier: Keras_Dense\n",
      "Factory                  : === Destroy and recreate all methods via weight files for testing ===\n",
      "                         : \n",
      "                         : Reading weight file: \u001b[0;36mdataset/weights/TMVA_Higgs_Classification_Keras_Dense.weights.xml\u001b[0m\n"
     ]
    }
   ],
   "source": [
    "factory.TrainAllMethods()"
   ]
  },
  {
   "cell_type": "markdown",
   "metadata": {},
   "source": [
    "## Test  all methods\n",
    "\n",
    "Here we test all methods using the test data set"
   ]
  },
  {
   "cell_type": "code",
   "execution_count": 10,
   "metadata": {},
   "outputs": [
    {
     "name": "stdout",
     "output_type": "stream",
     "text": [
      "Factory                  : \u001b[1mTest all methods\u001b[0m\n",
      "Factory                  : Test method: Keras_Dense for Classification performance\n",
      "                         : \n",
      "                         : Load model from file: dataset/weights/TrainedModel_Keras_Dense.h5\n"
     ]
    }
   ],
   "source": [
    "factory.TestAllMethods()"
   ]
  },
  {
   "cell_type": "markdown",
   "metadata": {},
   "source": [
    "## Evaluate all methods\n",
    "\n",
    "Here we evaluate all methods and compare their performances, computing efficiencies, ROC curves etc.. using both training and tetsing data sets. Several histograms are produced which can be examined with the TMVAGui or directly using the output file"
   ]
  },
  {
   "cell_type": "code",
   "execution_count": 11,
   "metadata": {},
   "outputs": [
    {
     "name": "stdout",
     "output_type": "stream",
     "text": [
      "Factory                  : \u001b[1mEvaluate all methods\u001b[0m\n",
      "Factory                  : Evaluate classifier: Keras_Dense\n",
      "                         : \n",
      "TFHandler_Keras_Dense    :      Variable             Mean             RMS     [        Min             Max ]\n",
      "                         : ------------------------------------------------------------------------------------\n",
      "                         :        sample:        0.67668         1.3799   [       -0.64760         5.7307 ]\n",
      "                         :   EventWeight:       -0.41134         1.2129   [        -5.7307         5.7307 ]\n",
      "                         :   EventNumber:        -1.8874         3.3027   [        -5.7307         5.7307 ]\n",
      "                         :      m_region:         1.5509         2.1246   [       -0.71572         5.7307 ]\n",
      "                         : m_FJNbtagJets:       -0.39016         1.1011   [       -0.67441         5.7307 ]\n",
      "                         :        m_FJpt:        -1.5202         1.6042   [        -3.2607         5.7307 ]\n",
      "                         :       m_FJeta:     0.00048287        0.82042   [        -3.2419         5.7307 ]\n",
      "                         :       m_FJphi:    -0.00082178        0.75962   [        -3.2255         5.7307 ]\n",
      "                         :         m_FJm:        -1.5711         1.6050   [        -3.2079         5.7307 ]\n",
      "                         :        m_DTpt:        -1.4739         1.6301   [        -3.2203         5.7307 ]\n",
      "                         :       m_DTeta:      0.0017226        0.87738   [        -3.0743         5.7307 ]\n",
      "                         :       m_DTphi:      0.0021406        0.76185   [        -3.2172         5.7307 ]\n",
      "                         :         m_DTm:        -1.3989         1.7328   [        -3.2203         5.7307 ]\n",
      "                         :   m_dPhiFTwDT:        -1.2945         1.8205   [        -3.2590         3.3701 ]\n",
      "                         :     m_dRFJwDT:        -1.2874         1.8294   [        -3.2607         5.7307 ]\n",
      "                         :  m_dPhiDTwMET:      0.0063544        0.78120   [        -3.2230         5.7307 ]\n",
      "                         :         m_MET:        -1.4829         1.6573   [        -3.2607         5.7307 ]\n",
      "                         :         m_hhm:        -1.4656         1.6538   [        -3.2203         5.7307 ]\n",
      "                         :      m_bbttpt:        -1.4784         1.6216   [        -3.1946         5.7307 ]\n",
      "                         : ------------------------------------------------------------------------------------\n",
      "Keras_Dense              : [dataset] : Loop over test events and fill histograms with classifier response...\n",
      "                         : \n",
      "TFHandler_Keras_Dense    :      Variable             Mean             RMS     [        Min             Max ]\n",
      "                         : ------------------------------------------------------------------------------------\n",
      "                         :        sample:        0.67668         1.3799   [       -0.64760         5.7307 ]\n",
      "                         :   EventWeight:       -0.41134         1.2129   [        -5.7307         5.7307 ]\n",
      "                         :   EventNumber:        -1.8874         3.3027   [        -5.7307         5.7307 ]\n",
      "                         :      m_region:         1.5509         2.1246   [       -0.71572         5.7307 ]\n",
      "                         : m_FJNbtagJets:       -0.39016         1.1011   [       -0.67441         5.7307 ]\n",
      "                         :        m_FJpt:        -1.5202         1.6042   [        -3.2607         5.7307 ]\n",
      "                         :       m_FJeta:     0.00048287        0.82042   [        -3.2419         5.7307 ]\n",
      "                         :       m_FJphi:    -0.00082178        0.75962   [        -3.2255         5.7307 ]\n",
      "                         :         m_FJm:        -1.5711         1.6050   [        -3.2079         5.7307 ]\n",
      "                         :        m_DTpt:        -1.4739         1.6301   [        -3.2203         5.7307 ]\n",
      "                         :       m_DTeta:      0.0017226        0.87738   [        -3.0743         5.7307 ]\n",
      "                         :       m_DTphi:      0.0021406        0.76185   [        -3.2172         5.7307 ]\n",
      "                         :         m_DTm:        -1.3989         1.7328   [        -3.2203         5.7307 ]\n",
      "                         :   m_dPhiFTwDT:        -1.2945         1.8205   [        -3.2590         3.3701 ]\n",
      "                         :     m_dRFJwDT:        -1.2874         1.8294   [        -3.2607         5.7307 ]\n",
      "                         :  m_dPhiDTwMET:      0.0063544        0.78120   [        -3.2230         5.7307 ]\n",
      "                         :         m_MET:        -1.4829         1.6573   [        -3.2607         5.7307 ]\n",
      "                         :         m_hhm:        -1.4656         1.6538   [        -3.2203         5.7307 ]\n",
      "                         :      m_bbttpt:        -1.4784         1.6216   [        -3.1946         5.7307 ]\n",
      "                         : ------------------------------------------------------------------------------------\n",
      "                         : \n",
      "                         : Evaluation results ranked by best signal efficiency and purity (area)\n",
      "                         : -------------------------------------------------------------------------------------------------------------------\n",
      "                         : DataSet       MVA                       \n",
      "                         : Name:         Method:          ROC-integ\n",
      "                         : dataset       Keras_Dense    : 1.000\n",
      "                         : -------------------------------------------------------------------------------------------------------------------\n",
      "                         : \n",
      "                         : Testing efficiency compared to training efficiency (overtraining check)\n",
      "                         : -------------------------------------------------------------------------------------------------------------------\n",
      "                         : DataSet              MVA              Signal efficiency: from test sample (from training sample) \n",
      "                         : Name:                Method:          @B=0.01             @B=0.10            @B=0.30   \n",
      "                         : -------------------------------------------------------------------------------------------------------------------\n",
      "                         : dataset              Keras_Dense    : 1.000 (1.000)       1.000 (1.000)      1.000 (1.000)\n",
      "                         : -------------------------------------------------------------------------------------------------------------------\n",
      "                         : \n",
      "Dataset:dataset          : Created tree 'TestTree' with 170382 events\n",
      "                         : \n",
      "Dataset:dataset          : Created tree 'TrainTree' with 140000 events\n",
      "                         : \n",
      "Factory                  : \u001b[1mThank you for using TMVA!\u001b[0m\n",
      "                         : \u001b[1mFor citation information, please visit: http://tmva.sf.net/citeTMVA.html\u001b[0m\n"
     ]
    }
   ],
   "source": [
    "factory.EvaluateAllMethods()"
   ]
  },
  {
   "cell_type": "markdown",
   "metadata": {},
   "source": [
    "## Plot ROC Curve\n",
    "We enable JavaScript visualisation for the plots"
   ]
  },
  {
   "cell_type": "code",
   "execution_count": 12,
   "metadata": {},
   "outputs": [
    {
     "data": {
      "image/png": "[encoded data removed]",
      "text/plain": [
       "<IPython.core.display.Image object>"
      ]
     },
     "metadata": {},
     "output_type": "display_data"
    }
   ],
   "source": [
    "c1 = factory.GetROCCurve(loader)\n",
    "c1.Draw()"
   ]
  }
 ],
 "metadata": {
  "kernelspec": {
   "display_name": "Python 3",
   "language": "python",
   "name": "python3"
  },
  "language_info": {
   "codemirror_mode": {
    "name": "ipython",
    "version": 3
   },
   "file_extension": ".py",
   "mimetype": "text/x-python",
   "name": "python",
   "nbconvert_exporter": "python",
   "pygments_lexer": "ipython3",
   "version": "3.5.5"
  }
 },
 "nbformat": 4,
 "nbformat_minor": 2
}
