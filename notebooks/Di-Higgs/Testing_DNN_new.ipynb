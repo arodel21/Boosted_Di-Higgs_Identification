{
 "cells": [
  {
   "cell_type": "markdown",
   "metadata": {},
   "source": [
    "# <center>TMVA Classification Using Deep Neural Networks</center>\n",
    "\n",
    "In this notebook we still classify di-Higgs new data with Deep Neural Networks meethod."
   ]
  },
  {
   "cell_type": "code",
   "execution_count": 1,
   "metadata": {},
   "outputs": [
    {
     "name": "stdout",
     "output_type": "stream",
     "text": [
      "Welcome to JupyROOT 6.14/04\n"
     ]
    }
   ],
   "source": [
    "import ROOT\n",
    "from ROOT import TMVA, TTree\n",
    "\n",
    "ROOT.TMVA.Tools.Instance()\n",
    "## For PYMVA methods\n",
    "TMVA.PyMethodBase.PyInitialize()"
   ]
  },
  {
   "cell_type": "markdown",
   "metadata": {},
   "source": [
    "### Filter dataset by region.\n",
    "\n",
    "This function will let you filter your dataset by region. It's known that SR_1tag is very signal poor, while SR_2tag has a lot a signal."
   ]
  },
  {
   "cell_type": "code",
   "execution_count": 2,
   "metadata": {},
   "outputs": [],
   "source": [
    "def filter_region(file, region, newfile):\n",
    "    oldfile = ROOT.TFile(file)\n",
    "    oldtree = oldfile.Nominal\n",
    "    newfile = ROOT.TFile(newfile,\"recreate\")\n",
    "    newtree = oldtree.CloneTree(0)\n",
    "    for entry in oldtree:\n",
    "        if (entry.m_region == region):\n",
    "            newtree.Fill()\n",
    "    \n",
    "    newtree.AutoSave()   \n",
    "    return newtree, newfile\n",
    "\n",
    "#Use as\n",
    "#tree, file = filter_region(\"data.root\", \"SR_1tag\", \"small.root\")"
   ]
  },
  {
   "cell_type": "markdown",
   "metadata": {},
   "source": [
    "## Declare Factory and Input Data"
   ]
  },
  {
   "cell_type": "markdown",
   "metadata": {},
   "source": [
    "data.root has unlabeled data points (called data) and fakes points. For the background training we'll use only the fakes points."
   ]
  },
  {
   "cell_type": "code",
   "execution_count": 3,
   "metadata": {},
   "outputs": [
    {
     "data": {
      "text/plain": [
       "153148"
      ]
     },
     "execution_count": 3,
     "metadata": {},
     "output_type": "execute_result"
    }
   ],
   "source": [
    "oldtree, oldfile = filter_region(\"data.root\", \"SR_1tag\", \"data_f.root\")\n",
    "\n",
    "newfile = ROOT.TFile(\"small.root\",\"recreate\")\n",
    "backgroundTreeB1 = oldtree.CloneTree(0)\n",
    "\n",
    "for entry in oldtree:\n",
    "    sample = entry.sample\n",
    "    reg = entry.m_region\n",
    "    if (sample == 'fakes'):\n",
    "        backgroundTreeB1.Fill()\n",
    "\n",
    "backgroundTreeB1.AutoSave()"
   ]
  },
  {
   "cell_type": "code",
   "execution_count": 4,
   "metadata": {},
   "outputs": [
    {
     "name": "stdout",
     "output_type": "stream",
     "text": [
      "******************************************************************************\n",
      "*Tree    :Nominal   : Nominal                                                *\n",
      "*Entries :     2577 : Total =          255548 bytes  File  Size =     158982 *\n",
      "*        :          : Tree compression factor =   8.04                       *\n",
      "******************************************************************************\n",
      "*Br    0 :sample    : string                                                 *\n",
      "*Entries :     2577 : Total  Size=      26523 bytes  File Size  =       3320 *\n",
      "*Baskets :        1 : Basket Size=      32000 bytes  Compression=   6.89     *\n",
      "*............................................................................*\n",
      "*Br    1 :EventWeight : EventWeight/F                                        *\n",
      "*Entries :     2577 : Total  Size=      10995 bytes  One basket in memory    *\n",
      "*Baskets :        0 : Basket Size=      32000 bytes  Compression=   1.00     *\n",
      "*............................................................................*\n",
      "*Br    2 :EventNumber : EventNumber/l                                        *\n",
      "*Entries :     2577 : Total  Size=      21311 bytes  One basket in memory    *\n",
      "*Baskets :        0 : Basket Size=      32000 bytes  Compression=   1.00     *\n",
      "*............................................................................*\n",
      "*Br    3 :m_region  : string                                                 *\n",
      "*Entries :     2577 : Total  Size=      31691 bytes  File Size  =       2514 *\n",
      "*Baskets :        1 : Basket Size=      32000 bytes  Compression=   9.56     *\n",
      "*............................................................................*\n",
      "*Br    4 :m_FJNbtagJets : m_FJNbtagJets/I                                    *\n",
      "*Entries :     2577 : Total  Size=      11007 bytes  One basket in memory    *\n",
      "*Baskets :        0 : Basket Size=      32000 bytes  Compression=   1.00     *\n",
      "*............................................................................*\n",
      "*Br    5 :m_FJpt    : m_FJpt/F                                               *\n",
      "*Entries :     2577 : Total  Size=      10965 bytes  One basket in memory    *\n",
      "*Baskets :        0 : Basket Size=      32000 bytes  Compression=   1.00     *\n",
      "*............................................................................*\n",
      "*Br    6 :m_FJeta   : m_FJeta/F                                              *\n",
      "*Entries :     2577 : Total  Size=      10971 bytes  One basket in memory    *\n",
      "*Baskets :        0 : Basket Size=      32000 bytes  Compression=   1.00     *\n",
      "*............................................................................*\n",
      "*Br    7 :m_FJphi   : m_FJphi/F                                              *\n",
      "*Entries :     2577 : Total  Size=      10971 bytes  One basket in memory    *\n",
      "*Baskets :        0 : Basket Size=      32000 bytes  Compression=   1.00     *\n",
      "*............................................................................*\n",
      "*Br    8 :m_FJm     : m_FJm/F                                                *\n",
      "*Entries :     2577 : Total  Size=      10959 bytes  One basket in memory    *\n",
      "*Baskets :        0 : Basket Size=      32000 bytes  Compression=   1.00     *\n",
      "*............................................................................*\n",
      "*Br    9 :m_DTpt    : m_DTpt/F                                               *\n",
      "*Entries :     2577 : Total  Size=      10965 bytes  One basket in memory    *\n",
      "*Baskets :        0 : Basket Size=      32000 bytes  Compression=   1.00     *\n",
      "*............................................................................*\n",
      "*Br   10 :m_DTeta   : m_DTeta/F                                              *\n",
      "*Entries :     2577 : Total  Size=      10971 bytes  One basket in memory    *\n",
      "*Baskets :        0 : Basket Size=      32000 bytes  Compression=   1.00     *\n",
      "*............................................................................*\n",
      "*Br   11 :m_DTphi   : m_DTphi/F                                              *\n",
      "*Entries :     2577 : Total  Size=      10971 bytes  One basket in memory    *\n",
      "*Baskets :        0 : Basket Size=      32000 bytes  Compression=   1.00     *\n",
      "*............................................................................*\n",
      "*Br   12 :m_DTm     : m_DTm/F                                                *\n",
      "*Entries :     2577 : Total  Size=      10959 bytes  One basket in memory    *\n",
      "*Baskets :        0 : Basket Size=      32000 bytes  Compression=   1.00     *\n",
      "*............................................................................*\n",
      "*Br   13 :m_dPhiFTwDT : m_dPhiFTwDT/F                                        *\n",
      "*Entries :     2577 : Total  Size=      10995 bytes  One basket in memory    *\n",
      "*Baskets :        0 : Basket Size=      32000 bytes  Compression=   1.00     *\n",
      "*............................................................................*\n",
      "*Br   14 :m_dRFJwDT : m_dRFJwDT/F                                            *\n",
      "*Entries :     2577 : Total  Size=      10983 bytes  One basket in memory    *\n",
      "*Baskets :        0 : Basket Size=      32000 bytes  Compression=   1.00     *\n",
      "*............................................................................*\n",
      "*Br   15 :m_dPhiDTwMET : m_dPhiDTwMET/F                                      *\n",
      "*Entries :     2577 : Total  Size=      11001 bytes  One basket in memory    *\n",
      "*Baskets :        0 : Basket Size=      32000 bytes  Compression=   1.00     *\n",
      "*............................................................................*\n",
      "*Br   16 :m_MET     : m_MET/F                                                *\n",
      "*Entries :     2577 : Total  Size=      10959 bytes  One basket in memory    *\n",
      "*Baskets :        0 : Basket Size=      32000 bytes  Compression=   1.00     *\n",
      "*............................................................................*\n",
      "*Br   17 :m_hhm     : m_hhm/F                                                *\n",
      "*Entries :     2577 : Total  Size=      10959 bytes  One basket in memory    *\n",
      "*Baskets :        0 : Basket Size=      32000 bytes  Compression=   1.00     *\n",
      "*............................................................................*\n",
      "*Br   18 :m_bbttpt  : m_bbttpt/F                                             *\n",
      "*Entries :     2577 : Total  Size=      10977 bytes  One basket in memory    *\n",
      "*Baskets :        0 : Basket Size=      32000 bytes  Compression=   1.00     *\n",
      "*............................................................................*\n"
     ]
    }
   ],
   "source": [
    "outputFile = ROOT.TFile.Open(\"Higgs_ClassificationOutput.root\", \"RECREATE\")\n",
    "\n",
    "# Factory\n",
    "factory = ROOT.TMVA.Factory(\"TMVA_Higgs_Classification\", outputFile,\n",
    "                      \"!V:ROC:!Silent:Color:!DrawProgressBar:AnalysisType=Classification\" )\n",
    "\n",
    "# Input data\n",
    "# We define now the input data file and we retrieve the ROOT TTree objects with the signal and background input events\n",
    "#signalTree1, inputFileS1 = filter_region(\"Xtohh1000.root\", \"SR_1tag\", \"Xtohh1000_f.root\")\n",
    "signalTree2, inputFileS2 = filter_region(\"Xtohh2000.root\", \"SR_1tag\", \"Xtohh2000_f.root\")\n",
    "backgroundTreeB2, inputFileB2 = filter_region(\"stop.root\", \"SR_1tag\", \"stop_f.root\")\n",
    "backgroundTreeB3, inputFileB3 = filter_region(\"ttbar.root\", \"SR_1tag\", \"ttbar_f.root\")\n",
    "backgroundTreeB4, inputFileB4 = filter_region(\"W+jets.root\", \"SR_1tag\", \"W+jets_f.root\")\n",
    "backgroundTreeB5, inputFileB5 = filter_region(\"Zee_221.root\", \"SR_1tag\", \"Zee_221_f.root\")\n",
    "backgroundTreeB6, inputFileB6 = filter_region(\"Ztautau_221.root\", \"SR_1tag\", \"Ztautau_221_f.root\")\n",
    "backgroundTreeB7, inputFileB7 = filter_region(\"ZZ_Pw.root\", \"SR_1tag\", \"ZZ_Pw_f.root\")\n",
    "\n",
    "backgroundTreeB1.Print()"
   ]
  },
  {
   "cell_type": "markdown",
   "metadata": {},
   "source": [
    "## Declare DataLoader(s)\n",
    "\n",
    "The next step is to declare the DataLoader class that deals with input data abd variables \n",
    "\n",
    "We add first the signal and background trees in the data loader and then we\n",
    "define the input variables that shall be used for the MVA training\n",
    "note that you may also use variable expressions, which can be parsed by TTree::Draw( \"expression\" )]\n",
    "\n",
    "We have two kinds of signals and for the training we have to use only one of them."
   ]
  },
  {
   "cell_type": "code",
   "execution_count": 5,
   "metadata": {},
   "outputs": [
    {
     "name": "stdout",
     "output_type": "stream",
     "text": [
      "DataSetInfo              : [dataset] : Added class \"Signal\"\n",
      "                         : Add Tree Nominal of type Signal with 9355 events\n",
      "DataSetInfo              : [dataset] : Added class \"Background\"\n",
      "                         : Add Tree Nominal of type Background with 2577 events\n",
      "                         : Add Tree Nominal of type Background with 127 events\n",
      "                         : Add Tree Nominal of type Background with 695 events\n",
      "                         : Add Tree Nominal of type Background with 1140 events\n",
      "                         : Add Tree Nominal of type Background with 275 events\n",
      "                         : Add Tree Nominal of type Background with 4403 events\n",
      "                         : Add Tree Nominal of type Background with 45 events\n"
     ]
    }
   ],
   "source": [
    "loader = ROOT.TMVA.DataLoader(\"dataset\")\n",
    "\n",
    "### global event weights per tree (see below for setting event-wise weights)\n",
    "signalWeight     = 1.0\n",
    "backgroundWeight = 1.0\n",
    "   \n",
    "### You can add an arbitrary number of signal or background trees\n",
    "#loader.AddSignalTree    ( signalTree1,     signalWeight     )\n",
    "loader.AddSignalTree    ( signalTree2,     signalWeight     )\n",
    "loader.AddBackgroundTree( backgroundTreeB1, backgroundWeight )\n",
    "loader.AddBackgroundTree( backgroundTreeB2, backgroundWeight )\n",
    "loader.AddBackgroundTree( backgroundTreeB3, backgroundWeight )\n",
    "loader.AddBackgroundTree( backgroundTreeB4, backgroundWeight )\n",
    "loader.AddBackgroundTree( backgroundTreeB5, backgroundWeight )\n",
    "loader.AddBackgroundTree( backgroundTreeB6, backgroundWeight )\n",
    "loader.AddBackgroundTree( backgroundTreeB7, backgroundWeight )\n",
    "\n",
    "not_cons = ['sample', 'EventWeight', 'EventNumber', 'm_region', 'm_FJNbtagJets', 'm_FJphi', 'm_FJeta', 'm_DTeta', 'm_DTphi']\n",
    "\n",
    "## Define input variables \n",
    "for branch in backgroundTreeB1.GetListOfBranches():\n",
    "    if branch.GetName() in not_cons:\n",
    "        continue\n",
    "    loader.AddVariable(branch.GetName())"
   ]
  },
  {
   "cell_type": "markdown",
   "metadata": {},
   "source": [
    "## Setup Dataset(s)\n",
    "\n",
    "Setup the DataLoader by splitting events in training and test samples. \n",
    "Here we use a random split and a fixed number of training and test events."
   ]
  },
  {
   "cell_type": "code",
   "execution_count": 6,
   "metadata": {},
   "outputs": [],
   "source": [
    "## Apply additional cuts on the signal and background samples (can be different)\n",
    "mycuts = ROOT.TCut(\"\")   ## for example: TCut mycuts = \"abs(var1)<0.5 && abs(var2-0.5)<1\";\n",
    "mycutb = ROOT.TCut(\"\")   ## for example: TCut mycutb = \"abs(var1)<0.5\";\n",
    "\n",
    "loader.PrepareTrainingAndTestTree(mycuts, mycutb,\n",
    "                                  \"nTrain_Signal=8000:nTrain_Background=8000:SplitMode=Random:\"\n",
    "                                   \"NormMode=NumEvents:!V\" )"
   ]
  },
  {
   "cell_type": "markdown",
   "metadata": {},
   "source": [
    "## DNN"
   ]
  },
  {
   "cell_type": "code",
   "execution_count": 7,
   "metadata": {},
   "outputs": [
    {
     "name": "stderr",
     "output_type": "stream",
     "text": [
      "Using TensorFlow backend.\n"
     ]
    }
   ],
   "source": [
    "import os\n",
    "os.environ[\"KERAS_BACKEND\"] = \"tensorflow\"\n",
    "\n",
    "from keras.models import Sequential\n",
    "from keras.optimizers import Adam, SGD\n",
    "#from keras.initializers import TruncatedNormal\n",
    "#from keras import initializations\n",
    "from keras.layers import Input, Dense, Dropout, Flatten, Conv2D, MaxPooling2D, Reshape\n",
    "#from keras.callbacks import ReduceLROnPlateau"
   ]
  },
  {
   "cell_type": "code",
   "execution_count": 8,
   "metadata": {},
   "outputs": [
    {
     "name": "stdout",
     "output_type": "stream",
     "text": [
      "_________________________________________________________________\n",
      "Layer (type)                 Output Shape              Param #   \n",
      "=================================================================\n",
      "dense_1 (Dense)              (None, 64)                704       \n",
      "_________________________________________________________________\n",
      "dense_2 (Dense)              (None, 64)                4160      \n",
      "_________________________________________________________________\n",
      "dense_3 (Dense)              (None, 64)                4160      \n",
      "_________________________________________________________________\n",
      "dense_4 (Dense)              (None, 64)                4160      \n",
      "_________________________________________________________________\n",
      "dense_5 (Dense)              (None, 2)                 130       \n",
      "=================================================================\n",
      "Total params: 13,314\n",
      "Trainable params: 13,314\n",
      "Non-trainable params: 0\n",
      "_________________________________________________________________\n"
     ]
    }
   ],
   "source": [
    "# Define model\n",
    "model = Sequential()\n",
    "model.add(Dense(64, kernel_initializer='glorot_normal', activation='sigmoid', input_dim=10))\n",
    "#model.add(Dropout(0.2))\n",
    "model.add(Dense(64, kernel_initializer='glorot_normal', activation='relu'))\n",
    "#model.add(Dropout(0.2))\n",
    "model.add(Dense(64, kernel_initializer='glorot_normal', activation='relu'))\n",
    "model.add(Dense(64, kernel_initializer='glorot_normal', activation='relu'))\n",
    "model.add(Dense(2, kernel_initializer='glorot_uniform', activation='softmax'))\n",
    "\n",
    "# Set loss and optimizer\n",
    "model.compile(loss='categorical_crossentropy', optimizer=Adam(), metrics=['categorical_accuracy',])\n",
    "\n",
    "# Store model to file\n",
    "model.save('model_dense.h5')\n",
    "\n",
    "# Print summary of model\n",
    "model.summary()"
   ]
  },
  {
   "cell_type": "code",
   "execution_count": 9,
   "metadata": {},
   "outputs": [
    {
     "data": {
      "text/plain": [
       "<ROOT.TMVA::MethodPyKeras object (\"Keras_Dense\") at 0xacd5b30>"
      ]
     },
     "execution_count": 9,
     "metadata": {},
     "output_type": "execute_result"
    },
    {
     "name": "stdout",
     "output_type": "stream",
     "text": [
      "Factory                  : Booking method: \u001b[1mKeras_Dense\u001b[0m\n",
      "                         : \n",
      "Keras_Dense              : [dataset] : Create Transformation \"G\" with events from all classes.\n",
      "                         : \n",
      "                         : Transformation, Variable selection : \n",
      "                         : Input : variable 'm_FJpt' <---> Output : variable 'm_FJpt'\n",
      "                         : Input : variable 'm_FJm' <---> Output : variable 'm_FJm'\n",
      "                         : Input : variable 'm_DTpt' <---> Output : variable 'm_DTpt'\n",
      "                         : Input : variable 'm_DTm' <---> Output : variable 'm_DTm'\n",
      "                         : Input : variable 'm_dPhiFTwDT' <---> Output : variable 'm_dPhiFTwDT'\n",
      "                         : Input : variable 'm_dRFJwDT' <---> Output : variable 'm_dRFJwDT'\n",
      "                         : Input : variable 'm_dPhiDTwMET' <---> Output : variable 'm_dPhiDTwMET'\n",
      "                         : Input : variable 'm_MET' <---> Output : variable 'm_MET'\n",
      "                         : Input : variable 'm_hhm' <---> Output : variable 'm_hhm'\n",
      "                         : Input : variable 'm_bbttpt' <---> Output : variable 'm_bbttpt'\n",
      "                         : Load model from file: model_dense.h5\n"
     ]
    }
   ],
   "source": [
    "factory.BookMethod(loader, ROOT.TMVA.Types.kPyKeras, 'Keras_Dense',\n",
    "        'H:!V:VarTransform=G:FilenameModel=model_dense.h5:'+\\\n",
    "        'NumEpochs=10:BatchSize=16:TriesEarlyStopping=10')"
   ]
  },
  {
   "cell_type": "markdown",
   "metadata": {},
   "source": [
    "## Train Model"
   ]
  },
  {
   "cell_type": "code",
   "execution_count": 10,
   "metadata": {},
   "outputs": [
    {
     "name": "stderr",
     "output_type": "stream",
     "text": [
      "/home/andrea/anaconda3/lib/python3.5/site-packages/keras/models.py:981: UserWarning: The `nb_epoch` argument in `fit` has been renamed `epochs`.\n",
      "  warnings.warn('The `nb_epoch` argument in `fit` '\n"
     ]
    },
    {
     "name": "stdout",
     "output_type": "stream",
     "text": [
      "Train on 16000 samples, validate on 2617 samples\n",
      "Epoch 1/10\n",
      "16000/16000 [==============================] - 4s 262us/step - loss: 0.3749 - categorical_accuracy: 0.8373 - val_loss: 0.3406 - val_categorical_accuracy: 0.8586\n",
      "\n",
      "Epoch 00001: val_loss improved from inf to 0.34062, saving model to dataset/weights/TrainedModel_Keras_Dense.h5\n",
      "Epoch 2/10\n",
      "16000/16000 [==============================] - 4s 240us/step - loss: 0.3050 - categorical_accuracy: 0.8697 - val_loss: 0.3032 - val_categorical_accuracy: 0.8758\n",
      "\n",
      "Epoch 00002: val_loss improved from 0.34062 to 0.30318, saving model to dataset/weights/TrainedModel_Keras_Dense.h5\n",
      "Epoch 3/10\n",
      "16000/16000 [==============================] - 3s 204us/step - loss: 0.2856 - categorical_accuracy: 0.8783 - val_loss: 0.3088 - val_categorical_accuracy: 0.8674\n",
      "\n",
      "Epoch 00003: val_loss did not improve from 0.30318\n",
      "Epoch 4/10\n",
      "16000/16000 [==============================] - 3s 206us/step - loss: 0.2742 - categorical_accuracy: 0.8887 - val_loss: 0.3285 - val_categorical_accuracy: 0.8674\n",
      "\n",
      "Epoch 00004: val_loss did not improve from 0.30318\n",
      "Epoch 5/10\n",
      "16000/16000 [==============================] - 3s 207us/step - loss: 0.2701 - categorical_accuracy: 0.8877 - val_loss: 0.2853 - val_categorical_accuracy: 0.8808\n",
      "\n",
      "Epoch 00005: val_loss improved from 0.30318 to 0.28527, saving model to dataset/weights/TrainedModel_Keras_Dense.h5\n",
      "Epoch 6/10\n",
      "16000/16000 [==============================] - 3s 211us/step - loss: 0.2683 - categorical_accuracy: 0.8866 - val_loss: 0.2887 - val_categorical_accuracy: 0.8728\n",
      "\n",
      "Epoch 00006: val_loss did not improve from 0.28527\n",
      "Epoch 7/10\n",
      "16000/16000 [==============================] - 4s 222us/step - loss: 0.2656 - categorical_accuracy: 0.8881 - val_loss: 0.2728 - val_categorical_accuracy: 0.8827\n",
      "\n",
      "Epoch 00007: val_loss improved from 0.28527 to 0.27278, saving model to dataset/weights/TrainedModel_Keras_Dense.h5\n",
      "Epoch 8/10\n",
      "16000/16000 [==============================] - 4s 262us/step - loss: 0.2638 - categorical_accuracy: 0.8898 - val_loss: 0.2875 - val_categorical_accuracy: 0.8777\n",
      "\n",
      "Epoch 00008: val_loss did not improve from 0.27278\n",
      "Epoch 9/10\n",
      "16000/16000 [==============================] - 4s 233us/step - loss: 0.2611 - categorical_accuracy: 0.8904 - val_loss: 0.2695 - val_categorical_accuracy: 0.8854\n",
      "\n",
      "Epoch 00009: val_loss improved from 0.27278 to 0.26948, saving model to dataset/weights/TrainedModel_Keras_Dense.h5\n",
      "Epoch 10/10\n",
      "16000/16000 [==============================] - 4s 249us/step - loss: 0.2616 - categorical_accuracy: 0.8896 - val_loss: 0.2740 - val_categorical_accuracy: 0.8804\n",
      "\n",
      "Epoch 00010: val_loss did not improve from 0.26948\n",
      "Factory                  : \u001b[1mTrain all methods\u001b[0m\n",
      "DataSetFactory           : [dataset] : Number of events in input trees\n",
      "                         : \n",
      "                         : \n",
      "                         : Number of training and testing events\n",
      "                         : ---------------------------------------------------------------------------\n",
      "                         : Signal     -- training events            : 8000\n",
      "                         : Signal     -- testing events             : 1355\n",
      "                         : Signal     -- training and testing events: 9355\n",
      "                         : Background -- training events            : 8000\n",
      "                         : Background -- testing events             : 1262\n",
      "                         : Background -- training and testing events: 9262\n",
      "                         : \n",
      "DataSetInfo              : Correlation matrix (Signal):\n",
      "                         : ---------------------------------------------------------------------------------------------------------\n",
      "                         :                m_FJpt   m_FJm  m_DTpt   m_DTm m_dPhiFTwDT m_dRFJwDT m_dPhiDTwMET   m_MET   m_hhm m_bbttpt\n",
      "                         :       m_FJpt:  +1.000  +0.291  +0.273  +0.109      -0.086    -0.591       -0.003  +0.289  +0.235   +0.587\n",
      "                         :        m_FJm:  +0.291  +1.000  +0.147  +0.061      +0.040    -0.006       -0.002  +0.144  +0.349   +0.108\n",
      "                         :       m_DTpt:  +0.273  +0.147  +1.000  +0.608      +0.068    -0.251       -0.007  -0.408  +0.670   -0.349\n",
      "                         :        m_DTm:  +0.109  +0.061  +0.608  +1.000      +0.048    -0.031       +0.001  -0.297  +0.544   -0.267\n",
      "                         :  m_dPhiFTwDT:  -0.086  +0.040  +0.068  +0.048      +1.000    +0.593       +0.029  -0.054  +0.033   -0.612\n",
      "                         :    m_dRFJwDT:  -0.591  -0.006  -0.251  -0.031      +0.593    +1.000       +0.016  -0.257  +0.205   -0.600\n",
      "                         : m_dPhiDTwMET:  -0.003  -0.002  -0.007  +0.001      +0.029    +0.016       +1.000  +0.009  -0.007   -0.022\n",
      "                         :        m_MET:  +0.289  +0.144  -0.408  -0.297      -0.054    -0.257       +0.009  +1.000  -0.414   +0.480\n",
      "                         :        m_hhm:  +0.235  +0.349  +0.670  +0.544      +0.033    +0.205       -0.007  -0.414  +1.000   -0.226\n",
      "                         :     m_bbttpt:  +0.587  +0.108  -0.349  -0.267      -0.612    -0.600       -0.022  +0.480  -0.226   +1.000\n",
      "                         : ---------------------------------------------------------------------------------------------------------\n",
      "DataSetInfo              : Correlation matrix (Background):\n",
      "                         : ---------------------------------------------------------------------------------------------------------\n",
      "                         :                m_FJpt   m_FJm  m_DTpt   m_DTm m_dPhiFTwDT m_dRFJwDT m_dPhiDTwMET   m_MET   m_hhm m_bbttpt\n",
      "                         :       m_FJpt:  +1.000  +0.121  +0.439  +0.149      +0.008    -0.022       -0.009  +0.526  +0.562   +0.515\n",
      "                         :        m_FJm:  +0.121  +1.000  +0.085  +0.085      -0.022    -0.020       -0.010  +0.083  +0.107   +0.068\n",
      "                         :       m_DTpt:  +0.439  +0.085  +1.000  +0.565      +0.147    +0.103       -0.017  -0.096  +0.592   -0.130\n",
      "                         :        m_DTm:  +0.149  +0.085  +0.565  +1.000      +0.115    +0.108       -0.001  -0.116  +0.347   -0.163\n",
      "                         :  m_dPhiFTwDT:  +0.008  -0.022  +0.147  +0.115      +1.000    +0.668       -0.000  -0.020  +0.135   -0.695\n",
      "                         :    m_dRFJwDT:  -0.022  -0.020  +0.103  +0.108      +0.668    +1.000       +0.017  -0.063  +0.598   -0.486\n",
      "                         : m_dPhiDTwMET:  -0.009  -0.010  -0.017  -0.001      -0.000    +0.017       +1.000  -0.012  +0.003   -0.002\n",
      "                         :        m_MET:  +0.526  +0.083  -0.096  -0.116      -0.020    -0.063       -0.012  +1.000  +0.128   +0.465\n",
      "                         :        m_hhm:  +0.562  +0.107  +0.592  +0.347      +0.135    +0.598       +0.003  +0.128  +1.000   +0.083\n",
      "                         :     m_bbttpt:  +0.515  +0.068  -0.130  -0.163      -0.695    -0.486       -0.002  +0.465  +0.083   +1.000\n",
      "                         : ---------------------------------------------------------------------------------------------------------\n",
      "DataSetFactory           : [dataset] :  \n",
      "                         : \n",
      "Factory                  : [dataset] : Create Transformation \"I\" with events from all classes.\n",
      "                         : \n",
      "                         : Transformation, Variable selection : \n",
      "                         : Input : variable 'm_FJpt' <---> Output : variable 'm_FJpt'\n",
      "                         : Input : variable 'm_FJm' <---> Output : variable 'm_FJm'\n",
      "                         : Input : variable 'm_DTpt' <---> Output : variable 'm_DTpt'\n",
      "                         : Input : variable 'm_DTm' <---> Output : variable 'm_DTm'\n",
      "                         : Input : variable 'm_dPhiFTwDT' <---> Output : variable 'm_dPhiFTwDT'\n",
      "                         : Input : variable 'm_dRFJwDT' <---> Output : variable 'm_dRFJwDT'\n",
      "                         : Input : variable 'm_dPhiDTwMET' <---> Output : variable 'm_dPhiDTwMET'\n",
      "                         : Input : variable 'm_MET' <---> Output : variable 'm_MET'\n",
      "                         : Input : variable 'm_hhm' <---> Output : variable 'm_hhm'\n",
      "                         : Input : variable 'm_bbttpt' <---> Output : variable 'm_bbttpt'\n",
      "TFHandler_Factory        :     Variable            Mean            RMS    [        Min            Max ]\n",
      "                         : -------------------------------------------------------------------------------\n",
      "                         :       m_FJpt:        721.73        211.90   [        254.51        2069.4 ]\n",
      "                         :        m_FJm:    1.0222e+05        78912.   [     -0.015625    7.2287e+05 ]\n",
      "                         :       m_DTpt:        554.34        150.79   [        308.41        1822.9 ]\n",
      "                         :        m_DTm:    1.5281e+05        42953.   [        38735.    5.3948e+05 ]\n",
      "                         :  m_dPhiFTwDT:        2.9727       0.27018   [     0.0092845        3.1416 ]\n",
      "                         :    m_dRFJwDT:        3.1828       0.33304   [        1.0171        4.8621 ]\n",
      "                         : m_dPhiDTwMET:     0.0010954       0.31277   [       -1.1187        1.0494 ]\n",
      "                         :        m_MET:        211.02        159.97   [        10.022        1264.3 ]\n",
      "                         :        m_hhm:        1476.4        379.08   [        426.11        4598.2 ]\n",
      "                         :     m_bbttpt:        242.39        196.35   [        1.0169        2070.5 ]\n",
      "                         : -------------------------------------------------------------------------------\n",
      "                         : Ranking input variables (method unspecific)...\n",
      "IdTransformation         : Ranking result (top variable is best ranked)\n",
      "                         : -------------------------------------\n",
      "                         : Rank : Variable     : Separation\n",
      "                         : -------------------------------------\n",
      "                         :    1 : m_hhm        : 4.051e-01\n",
      "                         :    2 : m_FJpt       : 3.971e-01\n",
      "                         :    3 : m_FJm        : 3.023e-01\n",
      "                         :    4 : m_MET        : 1.976e-01\n",
      "                         :    5 : m_DTpt       : 1.524e-01\n",
      "                         :    6 : m_bbttpt     : 1.376e-01\n",
      "                         :    7 : m_dPhiDTwMET : 6.633e-02\n",
      "                         :    8 : m_dRFJwDT    : 1.366e-02\n",
      "                         :    9 : m_DTm        : 7.696e-03\n",
      "                         :   10 : m_dPhiFTwDT  : 5.153e-03\n",
      "                         : -------------------------------------\n",
      "Factory                  : Train method: Keras_Dense for Classification\n",
      "                         : \n",
      "                         : \n",
      "                         : \u001b[1m================================================================\u001b[0m\n",
      "                         : \u001b[1mH e l p   f o r   M V A   m e t h o d   [ Keras_Dense ] :\u001b[0m\n",
      "                         : \n",
      "                         : Keras is a high-level API for the Theano and Tensorflow packages.\n",
      "                         : This method wraps the training and predictions steps of the Keras\n",
      "                         : Python package for TMVA, so that dataloading, preprocessing and\n",
      "                         : evaluation can be done within the TMVA system. To use this Keras\n",
      "                         : interface, you have to generate a model with Keras first. Then,\n",
      "                         : this model can be loaded and trained in TMVA.\n",
      "                         : \n",
      "                         : \n",
      "                         : <Suppress this message by specifying \"!H\" in the booking option>\n",
      "                         : \u001b[1m================================================================\u001b[0m\n",
      "                         : \n",
      "                         : Preparing the Gaussian transformation...\n",
      "TFHandler_Keras_Dense    :     Variable            Mean            RMS    [        Min            Max ]\n",
      "                         : -------------------------------------------------------------------------------\n",
      "                         :       m_FJpt:     0.0039970       0.99941   [       -3.3182        5.7307 ]\n",
      "                         :        m_FJm:     0.0041336       0.99955   [       -3.0857        5.7307 ]\n",
      "                         :       m_DTpt:     0.0039094       0.99874   [       -3.3182        5.7307 ]\n",
      "                         :        m_DTm:     0.0031967       0.99971   [       -3.4491        5.7307 ]\n",
      "                         :  m_dPhiFTwDT:     0.0042923        1.0005   [       -3.3181        5.7307 ]\n",
      "                         :    m_dRFJwDT:     0.0042177        1.0003   [       -3.3178        5.7307 ]\n",
      "                         : m_dPhiDTwMET:     0.0040478       0.99895   [       -3.3179        5.7307 ]\n",
      "                         :        m_MET:     0.0041849        1.0002   [       -3.2613        5.7307 ]\n",
      "                         :        m_hhm:     0.0047387        1.0027   [       -3.3182        5.7307 ]\n",
      "                         :     m_bbttpt:     0.0041957        1.0001   [       -3.3182        5.7307 ]\n",
      "                         : -------------------------------------------------------------------------------\n",
      "                         : Option SaveBestOnly: Only model weights with smallest validation loss will be stored\n",
      "                         : Option TriesEarlyStopping: Training will stop after 10 number of epochs with no improvement of validation loss\n",
      "                         : Elapsed time for training with 16000 events: 38.4 sec         \n",
      "                         : Creating xml weight file: \u001b[0;36mdataset/weights/TMVA_Higgs_Classification_Keras_Dense.weights.xml\u001b[0m\n",
      "                         : Creating standalone class: \u001b[0;36mdataset/weights/TMVA_Higgs_Classification_Keras_Dense.class.C\u001b[0m\n",
      "Factory                  : Training finished\n",
      "                         : \n",
      "                         : Ranking input variables (method specific)...\n",
      "                         : No variable ranking supplied by classifier: Keras_Dense\n",
      "Factory                  : === Destroy and recreate all methods via weight files for testing ===\n",
      "                         : \n",
      "                         : Reading weight file: \u001b[0;36mdataset/weights/TMVA_Higgs_Classification_Keras_Dense.weights.xml\u001b[0m\n"
     ]
    }
   ],
   "source": [
    "factory.TrainAllMethods()"
   ]
  },
  {
   "cell_type": "markdown",
   "metadata": {},
   "source": [
    "## Test  Model\n",
    "\n",
    "Here we test all methods using the test data set"
   ]
  },
  {
   "cell_type": "code",
   "execution_count": 11,
   "metadata": {},
   "outputs": [
    {
     "name": "stdout",
     "output_type": "stream",
     "text": [
      "Factory                  : \u001b[1mTest all methods\u001b[0m\n",
      "Factory                  : Test method: Keras_Dense for Classification performance\n",
      "                         : \n",
      "                         : Load model from file: dataset/weights/TrainedModel_Keras_Dense.h5\n"
     ]
    }
   ],
   "source": [
    "factory.TestAllMethods()"
   ]
  },
  {
   "cell_type": "markdown",
   "metadata": {},
   "source": [
    "## Evaluate Model\n",
    "\n",
    "Here we evaluate all methods and compare their performances, computing efficiencies, ROC curves etc.. using both training and tetsing data sets. Several histograms are produced which can be examined with the TMVAGui or directly using the output file"
   ]
  },
  {
   "cell_type": "code",
   "execution_count": 12,
   "metadata": {},
   "outputs": [
    {
     "name": "stdout",
     "output_type": "stream",
     "text": [
      "Factory                  : \u001b[1mEvaluate all methods\u001b[0m\n",
      "Factory                  : Evaluate classifier: Keras_Dense\n",
      "                         : \n",
      "TFHandler_Keras_Dense    :     Variable            Mean            RMS    [        Min            Max ]\n",
      "                         : -------------------------------------------------------------------------------\n",
      "                         :       m_FJpt:      0.037000       0.98487   [       -3.0548        5.7307 ]\n",
      "                         :        m_FJm:     0.0068906       0.99347   [       -3.0857        3.7585 ]\n",
      "                         :       m_DTpt:      0.035097        1.0143   [       -3.1073        5.7307 ]\n",
      "                         :        m_DTm:      0.029885        1.0213   [       -3.0739        3.3749 ]\n",
      "                         :  m_dPhiFTwDT:     0.0064770        1.0064   [       -3.1209        5.7307 ]\n",
      "                         :    m_dRFJwDT:      0.016210        1.0022   [       -3.1742        3.2877 ]\n",
      "                         : m_dPhiDTwMET:     -0.025397       0.98217   [       -3.0694        3.8670 ]\n",
      "                         :        m_MET:      0.034680        1.0065   [       -3.0182        5.7307 ]\n",
      "                         :        m_hhm:      0.054248        1.0041   [       -2.9976        5.7307 ]\n",
      "                         :     m_bbttpt:      0.030650       0.98907   [       -3.0619        5.7307 ]\n",
      "                         : -------------------------------------------------------------------------------\n",
      "Keras_Dense              : [dataset] : Loop over test events and fill histograms with classifier response...\n",
      "                         : \n",
      "TFHandler_Keras_Dense    :     Variable            Mean            RMS    [        Min            Max ]\n",
      "                         : -------------------------------------------------------------------------------\n",
      "                         :       m_FJpt:      0.037000       0.98487   [       -3.0548        5.7307 ]\n",
      "                         :        m_FJm:     0.0068906       0.99347   [       -3.0857        3.7585 ]\n",
      "                         :       m_DTpt:      0.035097        1.0143   [       -3.1073        5.7307 ]\n",
      "                         :        m_DTm:      0.029885        1.0213   [       -3.0739        3.3749 ]\n",
      "                         :  m_dPhiFTwDT:     0.0064770        1.0064   [       -3.1209        5.7307 ]\n",
      "                         :    m_dRFJwDT:      0.016210        1.0022   [       -3.1742        3.2877 ]\n",
      "                         : m_dPhiDTwMET:     -0.025397       0.98217   [       -3.0694        3.8670 ]\n",
      "                         :        m_MET:      0.034680        1.0065   [       -3.0182        5.7307 ]\n",
      "                         :        m_hhm:      0.054248        1.0041   [       -2.9976        5.7307 ]\n",
      "                         :     m_bbttpt:      0.030650       0.98907   [       -3.0619        5.7307 ]\n",
      "                         : -------------------------------------------------------------------------------\n",
      "                         : \n",
      "                         : Evaluation results ranked by best signal efficiency and purity (area)\n",
      "                         : -------------------------------------------------------------------------------------------------------------------\n",
      "                         : DataSet       MVA                       \n",
      "                         : Name:         Method:          ROC-integ\n",
      "                         : dataset       Keras_Dense    : 0.955\n",
      "                         : -------------------------------------------------------------------------------------------------------------------\n",
      "                         : \n",
      "                         : Testing efficiency compared to training efficiency (overtraining check)\n",
      "                         : -------------------------------------------------------------------------------------------------------------------\n",
      "                         : DataSet              MVA              Signal efficiency: from test sample (from training sample) \n",
      "                         : Name:                Method:          @B=0.01             @B=0.10            @B=0.30   \n",
      "                         : -------------------------------------------------------------------------------------------------------------------\n",
      "                         : dataset              Keras_Dense    : 0.472 (0.525)       0.864 (0.883)      0.977 (0.980)\n",
      "                         : -------------------------------------------------------------------------------------------------------------------\n",
      "                         : \n",
      "Dataset:dataset          : Created tree 'TestTree' with 2617 events\n",
      "                         : \n",
      "Dataset:dataset          : Created tree 'TrainTree' with 16000 events\n",
      "                         : \n",
      "Factory                  : \u001b[1mThank you for using TMVA!\u001b[0m\n",
      "                         : \u001b[1mFor citation information, please visit: http://tmva.sf.net/citeTMVA.html\u001b[0m\n"
     ]
    }
   ],
   "source": [
    "factory.EvaluateAllMethods()"
   ]
  },
  {
   "cell_type": "markdown",
   "metadata": {},
   "source": [
    "## Plot ROC Curve\n",
    "We enable JavaScript visualisation for the plots"
   ]
  },
  {
   "cell_type": "code",
   "execution_count": 13,
   "metadata": {},
   "outputs": [
    {
     "data": {
      "image/png": "[encoded data removed]",
      "text/plain": [
       "<IPython.core.display.Image object>"
      ]
     },
     "metadata": {},
     "output_type": "display_data"
    }
   ],
   "source": [
    "c1 = factory.GetROCCurve(loader)\n",
    "c1.Draw()"
   ]
  },
  {
   "cell_type": "markdown",
   "metadata": {},
   "source": [
    "To do:\n",
    "* Aclarar cómo afecta el peso al modelo.\n",
    "* Clasificar los puntos de datos.\n",
    "* Aclarar cómo se va a medir la performance de los modelos."
   ]
  }
 ],
 "metadata": {
  "kernelspec": {
   "display_name": "Python 3",
   "language": "python",
   "name": "python3"
  },
  "language_info": {
   "codemirror_mode": {
    "name": "ipython",
    "version": 3
   },
   "file_extension": ".py",
   "mimetype": "text/x-python",
   "name": "python",
   "nbconvert_exporter": "python",
   "pygments_lexer": "ipython3",
   "version": "3.5.5"
  }
 },
 "nbformat": 4,
 "nbformat_minor": 2
}
