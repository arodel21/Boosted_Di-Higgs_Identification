{
 "cells": [
  {
   "cell_type": "markdown",
   "metadata": {},
   "source": [
    "# <center>TMVA Classification Using Deep Neural Networks</center>\n",
    "\n",
    "In this notebook we still classify di-Higgs new data with Deep Neural Networks meethod."
   ]
  },
  {
   "cell_type": "code",
   "execution_count": 1,
   "metadata": {},
   "outputs": [
    {
     "name": "stdout",
     "output_type": "stream",
     "text": [
      "Welcome to JupyROOT 6.14/04\n"
     ]
    }
   ],
   "source": [
    "import ROOT\n",
    "from ROOT import TMVA"
   ]
  },
  {
   "cell_type": "markdown",
   "metadata": {},
   "source": [
    "## Declare Factory and Input Data"
   ]
  },
  {
   "cell_type": "code",
   "execution_count": 2,
   "metadata": {},
   "outputs": [
    {
     "name": "stdout",
     "output_type": "stream",
     "text": [
      "******************************************************************************\n",
      "*Tree    :Nominal   : Nominal                                                *\n",
      "*Entries :    23148 : Total =         2341482 bytes  File  Size =     894529 *\n",
      "*        :          : Tree compression factor =   2.61                       *\n",
      "******************************************************************************\n",
      "*Br    0 :sample    : string                                                 *\n",
      "*Entries :    23148 : Total  Size=     325841 bytes  File Size  =      36319 *\n",
      "*Baskets :       14 : Basket Size=      32000 bytes  Compression=   8.96     *\n",
      "*............................................................................*\n",
      "*Br    1 :EventWeight : EventWeight/F                                        *\n",
      "*Entries :    23148 : Total  Size=      93425 bytes  File Size  =      18889 *\n",
      "*Baskets :        4 : Basket Size=      32000 bytes  Compression=   4.92     *\n",
      "*............................................................................*\n",
      "*Br    2 :EventNumber : EventNumber/l                                        *\n",
      "*Entries :    23148 : Total  Size=     186268 bytes  File Size  =      46894 *\n",
      "*Baskets :        7 : Basket Size=      32000 bytes  Compression=   3.96     *\n",
      "*............................................................................*\n",
      "*Br    3 :m_region  : string                                                 *\n",
      "*Entries :    23148 : Total  Size=     334430 bytes  File Size  =      69590 *\n",
      "*Baskets :       14 : Basket Size=      32000 bytes  Compression=   4.80     *\n",
      "*............................................................................*\n",
      "*Br    4 :m_FJNbtagJets : m_FJNbtagJets/I                                    *\n",
      "*Entries :    23148 : Total  Size=      93441 bytes  File Size  =       8078 *\n",
      "*Baskets :        4 : Basket Size=      32000 bytes  Compression=  11.50     *\n",
      "*............................................................................*\n",
      "*Br    5 :m_FJpt    : m_FJpt/F                                               *\n",
      "*Entries :    23148 : Total  Size=      93385 bytes  File Size  =      50923 *\n",
      "*Baskets :        4 : Basket Size=      32000 bytes  Compression=   1.82     *\n",
      "*............................................................................*\n",
      "*Br    6 :m_FJeta   : m_FJeta/F                                              *\n",
      "*Entries :    23148 : Total  Size=      93393 bytes  File Size  =      51680 *\n",
      "*Baskets :        4 : Basket Size=      32000 bytes  Compression=   1.80     *\n",
      "*............................................................................*\n",
      "*Br    7 :m_FJphi   : m_FJphi/F                                              *\n",
      "*Entries :    23148 : Total  Size=      93393 bytes  File Size  =      51972 *\n",
      "*Baskets :        4 : Basket Size=      32000 bytes  Compression=   1.79     *\n",
      "*............................................................................*\n",
      "*Br    8 :m_FJm     : m_FJm/F                                                *\n",
      "*Entries :    23148 : Total  Size=      93377 bytes  File Size  =      51076 *\n",
      "*Baskets :        4 : Basket Size=      32000 bytes  Compression=   1.82     *\n",
      "*............................................................................*\n",
      "*Br    9 :m_DTpt    : m_DTpt/F                                               *\n",
      "*Entries :    23148 : Total  Size=      93385 bytes  File Size  =      50737 *\n",
      "*Baskets :        4 : Basket Size=      32000 bytes  Compression=   1.83     *\n",
      "*............................................................................*\n",
      "*Br   10 :m_DTeta   : m_DTeta/F                                              *\n",
      "*Entries :    23148 : Total  Size=      93393 bytes  File Size  =      51799 *\n",
      "*Baskets :        4 : Basket Size=      32000 bytes  Compression=   1.79     *\n",
      "*............................................................................*\n",
      "*Br   11 :m_DTphi   : m_DTphi/F                                              *\n",
      "*Entries :    23148 : Total  Size=      93393 bytes  File Size  =      52102 *\n",
      "*Baskets :        4 : Basket Size=      32000 bytes  Compression=   1.78     *\n",
      "*............................................................................*\n",
      "*Br   12 :m_DTm     : m_DTm/F                                                *\n",
      "*Entries :    23148 : Total  Size=      93377 bytes  File Size  =      50364 *\n",
      "*Baskets :        4 : Basket Size=      32000 bytes  Compression=   1.84     *\n",
      "*............................................................................*\n",
      "*Br   13 :m_dPhiFTwDT : m_dPhiFTwDT/F                                        *\n",
      "*Entries :    23148 : Total  Size=      93425 bytes  File Size  =      49560 *\n",
      "*Baskets :        4 : Basket Size=      32000 bytes  Compression=   1.87     *\n",
      "*............................................................................*\n",
      "*Br   14 :m_dRFJwDT : m_dRFJwDT/F                                            *\n",
      "*Entries :    23148 : Total  Size=      93409 bytes  File Size  =      49352 *\n",
      "*Baskets :        4 : Basket Size=      32000 bytes  Compression=   1.88     *\n",
      "*............................................................................*\n",
      "*Br   15 :m_dPhiDTwMET : m_dPhiDTwMET/F                                      *\n",
      "*Entries :    23148 : Total  Size=      93433 bytes  File Size  =      52340 *\n",
      "*Baskets :        4 : Basket Size=      32000 bytes  Compression=   1.78     *\n",
      "*............................................................................*\n",
      "*Br   16 :m_MET     : m_MET/F                                                *\n",
      "*Entries :    23148 : Total  Size=      93377 bytes  File Size  =      50748 *\n",
      "*Baskets :        4 : Basket Size=      32000 bytes  Compression=   1.83     *\n",
      "*............................................................................*\n",
      "*Br   17 :m_hhm     : m_hhm/F                                                *\n",
      "*Entries :    23148 : Total  Size=      93377 bytes  File Size  =      48731 *\n",
      "*Baskets :        4 : Basket Size=      32000 bytes  Compression=   1.91     *\n",
      "*............................................................................*\n",
      "*Br   18 :m_bbttpt  : m_bbttpt/F                                             *\n",
      "*Entries :    23148 : Total  Size=      93401 bytes  File Size  =      50845 *\n",
      "*Baskets :        4 : Basket Size=      32000 bytes  Compression=   1.83     *\n",
      "*............................................................................*\n"
     ]
    }
   ],
   "source": [
    "ROOT.TMVA.Tools.Instance()\n",
    "## For PYMVA methods\n",
    "TMVA.PyMethodBase.PyInitialize()\n",
    "\n",
    "\n",
    "outputFile = ROOT.TFile.Open(\"Higgs_ClassificationOutput.root\", \"RECREATE\")\n",
    "\n",
    "# Factory\n",
    "factory = ROOT.TMVA.Factory(\"TMVA_Higgs_Classification\", outputFile,\n",
    "                      \"!V:ROC:!Silent:Color:!DrawProgressBar:AnalysisType=Classification\" )\n",
    "\n",
    "# Input data\n",
    "# We define now the input data file and we retrieve the ROOT TTree objects with the signal and background input events\n",
    "inputFileS1 = ROOT.TFile.Open(\"Xtohh1000.root\")\n",
    "inputFileS2 = ROOT.TFile.Open(\"Xtohh2000.root\")\n",
    "inputFileB1 = ROOT.TFile.Open(\"data.root\")\n",
    "inputFileB2 = ROOT.TFile.Open(\"stop.root\")\n",
    "inputFileB3 = ROOT.TFile.Open(\"ttbar.root\")\n",
    "inputFileB4 = ROOT.TFile.Open(\"Zee_221.root\")\n",
    "inputFileB5 = ROOT.TFile.Open(\"Ztautau_221.root\")\n",
    "inputFileB6 = ROOT.TFile.Open(\"ZZ_Pw.root\")\n",
    "\n",
    "# retrieve input trees\n",
    "signalTree1     = inputFileS1.Get(\"Nominal\")\n",
    "signalTree2     = inputFileS2.Get(\"Nominal\")\n",
    "backgroundTreeB1 = inputFileB1.Get(\"Nominal\")\n",
    "backgroundTreeB2 = inputFileB2.Get(\"Nominal\")\n",
    "backgroundTreeB3 = inputFileB3.Get(\"Nominal\")\n",
    "backgroundTreeB4 = inputFileB4.Get(\"Nominal\")\n",
    "backgroundTreeB5 = inputFileB5.Get(\"Nominal\")\n",
    "backgroundTreeB6 = inputFileB6.Get(\"Nominal\")\n",
    "\n",
    "signalTree1.Print()"
   ]
  },
  {
   "cell_type": "markdown",
   "metadata": {},
   "source": [
    "## Declare DataLoader(s)\n",
    "\n",
    "The next step is to declare the DataLoader class that deals with input data abd variables \n",
    "\n",
    "We add first the signal and background trees in the data loader and then we\n",
    "define the input variables that shall be used for the MVA training\n",
    "note that you may also use variable expressions, which can be parsed by TTree::Draw( \"expression\" )]"
   ]
  },
  {
   "cell_type": "code",
   "execution_count": 3,
   "metadata": {},
   "outputs": [
    {
     "name": "stdout",
     "output_type": "stream",
     "text": [
      "DataSetInfo              : [dataset] : Added class \"Signal\"\n",
      "                         : Add Tree Nominal of type Signal with 23148 events\n",
      "                         : Add Tree Nominal of type Signal with 56188 events\n",
      "DataSetInfo              : [dataset] : Added class \"Background\"\n",
      "                         : Add Tree Nominal of type Background with 103450 events\n",
      "                         : Add Tree Nominal of type Background with 1096 events\n",
      "                         : Add Tree Nominal of type Background with 5480 events\n",
      "                         : Add Tree Nominal of type Background with 14740 events\n",
      "                         : Add Tree Nominal of type Background with 84726 events\n",
      "                         : Add Tree Nominal of type Background with 634 events\n"
     ]
    }
   ],
   "source": [
    "loader = ROOT.TMVA.DataLoader(\"dataset\")\n",
    "\n",
    "### global event weights per tree (see below for setting event-wise weights)\n",
    "signalWeight     = 1.0\n",
    "backgroundWeight = 1.0\n",
    "   \n",
    "### You can add an arbitrary number of signal or background trees\n",
    "loader.AddSignalTree    ( signalTree1,     signalWeight     )\n",
    "loader.AddSignalTree    ( signalTree2,     signalWeight     )\n",
    "loader.AddBackgroundTree( backgroundTreeB1, backgroundWeight )\n",
    "loader.AddBackgroundTree( backgroundTreeB2, backgroundWeight )\n",
    "loader.AddBackgroundTree( backgroundTreeB3, backgroundWeight )\n",
    "loader.AddBackgroundTree( backgroundTreeB4, backgroundWeight )\n",
    "loader.AddBackgroundTree( backgroundTreeB5, backgroundWeight )\n",
    "loader.AddBackgroundTree( backgroundTreeB6, backgroundWeight )\n",
    "\n",
    "## Define input variables \n",
    "for branch in signalTree1.GetListOfBranches():\n",
    "    loader.AddVariable(branch.GetName())"
   ]
  },
  {
   "cell_type": "markdown",
   "metadata": {},
   "source": [
    "## Setup Dataset(s)\n",
    "\n",
    "Setup the DataLoader by splitting events in training and test samples. \n",
    "Here we use a random split and a fixed number of training and test events."
   ]
  },
  {
   "cell_type": "code",
   "execution_count": 4,
   "metadata": {},
   "outputs": [],
   "source": [
    "## Apply additional cuts on the signal and background samples (can be different)\n",
    "mycuts = ROOT.TCut(\"\")   ## for example: TCut mycuts = \"abs(var1)<0.5 && abs(var2-0.5)<1\";\n",
    "mycutb = ROOT.TCut(\"\")   ## for example: TCut mycutb = \"abs(var1)<0.5\";\n",
    "\n",
    "loader.PrepareTrainingAndTestTree(mycuts, mycutb,\n",
    "                                  \"nTrain_Signal=70000:nTrain_Background=70000:SplitMode=Random:\"\n",
    "                                   \"NormMode=NumEvents:!V\" )"
   ]
  },
  {
   "cell_type": "markdown",
   "metadata": {},
   "source": [
    "## DNN"
   ]
  },
  {
   "cell_type": "code",
   "execution_count": 5,
   "metadata": {},
   "outputs": [
    {
     "name": "stderr",
     "output_type": "stream",
     "text": [
      "Using TensorFlow backend.\n"
     ]
    }
   ],
   "source": [
    "import os\n",
    "os.environ[\"KERAS_BACKEND\"] = \"tensorflow\"\n",
    "\n",
    "from keras.models import Sequential\n",
    "from keras.optimizers import Adam, SGD\n",
    "#from keras.initializers import TruncatedNormal\n",
    "#from keras import initializations\n",
    "from keras.layers import Input, Dense, Dropout, Flatten, Conv2D, MaxPooling2D, Reshape\n",
    "#from keras.callbacks import ReduceLROnPlateau"
   ]
  },
  {
   "cell_type": "code",
   "execution_count": 6,
   "metadata": {},
   "outputs": [
    {
     "name": "stdout",
     "output_type": "stream",
     "text": [
      "_________________________________________________________________\n",
      "Layer (type)                 Output Shape              Param #   \n",
      "=================================================================\n",
      "dense_1 (Dense)              (None, 64)                1280      \n",
      "_________________________________________________________________\n",
      "dense_2 (Dense)              (None, 64)                4160      \n",
      "_________________________________________________________________\n",
      "dense_3 (Dense)              (None, 64)                4160      \n",
      "_________________________________________________________________\n",
      "dense_4 (Dense)              (None, 64)                4160      \n",
      "_________________________________________________________________\n",
      "dense_5 (Dense)              (None, 2)                 130       \n",
      "=================================================================\n",
      "Total params: 13,890\n",
      "Trainable params: 13,890\n",
      "Non-trainable params: 0\n",
      "_________________________________________________________________\n"
     ]
    }
   ],
   "source": [
    "# Define model\n",
    "model = Sequential()\n",
    "model.add(Dense(64, kernel_initializer='glorot_normal', activation='sigmoid', input_dim=19))\n",
    "#model.add(Dropout(0.2))\n",
    "model.add(Dense(64, kernel_initializer='glorot_normal', activation='relu'))\n",
    "#model.add(Dropout(0.2))\n",
    "model.add(Dense(64, kernel_initializer='glorot_normal', activation='relu'))\n",
    "model.add(Dense(64, kernel_initializer='glorot_normal', activation='relu'))\n",
    "model.add(Dense(2, kernel_initializer='glorot_uniform', activation='softmax'))\n",
    "\n",
    "# Set loss and optimizer\n",
    "model.compile(loss='categorical_crossentropy', optimizer=Adam(), metrics=['categorical_accuracy',])\n",
    "\n",
    "# Store model to file\n",
    "model.save('model_dense.h5')\n",
    "\n",
    "# Print summary of model\n",
    "model.summary()"
   ]
  },
  {
   "cell_type": "code",
   "execution_count": 7,
   "metadata": {},
   "outputs": [
    {
     "data": {
      "text/plain": [
       "<ROOT.TMVA::MethodPyKeras object (\"Keras_Dense\") at 0x9711670>"
      ]
     },
     "execution_count": 7,
     "metadata": {},
     "output_type": "execute_result"
    },
    {
     "name": "stdout",
     "output_type": "stream",
     "text": [
      "Factory                  : Booking method: \u001b[1mKeras_Dense\u001b[0m\n",
      "                         : \n",
      "Keras_Dense              : [dataset] : Create Transformation \"G\" with events from all classes.\n",
      "                         : \n",
      "                         : Transformation, Variable selection : \n",
      "                         : Input : variable 'sample' <---> Output : variable 'sample'\n",
      "                         : Input : variable 'EventWeight' <---> Output : variable 'EventWeight'\n",
      "                         : Input : variable 'EventNumber' <---> Output : variable 'EventNumber'\n",
      "                         : Input : variable 'm_region' <---> Output : variable 'm_region'\n",
      "                         : Input : variable 'm_FJNbtagJets' <---> Output : variable 'm_FJNbtagJets'\n",
      "                         : Input : variable 'm_FJpt' <---> Output : variable 'm_FJpt'\n",
      "                         : Input : variable 'm_FJeta' <---> Output : variable 'm_FJeta'\n",
      "                         : Input : variable 'm_FJphi' <---> Output : variable 'm_FJphi'\n",
      "                         : Input : variable 'm_FJm' <---> Output : variable 'm_FJm'\n",
      "                         : Input : variable 'm_DTpt' <---> Output : variable 'm_DTpt'\n",
      "                         : Input : variable 'm_DTeta' <---> Output : variable 'm_DTeta'\n",
      "                         : Input : variable 'm_DTphi' <---> Output : variable 'm_DTphi'\n",
      "                         : Input : variable 'm_DTm' <---> Output : variable 'm_DTm'\n",
      "                         : Input : variable 'm_dPhiFTwDT' <---> Output : variable 'm_dPhiFTwDT'\n",
      "                         : Input : variable 'm_dRFJwDT' <---> Output : variable 'm_dRFJwDT'\n",
      "                         : Input : variable 'm_dPhiDTwMET' <---> Output : variable 'm_dPhiDTwMET'\n",
      "                         : Input : variable 'm_MET' <---> Output : variable 'm_MET'\n",
      "                         : Input : variable 'm_hhm' <---> Output : variable 'm_hhm'\n",
      "                         : Input : variable 'm_bbttpt' <---> Output : variable 'm_bbttpt'\n",
      "                         : Load model from file: model_dense.h5\n"
     ]
    }
   ],
   "source": [
    "factory.BookMethod(loader, ROOT.TMVA.Types.kPyKeras, 'Keras_Dense',\n",
    "        'H:!V:VarTransform=G:FilenameModel=model_dense.h5:'+\\\n",
    "        'NumEpochs=10:BatchSize=16:TriesEarlyStopping=10')"
   ]
  },
  {
   "cell_type": "markdown",
   "metadata": {},
   "source": [
    "## Train Methods"
   ]
  },
  {
   "cell_type": "code",
   "execution_count": 8,
   "metadata": {},
   "outputs": [
    {
     "name": "stderr",
     "output_type": "stream",
     "text": [
      "/home/andrea/anaconda3/lib/python3.5/site-packages/keras/models.py:981: UserWarning: The `nb_epoch` argument in `fit` has been renamed `epochs`.\n",
      "  warnings.warn('The `nb_epoch` argument in `fit` '\n"
     ]
    },
    {
     "name": "stdout",
     "output_type": "stream",
     "text": [
      "Train on 140000 samples, validate on 149462 samples\n",
      "Epoch 1/10\n",
      "140000/140000 [==============================] - 37s 263us/step - loss: 0.0156 - categorical_accuracy: 0.9947 - val_loss: 0.0016 - val_categorical_accuracy: 0.9996\n",
      "\n",
      "Epoch 00001: val_loss improved from inf to 0.00163, saving model to dataset/weights/TrainedModel_Keras_Dense.h5\n",
      "Epoch 2/10\n",
      "140000/140000 [==============================] - 37s 262us/step - loss: 0.0021 - categorical_accuracy: 0.9994 - val_loss: 6.9287e-04 - val_categorical_accuracy: 0.9998\n",
      "\n",
      "Epoch 00002: val_loss improved from 0.00163 to 0.00069, saving model to dataset/weights/TrainedModel_Keras_Dense.h5\n",
      "Epoch 3/10\n",
      "140000/140000 [==============================] - 38s 271us/step - loss: 0.0012 - categorical_accuracy: 0.9998 - val_loss: 5.9371e-04 - val_categorical_accuracy: 0.9998\n",
      "\n",
      "Epoch 00003: val_loss improved from 0.00069 to 0.00059, saving model to dataset/weights/TrainedModel_Keras_Dense.h5\n",
      "Epoch 4/10\n",
      "140000/140000 [==============================] - 40s 284us/step - loss: 0.0012 - categorical_accuracy: 0.9997 - val_loss: 2.3389e-04 - val_categorical_accuracy: 0.9999\n",
      "\n",
      "Epoch 00004: val_loss improved from 0.00059 to 0.00023, saving model to dataset/weights/TrainedModel_Keras_Dense.h5\n",
      "Epoch 5/10\n",
      "140000/140000 [==============================] - 40s 289us/step - loss: 7.0923e-04 - categorical_accuracy: 0.9999 - val_loss: 6.1388e-04 - val_categorical_accuracy: 0.9998\n",
      "\n",
      "Epoch 00005: val_loss did not improve from 0.00023\n",
      "Epoch 6/10\n",
      "140000/140000 [==============================] - 38s 274us/step - loss: 7.1858e-04 - categorical_accuracy: 0.9999 - val_loss: 5.2958e-04 - val_categorical_accuracy: 0.9999\n",
      "\n",
      "Epoch 00006: val_loss did not improve from 0.00023\n",
      "Epoch 7/10\n",
      "140000/140000 [==============================] - 36s 255us/step - loss: 6.8927e-04 - categorical_accuracy: 0.9998 - val_loss: 6.2874e-04 - val_categorical_accuracy: 0.9999\n",
      "\n",
      "Epoch 00007: val_loss did not improve from 0.00023\n",
      "Epoch 8/10\n",
      "140000/140000 [==============================] - 37s 263us/step - loss: 5.2570e-04 - categorical_accuracy: 0.9999 - val_loss: 0.0011 - val_categorical_accuracy: 0.9998\n",
      "\n",
      "Epoch 00008: val_loss did not improve from 0.00023\n",
      "Epoch 9/10\n",
      "140000/140000 [==============================] - 36s 256us/step - loss: 4.8276e-04 - categorical_accuracy: 0.9999 - val_loss: 6.4031e-04 - val_categorical_accuracy: 0.9999\n",
      "\n",
      "Epoch 00009: val_loss did not improve from 0.00023\n",
      "Epoch 10/10\n",
      "140000/140000 [==============================] - 36s 257us/step - loss: 6.5118e-04 - categorical_accuracy: 0.9999 - val_loss: 5.7634e-04 - val_categorical_accuracy: 0.9999\n",
      "\n",
      "Epoch 00010: val_loss did not improve from 0.00023\n",
      "Factory                  : \u001b[1mTrain all methods\u001b[0m\n",
      "DataSetFactory           : [dataset] : Number of events in input trees\n",
      "                         : \n",
      "                         : \n",
      "                         : Number of training and testing events\n",
      "                         : ---------------------------------------------------------------------------\n",
      "                         : Signal     -- training events            : 70000\n",
      "                         : Signal     -- testing events             : 9336\n",
      "                         : Signal     -- training and testing events: 79336\n",
      "                         : Background -- training events            : 70000\n",
      "                         : Background -- testing events             : 140126\n",
      "                         : Background -- training and testing events: 210126\n",
      "                         : \n",
      "DataSetInfo              : Correlation matrix (Signal):\n",
      "                         : -------------------------------------------------------------------------------------------------------------------------------------------------------------------------------------------------\n",
      "                         :                 sample EventWeight EventNumber m_region m_FJNbtagJets  m_FJpt m_FJeta m_FJphi   m_FJm  m_DTpt m_DTeta m_DTphi   m_DTm m_dPhiFTwDT m_dRFJwDT m_dPhiDTwMET   m_MET   m_hhm m_bbttpt\n",
      "                         :        sample:  +1.000      +0.491      -0.493   +1.000        +0.151  +0.613  -0.004  -0.005  +0.003  +0.422  -0.002  +0.006  +0.012      +0.223    +0.345       +0.006  +0.353  +0.711   +0.162\n",
      "                         :   EventWeight:  +0.491      +1.000      -0.183   +0.491        +0.078  +0.294  -0.006  -0.002  -0.007  +0.193  -0.002  +0.001  -0.045      +0.110    +0.172       +0.004  +0.169  +0.338   +0.082\n",
      "                         :   EventNumber:  -0.493      -0.183      +1.000   -0.493        -0.075  -0.308  +0.007  +0.003  -0.005  -0.161  +0.005  -0.004  +0.214      -0.109    -0.165       -0.006  -0.177  -0.321   -0.092\n",
      "                         :      m_region:  +1.000      +0.491      -0.493   +1.000        +0.151  +0.613  -0.004  -0.005  +0.003  +0.422  -0.002  +0.006  +0.012      +0.223    +0.345       +0.006  +0.353  +0.711   +0.162\n",
      "                         : m_FJNbtagJets:  +0.151      +0.078      -0.075   +0.151        +1.000  +0.039  +0.001  -0.004  +0.079  -0.016  -0.001  +0.001  -0.014      +0.093    +0.066       +0.001  +0.006  +0.012   -0.061\n",
      "                         :        m_FJpt:  +0.613      +0.294      -0.308   +0.613        +0.039  +1.000  -0.005  -0.005  +0.216  +0.399  -0.004  -0.005  +0.042      +0.073    -0.078       +0.005  +0.461  +0.650   +0.482\n",
      "                         :       m_FJeta:  -0.004      -0.006      +0.007   -0.004        +0.001  -0.005  +1.000  +0.008  -0.000  +0.005  +0.089  +0.001  +0.008      -0.003    -0.007       +0.004  -0.006  -0.008   -0.005\n",
      "                         :       m_FJphi:  -0.005      -0.002      +0.003   -0.005        -0.004  -0.005  +0.008  +1.000  -0.000  -0.014  -0.003  -0.480  -0.019      +0.003    -0.001       +0.000  +0.011  -0.015   -0.001\n",
      "                         :         m_FJm:  +0.003      -0.007      -0.005   +0.003        +0.079  +0.216  -0.000  -0.000  +1.000  +0.079  +0.001  -0.010  +0.026      +0.073    +0.036       -0.002  +0.105  +0.196   +0.045\n",
      "                         :        m_DTpt:  +0.422      +0.193      -0.161   +0.422        -0.016  +0.399  +0.005  -0.014  +0.079  +1.000  +0.005  +0.007  +0.559      +0.116    -0.010       -0.008  -0.149  +0.690   -0.109\n",
      "                         :       m_DTeta:  -0.002      -0.002      +0.005   -0.002        -0.001  -0.004  +0.089  -0.003  +0.001  +0.005  +1.000  +0.016  +0.010      -0.008    -0.006       +0.001  -0.004  +0.000   +0.002\n",
      "                         :       m_DTphi:  +0.006      +0.001      -0.004   +0.006        +0.001  -0.005  +0.001  -0.480  -0.010  +0.007  +0.016  +1.000  +0.009      -0.003    +0.001       +0.002  -0.005  +0.004   -0.002\n",
      "                         :         m_DTm:  +0.012      -0.045      +0.214   +0.012        -0.014  +0.042  +0.008  -0.019  +0.026  +0.559  +0.010  +0.009  +1.000      +0.039    -0.016       -0.014  -0.256  +0.321   -0.180\n",
      "                         :   m_dPhiFTwDT:  +0.223      +0.110      -0.109   +0.223        +0.093  +0.073  -0.003  +0.003  +0.073  +0.116  -0.008  -0.003  +0.039      +1.000    +0.740       +0.008  +0.016  +0.186   -0.622\n",
      "                         :     m_dRFJwDT:  +0.345      +0.172      -0.165   +0.345        +0.066  -0.078  -0.007  -0.001  +0.036  -0.010  -0.006  +0.001  -0.016      +0.740    +1.000       +0.009  -0.052  +0.402   -0.532\n",
      "                         :  m_dPhiDTwMET:  +0.006      +0.004      -0.006   +0.006        +0.001  +0.005  +0.004  +0.000  -0.002  -0.008  +0.001  +0.002  -0.014      +0.008    +0.009       +1.000  -0.000  +0.003   -0.010\n",
      "                         :         m_MET:  +0.353      +0.169      -0.177   +0.353        +0.006  +0.461  -0.006  +0.011  +0.105  -0.149  -0.004  -0.005  -0.256      +0.016    -0.052       -0.000  +1.000  +0.091   +0.470\n",
      "                         :         m_hhm:  +0.711      +0.338      -0.321   +0.711        +0.012  +0.650  -0.008  -0.015  +0.196  +0.690  +0.000  +0.004  +0.321      +0.186    +0.402       +0.003  +0.091  +1.000   +0.054\n",
      "                         :      m_bbttpt:  +0.162      +0.082      -0.092   +0.162        -0.061  +0.482  -0.005  -0.001  +0.045  -0.109  +0.002  -0.002  -0.180      -0.622    -0.532       -0.010  +0.470  +0.054   +1.000\n",
      "                         : -------------------------------------------------------------------------------------------------------------------------------------------------------------------------------------------------\n",
      "DataSetInfo              : Correlation matrix (Background):\n",
      "                         : -------------------------------------------------------------------------------------------------------------------------------------------------------------------------------------------------\n",
      "                         :                 sample EventWeight EventNumber m_region m_FJNbtagJets  m_FJpt m_FJeta m_FJphi   m_FJm  m_DTpt m_DTeta m_DTphi   m_DTm m_dPhiFTwDT m_dRFJwDT m_dPhiDTwMET   m_MET   m_hhm m_bbttpt\n",
      "                         :        sample:  +1.000      +0.051      +0.636   -0.857        +0.049  -0.338  -0.000  -0.005  +0.052  +0.160  +0.004  -0.010  +0.192      -0.034    +0.125       -0.002  -0.507  +0.051   -0.149\n",
      "                         :   EventWeight:  +0.051      +1.000      +0.041   -0.041        +0.003  -0.003  +0.002  +0.001  +0.009  -0.016  -0.002  +0.003  -0.029      -0.006    -0.005       +0.000  +0.019  -0.008   +0.010\n",
      "                         :   EventNumber:  +0.636      +0.041      +1.000   -0.550        +0.005  -0.241  +0.005  -0.001  +0.007  +0.008  +0.001  -0.012  -0.007      -0.019    +0.100       -0.001  -0.355  +0.000   -0.120\n",
      "                         :      m_region:  -0.857      -0.041      -0.550   +1.000        +0.006  +0.288  -0.001  +0.006  +0.003  -0.225  -0.003  +0.007  -0.175      +0.020    -0.120       +0.005  +0.496  -0.083   +0.145\n",
      "                         : m_FJNbtagJets:  +0.049      +0.003      +0.005   +0.006        +1.000  +0.003  +0.002  -0.001  +0.093  +0.028  -0.005  +0.002  +0.036      -0.055    -0.034       +0.009  +0.015  +0.008   +0.057\n",
      "                         :        m_FJpt:  -0.338      -0.003      -0.241   +0.288        +0.003  +1.000  -0.001  +0.004  +0.131  +0.359  -0.004  -0.001  +0.063      +0.015    -0.066       -0.000  +0.468  +0.490   +0.332\n",
      "                         :       m_FJeta:  -0.000      +0.002      +0.005   -0.001        +0.002  -0.001  +1.000  +0.005  +0.003  -0.005  +0.195  -0.002  -0.003      +0.010    +0.003       -0.001  +0.002  -0.003   -0.008\n",
      "                         :       m_FJphi:  -0.005      +0.001      -0.001   +0.006        -0.001  +0.004  +0.005  +1.000  -0.005  -0.009  +0.007  -0.493  -0.012      -0.002    +0.004       +0.006  +0.010  +0.002   +0.003\n",
      "                         :         m_FJm:  +0.052      +0.009      +0.007   +0.003        +0.093  +0.131  +0.003  -0.005  +1.000  +0.110  +0.008  +0.008  +0.062      -0.034    -0.010       -0.005  +0.051  +0.137   +0.081\n",
      "                         :        m_DTpt:  +0.160      -0.016      +0.008   -0.225        +0.028  +0.359  -0.005  -0.009  +0.110  +1.000  +0.002  +0.005  +0.548      +0.109    +0.052       -0.000  -0.132  +0.531   -0.064\n",
      "                         :       m_DTeta:  +0.004      -0.002      +0.001   -0.003        -0.005  -0.004  +0.195  +0.007  +0.008  +0.002  +1.000  -0.003  +0.001      -0.005    -0.007       -0.001  +0.003  -0.006   +0.008\n",
      "                         :       m_DTphi:  -0.010      +0.003      -0.012   +0.007        +0.002  -0.001  -0.002  -0.493  +0.008  +0.005  -0.003  +1.000  +0.007      -0.003    -0.003       -0.003  -0.004  +0.001   +0.001\n",
      "                         :         m_DTm:  +0.192      -0.029      -0.007   -0.175        +0.036  +0.063  -0.003  -0.012  +0.062  +0.548  +0.001  +0.007  +1.000      +0.049    +0.046       +0.006  -0.166  +0.282   -0.084\n",
      "                         :   m_dPhiFTwDT:  -0.034      -0.006      -0.019   +0.020        -0.055  +0.015  +0.010  -0.002  -0.034  +0.109  -0.005  -0.003  +0.049      +1.000    +0.547       +0.002  +0.020  +0.069   -0.733\n",
      "                         :     m_dRFJwDT:  +0.125      -0.005      +0.100   -0.120        -0.034  -0.066  +0.003  +0.004  -0.010  +0.052  -0.007  -0.003  +0.046      +0.547    +1.000       +0.004  -0.086  +0.641   -0.434\n",
      "                         :  m_dPhiDTwMET:  -0.002      +0.000      -0.001   +0.005        +0.009  -0.000  -0.001  +0.006  -0.005  -0.000  -0.001  -0.003  +0.006      +0.002    +0.004       +1.000  +0.003  +0.002   +0.003\n",
      "                         :         m_MET:  -0.507      +0.019      -0.355   +0.496        +0.015  +0.468  +0.002  +0.010  +0.051  -0.132  +0.003  -0.004  -0.166      +0.020    -0.086       +0.003  +1.000  +0.042   +0.373\n",
      "                         :         m_hhm:  +0.051      -0.008      +0.000   -0.083        +0.008  +0.490  -0.003  +0.002  +0.137  +0.531  -0.006  +0.001  +0.282      +0.069    +0.641       +0.002  +0.042  +1.000   +0.046\n",
      "                         :      m_bbttpt:  -0.149      +0.010      -0.120   +0.145        +0.057  +0.332  -0.008  +0.003  +0.081  -0.064  +0.008  +0.001  -0.084      -0.733    -0.434       +0.003  +0.373  +0.046   +1.000\n",
      "                         : -------------------------------------------------------------------------------------------------------------------------------------------------------------------------------------------------\n",
      "DataSetFactory           : [dataset] :  \n",
      "                         : \n",
      "Factory                  : [dataset] : Create Transformation \"I\" with events from all classes.\n",
      "                         : \n",
      "                         : Transformation, Variable selection : \n",
      "                         : Input : variable 'sample' <---> Output : variable 'sample'\n",
      "                         : Input : variable 'EventWeight' <---> Output : variable 'EventWeight'\n",
      "                         : Input : variable 'EventNumber' <---> Output : variable 'EventNumber'\n",
      "                         : Input : variable 'm_region' <---> Output : variable 'm_region'\n",
      "                         : Input : variable 'm_FJNbtagJets' <---> Output : variable 'm_FJNbtagJets'\n",
      "                         : Input : variable 'm_FJpt' <---> Output : variable 'm_FJpt'\n",
      "                         : Input : variable 'm_FJeta' <---> Output : variable 'm_FJeta'\n",
      "                         : Input : variable 'm_FJphi' <---> Output : variable 'm_FJphi'\n",
      "                         : Input : variable 'm_FJm' <---> Output : variable 'm_FJm'\n",
      "                         : Input : variable 'm_DTpt' <---> Output : variable 'm_DTpt'\n",
      "                         : Input : variable 'm_DTeta' <---> Output : variable 'm_DTeta'\n",
      "                         : Input : variable 'm_DTphi' <---> Output : variable 'm_DTphi'\n",
      "                         : Input : variable 'm_DTm' <---> Output : variable 'm_DTm'\n",
      "                         : Input : variable 'm_dPhiFTwDT' <---> Output : variable 'm_dPhiFTwDT'\n",
      "                         : Input : variable 'm_dRFJwDT' <---> Output : variable 'm_dRFJwDT'\n",
      "                         : Input : variable 'm_dPhiDTwMET' <---> Output : variable 'm_dPhiDTwMET'\n",
      "                         : Input : variable 'm_MET' <---> Output : variable 'm_MET'\n",
      "                         : Input : variable 'm_hhm' <---> Output : variable 'm_hhm'\n",
      "                         : Input : variable 'm_bbttpt' <---> Output : variable 'm_bbttpt'\n",
      "TFHandler_Factory        :      Variable             Mean             RMS     [        Min             Max ]\n",
      "                         : ------------------------------------------------------------------------------------\n",
      "                         :        sample:     1.6051e+08     5.1189e+05   [     1.5928e+08     1.6084e+08 ]\n",
      "                         :   EventWeight:      0.0086400       0.065839   [       -0.74930         1.0000 ]\n",
      "                         :   EventNumber:     4.2043e+08     9.2639e+08   [         11.000     7.0113e+09 ]\n",
      "                         :      m_region:     1.6177e+08     1.2681e+06   [     1.6079e+08     1.6470e+08 ]\n",
      "                         : m_FJNbtagJets:        0.73938        0.81011   [         0.0000         2.0000 ]\n",
      "                         :        m_FJpt:         633.25         209.39   [         250.02         2389.9 ]\n",
      "                         :       m_FJeta:      0.0045684        0.88205   [        -2.0000         1.9995 ]\n",
      "                         :       m_FJphi:      0.0075909         1.8126   [        -3.1415         3.1416 ]\n",
      "                         :         m_FJm:         93166.         71258.   [      -0.015625     9.1402e+05 ]\n",
      "                         :        m_DTpt:         550.33         149.54   [         304.39         2211.2 ]\n",
      "                         :       m_DTeta:      0.0022460        0.84409   [        -2.3484         2.2419 ]\n",
      "                         :       m_DTphi:      0.0012537         1.8119   [        -3.1415         3.1415 ]\n",
      "                         :         m_DTm:     1.5555e+05         41723.   [         38735.     5.9110e+05 ]\n",
      "                         :   m_dPhiFTwDT:         2.9587        0.26171   [      0.0064614         3.1416 ]\n",
      "                         :     m_dRFJwDT:         3.1574        0.33875   [         1.0377         4.9980 ]\n",
      "                         :  m_dPhiDTwMET:    -0.00085662         1.4018   [        -3.1415         3.1415 ]\n",
      "                         :         m_MET:         155.62         145.18   [         10.002         7348.4 ]\n",
      "                         :         m_hhm:         1371.7         385.22   [         443.58         5788.4 ]\n",
      "                         :      m_bbttpt:         210.65         176.98   [       0.053798         2556.7 ]\n",
      "                         : ------------------------------------------------------------------------------------\n",
      "                         : Ranking input variables (method unspecific)...\n",
      "IdTransformation         : Ranking result (top variable is best ranked)\n",
      "                         : --------------------------------------\n",
      "                         : Rank : Variable      : Separation\n",
      "                         : --------------------------------------\n",
      "                         :    1 : m_region      : 8.776e-01\n",
      "                         :    2 : m_FJNbtagJets : 5.360e-01\n",
      "                         :    3 : sample        : 4.811e-01\n",
      "                         :    4 : m_FJm         : 3.243e-01\n",
      "                         :    5 : EventNumber   : 3.151e-01\n",
      "                         :    6 : m_FJpt        : 2.307e-01\n",
      "                         :    7 : m_MET         : 1.931e-01\n",
      "                         :    8 : m_hhm         : 1.891e-01\n",
      "                         :    9 : EventWeight   : 1.221e-01\n",
      "                         :   10 : m_bbttpt      : 1.110e-01\n",
      "                         :   11 : m_DTpt        : 9.008e-02\n",
      "                         :   12 : m_dPhiDTwMET  : 7.646e-02\n",
      "                         :   13 : m_DTeta       : 5.201e-02\n",
      "                         :   14 : m_dRFJwDT     : 2.379e-02\n",
      "                         :   15 : m_FJeta       : 2.033e-02\n",
      "                         :   16 : m_DTm         : 1.111e-02\n",
      "                         :   17 : m_dPhiFTwDT   : 8.496e-03\n",
      "                         :   18 : m_DTphi       : 7.033e-04\n",
      "                         :   19 : m_FJphi       : 5.170e-04\n",
      "                         : --------------------------------------\n",
      "Factory                  : Train method: Keras_Dense for Classification\n",
      "                         : \n",
      "                         : \n",
      "                         : \u001b[1m================================================================\u001b[0m\n",
      "                         : \u001b[1mH e l p   f o r   M V A   m e t h o d   [ Keras_Dense ] :\u001b[0m\n",
      "                         : \n",
      "                         : Keras is a high-level API for the Theano and Tensorflow packages.\n",
      "                         : This method wraps the training and predictions steps of the Keras\n",
      "                         : Python package for TMVA, so that dataloading, preprocessing and\n",
      "                         : evaluation can be done within the TMVA system. To use this Keras\n",
      "                         : interface, you have to generate a model with Keras first. Then,\n",
      "                         : this model can be loaded and trained in TMVA.\n",
      "                         : \n",
      "                         : \n",
      "                         : <Suppress this message by specifying \"!H\" in the booking option>\n",
      "                         : \u001b[1m================================================================\u001b[0m\n",
      "                         : \n",
      "                         : Preparing the Gaussian transformation...\n",
      "TFHandler_Keras_Dense    :      Variable             Mean             RMS     [        Min             Max ]\n",
      "                         : ------------------------------------------------------------------------------------\n",
      "                         :        sample:         1.8768         2.1377   [       -0.34702         5.4200 ]\n",
      "                         :   EventWeight:        0.27344         1.0246   [        -3.2314         5.7307 ]\n",
      "                         :   EventNumber:        0.40952        0.58193   [      0.0043076         5.7307 ]\n",
      "                         :      m_region:        0.77558         1.2500   [       -0.97916         5.7307 ]\n",
      "                         : m_FJNbtagJets:         1.0841         2.5863   [       -0.67441         5.7307 ]\n",
      "                         :        m_FJpt:      0.0033898        0.99763   [        -3.3019         5.7307 ]\n",
      "                         :       m_FJeta:      0.0039092        0.99979   [        -3.2995         5.7307 ]\n",
      "                         :       m_FJphi:      0.0038555         1.0001   [        -3.3053         5.7307 ]\n",
      "                         :         m_FJm:      0.0031525        0.99736   [        -3.1152         5.7307 ]\n",
      "                         :        m_DTpt:      0.0033703        0.99709   [        -3.2947         5.7307 ]\n",
      "                         :       m_DTeta:      0.0034251        0.99726   [        -3.3018         5.7307 ]\n",
      "                         :       m_DTphi:      0.0037399        0.99969   [        -3.3044         5.7307 ]\n",
      "                         :         m_DTm:      0.0033608        0.99757   [        -3.3136         5.7307 ]\n",
      "                         :   m_dPhiFTwDT:      0.0035037        0.99783   [        -3.2977         5.7307 ]\n",
      "                         :     m_dRFJwDT:      0.0034621        0.99758   [        -3.3018         5.7307 ]\n",
      "                         :  m_dPhiDTwMET:      0.0039552         1.0001   [        -3.2836         5.7307 ]\n",
      "                         :         m_MET:      0.0032023        0.99684   [        -3.2060         5.7307 ]\n",
      "                         :         m_hhm:      0.0033217        0.99751   [        -3.3061         5.7307 ]\n",
      "                         :      m_bbttpt:      0.0033946        0.99756   [        -3.2978         5.7307 ]\n",
      "                         : ------------------------------------------------------------------------------------\n",
      "                         : Option SaveBestOnly: Only model weights with smallest validation loss will be stored\n",
      "                         : Option TriesEarlyStopping: Training will stop after 10 number of epochs with no improvement of validation loss\n",
      "                         : Elapsed time for training with 140000 events: 378 sec         \n",
      "                         : Creating xml weight file: \u001b[0;36mdataset/weights/TMVA_Higgs_Classification_Keras_Dense.weights.xml\u001b[0m\n",
      "                         : Creating standalone class: \u001b[0;36mdataset/weights/TMVA_Higgs_Classification_Keras_Dense.class.C\u001b[0m\n",
      "Factory                  : Training finished\n",
      "                         : \n",
      "                         : Ranking input variables (method specific)...\n",
      "                         : No variable ranking supplied by classifier: Keras_Dense\n",
      "Factory                  : === Destroy and recreate all methods via weight files for testing ===\n",
      "                         : \n",
      "                         : Reading weight file: \u001b[0;36mdataset/weights/TMVA_Higgs_Classification_Keras_Dense.weights.xml\u001b[0m\n"
     ]
    }
   ],
   "source": [
    "factory.TrainAllMethods()"
   ]
  },
  {
   "cell_type": "markdown",
   "metadata": {},
   "source": [
    "## Test  all methods\n",
    "\n",
    "Here we test all methods using the test data set"
   ]
  },
  {
   "cell_type": "code",
   "execution_count": 9,
   "metadata": {},
   "outputs": [
    {
     "name": "stdout",
     "output_type": "stream",
     "text": [
      "Factory                  : \u001b[1mTest all methods\u001b[0m\n",
      "Factory                  : Test method: Keras_Dense for Classification performance\n",
      "                         : \n",
      "                         : Load model from file: dataset/weights/TrainedModel_Keras_Dense.h5\n"
     ]
    }
   ],
   "source": [
    "factory.TestAllMethods()"
   ]
  },
  {
   "cell_type": "markdown",
   "metadata": {},
   "source": [
    "## Evaluate all methods\n",
    "\n",
    "Here we evaluate all methods and compare their performances, computing efficiencies, ROC curves etc.. using both training and tetsing data sets. Several histograms are produced which can be examined with the TMVAGui or directly using the output file"
   ]
  },
  {
   "cell_type": "code",
   "execution_count": 10,
   "metadata": {},
   "outputs": [
    {
     "name": "stdout",
     "output_type": "stream",
     "text": [
      "Factory                  : \u001b[1mEvaluate all methods\u001b[0m\n",
      "Factory                  : Evaluate classifier: Keras_Dense\n",
      "                         : \n",
      "TFHandler_Keras_Dense    :      Variable             Mean             RMS     [        Min             Max ]\n",
      "                         : ------------------------------------------------------------------------------------\n",
      "                         :        sample:         3.0785         2.2853   [       -0.34702         5.4200 ]\n",
      "                         :   EventWeight:        0.54060         1.2413   [        -5.7307         5.7307 ]\n",
      "                         :   EventNumber:        0.75114        0.61801   [      0.0043124         5.7307 ]\n",
      "                         :      m_region:         1.5609         1.1599   [       -0.97916         5.7307 ]\n",
      "                         : m_FJNbtagJets:       -0.27978         1.2291   [       -0.67441         5.7307 ]\n",
      "                         :        m_FJpt:       -0.34560        0.85654   [        -3.3019         5.7307 ]\n",
      "                         :       m_FJeta:      0.0049920         1.0849   [        -3.2995         5.7307 ]\n",
      "                         :       m_FJphi:      0.0029924         1.0005   [        -3.3053         5.7307 ]\n",
      "                         :         m_FJm:       -0.31788         1.0199   [        -3.1152         5.7307 ]\n",
      "                         :        m_DTpt:       -0.17006        0.87907   [        -3.2956         5.7307 ]\n",
      "                         :       m_DTeta:     -0.0044273         1.1251   [        -3.1663         5.7307 ]\n",
      "                         :       m_DTphi:     -0.0010011        0.99639   [        -3.3251         5.7307 ]\n",
      "                         :         m_DTm:      -0.071531         1.0223   [        -3.3136         5.7307 ]\n",
      "                         :   m_dPhiFTwDT:       0.085361        0.99305   [        -3.2977         5.7307 ]\n",
      "                         :     m_dRFJwDT:        0.13327         1.0120   [        -3.3608         5.7307 ]\n",
      "                         :  m_dPhiDTwMET:      0.0088686         1.1078   [        -3.2861         5.7307 ]\n",
      "                         :         m_MET:       -0.36906        0.90333   [        -3.2060         5.7307 ]\n",
      "                         :         m_hhm:       -0.20418        0.96117   [        -3.3772         5.7307 ]\n",
      "                         :      m_bbttpt:       -0.27806        0.93845   [        -3.2481         5.7307 ]\n",
      "                         : ------------------------------------------------------------------------------------\n",
      "Keras_Dense              : [dataset] : Loop over test events and fill histograms with classifier response...\n",
      "                         : \n",
      "TFHandler_Keras_Dense    :      Variable             Mean             RMS     [        Min             Max ]\n",
      "                         : ------------------------------------------------------------------------------------\n",
      "                         :        sample:         3.0785         2.2853   [       -0.34702         5.4200 ]\n",
      "                         :   EventWeight:        0.54060         1.2413   [        -5.7307         5.7307 ]\n",
      "                         :   EventNumber:        0.75114        0.61801   [      0.0043124         5.7307 ]\n",
      "                         :      m_region:         1.5609         1.1599   [       -0.97916         5.7307 ]\n",
      "                         : m_FJNbtagJets:       -0.27978         1.2291   [       -0.67441         5.7307 ]\n",
      "                         :        m_FJpt:       -0.34560        0.85654   [        -3.3019         5.7307 ]\n",
      "                         :       m_FJeta:      0.0049920         1.0849   [        -3.2995         5.7307 ]\n",
      "                         :       m_FJphi:      0.0029924         1.0005   [        -3.3053         5.7307 ]\n",
      "                         :         m_FJm:       -0.31788         1.0199   [        -3.1152         5.7307 ]\n",
      "                         :        m_DTpt:       -0.17006        0.87907   [        -3.2956         5.7307 ]\n",
      "                         :       m_DTeta:     -0.0044273         1.1251   [        -3.1663         5.7307 ]\n",
      "                         :       m_DTphi:     -0.0010011        0.99639   [        -3.3251         5.7307 ]\n",
      "                         :         m_DTm:      -0.071531         1.0223   [        -3.3136         5.7307 ]\n",
      "                         :   m_dPhiFTwDT:       0.085361        0.99305   [        -3.2977         5.7307 ]\n",
      "                         :     m_dRFJwDT:        0.13327         1.0120   [        -3.3608         5.7307 ]\n",
      "                         :  m_dPhiDTwMET:      0.0088686         1.1078   [        -3.2861         5.7307 ]\n",
      "                         :         m_MET:       -0.36906        0.90333   [        -3.2060         5.7307 ]\n",
      "                         :         m_hhm:       -0.20418        0.96117   [        -3.3772         5.7307 ]\n",
      "                         :      m_bbttpt:       -0.27806        0.93845   [        -3.2481         5.7307 ]\n",
      "                         : ------------------------------------------------------------------------------------\n",
      "                         : \n",
      "                         : Evaluation results ranked by best signal efficiency and purity (area)\n",
      "                         : -------------------------------------------------------------------------------------------------------------------\n",
      "                         : DataSet       MVA                       \n",
      "                         : Name:         Method:          ROC-integ\n",
      "                         : dataset       Keras_Dense    : 1.000\n",
      "                         : -------------------------------------------------------------------------------------------------------------------\n",
      "                         : \n",
      "                         : Testing efficiency compared to training efficiency (overtraining check)\n",
      "                         : -------------------------------------------------------------------------------------------------------------------\n",
      "                         : DataSet              MVA              Signal efficiency: from test sample (from training sample) \n",
      "                         : Name:                Method:          @B=0.01             @B=0.10            @B=0.30   \n",
      "                         : -------------------------------------------------------------------------------------------------------------------\n",
      "                         : dataset              Keras_Dense    : 1.000 (1.000)       1.000 (1.000)      1.000 (1.000)\n",
      "                         : -------------------------------------------------------------------------------------------------------------------\n",
      "                         : \n",
      "Dataset:dataset          : Created tree 'TestTree' with 149462 events\n",
      "                         : \n",
      "Dataset:dataset          : Created tree 'TrainTree' with 140000 events\n",
      "                         : \n",
      "Factory                  : \u001b[1mThank you for using TMVA!\u001b[0m\n",
      "                         : \u001b[1mFor citation information, please visit: http://tmva.sf.net/citeTMVA.html\u001b[0m\n"
     ]
    }
   ],
   "source": [
    "factory.EvaluateAllMethods()"
   ]
  },
  {
   "cell_type": "markdown",
   "metadata": {},
   "source": [
    "## Plot ROC Curve\n",
    "We enable JavaScript visualisation for the plots"
   ]
  },
  {
   "cell_type": "code",
   "execution_count": 11,
   "metadata": {},
   "outputs": [
    {
     "data": {
      "image/png": "[encoded data removed]",
      "text/plain": [
       "<IPython.core.display.Image object>"
      ]
     },
     "metadata": {},
     "output_type": "display_data"
    }
   ],
   "source": [
    "c1 = factory.GetROCCurve(loader)\n",
    "c1.Draw()"
   ]
  },
  {
   "cell_type": "code",
   "execution_count": null,
   "metadata": {},
   "outputs": [],
   "source": []
  }
 ],
 "metadata": {
  "kernelspec": {
   "display_name": "Python 3",
   "language": "python",
   "name": "python3"
  },
  "language_info": {
   "codemirror_mode": {
    "name": "ipython",
    "version": 3
   },
   "file_extension": ".py",
   "mimetype": "text/x-python",
   "name": "python",
   "nbconvert_exporter": "python",
   "pygments_lexer": "ipython3",
   "version": "3.5.5"
  }
 },
 "nbformat": 4,
 "nbformat_minor": 2
}
