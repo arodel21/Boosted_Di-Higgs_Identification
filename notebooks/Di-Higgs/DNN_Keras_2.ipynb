{
 "cells": [
  {
   "cell_type": "code",
   "execution_count": 55,
   "metadata": {},
   "outputs": [],
   "source": [
    "import ROOT\n",
    "import math\n",
    "# Colors\n",
    "import numpy as np\n",
    "import matplotlib.pyplot as plt\n",
    "import matplotlib.gridspec as gridspec\n",
    "from matplotlib.ticker import AutoMinorLocator, MultipleLocator\n",
    "from root_numpy import root2array, tree2array\n",
    "from root_numpy import testdata, fill_hist\n",
    "import pandas as pd\n",
    "from sklearn.model_selection import train_test_split\n",
    "from keras.callbacks import ModelCheckpoint\n",
    "from keras.models import Sequential\n",
    "from keras.layers import Dense, Activation, Flatten, Dropout\n",
    "from sklearn.preprocessing import StandardScaler\n",
    "from sklearn.metrics import (recall_score,  precision_score, f1_score, roc_auc_score, precision_recall_curve,\n",
    "                             make_scorer, confusion_matrix, accuracy_score, roc_curve)\n",
    "from keras import backend as K\n",
    "\n",
    "import warnings\n",
    "warnings.filterwarnings('ignore')"
   ]
  },
  {
   "cell_type": "markdown",
   "metadata": {},
   "source": [
    "## Previous Analysis\n",
    "\n",
    "Checking amount of signal and background events in all of the configurations formed by region, tag and signal type.\n",
    "\n",
    "#### Add new column with signal label"
   ]
  },
  {
   "cell_type": "code",
   "execution_count": 57,
   "metadata": {},
   "outputs": [],
   "source": [
    "# If the row sample is 'Xtohh1000' or 'Xtohh2000', then the new columns will have a 1 in this row.\n",
    "def classifier(row):\n",
    "    if row['sample'] == 'Xtohh1000':\n",
    "        return 1\n",
    "    #else if row['sample'] == 'Xtohh2000':\n",
    "    #    return 1\n",
    "    else:\n",
    "        return 0"
   ]
  },
  {
   "cell_type": "code",
   "execution_count": 58,
   "metadata": {},
   "outputs": [],
   "source": [
    "# Select rows different of data samples\n",
    "# Select rows on the SR_1tag region\n",
    "def sel_df(df, region):\n",
    "    df = df[(df['sample']!='data') & (df['m_region']==region)]\n",
    "    df[\"signal\"] = df.apply(classifier, axis=1)\n",
    "    return df"
   ]
  },
  {
   "cell_type": "code",
   "execution_count": 59,
   "metadata": {},
   "outputs": [],
   "source": [
    "def print_configs():\n",
    "    print('%-15s%-10s%-10s%-10s' % (\"Region\", \"Xtohh\", \"Signal\", \"Bkg\"))\n",
    "    for sig in [1000,2000]:\n",
    "        rfile = ROOT.TFile(\"/home/andrea/Escritorio/CERN data/Try3/all_\"+str(sig)+\".root\")\n",
    "        intree = rfile.Get(\"Nominal\")\n",
    "        array = tree2array(intree)\n",
    "        df = pd.DataFrame(array)\n",
    "        for reg in np.unique(df['m_region'].values):\n",
    "            df_aux = sel_df(df, reg)\n",
    "            bkg = df_aux[\"signal\"].value_counts().values[0]\n",
    "            signal = df_aux[\"signal\"].value_counts().values[1]\n",
    "            print('%-15s%-10i%-10i%-10i' % (reg, sig, signal, bkg))\n",
    "    return"
   ]
  },
  {
   "cell_type": "markdown",
   "metadata": {},
   "source": [
    "##### Run once"
   ]
  },
  {
   "cell_type": "code",
   "execution_count": 22,
   "metadata": {},
   "outputs": [
    {
     "name": "stdout",
     "output_type": "stream",
     "text": [
      "Region         Xtohh     Signal    Bkg       \n",
      "PreSel_0tag    1000      2550      98061     \n",
      "PreSel_1tag    1000      4681      16467     \n",
      "PreSel_2tag    1000      995       4343      \n",
      "QCDCR_0tag     1000      557       38603     \n",
      "QCDCR_1tag     1000      1128      7205      \n",
      "QCDCR_2tag     1000      556       1166      \n",
      "SR_0tag        1000      1993      59458     \n",
      "SR_1tag        1000      3553      9262      \n",
      "SR_2tag        1000      439       3177      \n",
      "PreSel_0tag    2000      2867      98061     \n",
      "PreSel_1tag    2000      11507     16467     \n",
      "PreSel_2tag    2000      995       13720     \n",
      "QCDCR_0tag     2000      544       38603     \n",
      "QCDCR_1tag     2000      2152      7205      \n",
      "QCDCR_2tag     2000      556       2271      \n",
      "SR_0tag        2000      2323      59458     \n",
      "SR_1tag        2000      9262      9355      \n",
      "SR_2tag        2000      439       11449     \n"
     ]
    }
   ],
   "source": [
    "print_configs()"
   ]
  },
  {
   "cell_type": "markdown",
   "metadata": {},
   "source": [
    "## Import ROOT file\n",
    "\n",
    "You can either import a file which includes both Xtohh1000 and Xtohh2000 signal events, but their samples must be different or import just the file which includes one of the signals and the background."
   ]
  },
  {
   "cell_type": "code",
   "execution_count": 60,
   "metadata": {},
   "outputs": [],
   "source": [
    "rfile = ROOT.TFile(\"/home/andrea/Escritorio/CERN data/Try3/all_1000.root\")\n",
    "intree = rfile.Get(\"Nominal\")\n",
    "array = tree2array(intree)\n",
    "df = pd.DataFrame(array)\n",
    "df = sel_df(df, \"SR_1tag\")\n",
    "\n",
    "# Delete columns\n",
    "not_cons = ['sample', 'EventWeight', 'EventNumber', 'm_region', 'm_FJNbtagJets', 'm_FJphi', 'm_FJeta', 'm_DTeta', 'm_DTphi']\n",
    "df.drop(not_cons, axis=1, inplace=True)"
   ]
  },
  {
   "cell_type": "markdown",
   "metadata": {},
   "source": [
    "## Dividing data for training and testing"
   ]
  },
  {
   "cell_type": "code",
   "execution_count": 61,
   "metadata": {},
   "outputs": [
    {
     "name": "stdout",
     "output_type": "stream",
     "text": [
      "Training size: 14770\n",
      "Test size: 2563\n",
      "Signal amount: 3553 , 0.28 %\n",
      "Background amount: 9262 , 0.72 %\n"
     ]
    }
   ],
   "source": [
    "# Features\n",
    "feature_cols = df.columns.values[:-1]\n",
    "\n",
    "X = df.loc[:, feature_cols].values\n",
    "# Targets\n",
    "y = df['signal'].values\n",
    "\n",
    "#from imblearn.over_sampling import RandomOverSampler\n",
    "#ros = RandomOverSampler(random_state=0)\n",
    "#X_resampled, y_resampled = ros.fit_resample(X, y)\n",
    "\n",
    "from imblearn.over_sampling import SMOTE, ADASYN\n",
    "#https://imbalanced-learn.readthedocs.io/en/stable/over_sampling.html\n",
    "\n",
    "X_train, X_test, y_train, y_test = train_test_split(X, y, test_size=0.2)\n",
    "X_train, y_train = SMOTE().fit_resample(X_train, y_train)\n",
    "\n",
    "\n",
    "print(\"Training size:\",X_train.shape[0])\n",
    "print(\"Test size:\", X_test.shape[0])\n",
    "values, counts = np.unique(y, return_counts=True)\n",
    "print(\"Signal amount:\", counts[1],\",\", round(counts[1]/y.shape[0], 2),\"%\")\n",
    "print(\"Background amount:\", counts[0],\",\", round(counts[0]/y.shape[0], 2),\"%\")"
   ]
  },
  {
   "cell_type": "code",
   "execution_count": 62,
   "metadata": {},
   "outputs": [
    {
     "name": "stdout",
     "output_type": "stream",
     "text": [
      "Signal training events: 7385 , 0.5 %\n",
      "Background training events: 7385 , 0.5 %\n",
      "Signal testing events: 686 , 0.27 %\n",
      "Background testing events: 1877 , 0.73 %\n"
     ]
    }
   ],
   "source": [
    "values_s, count_s = np.unique(y_train, return_counts=True)\n",
    "print(\"Signal training events:\", count_s[1],\",\", round(count_s[1]/X_train.shape[0], 2),\"%\")\n",
    "print(\"Background training events:\", count_s[0],\",\", round(count_s[0]/X_train.shape[0],2),\"%\")\n",
    "values_b, count_b = np.unique(y_test, return_counts=True)\n",
    "print(\"Signal testing events:\", count_b[1],\",\", round(count_b[1]/X_test.shape[0],2),\"%\")\n",
    "print(\"Background testing events:\", count_b[0],\",\", round(count_b[0]/X_test.shape[0],2),\"%\")"
   ]
  },
  {
   "cell_type": "markdown",
   "metadata": {},
   "source": [
    "## Custom metric: F1"
   ]
  },
  {
   "cell_type": "code",
   "execution_count": 63,
   "metadata": {},
   "outputs": [],
   "source": [
    "def f1_(y_true, y_pred):\n",
    "    def recall_(y_true, y_pred):\n",
    "        \"\"\"Recall metric.\n",
    "        Only computes a batch-wise average of recall.\n",
    "        Computes the recall, a metric for multi-label classification of\n",
    "        how many relevant items are selected.\n",
    "        \"\"\"\n",
    "        true_positives = K.sum(K.round(K.clip(y_true * y_pred, 0, 1)))\n",
    "        possible_positives = K.sum(K.round(K.clip(y_true, 0, 1)))\n",
    "        recall = true_positives / (possible_positives + K.epsilon())\n",
    "        return recall\n",
    "\n",
    "    def precision_(y_true, y_pred):\n",
    "        \"\"\"Precision metric.\n",
    "\n",
    "        Only computes a batch-wise average of precision.\n",
    "\n",
    "        Computes the precision, a metric for multi-label classification of\n",
    "        how many selected items are relevant.\n",
    "        \"\"\"\n",
    "        true_positives = K.sum(K.round(K.clip(y_true * y_pred, 0, 1)))\n",
    "        predicted_positives = K.sum(K.round(K.clip(y_pred, 0, 1)))\n",
    "        precision = true_positives / (predicted_positives + K.epsilon())\n",
    "        return precision\n",
    "    precision = precision_(y_true, y_pred)\n",
    "    recall = recall_(y_true, y_pred)\n",
    "    return 2*((precision*recall)/(precision+recall+K.epsilon()))"
   ]
  },
  {
   "cell_type": "markdown",
   "metadata": {},
   "source": [
    "## Configure neural network"
   ]
  },
  {
   "cell_type": "code",
   "execution_count": 70,
   "metadata": {},
   "outputs": [],
   "source": [
    "classifier = Sequential()\n",
    "#First Hidden Layer\n",
    "classifier.add(Dense(100, activation='relu', kernel_initializer='uniform', input_dim=10))\n",
    "classifier.add(Dropout(rate= 0.1))\n",
    "#Second  Hidden Layer\n",
    "classifier.add(Dense(100, activation='relu', kernel_initializer='uniform'))\n",
    "classifier.add(Dropout(rate= 0.1))\n",
    "#Third  Hidden Layer\n",
    "classifier.add(Dense(100, activation='relu', kernel_initializer='uniform'))\n",
    "classifier.add(Dropout(rate= 0.1))\n",
    "#Fourth Hidden Layer\n",
    "classifier.add(Dense(100, activation='relu', kernel_initializer='uniform'))\n",
    "classifier.add(Dropout(rate= 0.1))\n",
    "#Fifth Hidden Layer\n",
    "classifier.add(Dense(100, activation='relu', kernel_initializer='uniform'))\n",
    "classifier.add(Dropout(rate= 0.1))\n",
    "#Output Layer\n",
    "classifier.add(Dense(1, activation='sigmoid', kernel_initializer='uniform'))"
   ]
  },
  {
   "cell_type": "code",
   "execution_count": 71,
   "metadata": {},
   "outputs": [],
   "source": [
    "#Compiling the neural network\n",
    "classifier.compile(optimizer ='adam',loss='binary_crossentropy', metrics =[f1_])"
   ]
  },
  {
   "cell_type": "code",
   "execution_count": 72,
   "metadata": {},
   "outputs": [
    {
     "name": "stdout",
     "output_type": "stream",
     "text": [
      "Epoch 1/200\n",
      "14770/14770 [==============================] - 2s 163us/step - loss: 0.6696 - f1_: 0.6498\n",
      "Epoch 2/200\n",
      "14770/14770 [==============================] - 2s 111us/step - loss: 0.6414 - f1_: 0.6826\n",
      "Epoch 3/200\n",
      "14770/14770 [==============================] - 2s 109us/step - loss: 0.6322 - f1_: 0.6846\n",
      "Epoch 4/200\n",
      "14770/14770 [==============================] - 2s 120us/step - loss: 0.5970 - f1_: 0.7059\n",
      "Epoch 5/200\n",
      "14770/14770 [==============================] - 2s 111us/step - loss: 0.5823 - f1_: 0.7182\n",
      "Epoch 6/200\n",
      "14770/14770 [==============================] - 2s 113us/step - loss: 0.5689 - f1_: 0.7250\n",
      "Epoch 7/200\n",
      "14770/14770 [==============================] - 2s 118us/step - loss: 0.5565 - f1_: 0.7306\n",
      "Epoch 8/200\n",
      "14770/14770 [==============================] - 2s 132us/step - loss: 0.5531 - f1_: 0.7381\n",
      "Epoch 9/200\n",
      "14770/14770 [==============================] - 1s 100us/step - loss: 0.5510 - f1_: 0.7376\n",
      "Epoch 10/200\n",
      "14770/14770 [==============================] - 2s 105us/step - loss: 0.5466 - f1_: 0.7396\n",
      "Epoch 11/200\n",
      "14770/14770 [==============================] - 1s 99us/step - loss: 0.5485 - f1_: 0.7374\n",
      "Epoch 12/200\n",
      "14770/14770 [==============================] - 2s 105us/step - loss: 0.5417 - f1_: 0.7453\n",
      "Epoch 13/200\n",
      "14770/14770 [==============================] - 2s 106us/step - loss: 0.5367 - f1_: 0.7534\n",
      "Epoch 14/200\n",
      "14770/14770 [==============================] - 1s 100us/step - loss: 0.5554 - f1_: 0.7342\n",
      "Epoch 15/200\n",
      "14770/14770 [==============================] - 1s 100us/step - loss: 0.5609 - f1_: 0.7297\n",
      "Epoch 16/200\n",
      "14770/14770 [==============================] - 2s 106us/step - loss: 0.5460 - f1_: 0.7453\n",
      "Epoch 17/200\n",
      "14770/14770 [==============================] - 1s 100us/step - loss: 0.5502 - f1_: 0.7305\n",
      "Epoch 18/200\n",
      "14770/14770 [==============================] - 2s 106us/step - loss: 0.5446 - f1_: 0.7477\n",
      "Epoch 19/200\n",
      "14770/14770 [==============================] - 2s 116us/step - loss: 0.5417 - f1_: 0.7493\n",
      "Epoch 20/200\n",
      "14770/14770 [==============================] - 2s 108us/step - loss: 0.5496 - f1_: 0.7437\n",
      "Epoch 21/200\n",
      "14770/14770 [==============================] - 2s 128us/step - loss: 0.5404 - f1_: 0.7508\n",
      "Epoch 22/200\n",
      "14770/14770 [==============================] - 2s 127us/step - loss: 0.5374 - f1_: 0.7506\n",
      "Epoch 23/200\n",
      "14770/14770 [==============================] - 2s 131us/step - loss: 0.5437 - f1_: 0.7482\n",
      "Epoch 24/200\n",
      "14770/14770 [==============================] - 2s 140us/step - loss: 0.5453 - f1_: 0.7443\n",
      "Epoch 25/200\n",
      "14770/14770 [==============================] - 2s 130us/step - loss: 0.5561 - f1_: 0.7340\n",
      "Epoch 26/200\n",
      "14770/14770 [==============================] - 2s 115us/step - loss: 0.5361 - f1_: 0.7526\n",
      "Epoch 27/200\n",
      "14770/14770 [==============================] - 2s 113us/step - loss: 0.5425 - f1_: 0.7488\n",
      "Epoch 28/200\n",
      "14770/14770 [==============================] - 2s 108us/step - loss: 0.5437 - f1_: 0.7427\n",
      "Epoch 29/200\n",
      "14770/14770 [==============================] - 2s 105us/step - loss: 0.5387 - f1_: 0.7503\n",
      "Epoch 30/200\n",
      "14770/14770 [==============================] - 2s 112us/step - loss: 0.5409 - f1_: 0.7544\n",
      "Epoch 31/200\n",
      "14770/14770 [==============================] - 2s 122us/step - loss: 0.5326 - f1_: 0.7560\n",
      "Epoch 32/200\n",
      "14770/14770 [==============================] - 2s 130us/step - loss: 0.5296 - f1_: 0.7620\n",
      "Epoch 33/200\n",
      "14770/14770 [==============================] - 2s 128us/step - loss: 0.5364 - f1_: 0.7496\n",
      "Epoch 34/200\n",
      "14770/14770 [==============================] - 2s 110us/step - loss: 0.5372 - f1_: 0.7515\n",
      "Epoch 35/200\n",
      "14770/14770 [==============================] - 2s 120us/step - loss: 0.5289 - f1_: 0.7597\n",
      "Epoch 36/200\n",
      "14770/14770 [==============================] - 2s 128us/step - loss: 0.5287 - f1_: 0.7614\n",
      "Epoch 37/200\n",
      "14770/14770 [==============================] - 2s 125us/step - loss: 0.5265 - f1_: 0.7630\n",
      "Epoch 38/200\n",
      "14770/14770 [==============================] - 3s 175us/step - loss: 0.5372 - f1_: 0.7538\n",
      "Epoch 39/200\n",
      "14770/14770 [==============================] - 4s 241us/step - loss: 0.5260 - f1_: 0.7619\n",
      "Epoch 40/200\n",
      "14770/14770 [==============================] - 3s 201us/step - loss: 0.5263 - f1_: 0.7623\n",
      "Epoch 41/200\n",
      "14770/14770 [==============================] - 3s 189us/step - loss: 0.5311 - f1_: 0.7582\n",
      "Epoch 42/200\n",
      "14770/14770 [==============================] - 2s 167us/step - loss: 0.5320 - f1_: 0.7618\n",
      "Epoch 43/200\n",
      "14770/14770 [==============================] - 2s 150us/step - loss: 0.5236 - f1_: 0.7667\n",
      "Epoch 44/200\n",
      "14770/14770 [==============================] - 3s 219us/step - loss: 0.5294 - f1_: 0.7611\n",
      "Epoch 45/200\n",
      "14770/14770 [==============================] - 4s 250us/step - loss: 0.5298 - f1_: 0.7538\n",
      "Epoch 46/200\n",
      "14770/14770 [==============================] - 4s 240us/step - loss: 0.5275 - f1_: 0.7578\n",
      "Epoch 47/200\n",
      "14770/14770 [==============================] - 4s 258us/step - loss: 0.5295 - f1_: 0.7616\n",
      "Epoch 48/200\n",
      "14770/14770 [==============================] - 3s 193us/step - loss: 0.5286 - f1_: 0.7619\n",
      "Epoch 49/200\n",
      "14770/14770 [==============================] - 3s 187us/step - loss: 0.5247 - f1_: 0.7631\n",
      "Epoch 50/200\n",
      "14770/14770 [==============================] - 3s 205us/step - loss: 0.5300 - f1_: 0.7603\n",
      "Epoch 51/200\n",
      "14770/14770 [==============================] - 3s 196us/step - loss: 0.5276 - f1_: 0.7668\n",
      "Epoch 52/200\n",
      "14770/14770 [==============================] - 2s 167us/step - loss: 0.5283 - f1_: 0.7617\n",
      "Epoch 53/200\n",
      "14770/14770 [==============================] - 2s 162us/step - loss: 0.5297 - f1_: 0.7627\n",
      "Epoch 54/200\n",
      "14770/14770 [==============================] - 2s 157us/step - loss: 0.5434 - f1_: 0.7479\n",
      "Epoch 55/200\n",
      "14770/14770 [==============================] - 2s 138us/step - loss: 0.5506 - f1_: 0.7313\n",
      "Epoch 56/200\n",
      "14770/14770 [==============================] - 2s 157us/step - loss: 0.5437 - f1_: 0.7400\n",
      "Epoch 57/200\n",
      "14770/14770 [==============================] - 2s 126us/step - loss: 0.5474 - f1_: 0.7344\n",
      "Epoch 58/200\n",
      "14770/14770 [==============================] - 2s 116us/step - loss: 0.5414 - f1_: 0.7472\n",
      "Epoch 59/200\n",
      "14770/14770 [==============================] - 2s 128us/step - loss: 0.5536 - f1_: 0.7422\n",
      "Epoch 60/200\n",
      "14770/14770 [==============================] - 3s 186us/step - loss: 0.5511 - f1_: 0.7372\n",
      "Epoch 61/200\n",
      "14770/14770 [==============================] - 2s 164us/step - loss: 0.5412 - f1_: 0.7488\n",
      "Epoch 62/200\n",
      "14770/14770 [==============================] - 2s 164us/step - loss: 0.5604 - f1_: 0.7281\n",
      "Epoch 63/200\n",
      "14770/14770 [==============================] - 2s 142us/step - loss: 0.5439 - f1_: 0.7433\n",
      "Epoch 64/200\n",
      "14770/14770 [==============================] - 2s 144us/step - loss: 0.5577 - f1_: 0.7492\n",
      "Epoch 65/200\n",
      "14770/14770 [==============================] - 2s 151us/step - loss: 0.5505 - f1_: 0.7511\n",
      "Epoch 66/200\n",
      "14770/14770 [==============================] - 2s 166us/step - loss: 0.5358 - f1_: 0.7629\n",
      "Epoch 67/200\n",
      "14770/14770 [==============================] - 2s 167us/step - loss: 0.5271 - f1_: 0.7616\n",
      "Epoch 68/200\n",
      "14770/14770 [==============================] - 2s 133us/step - loss: 0.5400 - f1_: 0.7525\n",
      "Epoch 69/200\n",
      "14770/14770 [==============================] - 2s 141us/step - loss: 0.5262 - f1_: 0.7663\n",
      "Epoch 70/200\n",
      "14770/14770 [==============================] - 2s 135us/step - loss: 0.5238 - f1_: 0.7652\n",
      "Epoch 71/200\n",
      "14770/14770 [==============================] - 2s 143us/step - loss: 0.5224 - f1_: 0.7685\n",
      "Epoch 72/200\n",
      "14770/14770 [==============================] - 2s 133us/step - loss: 0.5298 - f1_: 0.7617\n",
      "Epoch 73/200\n",
      "14770/14770 [==============================] - 3s 190us/step - loss: 0.5220 - f1_: 0.7689\n",
      "Epoch 74/200\n",
      "14770/14770 [==============================] - 3s 180us/step - loss: 0.5285 - f1_: 0.7657\n",
      "Epoch 75/200\n",
      "14770/14770 [==============================] - 2s 164us/step - loss: 0.5302 - f1_: 0.7600\n",
      "Epoch 76/200\n",
      "14770/14770 [==============================] - 2s 133us/step - loss: 0.5223 - f1_: 0.7681\n",
      "Epoch 77/200\n",
      "14770/14770 [==============================] - 2s 153us/step - loss: 0.5341 - f1_: 0.7542\n",
      "Epoch 78/200\n",
      "14770/14770 [==============================] - 2s 156us/step - loss: 0.5224 - f1_: 0.7630\n",
      "Epoch 79/200\n",
      "14770/14770 [==============================] - 2s 149us/step - loss: 0.5142 - f1_: 0.7699\n",
      "Epoch 80/200\n"
     ]
    },
    {
     "name": "stdout",
     "output_type": "stream",
     "text": [
      "14770/14770 [==============================] - 3s 172us/step - loss: 0.5264 - f1_: 0.7635\n",
      "Epoch 81/200\n",
      "14770/14770 [==============================] - 2s 150us/step - loss: 0.5231 - f1_: 0.7643\n",
      "Epoch 82/200\n",
      "14770/14770 [==============================] - 2s 158us/step - loss: 0.5247 - f1_: 0.7658\n",
      "Epoch 83/200\n",
      "14770/14770 [==============================] - 2s 145us/step - loss: 0.5437 - f1_: 0.7554\n",
      "Epoch 84/200\n",
      "14770/14770 [==============================] - 2s 136us/step - loss: 0.5240 - f1_: 0.7657\n",
      "Epoch 85/200\n",
      "14770/14770 [==============================] - 2s 133us/step - loss: 0.5219 - f1_: 0.7667\n",
      "Epoch 86/200\n",
      "14770/14770 [==============================] - 3s 174us/step - loss: 0.5263 - f1_: 0.7654\n",
      "Epoch 87/200\n",
      "14770/14770 [==============================] - 3s 174us/step - loss: 0.5221 - f1_: 0.7683\n",
      "Epoch 88/200\n",
      "14770/14770 [==============================] - 2s 133us/step - loss: 0.5220 - f1_: 0.7681\n",
      "Epoch 89/200\n",
      "14770/14770 [==============================] - 2s 143us/step - loss: 0.5261 - f1_: 0.7593\n",
      "Epoch 90/200\n",
      "14770/14770 [==============================] - 2s 153us/step - loss: 0.5367 - f1_: 0.7638\n",
      "Epoch 91/200\n",
      "14770/14770 [==============================] - 2s 130us/step - loss: 0.5237 - f1_: 0.7638\n",
      "Epoch 92/200\n",
      "14770/14770 [==============================] - 2s 116us/step - loss: 0.5232 - f1_: 0.7671\n",
      "Epoch 93/200\n",
      "14770/14770 [==============================] - 2s 126us/step - loss: 0.5290 - f1_: 0.7594\n",
      "Epoch 94/200\n",
      "14770/14770 [==============================] - 3s 182us/step - loss: 0.5440 - f1_: 0.7452\n",
      "Epoch 95/200\n",
      "14770/14770 [==============================] - 2s 153us/step - loss: 0.5991 - f1_: 0.6788\n",
      "Epoch 96/200\n",
      "14770/14770 [==============================] - 2s 123us/step - loss: 0.5969 - f1_: 0.6835\n",
      "Epoch 97/200\n",
      "14770/14770 [==============================] - 2s 121us/step - loss: 0.5489 - f1_: 0.7474\n",
      "Epoch 98/200\n",
      "14770/14770 [==============================] - 2s 131us/step - loss: 0.5435 - f1_: 0.7430\n",
      "Epoch 99/200\n",
      "14770/14770 [==============================] - 2s 131us/step - loss: 0.5282 - f1_: 0.7625\n",
      "Epoch 100/200\n",
      "14770/14770 [==============================] - 2s 137us/step - loss: 0.5376 - f1_: 0.7509\n",
      "Epoch 101/200\n",
      "14770/14770 [==============================] - 2s 131us/step - loss: 0.5370 - f1_: 0.7537\n",
      "Epoch 102/200\n",
      "14770/14770 [==============================] - 2s 123us/step - loss: 0.5367 - f1_: 0.7569\n",
      "Epoch 103/200\n",
      "14770/14770 [==============================] - 2s 114us/step - loss: 0.5402 - f1_: 0.7530\n",
      "Epoch 104/200\n",
      "14770/14770 [==============================] - 2s 135us/step - loss: 0.5276 - f1_: 0.7631\n",
      "Epoch 105/200\n",
      "14770/14770 [==============================] - 2s 136us/step - loss: 0.5222 - f1_: 0.7575\n",
      "Epoch 106/200\n",
      "14770/14770 [==============================] - 2s 125us/step - loss: 0.5262 - f1_: 0.7533\n",
      "Epoch 107/200\n",
      "14770/14770 [==============================] - 2s 124us/step - loss: 0.5312 - f1_: 0.7514\n",
      "Epoch 108/200\n",
      "14770/14770 [==============================] - 2s 122us/step - loss: 0.5177 - f1_: 0.7564\n",
      "Epoch 109/200\n",
      "14770/14770 [==============================] - 2s 131us/step - loss: 0.5313 - f1_: 0.7359\n",
      "Epoch 110/200\n",
      "14770/14770 [==============================] - 2s 159us/step - loss: 0.5341 - f1_: 0.7394\n",
      "Epoch 111/200\n",
      "14770/14770 [==============================] - 4s 286us/step - loss: 0.5224 - f1_: 0.7475\n",
      "Epoch 112/200\n",
      "14770/14770 [==============================] - 3s 178us/step - loss: 0.5351 - f1_: 0.7319\n",
      "Epoch 113/200\n",
      "14770/14770 [==============================] - 3s 176us/step - loss: 0.5172 - f1_: 0.7581\n",
      "Epoch 114/200\n",
      "14770/14770 [==============================] - 3s 178us/step - loss: 0.5231 - f1_: 0.7609\n",
      "Epoch 115/200\n",
      "14770/14770 [==============================] - 2s 148us/step - loss: 0.5172 - f1_: 0.7579\n",
      "Epoch 116/200\n",
      "14770/14770 [==============================] - 3s 224us/step - loss: 0.5246 - f1_: 0.7489\n",
      "Epoch 117/200\n",
      "14770/14770 [==============================] - 3s 218us/step - loss: 0.5166 - f1_: 0.7591\n",
      "Epoch 118/200\n",
      "14770/14770 [==============================] - 5s 336us/step - loss: 0.5157 - f1_: 0.7548\n",
      "Epoch 119/200\n",
      "14770/14770 [==============================] - 3s 229us/step - loss: 0.5139 - f1_: 0.7579\n",
      "Epoch 120/200\n",
      "14770/14770 [==============================] - 3s 178us/step - loss: 0.5177 - f1_: 0.7492\n",
      "Epoch 121/200\n",
      "14770/14770 [==============================] - 3s 188us/step - loss: 0.5167 - f1_: 0.7472\n",
      "Epoch 122/200\n",
      "14770/14770 [==============================] - 4s 242us/step - loss: 0.5215 - f1_: 0.7553\n",
      "Epoch 123/200\n",
      "14770/14770 [==============================] - 3s 181us/step - loss: 0.5451 - f1_: 0.7576\n",
      "Epoch 124/200\n",
      "14770/14770 [==============================] - 3s 209us/step - loss: 0.5109 - f1_: 0.7609\n",
      "Epoch 125/200\n",
      "14770/14770 [==============================] - 3s 210us/step - loss: 0.5194 - f1_: 0.7516\n",
      "Epoch 126/200\n",
      "14770/14770 [==============================] - 3s 176us/step - loss: 0.5213 - f1_: 0.7444\n",
      "Epoch 127/200\n",
      "14770/14770 [==============================] - 3s 236us/step - loss: 0.5132 - f1_: 0.7532\n",
      "Epoch 128/200\n",
      "14770/14770 [==============================] - 3s 197us/step - loss: 0.5211 - f1_: 0.7529\n",
      "Epoch 129/200\n",
      "14770/14770 [==============================] - 3s 198us/step - loss: 0.5234 - f1_: 0.7477\n",
      "Epoch 130/200\n",
      "14770/14770 [==============================] - 4s 244us/step - loss: 0.5185 - f1_: 0.7487\n",
      "Epoch 131/200\n",
      "14770/14770 [==============================] - 3s 194us/step - loss: 0.5200 - f1_: 0.7424\n",
      "Epoch 132/200\n",
      "14770/14770 [==============================] - 4s 248us/step - loss: 0.5201 - f1_: 0.7552\n",
      "Epoch 133/200\n",
      "14770/14770 [==============================] - 3s 219us/step - loss: 0.5190 - f1_: 0.7498\n",
      "Epoch 134/200\n",
      "14770/14770 [==============================] - 4s 252us/step - loss: 0.5162 - f1_: 0.7455\n",
      "Epoch 135/200\n",
      "14770/14770 [==============================] - 5s 308us/step - loss: 0.5132 - f1_: 0.7582\n",
      "Epoch 136/200\n",
      "14770/14770 [==============================] - 2s 152us/step - loss: 0.5141 - f1_: 0.7488\n",
      "Epoch 137/200\n",
      "14770/14770 [==============================] - 2s 142us/step - loss: 0.5172 - f1_: 0.7525\n",
      "Epoch 138/200\n",
      "14770/14770 [==============================] - 2s 134us/step - loss: 0.5189 - f1_: 0.7462\n",
      "Epoch 139/200\n",
      "14770/14770 [==============================] - 2s 116us/step - loss: 0.5169 - f1_: 0.7511\n",
      "Epoch 140/200\n",
      "14770/14770 [==============================] - 2s 140us/step - loss: 0.5141 - f1_: 0.7520\n",
      "Epoch 141/200\n",
      "14770/14770 [==============================] - 2s 156us/step - loss: 0.5192 - f1_: 0.7515\n",
      "Epoch 142/200\n",
      "14770/14770 [==============================] - 2s 144us/step - loss: 0.5187 - f1_: 0.7610\n",
      "Epoch 143/200\n",
      "14770/14770 [==============================] - 2s 145us/step - loss: 0.5173 - f1_: 0.7479\n",
      "Epoch 144/200\n",
      "14770/14770 [==============================] - 2s 131us/step - loss: 0.5810 - f1_: 0.7183\n",
      "Epoch 145/200\n",
      "14770/14770 [==============================] - 2s 136us/step - loss: 0.6011 - f1_: 0.7167\n",
      "Epoch 146/200\n",
      "14770/14770 [==============================] - 2s 128us/step - loss: 0.5695 - f1_: 0.7309\n",
      "Epoch 147/200\n",
      "14770/14770 [==============================] - 2s 122us/step - loss: 0.5272 - f1_: 0.7546\n",
      "Epoch 148/200\n",
      "14770/14770 [==============================] - 2s 128us/step - loss: 0.5146 - f1_: 0.7563\n",
      "Epoch 149/200\n",
      "14770/14770 [==============================] - 2s 143us/step - loss: 0.5268 - f1_: 0.7401\n",
      "Epoch 150/200\n",
      "14770/14770 [==============================] - 2s 143us/step - loss: 0.5304 - f1_: 0.7513\n",
      "Epoch 151/200\n",
      "14770/14770 [==============================] - 2s 129us/step - loss: 0.5244 - f1_: 0.7616\n",
      "Epoch 152/200\n",
      "14770/14770 [==============================] - 2s 123us/step - loss: 0.5241 - f1_: 0.7582\n",
      "Epoch 153/200\n",
      "14770/14770 [==============================] - 2s 141us/step - loss: 0.5148 - f1_: 0.7561\n",
      "Epoch 154/200\n",
      "14770/14770 [==============================] - 2s 138us/step - loss: 0.5149 - f1_: 0.7597\n",
      "Epoch 155/200\n",
      "14770/14770 [==============================] - 2s 147us/step - loss: 0.5798 - f1_: 0.7324\n",
      "Epoch 156/200\n",
      "14770/14770 [==============================] - 2s 130us/step - loss: 0.5837 - f1_: 0.7244\n",
      "Epoch 157/200\n",
      "14770/14770 [==============================] - 2s 129us/step - loss: 0.5713 - f1_: 0.7270\n",
      "Epoch 158/200\n",
      "14770/14770 [==============================] - 2s 154us/step - loss: 0.5214 - f1_: 0.7490\n",
      "Epoch 159/200\n"
     ]
    },
    {
     "name": "stdout",
     "output_type": "stream",
     "text": [
      "14770/14770 [==============================] - 3s 182us/step - loss: 0.5224 - f1_: 0.7501\n",
      "Epoch 160/200\n",
      "14770/14770 [==============================] - 2s 166us/step - loss: 0.5221 - f1_: 0.7475\n",
      "Epoch 161/200\n",
      "14770/14770 [==============================] - 4s 243us/step - loss: 0.5191 - f1_: 0.7448\n",
      "Epoch 162/200\n",
      "14770/14770 [==============================] - 3s 180us/step - loss: 0.5085 - f1_: 0.7508\n",
      "Epoch 163/200\n",
      "14770/14770 [==============================] - 3s 174us/step - loss: 0.5717 - f1_: 0.7270\n",
      "Epoch 164/200\n",
      "14770/14770 [==============================] - 3s 232us/step - loss: 0.5592 - f1_: 0.7477\n",
      "Epoch 165/200\n",
      "14770/14770 [==============================] - 4s 278us/step - loss: 0.5506 - f1_: 0.7591\n",
      "Epoch 166/200\n",
      "14770/14770 [==============================] - 3s 200us/step - loss: 0.5313 - f1_: 0.7559\n",
      "Epoch 167/200\n",
      "14770/14770 [==============================] - 3s 230us/step - loss: 0.5395 - f1_: 0.7463\n",
      "Epoch 168/200\n",
      "14770/14770 [==============================] - 3s 195us/step - loss: 0.5209 - f1_: 0.7649\n",
      "Epoch 169/200\n",
      "14770/14770 [==============================] - 4s 247us/step - loss: 0.5121 - f1_: 0.7595\n",
      "Epoch 170/200\n",
      "14770/14770 [==============================] - 4s 283us/step - loss: 0.5156 - f1_: 0.7544\n",
      "Epoch 171/200\n",
      "14770/14770 [==============================] - 5s 337us/step - loss: 0.5134 - f1_: 0.7586\n",
      "Epoch 172/200\n",
      "14770/14770 [==============================] - 5s 317us/step - loss: 0.5237 - f1_: 0.7431\n",
      "Epoch 173/200\n",
      "14770/14770 [==============================] - ETA: 0s - loss: 0.5239 - f1_: 0.750 - 3s 225us/step - loss: 0.5240 - f1_: 0.7502\n",
      "Epoch 174/200\n",
      "14770/14770 [==============================] - 3s 206us/step - loss: 0.5317 - f1_: 0.7451\n",
      "Epoch 175/200\n",
      "14770/14770 [==============================] - 2s 162us/step - loss: 0.5256 - f1_: 0.7516\n",
      "Epoch 176/200\n",
      "14770/14770 [==============================] - 2s 169us/step - loss: 0.5188 - f1_: 0.7539\n",
      "Epoch 177/200\n",
      "14770/14770 [==============================] - 3s 223us/step - loss: 0.5857 - f1_: 0.7292\n",
      "Epoch 178/200\n",
      "14770/14770 [==============================] - 2s 165us/step - loss: 0.5861 - f1_: 0.7222\n",
      "Epoch 179/200\n",
      "14770/14770 [==============================] - 4s 247us/step - loss: 0.6058 - f1_: 0.7227\n",
      "Epoch 180/200\n",
      "14770/14770 [==============================] - 3s 228us/step - loss: 0.5761 - f1_: 0.7092\n",
      "Epoch 181/200\n",
      "14770/14770 [==============================] - 2s 141us/step - loss: 0.5265 - f1_: 0.7603\n",
      "Epoch 182/200\n",
      "14770/14770 [==============================] - 3s 188us/step - loss: 0.5171 - f1_: 0.7494\n",
      "Epoch 183/200\n",
      "14770/14770 [==============================] - 3s 193us/step - loss: 0.5119 - f1_: 0.7525\n",
      "Epoch 184/200\n",
      "14770/14770 [==============================] - 2s 155us/step - loss: 0.5711 - f1_: 0.7389\n",
      "Epoch 185/200\n",
      "14770/14770 [==============================] - 3s 172us/step - loss: 0.6408 - f1_: 0.6899\n",
      "Epoch 186/200\n",
      "14770/14770 [==============================] - 3s 178us/step - loss: 0.5794 - f1_: 0.7138\n",
      "Epoch 187/200\n",
      "14770/14770 [==============================] - 3s 188us/step - loss: 0.6541 - f1_: 0.4659\n",
      "Epoch 188/200\n",
      "14770/14770 [==============================] - 2s 138us/step - loss: 0.5261 - f1_: 0.7634\n",
      "Epoch 189/200\n",
      "14770/14770 [==============================] - 2s 139us/step - loss: 0.5184 - f1_: 0.7587\n",
      "Epoch 190/200\n",
      "14770/14770 [==============================] - 2s 133us/step - loss: 0.5098 - f1_: 0.7663\n",
      "Epoch 191/200\n",
      "14770/14770 [==============================] - 2s 129us/step - loss: 0.5323 - f1_: 0.7487\n",
      "Epoch 192/200\n",
      "14770/14770 [==============================] - 2s 148us/step - loss: 0.5201 - f1_: 0.7620\n",
      "Epoch 193/200\n",
      "14770/14770 [==============================] - 2s 167us/step - loss: 0.5279 - f1_: 0.7482\n",
      "Epoch 194/200\n",
      "14770/14770 [==============================] - 5s 319us/step - loss: 0.5214 - f1_: 0.7579\n",
      "Epoch 195/200\n",
      "14770/14770 [==============================] - 3s 187us/step - loss: 0.5203 - f1_: 0.7519\n",
      "Epoch 196/200\n",
      "14770/14770 [==============================] - 2s 151us/step - loss: 0.5112 - f1_: 0.7606\n",
      "Epoch 197/200\n",
      "14770/14770 [==============================] - 2s 164us/step - loss: 0.5287 - f1_: 0.7391\n",
      "Epoch 198/200\n",
      "14770/14770 [==============================] - 4s 276us/step - loss: 0.5162 - f1_: 0.7628\n",
      "Epoch 199/200\n",
      "14770/14770 [==============================] - 3s 169us/step - loss: 0.5108 - f1_: 0.7512\n",
      "Epoch 200/200\n",
      "14770/14770 [==============================] - 2s 162us/step - loss: 0.5085 - f1_: 0.7553\n"
     ]
    },
    {
     "data": {
      "text/plain": [
       "<keras.callbacks.History at 0x7f8e9dca1860>"
      ]
     },
     "execution_count": 72,
     "metadata": {},
     "output_type": "execute_result"
    }
   ],
   "source": [
    "#Fitting the data to the training dataset\n",
    "classifier.fit(X_train,y_train, batch_size=50, epochs=200)"
   ]
  },
  {
   "cell_type": "code",
   "execution_count": 73,
   "metadata": {},
   "outputs": [
    {
     "data": {
      "text/plain": [
       "0.846127978552712"
      ]
     },
     "execution_count": 73,
     "metadata": {},
     "output_type": "execute_result"
    },
    {
     "data": {
      "image/png": "[encoded data removed]",
      "text/plain": [
       "<Figure size 432x288 with 1 Axes>"
      ]
     },
     "metadata": {
      "needs_background": "light"
     },
     "output_type": "display_data"
    }
   ],
   "source": [
    "y_pred_prob = classifier.predict(X_test)\n",
    "y_pred = (y_pred_prob>0.5)\n",
    "fpr, tpr, thresholds = roc_curve(y_test, y_pred_prob, pos_label=1)\n",
    "plt.plot(fpr, tpr)\n",
    "roc_auc_score(y_test, y_pred_prob)\n"
   ]
  },
  {
   "cell_type": "code",
   "execution_count": 74,
   "metadata": {},
   "outputs": [
    {
     "name": "stdout",
     "output_type": "stream",
     "text": [
      "recall: 0.922740524781341\n",
      "precision: 0.4282814614343708\n",
      "accuracy: 0.649629340616465\n"
     ]
    }
   ],
   "source": [
    "r = recall_score(y_test,y_pred)\n",
    "p = precision_score(y_test,y_pred)\n",
    "a = accuracy_score(y_test,y_pred)\n",
    "\n",
    "print(\"recall:\", r)\n",
    "print(\"precision:\", p)\n",
    "print(\"accuracy:\", a)"
   ]
  },
  {
   "cell_type": "code",
   "execution_count": 75,
   "metadata": {},
   "outputs": [
    {
     "data": {
      "text/plain": [
       "[<matplotlib.lines.Line2D at 0x7f8ea1d81518>]"
      ]
     },
     "execution_count": 75,
     "metadata": {},
     "output_type": "execute_result"
    },
    {
     "data": {
      "image/png": "[encoded data removed]",
      "text/plain": [
       "<Figure size 432x288 with 1 Axes>"
      ]
     },
     "metadata": {
      "needs_background": "light"
     },
     "output_type": "display_data"
    }
   ],
   "source": [
    "precision, recall, _ = precision_recall_curve(y_test, y_pred)\n",
    "plt.plot(recall, precision)"
   ]
  },
  {
   "cell_type": "code",
   "execution_count": 76,
   "metadata": {},
   "outputs": [
    {
     "name": "stdout",
     "output_type": "stream",
     "text": [
      "[[1032  845]\n",
      " [  53  633]]\n"
     ]
    }
   ],
   "source": [
    "cm = confusion_matrix(y_test, y_pred)\n",
    "print(cm)"
   ]
  },
  {
   "cell_type": "code",
   "execution_count": 77,
   "metadata": {},
   "outputs": [
    {
     "data": {
      "text/plain": [
       "array([1, 0, 1, 1, 0, 0, 0, 0, 0, 1, 0, 0, 0, 0, 0, 0, 1, 0, 1, 0])"
      ]
     },
     "execution_count": 77,
     "metadata": {},
     "output_type": "execute_result"
    }
   ],
   "source": [
    "y_test[:20]"
   ]
  },
  {
   "cell_type": "code",
   "execution_count": 78,
   "metadata": {},
   "outputs": [
    {
     "data": {
      "text/plain": [
       "array([1, 1, 1, 1, 1, 0, 0, 1, 0, 0, 0, 0, 1, 1, 1, 1, 1, 1, 1, 1])"
      ]
     },
     "execution_count": 78,
     "metadata": {},
     "output_type": "execute_result"
    }
   ],
   "source": [
    "y_pred[:20]\n",
    "aux = np.concatenate(y_pred[:20])\n",
    "1*aux"
   ]
  },
  {
   "cell_type": "markdown",
   "metadata": {},
   "source": [
    "## TO DO:\n",
    "\n",
    "- Ver método de oversampling debido al desbalanceo de los datos. Un método típico es el SMOTE.\n",
    "- Hacer una tabla resumen de las configuraciones de región y señal, para generar los modelos de entrenamiento, contar la cantidad de señal y background en cada configuración.\n",
    "- Usar f1 de HER2 como métrica de entrenamiento."
   ]
  },
  {
   "cell_type": "code",
   "execution_count": null,
   "metadata": {},
   "outputs": [],
   "source": []
  }
 ],
 "metadata": {
  "kernelspec": {
   "display_name": "Python 3",
   "language": "python",
   "name": "python3"
  },
  "language_info": {
   "codemirror_mode": {
    "name": "ipython",
    "version": 3
   },
   "file_extension": ".py",
   "mimetype": "text/x-python",
   "name": "python",
   "nbconvert_exporter": "python",
   "pygments_lexer": "ipython3",
   "version": "3.5.5"
  }
 },
 "nbformat": 4,
 "nbformat_minor": 2
}
