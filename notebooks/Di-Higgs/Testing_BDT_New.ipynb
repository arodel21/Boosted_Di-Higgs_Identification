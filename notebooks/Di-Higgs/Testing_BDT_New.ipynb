{
 "cells": [
  {
   "cell_type": "markdown",
   "metadata": {},
   "source": [
    "# <center>TMVA Classification Using BDT</center>\n",
    "\n",
    "In this notebook we still classify di-Higgs new data with Boosted Decision Trees meethod."
   ]
  },
  {
   "cell_type": "code",
   "execution_count": 1,
   "metadata": {},
   "outputs": [
    {
     "name": "stdout",
     "output_type": "stream",
     "text": [
      "Welcome to JupyROOT 6.14/04\n"
     ]
    }
   ],
   "source": [
    "import ROOT\n",
    "from ROOT import TMVA, TTree\n",
    "import array\n",
    "\n",
    "ROOT.TMVA.Tools.Instance()\n",
    "## For PYMVA methods\n",
    "TMVA.PyMethodBase.PyInitialize()"
   ]
  },
  {
   "cell_type": "markdown",
   "metadata": {},
   "source": [
    "### Filter dataset by region.\n",
    "\n",
    "This function will let you filter your dataset by region. It's known that SR_1tag is very signal poor, while SR_2tag has a lot a signal."
   ]
  },
  {
   "cell_type": "code",
   "execution_count": 2,
   "metadata": {},
   "outputs": [],
   "source": [
    "def filter_region(file, region, signal):\n",
    "    oldfile = ROOT.TFile(file)\n",
    "    oldtree = oldfile.Nominal\n",
    "    signal_file = ROOT.TFile(region+\"_\"+signal+\"_s.root\",\"recreate\")\n",
    "    signal_tree = oldtree.CloneTree(0)\n",
    "    backg_file = ROOT.TFile(region+\"_\"+signal+\"_b.root\",\"recreate\")\n",
    "    backg_tree = oldtree.CloneTree(0)\n",
    "    data_file = ROOT.TFile(region+\"_\"+signal+\"_d.root\",\"recreate\")\n",
    "    data_tree = oldtree.CloneTree(0)\n",
    "    for entry in oldtree:\n",
    "        if (entry.m_region == region):\n",
    "            if (entry.sample == \"data\"):\n",
    "                data_tree.Fill()\n",
    "            elif (entry.sample == \"Xtohh1000\"): #signal\n",
    "                signal_tree.Fill()\n",
    "            else:\n",
    "                backg_tree.Fill()\n",
    "    signal_tree.AutoSave()   \n",
    "    backg_tree.AutoSave()\n",
    "    data_tree.AutoSave()\n",
    "    return signal_tree, signal_file, backg_tree, backg_file, data_tree, data_file\n",
    "\n",
    "#Use as\n",
    "#tree, file = filter_region(\"data.root\", \"SR_1tag\", \"small.root\")"
   ]
  },
  {
   "cell_type": "markdown",
   "metadata": {},
   "source": [
    "## Declare Factory and Input Data"
   ]
  },
  {
   "cell_type": "markdown",
   "metadata": {},
   "source": [
    "data.root has unlabeled data points (called data) and fakes points. For the background training we'll use only the fakes points."
   ]
  },
  {
   "cell_type": "code",
   "execution_count": 3,
   "metadata": {},
   "outputs": [],
   "source": [
    "signal_tree, signal_file, backg_tree, backg_file, data_tree, data_file = filter_region(\"all_1000.root\", \"PreSel_2tag\", \"Xtohh1000\")"
   ]
  },
  {
   "cell_type": "code",
   "execution_count": 4,
   "metadata": {},
   "outputs": [
    {
     "name": "stdout",
     "output_type": "stream",
     "text": [
      "******************************************************************************\n",
      "*Tree    :Nominal   : Nominal                                                *\n",
      "*Entries :     4343 : Total =          456559 bytes  File  Size =     259576 *\n",
      "*        :          : Tree compression factor =   5.92                       *\n",
      "******************************************************************************\n",
      "*Br    0 :sample    : string                                                 *\n",
      "*Entries :     4343 : Total  Size=      61643 bytes  File Size  =       5536 *\n",
      "*Baskets :        2 : Basket Size=      32000 bytes  Compression=   9.00     *\n",
      "*............................................................................*\n",
      "*Br    1 :EventWeight : EventWeight/F                                        *\n",
      "*Entries :     4343 : Total  Size=      18059 bytes  One basket in memory    *\n",
      "*Baskets :        0 : Basket Size=      32000 bytes  Compression=   1.00     *\n",
      "*............................................................................*\n",
      "*Br    2 :EventNumber : EventNumber/l                                        *\n",
      "*Entries :     4343 : Total  Size=      35524 bytes  File Size  =      12181 *\n",
      "*Baskets :        1 : Basket Size=      32000 bytes  Compression=   2.63     *\n",
      "*............................................................................*\n",
      "*Br    3 :m_region  : string                                                 *\n",
      "*Entries :     4343 : Total  Size=      70345 bytes  File Size  =       4772 *\n",
      "*Baskets :        2 : Basket Size=      32000 bytes  Compression=  10.74     *\n",
      "*............................................................................*\n",
      "*Br    4 :m_FJNbtagJets : m_FJNbtagJets/I                                    *\n",
      "*Entries :     4343 : Total  Size=      18071 bytes  One basket in memory    *\n",
      "*Baskets :        0 : Basket Size=      32000 bytes  Compression=   1.00     *\n",
      "*............................................................................*\n",
      "*Br    5 :m_FJpt    : m_FJpt/F                                               *\n",
      "*Entries :     4343 : Total  Size=      18029 bytes  One basket in memory    *\n",
      "*Baskets :        0 : Basket Size=      32000 bytes  Compression=   1.00     *\n",
      "*............................................................................*\n",
      "*Br    6 :m_FJeta   : m_FJeta/F                                              *\n",
      "*Entries :     4343 : Total  Size=      18035 bytes  One basket in memory    *\n",
      "*Baskets :        0 : Basket Size=      32000 bytes  Compression=   1.00     *\n",
      "*............................................................................*\n",
      "*Br    7 :m_FJphi   : m_FJphi/F                                              *\n",
      "*Entries :     4343 : Total  Size=      18035 bytes  One basket in memory    *\n",
      "*Baskets :        0 : Basket Size=      32000 bytes  Compression=   1.00     *\n",
      "*............................................................................*\n",
      "*Br    8 :m_FJm     : m_FJm/F                                                *\n",
      "*Entries :     4343 : Total  Size=      18023 bytes  One basket in memory    *\n",
      "*Baskets :        0 : Basket Size=      32000 bytes  Compression=   1.00     *\n",
      "*............................................................................*\n",
      "*Br    9 :m_DTpt    : m_DTpt/F                                               *\n",
      "*Entries :     4343 : Total  Size=      18029 bytes  One basket in memory    *\n",
      "*Baskets :        0 : Basket Size=      32000 bytes  Compression=   1.00     *\n",
      "*............................................................................*\n",
      "*Br   10 :m_DTeta   : m_DTeta/F                                              *\n",
      "*Entries :     4343 : Total  Size=      18035 bytes  One basket in memory    *\n",
      "*Baskets :        0 : Basket Size=      32000 bytes  Compression=   1.00     *\n",
      "*............................................................................*\n",
      "*Br   11 :m_DTphi   : m_DTphi/F                                              *\n",
      "*Entries :     4343 : Total  Size=      18035 bytes  One basket in memory    *\n",
      "*Baskets :        0 : Basket Size=      32000 bytes  Compression=   1.00     *\n",
      "*............................................................................*\n",
      "*Br   12 :m_DTm     : m_DTm/F                                                *\n",
      "*Entries :     4343 : Total  Size=      18023 bytes  One basket in memory    *\n",
      "*Baskets :        0 : Basket Size=      32000 bytes  Compression=   1.00     *\n",
      "*............................................................................*\n",
      "*Br   13 :m_dPhiFTwDT : m_dPhiFTwDT/F                                        *\n",
      "*Entries :     4343 : Total  Size=      18059 bytes  One basket in memory    *\n",
      "*Baskets :        0 : Basket Size=      32000 bytes  Compression=   1.00     *\n",
      "*............................................................................*\n",
      "*Br   14 :m_dRFJwDT : m_dRFJwDT/F                                            *\n",
      "*Entries :     4343 : Total  Size=      18047 bytes  One basket in memory    *\n",
      "*Baskets :        0 : Basket Size=      32000 bytes  Compression=   1.00     *\n",
      "*............................................................................*\n",
      "*Br   15 :m_dPhiDTwMET : m_dPhiDTwMET/F                                      *\n",
      "*Entries :     4343 : Total  Size=      18065 bytes  One basket in memory    *\n",
      "*Baskets :        0 : Basket Size=      32000 bytes  Compression=   1.00     *\n",
      "*............................................................................*\n",
      "*Br   16 :m_MET     : m_MET/F                                                *\n",
      "*Entries :     4343 : Total  Size=      18023 bytes  One basket in memory    *\n",
      "*Baskets :        0 : Basket Size=      32000 bytes  Compression=   1.00     *\n",
      "*............................................................................*\n",
      "*Br   17 :m_hhm     : m_hhm/F                                                *\n",
      "*Entries :     4343 : Total  Size=      18023 bytes  One basket in memory    *\n",
      "*Baskets :        0 : Basket Size=      32000 bytes  Compression=   1.00     *\n",
      "*............................................................................*\n",
      "*Br   18 :m_bbttpt  : m_bbttpt/F                                             *\n",
      "*Entries :     4343 : Total  Size=      18041 bytes  One basket in memory    *\n",
      "*Baskets :        0 : Basket Size=      32000 bytes  Compression=   1.00     *\n",
      "*............................................................................*\n"
     ]
    }
   ],
   "source": [
    "outputFile = ROOT.TFile.Open(\"Higgs_ClassificationOutput.root\", \"RECREATE\")\n",
    "\n",
    "# Factory\n",
    "factory = ROOT.TMVA.Factory(\"TMVA_Higgs_Classification\", outputFile,\n",
    "                      \"!V:ROC:!Silent:Color:!DrawProgressBar:AnalysisType=Classification\" )\n",
    "\n",
    "signal_tree.Print()"
   ]
  },
  {
   "cell_type": "markdown",
   "metadata": {},
   "source": [
    "## Declare DataLoader(s)\n",
    "\n",
    "The next step is to declare the DataLoader class that deals with input data abd variables \n",
    "\n",
    "We add first the signal and background trees in the data loader and then we\n",
    "define the input variables that shall be used for the MVA training\n",
    "note that you may also use variable expressions, which can be parsed by TTree::Draw( \"expression\" )]"
   ]
  },
  {
   "cell_type": "code",
   "execution_count": 5,
   "metadata": {},
   "outputs": [
    {
     "name": "stdout",
     "output_type": "stream",
     "text": [
      "DataSetInfo              : [dataset] : Added class \"Signal\"\n",
      "                         : Add Tree Nominal of type Signal with 4343 events\n",
      "DataSetInfo              : [dataset] : Added class \"Background\"\n",
      "                         : Add Tree Nominal of type Background with 995 events\n"
     ]
    }
   ],
   "source": [
    "loader = ROOT.TMVA.DataLoader(\"dataset\")\n",
    "\n",
    "### global event weights per tree (see below for setting event-wise weights)\n",
    "signalWeight     = 1.0\n",
    "backgroundWeight = 1.0\n",
    "   \n",
    "### You can add an arbitrary number of signal or background trees\n",
    "loader.AddSignalTree    ( signal_tree,     signalWeight     )\n",
    "loader.AddBackgroundTree( backg_tree, backgroundWeight )\n",
    "\n",
    "not_cons = ['sample', 'EventWeight', 'EventNumber', 'm_region', 'm_FJNbtagJets', 'm_FJphi', 'm_FJeta', 'm_DTeta', 'm_DTphi']\n",
    "\n",
    "## Define input variables \n",
    "for branch in backg_tree.GetListOfBranches():\n",
    "    if branch.GetName() in not_cons:\n",
    "        continue\n",
    "    loader.AddVariable(branch.GetName())"
   ]
  },
  {
   "cell_type": "markdown",
   "metadata": {},
   "source": [
    "There are:\n",
    "- 79336 signal events\n",
    "- 231046 background events"
   ]
  },
  {
   "cell_type": "markdown",
   "metadata": {},
   "source": [
    "## Setup Dataset(s)\n",
    "\n",
    "Setup the DataLoader by splitting events in training and test samples. \n",
    "Here we use a random split and a fixed number of training and test events.\n"
   ]
  },
  {
   "cell_type": "code",
   "execution_count": 6,
   "metadata": {},
   "outputs": [],
   "source": [
    "## Apply additional cuts on the signal and background samples (can be different)\n",
    "mycuts = ROOT.TCut(\"\")   ## for example: TCut mycuts = \"abs(var1)<0.5 && abs(var2-0.5)<1\";\n",
    "mycutb = ROOT.TCut(\"\")   ## for example: TCut mycutb = \"abs(var1)<0.5\";\n",
    "\n",
    "\n",
    "loader.PrepareTrainingAndTestTree(mycuts, mycutb,\n",
    "                                  \"nTrain_Signal=2000:nTrain_Background=800:SplitMode=Random:\"\n",
    "                                   \"NormMode=NumEvents:!V\" )"
   ]
  },
  {
   "cell_type": "markdown",
   "metadata": {},
   "source": [
    "## BDT"
   ]
  },
  {
   "cell_type": "code",
   "execution_count": 7,
   "metadata": {},
   "outputs": [
    {
     "data": {
      "text/plain": [
       "<ROOT.TMVA::MethodBDT object (\"BDT\") at 0x710d8c0>"
      ]
     },
     "execution_count": 7,
     "metadata": {},
     "output_type": "execute_result"
    },
    {
     "name": "stdout",
     "output_type": "stream",
     "text": [
      "Factory                  : Booking method: \u001b[1mBDT\u001b[0m\n",
      "                         : \n",
      "DataSetFactory           : [dataset] : Number of events in input trees\n",
      "                         : \n",
      "                         : \n",
      "                         : Number of training and testing events\n",
      "                         : ---------------------------------------------------------------------------\n",
      "                         : Signal     -- training events            : 2000\n",
      "                         : Signal     -- testing events             : 2343\n",
      "                         : Signal     -- training and testing events: 4343\n",
      "                         : Background -- training events            : 800\n",
      "                         : Background -- testing events             : 195\n",
      "                         : Background -- training and testing events: 995\n",
      "                         : \n",
      "DataSetInfo              : Correlation matrix (Signal):\n",
      "                         : ---------------------------------------------------------------------------------------------------------\n",
      "                         :                m_FJpt   m_FJm  m_DTpt   m_DTm m_dPhiFTwDT m_dRFJwDT m_dPhiDTwMET   m_MET   m_hhm m_bbttpt\n",
      "                         :       m_FJpt:  +1.000  +0.275  -0.146  -0.085      -0.327    -0.368       +0.001  +0.288  +0.370   +0.447\n",
      "                         :        m_FJm:  +0.275  +1.000  +0.038  -0.045      +0.088    +0.117       -0.010  +0.172  +0.425   -0.050\n",
      "                         :       m_DTpt:  -0.146  +0.038  +1.000  +0.662      -0.043    -0.049       -0.028  -0.181  +0.547   +0.113\n",
      "                         :        m_DTm:  -0.085  -0.045  +0.662  +1.000      +0.099    +0.108       -0.016  -0.200  +0.523   -0.072\n",
      "                         :  m_dPhiFTwDT:  -0.327  +0.088  -0.043  +0.099      +1.000    +0.959       +0.020  -0.296  +0.188   -0.931\n",
      "                         :    m_dRFJwDT:  -0.368  +0.117  -0.049  +0.108      +0.959    +1.000       +0.020  -0.322  +0.260   -0.923\n",
      "                         : m_dPhiDTwMET:  +0.001  -0.010  -0.028  -0.016      +0.020    +0.020       +1.000  -0.005  -0.006   -0.026\n",
      "                         :        m_MET:  +0.288  +0.172  -0.181  -0.200      -0.296    -0.322       -0.005  +1.000  -0.122   +0.335\n",
      "                         :        m_hhm:  +0.370  +0.425  +0.547  +0.523      +0.188    +0.260       -0.006  -0.122  +1.000   -0.117\n",
      "                         :     m_bbttpt:  +0.447  -0.050  +0.113  -0.072      -0.931    -0.923       -0.026  +0.335  -0.117   +1.000\n",
      "                         : ---------------------------------------------------------------------------------------------------------\n",
      "DataSetInfo              : Correlation matrix (Background):\n",
      "                         : ---------------------------------------------------------------------------------------------------------\n",
      "                         :                m_FJpt   m_FJm  m_DTpt   m_DTm m_dPhiFTwDT m_dRFJwDT m_dPhiDTwMET   m_MET   m_hhm m_bbttpt\n",
      "                         :       m_FJpt:  +1.000  +0.311  +0.316  +0.016      +0.008    -0.021       -0.048  +0.480  +0.544   +0.305\n",
      "                         :        m_FJm:  +0.311  +1.000  +0.091  +0.033      -0.096    -0.106       -0.034  +0.129  +0.164   +0.161\n",
      "                         :       m_DTpt:  +0.316  +0.091  +1.000  +0.492      +0.199    +0.142       +0.012  -0.053  +0.528   -0.075\n",
      "                         :        m_DTm:  +0.016  +0.033  +0.492  +1.000      +0.099    +0.077       +0.014  -0.104  +0.226   -0.104\n",
      "                         :  m_dPhiFTwDT:  +0.008  -0.096  +0.199  +0.099      +1.000    +0.696       -0.010  -0.049  +0.176   -0.782\n",
      "                         :    m_dRFJwDT:  -0.021  -0.106  +0.142  +0.077      +0.696    +1.000       +0.000  -0.059  +0.622   -0.574\n",
      "                         : m_dPhiDTwMET:  -0.048  -0.034  +0.012  +0.014      -0.010    +0.000       +1.000  -0.011  -0.005   +0.027\n",
      "                         :        m_MET:  +0.480  +0.129  -0.053  -0.104      -0.049    -0.059       -0.011  +1.000  +0.154   +0.378\n",
      "                         :        m_hhm:  +0.544  +0.164  +0.528  +0.226      +0.176    +0.622       -0.005  +0.154  +1.000   -0.017\n",
      "                         :     m_bbttpt:  +0.305  +0.161  -0.075  -0.104      -0.782    -0.574       +0.027  +0.378  -0.017   +1.000\n",
      "                         : ---------------------------------------------------------------------------------------------------------\n",
      "DataSetFactory           : [dataset] :  \n",
      "                         : \n"
     ]
    }
   ],
   "source": [
    "## Boosted Decision Trees\n",
    "factory.BookMethod(loader,ROOT.TMVA.Types.kBDT, \"BDT\",\n",
    "                   \"!V:NTrees=3000:MinNodeSize=5%:MaxDepth=1:BoostType=AdaBoost:AdaBoostBeta=0.5:UseBaggedBoost:\"\n",
    "                   \"BaggedSampleFraction=0.5:SeparationType=GiniIndex:nCuts=20\" )"
   ]
  },
  {
   "cell_type": "markdown",
   "metadata": {},
   "source": [
    "## Train Methods"
   ]
  },
  {
   "cell_type": "code",
   "execution_count": 8,
   "metadata": {},
   "outputs": [
    {
     "name": "stdout",
     "output_type": "stream",
     "text": [
      "Factory                  : \u001b[1mTrain all methods\u001b[0m\n",
      "Factory                  : [dataset] : Create Transformation \"I\" with events from all classes.\n",
      "                         : \n",
      "                         : Transformation, Variable selection : \n",
      "                         : Input : variable 'm_FJpt' <---> Output : variable 'm_FJpt'\n",
      "                         : Input : variable 'm_FJm' <---> Output : variable 'm_FJm'\n",
      "                         : Input : variable 'm_DTpt' <---> Output : variable 'm_DTpt'\n",
      "                         : Input : variable 'm_DTm' <---> Output : variable 'm_DTm'\n",
      "                         : Input : variable 'm_dPhiFTwDT' <---> Output : variable 'm_dPhiFTwDT'\n",
      "                         : Input : variable 'm_dRFJwDT' <---> Output : variable 'm_dRFJwDT'\n",
      "                         : Input : variable 'm_dPhiDTwMET' <---> Output : variable 'm_dPhiDTwMET'\n",
      "                         : Input : variable 'm_MET' <---> Output : variable 'm_MET'\n",
      "                         : Input : variable 'm_hhm' <---> Output : variable 'm_hhm'\n",
      "                         : Input : variable 'm_bbttpt' <---> Output : variable 'm_bbttpt'\n",
      "TFHandler_Factory        :     Variable            Mean            RMS    [        Min            Max ]\n",
      "                         : -------------------------------------------------------------------------------\n",
      "                         :       m_FJpt:        492.72        119.56   [        250.15        1776.3 ]\n",
      "                         :        m_FJm:    1.2450e+05        49931.   [        0.0000    4.6250e+05 ]\n",
      "                         :       m_DTpt:        470.08        97.420   [        311.12        1165.3 ]\n",
      "                         :        m_DTm:    1.5848e+05        36883.   [        58002.    3.6946e+05 ]\n",
      "                         :  m_dPhiFTwDT:        2.8575       0.42246   [      0.028513        3.1416 ]\n",
      "                         :    m_dRFJwDT:        2.9687       0.40971   [        1.1102        4.6683 ]\n",
      "                         : m_dPhiDTwMET:     0.0060149        1.4942   [       -3.1410        3.1389 ]\n",
      "                         :        m_MET:        103.89        82.452   [        10.092        1076.8 ]\n",
      "                         :        m_hhm:        1055.6        273.41   [        548.54        3897.9 ]\n",
      "                         :     m_bbttpt:        194.23        187.58   [       0.96082        1641.6 ]\n",
      "                         : -------------------------------------------------------------------------------\n",
      "                         : Ranking input variables (method unspecific)...\n",
      "IdTransformation         : Ranking result (top variable is best ranked)\n",
      "                         : -------------------------------------\n",
      "                         : Rank : Variable     : Separation\n",
      "                         : -------------------------------------\n",
      "                         :    1 : m_hhm        : 3.540e-01\n",
      "                         :    2 : m_FJm        : 3.410e-01\n",
      "                         :    3 : m_dRFJwDT    : 1.970e-01\n",
      "                         :    4 : m_DTpt       : 1.767e-01\n",
      "                         :    5 : m_dPhiDTwMET : 1.093e-01\n",
      "                         :    6 : m_FJpt       : 1.092e-01\n",
      "                         :    7 : m_MET        : 6.964e-02\n",
      "                         :    8 : m_DTm        : 4.079e-02\n",
      "                         :    9 : m_dPhiFTwDT  : 3.769e-02\n",
      "                         :   10 : m_bbttpt     : 1.483e-02\n",
      "                         : -------------------------------------\n",
      "Factory                  : Train method: BDT for Classification\n",
      "                         : \n",
      "BDT                      : #events: (reweighted) sig: 1400 bkg: 1400\n",
      "                         : #events: (unweighted) sig: 2000 bkg: 800\n",
      "                         : Training 3000 Decision Trees ... patience please\n",
      "                         : Elapsed time for training with 2800 events: 2.95 sec         \n",
      "BDT                      : [dataset] : Evaluation of BDT on training sample (2800 events)\n",
      "                         : Elapsed time for evaluation of 2800 events: 0.431 sec       \n",
      "                         : Creating xml weight file: \u001b[0;36mdataset/weights/TMVA_Higgs_Classification_BDT.weights.xml\u001b[0m\n",
      "                         : Creating standalone class: \u001b[0;36mdataset/weights/TMVA_Higgs_Classification_BDT.class.C\u001b[0m\n",
      "                         : Higgs_ClassificationOutput.root:/dataset/Method_BDT/BDT\n",
      "Factory                  : Training finished\n",
      "                         : \n",
      "                         : Ranking input variables (method specific)...\n",
      "BDT                      : Ranking result (top variable is best ranked)\n",
      "                         : ----------------------------------------------\n",
      "                         : Rank : Variable     : Variable Importance\n",
      "                         : ----------------------------------------------\n",
      "                         :    1 : m_FJm        : 1.374e-01\n",
      "                         :    2 : m_dPhiDTwMET : 1.212e-01\n",
      "                         :    3 : m_DTm        : 1.165e-01\n",
      "                         :    4 : m_hhm        : 1.059e-01\n",
      "                         :    5 : m_dRFJwDT    : 1.016e-01\n",
      "                         :    6 : m_DTpt       : 1.001e-01\n",
      "                         :    7 : m_MET        : 9.256e-02\n",
      "                         :    8 : m_bbttpt     : 7.943e-02\n",
      "                         :    9 : m_FJpt       : 7.737e-02\n",
      "                         :   10 : m_dPhiFTwDT  : 6.788e-02\n",
      "                         : ----------------------------------------------\n",
      "Factory                  : === Destroy and recreate all methods via weight files for testing ===\n",
      "                         : \n",
      "                         : Reading weight file: \u001b[0;36mdataset/weights/TMVA_Higgs_Classification_BDT.weights.xml\u001b[0m\n"
     ]
    }
   ],
   "source": [
    "factory.TrainAllMethods()"
   ]
  },
  {
   "cell_type": "markdown",
   "metadata": {},
   "source": [
    "## Test  all methods\n",
    "\n",
    "Here we test all methods using the test data set"
   ]
  },
  {
   "cell_type": "code",
   "execution_count": 9,
   "metadata": {},
   "outputs": [
    {
     "name": "stdout",
     "output_type": "stream",
     "text": [
      "Factory                  : \u001b[1mTest all methods\u001b[0m\n",
      "Factory                  : Test method: BDT for Classification performance\n",
      "                         : \n",
      "BDT                      : [dataset] : Evaluation of BDT on testing sample (2538 events)\n",
      "                         : Elapsed time for evaluation of 2538 events: 0.361 sec       \n"
     ]
    }
   ],
   "source": [
    "factory.TestAllMethods()"
   ]
  },
  {
   "cell_type": "markdown",
   "metadata": {},
   "source": [
    "## Evaluate all methods\n",
    "\n",
    "Here we evaluate all methods and compare their performances, computing efficiencies, ROC curves etc.. using both training and tetsing data sets. Several histograms are produced which can be examined with the TMVAGui or directly using the output file"
   ]
  },
  {
   "cell_type": "code",
   "execution_count": 10,
   "metadata": {},
   "outputs": [
    {
     "name": "stdout",
     "output_type": "stream",
     "text": [
      "Factory                  : \u001b[1mEvaluate all methods\u001b[0m\n",
      "Factory                  : Evaluate classifier: BDT\n",
      "                         : \n",
      "BDT                      : [dataset] : Loop over test events and fill histograms with classifier response...\n",
      "                         : \n",
      "TFHandler_BDT            :     Variable            Mean            RMS    [        Min            Max ]\n",
      "                         : -------------------------------------------------------------------------------\n",
      "                         :       m_FJpt:        480.35        97.375   [        251.56        1208.5 ]\n",
      "                         :        m_FJm:    1.2488e+05        39413.   [        4878.0    4.3556e+05 ]\n",
      "                         :       m_DTpt:        452.88        82.273   [        316.33        963.39 ]\n",
      "                         :        m_DTm:    1.5746e+05        33247.   [        77090.    3.5290e+05 ]\n",
      "                         :  m_dPhiFTwDT:        2.8569       0.39905   [      0.068093        3.1414 ]\n",
      "                         :    m_dRFJwDT:        2.9290       0.36579   [        1.1952        4.6628 ]\n",
      "                         : m_dPhiDTwMET:      0.013258        1.3247   [       -3.1399        3.1406 ]\n",
      "                         :        m_MET:        100.80        69.784   [        10.346        863.06 ]\n",
      "                         :        m_hhm:        992.30        177.11   [        589.14        3737.6 ]\n",
      "                         :     m_bbttpt:        190.42        180.30   [        3.3690        1511.6 ]\n",
      "                         : -------------------------------------------------------------------------------\n",
      "                         : \n",
      "                         : Evaluation results ranked by best signal efficiency and purity (area)\n",
      "                         : -------------------------------------------------------------------------------------------------------------------\n",
      "                         : DataSet       MVA                       \n",
      "                         : Name:         Method:          ROC-integ\n",
      "                         : dataset       BDT            : 0.915\n",
      "                         : -------------------------------------------------------------------------------------------------------------------\n",
      "                         : \n",
      "                         : Testing efficiency compared to training efficiency (overtraining check)\n",
      "                         : -------------------------------------------------------------------------------------------------------------------\n",
      "                         : DataSet              MVA              Signal efficiency: from test sample (from training sample) \n",
      "                         : Name:                Method:          @B=0.01             @B=0.10            @B=0.30   \n",
      "                         : -------------------------------------------------------------------------------------------------------------------\n",
      "                         : dataset              BDT            : 0.230 (0.445)       0.740 (0.827)      0.964 (0.959)\n",
      "                         : -------------------------------------------------------------------------------------------------------------------\n",
      "                         : \n",
      "Dataset:dataset          : Created tree 'TestTree' with 2538 events\n",
      "                         : \n",
      "Dataset:dataset          : Created tree 'TrainTree' with 2800 events\n",
      "                         : \n",
      "Factory                  : \u001b[1mThank you for using TMVA!\u001b[0m\n",
      "                         : \u001b[1mFor citation information, please visit: http://tmva.sf.net/citeTMVA.html\u001b[0m\n"
     ]
    }
   ],
   "source": [
    "factory.EvaluateAllMethods()"
   ]
  },
  {
   "cell_type": "markdown",
   "metadata": {},
   "source": [
    "## Plot ROC Curve\n",
    "We enable JavaScript visualisation for the plots"
   ]
  },
  {
   "cell_type": "code",
   "execution_count": 11,
   "metadata": {},
   "outputs": [
    {
     "data": {
      "image/png": "[encoded data removed]",
      "text/plain": [
       "<IPython.core.display.Image object>"
      ]
     },
     "metadata": {},
     "output_type": "display_data"
    }
   ],
   "source": [
    "c1 = factory.GetROCCurve(loader)\n",
    "c1.Draw()"
   ]
  },
  {
   "cell_type": "markdown",
   "metadata": {},
   "source": [
    "## Prediction\n",
    "\n",
    "### Declare Reader"
   ]
  },
  {
   "cell_type": "code",
   "execution_count": 92,
   "metadata": {},
   "outputs": [],
   "source": [
    "TMVA.Tools.Instance()\n",
    "TMVA.PyMethodBase.PyInitialize();\n",
    "\n",
    "reader = TMVA.Reader( \"!Color:!Silent\" )"
   ]
  },
  {
   "cell_type": "code",
   "execution_count": 93,
   "metadata": {},
   "outputs": [
    {
     "name": "stderr",
     "output_type": "stream",
     "text": [
      "Warning in <TFile::Init>: file PreSel_2tag_Xtohh1000_d.root probably not closed, trying to recover\n",
      "Info in <TFile::Recover>: PreSel_2tag_Xtohh1000_d.root, recovered key TTree:Nominal at address 252\n",
      "Warning in <TFile::Init>: successfully recovered 1 keys\n",
      "Warning in <TFile::Init>: file PreSel_2tag_Xtohh1000_b.root probably not closed, trying to recover\n",
      "Info in <TFile::Recover>: PreSel_2tag_Xtohh1000_b.root, recovered key TTree:Nominal at address 252\n",
      "Warning in <TFile::Init>: successfully recovered 1 keys\n",
      "Warning in <TFile::Init>: file PreSel_2tag_Xtohh1000_s.root probably not closed, trying to recover\n",
      "Info in <TFile::Recover>: PreSel_2tag_Xtohh1000_s.root, recovered key TTree:Nominal at address 22741\n",
      "Warning in <TFile::Init>: successfully recovered 1 keys\n"
     ]
    }
   ],
   "source": [
    "methodNames = [\"BDT\"]\n",
    "\n",
    "dataFile = ROOT.TFile(\"PreSel_2tag_Xtohh1000_d.root\")\n",
    "bkgFile = ROOT.TFile(\"PreSel_2tag_Xtohh1000_b.root\")\n",
    "sigFile = ROOT.TFile(\"PreSel_2tag_Xtohh1000_s.root\")\n",
    "\n",
    "dataTree = dataFile.Nominal\n",
    "bkgTree = bkgFile.Nominal\n",
    "sigTree = sigFile.Nominal"
   ]
  },
  {
   "cell_type": "markdown",
   "metadata": {},
   "source": [
    "### Add Variable\n",
    "\n",
    "We add variables to the reader exactly in the same way we did for the **DataLoader** during the training\n",
    "\n",
    "We need to specify the address of the variable in order to pass it to TMVA when we iterate on the TTree"
   ]
  },
  {
   "cell_type": "code",
   "execution_count": 94,
   "metadata": {},
   "outputs": [],
   "source": [
    "variables = []\n",
    "i = 0\n",
    "\n",
    "for branch in dataTree.GetListOfBranches():\n",
    "    if branch.GetName() in not_cons:\n",
    "        continue\n",
    "    aux = array('f',[0])\n",
    "    variables.append(aux)\n",
    "    reader.AddVariable(branch.GetName(),variables[i])\n",
    "    i = i+1\n"
   ]
  },
  {
   "cell_type": "markdown",
   "metadata": {},
   "source": [
    "### Setup Classifiers\n",
    "\n",
    "We set up the classifiers by reading the input weights from the appropriate files\n",
    "\n",
    "The file is stored for example as \n",
    "\n",
    "####  *dataset/weights/TMVAClassification_BDT.weights.xml"
   ]
  },
  {
   "cell_type": "code",
   "execution_count": 95,
   "metadata": {},
   "outputs": [
    {
     "name": "stdout",
     "output_type": "stream",
     "text": [
      "                         : Booking \"BDT\" of type \"BDT\" from dataset/weights/TMVA_Higgs_Classification_BDT.weights.xml.\n",
      "                         : Reading weight file: dataset/weights/TMVA_Higgs_Classification_BDT.weights.xml\n",
      "<HEADER> DataSetInfo              : [Default] : Added class \"Signal\"\n",
      "<HEADER> DataSetInfo              : [Default] : Added class \"Background\"\n",
      "                         : Booked classifier \"BDT\" of type: \"BDT\"\n"
     ]
    }
   ],
   "source": [
    "for methodName in methodNames: \n",
    "    weightfile = \"dataset/weights/TMVA_Higgs_Classification_\" + methodName + \".weights.xml\"\n",
    "    name = ROOT.TString(methodName)\n",
    "    reader.BookMVA( name, weightfile );"
   ]
  },
  {
   "cell_type": "markdown",
   "metadata": {},
   "source": [
    "### Evaluation of the classifier on the given input events\n",
    "\n",
    "We iterate on the input event in the given TTree. We provide as input first the background tree \n",
    "We return the output results for the various methods in big numpy array [ number of methods x number of events]\n",
    "We also fill an histogram for each method.\n",
    "Note that is important to fill the arrays with the tree entries in order to pass the values to the TMVA::Reader"
   ]
  },
  {
   "cell_type": "code",
   "execution_count": 103,
   "metadata": {},
   "outputs": [],
   "source": [
    "import numpy as np\n",
    "\n",
    "def v_out(tree):\n",
    "    h = {}\n",
    "    hname = \"hdata_BDT\"\n",
    "    h['BDT'] = (ROOT.TH1D(hname,htitle,60,-1,1) )\n",
    "    \n",
    "    nevt = tree.GetEntries()\n",
    "\n",
    "    vout = np.arange(nevt * len(methodNames), dtype='float').reshape( len(methodNames), nevt)\n",
    "\n",
    "    for ievt, entry in enumerate(tree):\n",
    "        i = 0    \n",
    "        for branch in tree.GetListOfBranches():\n",
    "            name = branch.GetName()\n",
    "            if name in not_cons:\n",
    "                continue\n",
    "            variables[i][0] = getattr(entry,name)\n",
    "            i += 1\n",
    "\n",
    "        for j, methodName in enumerate(methodNames): \n",
    "            vout[j,ievt] = reader.EvaluateMVA(methodName)\n",
    "            h[methodName].Fill(vout[j,ievt])\n",
    "    \n",
    "    return h, vout"
   ]
  },
  {
   "cell_type": "code",
   "execution_count": 104,
   "metadata": {},
   "outputs": [
    {
     "name": "stderr",
     "output_type": "stream",
     "text": [
      "Warning in <TFile::Append>: Replacing existing TH1: hdata_BDT (Potential memory leak).\n",
      "Warning in <TFile::Append>: Replacing existing TH1: hdata_BDT (Potential memory leak).\n",
      "Warning in <TFile::Append>: Replacing existing TH1: hdata_BDT (Potential memory leak).\n"
     ]
    }
   ],
   "source": [
    "hd, d_vout = v_out(dataTree)\n",
    "hs, s_vout = v_out(sigTree)\n",
    "hb, b_vout = v_out(bkgTree)"
   ]
  },
  {
   "cell_type": "code",
   "execution_count": 105,
   "metadata": {},
   "outputs": [
    {
     "name": "stdout",
     "output_type": "stream",
     "text": [
      "[[0.09332911 0.12914337 0.15641321 ... 0.11140298 0.01943621 0.07577489]]\n"
     ]
    }
   ],
   "source": [
    "print(s_vout)"
   ]
  },
  {
   "cell_type": "markdown",
   "metadata": {},
   "source": [
    "### Plot Histogram of output variables"
   ]
  },
  {
   "cell_type": "code",
   "execution_count": 106,
   "metadata": {},
   "outputs": [
    {
     "data": {
      "image/png": "[encoded data removed]",
      "text/plain": [
       "<IPython.core.display.Image object>"
      ]
     },
     "metadata": {},
     "output_type": "display_data"
    }
   ],
   "source": [
    "c1 = ROOT.TCanvas()\n",
    "c1.DivideSquare( len(hb))\n",
    "ipad = 0\n",
    "for name in methodNames: \n",
    "    ipad += 1\n",
    "    pad = c1.cd(ipad)\n",
    "    h1 = hb[name]\n",
    "    h1.Draw()\n",
    "    h2 = hs[name]\n",
    "    h2.SetLineColor(ROOT.kRed)\n",
    "    h2.Draw('Same')\n",
    "    pad.BuildLegend()\n",
    "    \n",
    "c1.Draw()"
   ]
  },
  {
   "cell_type": "code",
   "execution_count": 89,
   "metadata": {},
   "outputs": [],
   "source": [
    "dataFile.Close()\n",
    "sigFile.Close()\n",
    "bkgFile.Close()"
   ]
  }
 ],
 "metadata": {
  "kernelspec": {
   "display_name": "Python 3",
   "language": "python",
   "name": "python3"
  },
  "language_info": {
   "codemirror_mode": {
    "name": "ipython",
    "version": 3
   },
   "file_extension": ".py",
   "mimetype": "text/x-python",
   "name": "python",
   "nbconvert_exporter": "python",
   "pygments_lexer": "ipython3",
   "version": "3.5.5"
  }
 },
 "nbformat": 4,
 "nbformat_minor": 2
}
