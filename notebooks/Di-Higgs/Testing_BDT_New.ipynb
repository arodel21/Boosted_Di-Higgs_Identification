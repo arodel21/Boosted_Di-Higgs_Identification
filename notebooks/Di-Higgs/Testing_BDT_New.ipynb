{
 "cells": [
  {
   "cell_type": "markdown",
   "metadata": {},
   "source": [
    "# <center>TMVA Classification Using BDT</center>\n",
    "\n",
    "In this notebook we still classify di-Higgs new data with Boosted Decision Trees meethod."
   ]
  },
  {
   "cell_type": "code",
   "execution_count": 1,
   "metadata": {},
   "outputs": [
    {
     "name": "stdout",
     "output_type": "stream",
     "text": [
      "Welcome to JupyROOT 6.14/04\n"
     ]
    }
   ],
   "source": [
    "import ROOT\n",
    "from ROOT import TMVA"
   ]
  },
  {
   "cell_type": "markdown",
   "metadata": {},
   "source": [
    "## Declare Factory and Input Data"
   ]
  },
  {
   "cell_type": "code",
   "execution_count": 2,
   "metadata": {},
   "outputs": [
    {
     "name": "stdout",
     "output_type": "stream",
     "text": [
      "******************************************************************************\n",
      "*Tree    :Nominal   : Nominal                                                *\n",
      "*Entries :     8460 : Total =          795544 bytes  File  Size =     509246 *\n",
      "*        :          : Tree compression factor =   1.55                       *\n",
      "******************************************************************************\n",
      "*Br    0 :sample    : string                                                 *\n",
      "*Entries :     8460 : Total  Size=     131622 bytes  File Size  =      22721 *\n",
      "*Baskets :        6 : Basket Size=      32000 bytes  Compression=   5.77     *\n",
      "*............................................................................*\n",
      "*Br    1 :EventWeight : EventWeight/F                                        *\n",
      "*Entries :     8460 : Total  Size=      34511 bytes  File Size  =      15591 *\n",
      "*Baskets :        2 : Basket Size=      32000 bytes  Compression=   2.18     *\n",
      "*............................................................................*\n",
      "*Br    2 :EventNumber : EventNumber/l                                        *\n",
      "*Entries :     8460 : Total  Size=      68440 bytes  File Size  =      25664 *\n",
      "*Baskets :        3 : Basket Size=      32000 bytes  Compression=   2.65     *\n",
      "*............................................................................*\n",
      "*Br    3 :m_region  : string                                                 *\n",
      "*Entries :     8460 : Total  Size=      43059 bytes  File Size  =      12284 *\n",
      "*Baskets :        3 : Basket Size=      32000 bytes  Compression=   3.46     *\n",
      "*............................................................................*\n",
      "*Br    4 :m_FJNbtagJets : m_FJNbtagJets/I                                    *\n",
      "*Entries :     8460 : Total  Size=      34523 bytes  File Size  =       4723 *\n",
      "*Baskets :        2 : Basket Size=      32000 bytes  Compression=   7.20     *\n",
      "*............................................................................*\n",
      "*Br    5 :m_FJpt    : m_FJpt/F                                               *\n",
      "*Entries :     8460 : Total  Size=      34481 bytes  File Size  =      29968 *\n",
      "*Baskets :        2 : Basket Size=      32000 bytes  Compression=   1.13     *\n",
      "*............................................................................*\n",
      "*Br    6 :m_FJeta   : m_FJeta/F                                              *\n",
      "*Entries :     8460 : Total  Size=      34487 bytes  File Size  =      31490 *\n",
      "*Baskets :        2 : Basket Size=      32000 bytes  Compression=   1.08     *\n",
      "*............................................................................*\n",
      "*Br    7 :m_FJphi   : m_FJphi/F                                              *\n",
      "*Entries :     8460 : Total  Size=      34487 bytes  File Size  =      31554 *\n",
      "*Baskets :        2 : Basket Size=      32000 bytes  Compression=   1.08     *\n",
      "*............................................................................*\n",
      "*Br    8 :m_FJm     : m_FJm/F                                                *\n",
      "*Entries :     8460 : Total  Size=      34475 bytes  File Size  =      30534 *\n",
      "*Baskets :        2 : Basket Size=      32000 bytes  Compression=   1.11     *\n",
      "*............................................................................*\n",
      "*Br    9 :m_DTpt    : m_DTpt/F                                               *\n",
      "*Entries :     8460 : Total  Size=      34481 bytes  File Size  =      29924 *\n",
      "*Baskets :        2 : Basket Size=      32000 bytes  Compression=   1.14     *\n",
      "*............................................................................*\n",
      "*Br   10 :m_DTeta   : m_DTeta/F                                              *\n",
      "*Entries :     8460 : Total  Size=      34487 bytes  File Size  =      31590 *\n",
      "*Baskets :        2 : Basket Size=      32000 bytes  Compression=   1.08     *\n",
      "*............................................................................*\n",
      "*Br   11 :m_DTphi   : m_DTphi/F                                              *\n",
      "*Entries :     8460 : Total  Size=      34487 bytes  File Size  =      31564 *\n",
      "*Baskets :        2 : Basket Size=      32000 bytes  Compression=   1.08     *\n",
      "*............................................................................*\n",
      "*Br   12 :m_DTm     : m_DTm/F                                                *\n",
      "*Entries :     8460 : Total  Size=      34475 bytes  File Size  =      29590 *\n",
      "*Baskets :        2 : Basket Size=      32000 bytes  Compression=   1.15     *\n",
      "*............................................................................*\n",
      "*Br   13 :m_dPhiFTwDT : m_dPhiFTwDT/F                                        *\n",
      "*Entries :     8460 : Total  Size=      34511 bytes  File Size  =      28581 *\n",
      "*Baskets :        2 : Basket Size=      32000 bytes  Compression=   1.19     *\n",
      "*............................................................................*\n",
      "*Br   14 :m_dRFJwDT : m_dRFJwDT/F                                            *\n",
      "*Entries :     8460 : Total  Size=      34499 bytes  File Size  =      28747 *\n",
      "*Baskets :        2 : Basket Size=      32000 bytes  Compression=   1.18     *\n",
      "*............................................................................*\n",
      "*Br   15 :m_dPhiDTwMET : m_dPhiDTwMET/F                                      *\n",
      "*Entries :     8460 : Total  Size=      34517 bytes  File Size  =      32118 *\n",
      "*Baskets :        2 : Basket Size=      32000 bytes  Compression=   1.06     *\n",
      "*............................................................................*\n",
      "*Br   16 :m_MET     : m_MET/F                                                *\n",
      "*Entries :     8460 : Total  Size=      34475 bytes  File Size  =      30641 *\n",
      "*Baskets :        2 : Basket Size=      32000 bytes  Compression=   1.11     *\n",
      "*............................................................................*\n",
      "*Br   17 :m_hhm     : m_hhm/F                                                *\n",
      "*Entries :     8460 : Total  Size=      34475 bytes  File Size  =      29161 *\n",
      "*Baskets :        2 : Basket Size=      32000 bytes  Compression=   1.17     *\n",
      "*............................................................................*\n",
      "*Br   18 :m_bbttpt  : m_bbttpt/F                                             *\n",
      "*Entries :     8460 : Total  Size=      34493 bytes  File Size  =      30752 *\n",
      "*Baskets :        2 : Basket Size=      32000 bytes  Compression=   1.11     *\n",
      "*............................................................................*\n"
     ]
    }
   ],
   "source": [
    "ROOT.TMVA.Tools.Instance()\n",
    "## For PYMVA methods\n",
    "TMVA.PyMethodBase.PyInitialize()\n",
    "\n",
    "\n",
    "outputFile = ROOT.TFile.Open(\"Higgs_ClassificationOutput.root\", \"RECREATE\")\n",
    "\n",
    "# Factory\n",
    "factory = ROOT.TMVA.Factory(\"TMVA_Higgs_Classification\", outputFile,\n",
    "                      \"!V:ROC:!Silent:Color:!DrawProgressBar:AnalysisType=Classification\" )\n",
    "\n",
    "# Input data\n",
    "# We define now the input data file and we retrieve the ROOT TTree objects with the signal and background input events\n",
    "inputFileS1 = ROOT.TFile.Open(\"Xtohh1000-all.root\")\n",
    "inputFileS2 = ROOT.TFile.Open(\"Xtohh2000-all.root\")\n",
    "inputFileB1 = ROOT.TFile.Open(\"data17-all.root\")\n",
    "inputFileB2 = ROOT.TFile.Open(\"stopschan-all.root\")\n",
    "inputFileB3 = ROOT.TFile.Open(\"stoptchan-all.root\")\n",
    "inputFileB4 = ROOT.TFile.Open(\"stopWt-all.root\")\n",
    "inputFileB5 = ROOT.TFile.Open(\"ttbar-all.root\")\n",
    "inputFileB6 = ROOT.TFile.Open(\"Wtaunu_221-all.root\")\n",
    "inputFileB7 = ROOT.TFile.Open(\"WW_Pw-all.root\")\n",
    "inputFileB8 = ROOT.TFile.Open(\"WZ_Pw-all.root\")\n",
    "inputFileB9 = ROOT.TFile.Open(\"Zee_221-all.root\")\n",
    "inputFileB10 = ROOT.TFile.Open(\"Zee_Pw-all.root\")\n",
    "inputFileB11 = ROOT.TFile.Open(\"Ztautau_221-all.root\")\n",
    "\n",
    "# retrieve input trees\n",
    "signalTree1     = inputFileS1.Get(\"Nominal\")\n",
    "signalTree2     = inputFileS2.Get(\"Nominal\")\n",
    "backgroundTreeB1 = inputFileB1.Get(\"Nominal\")\n",
    "backgroundTreeB2 = inputFileB2.Get(\"Nominal\")\n",
    "backgroundTreeB3 = inputFileB3.Get(\"Nominal\")\n",
    "backgroundTreeB4 = inputFileB4.Get(\"Nominal\")\n",
    "backgroundTreeB5 = inputFileB5.Get(\"Nominal\")\n",
    "backgroundTreeB6 = inputFileB6.Get(\"Nominal\")\n",
    "backgroundTreeB7 = inputFileB7.Get(\"Nominal\")\n",
    "backgroundTreeB8 = inputFileB8.Get(\"Nominal\")\n",
    "backgroundTreeB9 = inputFileB9.Get(\"Nominal\")\n",
    "backgroundTreeB10 = inputFileB10.Get(\"Nominal\")\n",
    "backgroundTreeB11 = inputFileB11.Get(\"Nominal\")\n",
    "\n",
    "signalTree1.Print()"
   ]
  },
  {
   "cell_type": "markdown",
   "metadata": {},
   "source": [
    "## Declare DataLoader(s)\n",
    "\n",
    "The next step is to declare the DataLoader class that deals with input data abd variables \n",
    "\n",
    "We add first the signal and background trees in the data loader and then we\n",
    "define the input variables that shall be used for the MVA training\n",
    "note that you may also use variable expressions, which can be parsed by TTree::Draw( \"expression\" )]"
   ]
  },
  {
   "cell_type": "code",
   "execution_count": 3,
   "metadata": {},
   "outputs": [
    {
     "name": "stdout",
     "output_type": "stream",
     "text": [
      "DataSetInfo              : [dataset] : Added class \"Signal\"\n",
      "                         : Add Tree Nominal of type Signal with 8460 events\n",
      "                         : Add Tree Nominal of type Signal with 17028 events\n",
      "DataSetInfo              : [dataset] : Added class \"Background\"\n",
      "                         : Add Tree Nominal of type Background with 27912 events\n",
      "                         : Add Tree Nominal of type Background with 30 events\n",
      "                         : Add Tree Nominal of type Background with 25 events\n",
      "                         : Add Tree Nominal of type Background with 248 events\n",
      "                         : Add Tree Nominal of type Background with 1477 events\n",
      "                         : Add Tree Nominal of type Background with 5204 events\n",
      "                         : Add Tree Nominal of type Background with 27 events\n",
      "                         : Add Tree Nominal of type Background with 179 events\n",
      "                         : Add Tree Nominal of type Background with 3392 events\n",
      "                         : Add Tree Nominal of type Background with 9 events\n",
      "                         : Add Tree Nominal of type Background with 20166 events\n"
     ]
    }
   ],
   "source": [
    "loader = ROOT.TMVA.DataLoader(\"dataset\")\n",
    "\n",
    "### global event weights per tree (see below for setting event-wise weights)\n",
    "signalWeight     = 1.0\n",
    "backgroundWeight = 1.0\n",
    "   \n",
    "### You can add an arbitrary number of signal or background trees\n",
    "loader.AddSignalTree    ( signalTree1,     signalWeight     )\n",
    "loader.AddSignalTree    ( signalTree2,     signalWeight     )\n",
    "loader.AddBackgroundTree( backgroundTreeB1, backgroundWeight )\n",
    "loader.AddBackgroundTree( backgroundTreeB2, backgroundWeight )\n",
    "loader.AddBackgroundTree( backgroundTreeB3, backgroundWeight )\n",
    "loader.AddBackgroundTree( backgroundTreeB4, backgroundWeight )\n",
    "loader.AddBackgroundTree( backgroundTreeB5, backgroundWeight )\n",
    "loader.AddBackgroundTree( backgroundTreeB6, backgroundWeight )\n",
    "loader.AddBackgroundTree( backgroundTreeB7, backgroundWeight )\n",
    "loader.AddBackgroundTree( backgroundTreeB8, backgroundWeight )\n",
    "loader.AddBackgroundTree( backgroundTreeB9, backgroundWeight )\n",
    "loader.AddBackgroundTree( backgroundTreeB10, backgroundWeight )\n",
    "loader.AddBackgroundTree( backgroundTreeB11, backgroundWeight )\n",
    "\n",
    "## Define input variables \n",
    "for branch in signalTree1.GetListOfBranches():\n",
    "    loader.AddVariable(branch.GetName())"
   ]
  },
  {
   "cell_type": "markdown",
   "metadata": {},
   "source": [
    "There are:\n",
    "- 25488 signal events\n",
    "- 58669 background events"
   ]
  },
  {
   "cell_type": "markdown",
   "metadata": {},
   "source": [
    "## Setup Dataset(s)\n",
    "\n",
    "Setup the DataLoader by splitting events in training and test samples. \n",
    "Here we use a random split and a fixed number of training and test events.\n"
   ]
  },
  {
   "cell_type": "code",
   "execution_count": 4,
   "metadata": {},
   "outputs": [],
   "source": [
    "## Apply additional cuts on the signal and background samples (can be different)\n",
    "mycuts = ROOT.TCut(\"\")   ## for example: TCut mycuts = \"abs(var1)<0.5 && abs(var2-0.5)<1\";\n",
    "mycutb = ROOT.TCut(\"\")   ## for example: TCut mycutb = \"abs(var1)<0.5\";\n",
    "\n",
    "\n",
    "loader.PrepareTrainingAndTestTree(mycuts, mycutb,\n",
    "                                  \"nTrain_Signal=20000:nTrain_Background=20000:SplitMode=Random:\"\n",
    "                                   \"NormMode=NumEvents:!V\" )"
   ]
  },
  {
   "cell_type": "markdown",
   "metadata": {},
   "source": [
    "## BDT"
   ]
  },
  {
   "cell_type": "code",
   "execution_count": 5,
   "metadata": {},
   "outputs": [
    {
     "data": {
      "text/plain": [
       "<ROOT.TMVA::MethodBDT object (\"BDT\") at 0x704f310>"
      ]
     },
     "execution_count": 5,
     "metadata": {},
     "output_type": "execute_result"
    },
    {
     "name": "stdout",
     "output_type": "stream",
     "text": [
      "Factory                  : Booking method: \u001b[1mBDT\u001b[0m\n",
      "                         : \n",
      "DataSetFactory           : [dataset] : Number of events in input trees\n",
      "                         : \n",
      "                         : \n",
      "                         : Number of training and testing events\n",
      "                         : ---------------------------------------------------------------------------\n",
      "                         : Signal     -- training events            : 20000\n",
      "                         : Signal     -- testing events             : 5488\n",
      "                         : Signal     -- training and testing events: 25488\n",
      "                         : Background -- training events            : 20000\n",
      "                         : Background -- testing events             : 38669\n",
      "                         : Background -- training and testing events: 58669\n",
      "                         : \n",
      "DataSetInfo              : Correlation matrix (Signal):\n",
      "                         : -------------------------------------------------------------------------------------------------------------------------------------------------------------------------------------------------\n",
      "                         :                 sample EventWeight EventNumber m_region m_FJNbtagJets  m_FJpt m_FJeta m_FJphi   m_FJm  m_DTpt m_DTeta m_DTphi   m_DTm m_dPhiFTwDT m_dRFJwDT m_dPhiDTwMET   m_MET   m_hhm m_bbttpt\n",
      "                         :        sample:  +1.000      -0.370      +0.802   +1.000        -0.147  -0.629  +0.011  +0.003  -0.007  -0.451  +0.007  -0.006  -0.057      -0.223    -0.354       +0.002  -0.360  -0.729   -0.159\n",
      "                         :   EventWeight:  -0.370      +1.000      -0.305   -0.370        +0.063  +0.225  -0.019  +0.003  -0.010  +0.125  -0.001  +0.000  -0.117      +0.075    +0.124       -0.003  +0.143  +0.235   +0.073\n",
      "                         :   EventNumber:  +0.802      -0.305      +1.000   +0.802        -0.117  -0.507  +0.007  +0.005  +0.002  -0.360  +0.010  -0.004  -0.039      -0.169    -0.275       -0.001  -0.293  -0.583   -0.133\n",
      "                         :      m_region:  +1.000      -0.370      +0.802   +1.000        -0.147  -0.629  +0.011  +0.003  -0.007  -0.451  +0.007  -0.006  -0.057      -0.223    -0.354       +0.002  -0.360  -0.729   -0.159\n",
      "                         : m_FJNbtagJets:  -0.147      +0.063      -0.117   -0.147        +1.000  +0.028  -0.009  -0.011  +0.068  -0.020  -0.001  +0.010  -0.014      +0.088    +0.060       +0.001  -0.001  +0.001   -0.076\n",
      "                         :        m_FJpt:  -0.629      +0.225      -0.507   -0.629        +0.028  +1.000  -0.010  -0.001  +0.218  +0.426  -0.002  -0.002  +0.081      +0.079    -0.046       +0.000  +0.451  +0.676   +0.450\n",
      "                         :       m_FJeta:  +0.011      -0.019      +0.007   +0.011        -0.009  -0.010  +1.000  +0.007  -0.001  +0.005  +0.116  -0.003  +0.008      -0.004    -0.003       -0.003  -0.013  -0.004   -0.007\n",
      "                         :       m_FJphi:  +0.003      +0.003      +0.005   +0.003        -0.011  -0.001  +0.007  +1.000  +0.000  -0.002  +0.011  -0.480  -0.016      +0.006    -0.000       -0.010  +0.005  -0.008   +0.001\n",
      "                         :         m_FJm:  -0.007      -0.010      +0.002   -0.007        +0.068  +0.218  -0.001  +0.000  +1.000  +0.083  -0.000  -0.012  +0.034      +0.074    +0.034       +0.002  +0.098  +0.195   +0.032\n",
      "                         :        m_DTpt:  -0.451      +0.125      -0.360   -0.451        -0.020  +0.426  +0.005  -0.002  +0.083  +1.000  +0.002  +0.001  +0.583      +0.120    +0.007       -0.012  -0.090  +0.693   -0.061\n",
      "                         :       m_DTeta:  +0.007      -0.001      +0.010   +0.007        -0.001  -0.002  +0.116  +0.011  -0.000  +0.002  +1.000  -0.001  +0.014      -0.003    -0.009       +0.009  +0.001  -0.007   -0.001\n",
      "                         :       m_DTphi:  -0.006      +0.000      -0.004   -0.006        +0.010  -0.002  -0.003  -0.480  -0.012  +0.001  -0.001  +1.000  +0.010      -0.002    +0.002       +0.013  -0.001  +0.003   +0.002\n",
      "                         :         m_DTm:  -0.057      -0.117      -0.039   -0.057        -0.014  +0.081  +0.008  -0.016  +0.034  +0.583  +0.014  +0.010  +1.000      +0.061    +0.005       -0.013  -0.209  +0.348   -0.153\n",
      "                         :   m_dPhiFTwDT:  -0.223      +0.075      -0.169   -0.223        +0.088  +0.079  -0.004  +0.006  +0.074  +0.120  -0.003  -0.002  +0.061      +1.000    +0.749       +0.005  +0.010  +0.194   -0.639\n",
      "                         :     m_dRFJwDT:  -0.354      +0.124      -0.275   -0.354        +0.060  -0.046  -0.003  -0.000  +0.034  +0.007  -0.009  +0.002  +0.005      +0.749    +1.000       +0.005  -0.047  +0.416   -0.539\n",
      "                         :  m_dPhiDTwMET:  +0.002      -0.003      -0.001   +0.002        +0.001  +0.000  -0.003  -0.010  +0.002  -0.012  +0.009  +0.013  -0.013      +0.005    +0.005       +1.000  +0.009  -0.004   -0.004\n",
      "                         :         m_MET:  -0.360      +0.143      -0.293   -0.360        -0.001  +0.451  -0.013  +0.005  +0.098  -0.090  +0.001  -0.001  -0.209      +0.010    -0.047       +0.009  +1.000  +0.127   +0.439\n",
      "                         :         m_hhm:  -0.729      +0.235      -0.583   -0.729        +0.001  +0.676  -0.004  -0.008  +0.195  +0.693  -0.007  +0.003  +0.348      +0.194    +0.416       -0.004  +0.127  +1.000   +0.068\n",
      "                         :      m_bbttpt:  -0.159      +0.073      -0.133   -0.159        -0.076  +0.450  -0.007  +0.001  +0.032  -0.061  -0.001  +0.002  -0.153      -0.639    -0.539       -0.004  +0.439  +0.068   +1.000\n",
      "                         : -------------------------------------------------------------------------------------------------------------------------------------------------------------------------------------------------\n",
      "DataSetInfo              : Correlation matrix (Background):\n",
      "                         : -------------------------------------------------------------------------------------------------------------------------------------------------------------------------------------------------\n",
      "                         :                 sample EventWeight EventNumber m_region m_FJNbtagJets  m_FJpt m_FJeta m_FJphi   m_FJm  m_DTpt m_DTeta m_DTphi   m_DTm m_dPhiFTwDT m_dRFJwDT m_dPhiDTwMET   m_MET   m_hhm m_bbttpt\n",
      "                         :        sample:  +1.000      -0.022      -0.534   -0.048        -0.074  +0.220  -0.002  -0.007  -0.068  -0.203  +0.005  +0.016  -0.188      +0.110    -0.087       +0.005  +0.376  -0.112   +0.005\n",
      "                         :   EventWeight:  -0.022      +1.000      +0.018   -0.003        -0.001  +0.006  +0.005  -0.007  -0.008  +0.003  -0.006  +0.003  -0.018      -0.004    -0.009       -0.003  +0.008  -0.003   +0.011\n",
      "                         :   EventNumber:  -0.534      +0.018      +1.000   -0.244        +0.006  -0.235  +0.009  +0.007  +0.011  +0.013  -0.000  -0.019  -0.070      -0.052    +0.058       -0.006  -0.367  -0.021   -0.083\n",
      "                         :      m_region:  -0.048      -0.003      -0.244   +1.000        -0.014  +0.017  +0.001  -0.003  -0.041  +0.185  +0.001  +0.009  +0.051      +0.040    -0.003       +0.008  -0.035  +0.047   -0.025\n",
      "                         : m_FJNbtagJets:  -0.074      -0.001      +0.006   -0.014        +1.000  -0.008  -0.001  +0.005  +0.089  +0.023  -0.016  -0.004  +0.035      -0.051    -0.026       +0.001  +0.010  +0.003   +0.069\n",
      "                         :        m_FJpt:  +0.220      +0.006      -0.235   +0.017        -0.008  +1.000  +0.012  +0.012  +0.126  +0.349  -0.007  -0.001  +0.124      +0.080    -0.007       +0.015  +0.474  +0.496   +0.243\n",
      "                         :       m_FJeta:  -0.002      +0.005      +0.009   +0.001        -0.001  +0.012  +1.000  -0.003  -0.003  +0.003  +0.184  +0.002  +0.005      +0.001    +0.004       -0.007  -0.000  +0.009   +0.002\n",
      "                         :       m_FJphi:  -0.007      -0.007      +0.007   -0.003        +0.005  +0.012  -0.003  +1.000  +0.005  -0.001  +0.006  -0.499  -0.017      +0.009    +0.008       +0.003  +0.004  +0.008   -0.000\n",
      "                         :         m_FJm:  -0.068      -0.008      +0.011   -0.041        +0.089  +0.126  -0.003  +0.005  +1.000  +0.106  -0.002  -0.011  +0.080      -0.033    -0.009       +0.011  +0.056  +0.128   +0.068\n",
      "                         :        m_DTpt:  -0.203      +0.003      +0.013   +0.185        +0.023  +0.349  +0.003  -0.001  +0.106  +1.000  +0.008  +0.003  +0.579      +0.103    +0.050       -0.004  -0.142  +0.508   -0.036\n",
      "                         :       m_DTeta:  +0.005      -0.006      -0.000   +0.001        -0.016  -0.007  +0.184  +0.006  -0.002  +0.008  +1.000  +0.006  -0.002      +0.018    -0.000       -0.002  -0.004  -0.008   -0.007\n",
      "                         :       m_DTphi:  +0.016      +0.003      -0.019   +0.009        -0.004  -0.001  +0.002  -0.499  -0.011  +0.003  +0.006  +1.000  +0.007      +0.005    +0.002       +0.012  -0.002  -0.002   -0.009\n",
      "                         :         m_DTm:  -0.188      -0.018      -0.070   +0.051        +0.035  +0.124  +0.005  -0.017  +0.080  +0.579  -0.002  +0.007  +1.000      +0.024    +0.024       -0.010  -0.093  +0.299   -0.010\n",
      "                         :   m_dPhiFTwDT:  +0.110      -0.004      -0.052   +0.040        -0.051  +0.080  +0.001  +0.009  -0.033  +0.103  +0.018  +0.005  +0.024      +1.000    +0.499       +0.006  +0.041  +0.072   -0.709\n",
      "                         :     m_dRFJwDT:  -0.087      -0.009      +0.058   -0.003        -0.026  -0.007  +0.004  +0.008  -0.009  +0.050  -0.000  +0.002  +0.024      +0.499    +1.000       +0.005  -0.047  +0.680   -0.370\n",
      "                         :  m_dPhiDTwMET:  +0.005      -0.003      -0.006   +0.008        +0.001  +0.015  -0.007  +0.003  +0.011  -0.004  -0.002  +0.012  -0.010      +0.006    +0.005       +1.000  +0.004  +0.007   -0.008\n",
      "                         :         m_MET:  +0.376      +0.008      -0.367   -0.035        +0.010  +0.474  -0.000  +0.004  +0.056  -0.142  -0.004  -0.002  -0.093      +0.041    -0.047       +0.004  +1.000  +0.069   +0.360\n",
      "                         :         m_hhm:  -0.112      -0.003      -0.021   +0.047        +0.003  +0.496  +0.009  +0.008  +0.128  +0.508  -0.008  -0.002  +0.299      +0.072    +0.680       +0.007  +0.069  +1.000   +0.046\n",
      "                         :      m_bbttpt:  +0.005      +0.011      -0.083   -0.025        +0.069  +0.243  +0.002  -0.000  +0.068  -0.036  -0.007  -0.009  -0.010      -0.709    -0.370       -0.008  +0.360  +0.046   +1.000\n",
      "                         : -------------------------------------------------------------------------------------------------------------------------------------------------------------------------------------------------\n",
      "DataSetFactory           : [dataset] :  \n",
      "                         : \n"
     ]
    }
   ],
   "source": [
    "## Boosted Decision Trees\n",
    "factory.BookMethod(loader,ROOT.TMVA.Types.kBDT, \"BDT\",\n",
    "                   \"!V:NTrees=2000:MinNodeSize=2.5%:MaxDepth=2:BoostType=AdaBoost:AdaBoostBeta=0.5:UseBaggedBoost:\"\n",
    "                   \"BaggedSampleFraction=0.5:SeparationType=GiniIndex:nCuts=20\" )"
   ]
  },
  {
   "cell_type": "markdown",
   "metadata": {},
   "source": [
    "## Train Methods"
   ]
  },
  {
   "cell_type": "code",
   "execution_count": 6,
   "metadata": {},
   "outputs": [
    {
     "name": "stdout",
     "output_type": "stream",
     "text": [
      "Factory                  : \u001b[1mTrain all methods\u001b[0m\n",
      "Factory                  : [dataset] : Create Transformation \"I\" with events from all classes.\n",
      "                         : \n",
      "                         : Transformation, Variable selection : \n",
      "                         : Input : variable 'sample' <---> Output : variable 'sample'\n",
      "                         : Input : variable 'EventWeight' <---> Output : variable 'EventWeight'\n",
      "                         : Input : variable 'EventNumber' <---> Output : variable 'EventNumber'\n",
      "                         : Input : variable 'm_region' <---> Output : variable 'm_region'\n",
      "                         : Input : variable 'm_FJNbtagJets' <---> Output : variable 'm_FJNbtagJets'\n",
      "                         : Input : variable 'm_FJpt' <---> Output : variable 'm_FJpt'\n",
      "                         : Input : variable 'm_FJeta' <---> Output : variable 'm_FJeta'\n",
      "                         : Input : variable 'm_FJphi' <---> Output : variable 'm_FJphi'\n",
      "                         : Input : variable 'm_FJm' <---> Output : variable 'm_FJm'\n",
      "                         : Input : variable 'm_DTpt' <---> Output : variable 'm_DTpt'\n",
      "                         : Input : variable 'm_DTeta' <---> Output : variable 'm_DTeta'\n",
      "                         : Input : variable 'm_DTphi' <---> Output : variable 'm_DTphi'\n",
      "                         : Input : variable 'm_DTm' <---> Output : variable 'm_DTm'\n",
      "                         : Input : variable 'm_dPhiFTwDT' <---> Output : variable 'm_dPhiFTwDT'\n",
      "                         : Input : variable 'm_dRFJwDT' <---> Output : variable 'm_dRFJwDT'\n",
      "                         : Input : variable 'm_dPhiDTwMET' <---> Output : variable 'm_dPhiDTwMET'\n",
      "                         : Input : variable 'm_MET' <---> Output : variable 'm_MET'\n",
      "                         : Input : variable 'm_hhm' <---> Output : variable 'm_hhm'\n",
      "                         : Input : variable 'm_bbttpt' <---> Output : variable 'm_bbttpt'\n",
      "TFHandler_Factory        :      Variable             Mean             RMS     [        Min             Max ]\n",
      "                         : ------------------------------------------------------------------------------------\n",
      "                         :        sample:     1.2517e+08     1.6131e+07   [     1.1215e+08     1.6061e+08 ]\n",
      "                         :   EventWeight:      0.0088762        0.10598   [       -0.53428         14.379 ]\n",
      "                         :   EventNumber:     3.6862e+08     8.0008e+08   [         60002.     5.9752e+09 ]\n",
      "                         :      m_region:     1.1906e+08     5.8695e+06   [     1.1215e+08     1.5244e+08 ]\n",
      "                         : m_FJNbtagJets:        0.73550        0.80848   [         0.0000         2.0000 ]\n",
      "                         :        m_FJpt:         624.42         207.40   [         250.13         2583.1 ]\n",
      "                         :       m_FJeta:       0.010866        0.88696   [        -1.9997         1.9991 ]\n",
      "                         :       m_FJphi:       0.015507         1.8126   [        -3.1416         3.1415 ]\n",
      "                         :         m_FJm:         93519.         70852.   [         0.0000     8.9750e+05 ]\n",
      "                         :        m_DTpt:         558.53         149.32   [         313.40         1957.1 ]\n",
      "                         :       m_DTeta:      0.0025146        0.84716   [        -2.2451         2.1696 ]\n",
      "                         :       m_DTphi:      -0.029549         1.8089   [        -3.1415         3.1415 ]\n",
      "                         :         m_DTm:     1.6885e+05         43363.   [         46072.     5.1186e+05 ]\n",
      "                         :   m_dPhiFTwDT:         2.9624        0.25690   [      0.0064614         3.1416 ]\n",
      "                         :     m_dRFJwDT:         3.1615        0.33928   [         1.0789         5.0477 ]\n",
      "                         :  m_dPhiDTwMET:      -0.010005         1.4066   [        -3.1415         3.1415 ]\n",
      "                         :         m_MET:         153.56         144.97   [         10.002         7348.4 ]\n",
      "                         :         m_hhm:         1379.1         394.79   [         504.44         5788.4 ]\n",
      "                         :      m_bbttpt:         202.80         170.76   [        0.88611         2142.5 ]\n",
      "                         : ------------------------------------------------------------------------------------\n",
      "                         : Ranking input variables (method unspecific)...\n",
      "IdTransformation         : Ranking result (top variable is best ranked)\n",
      "                         : --------------------------------------\n",
      "                         : Rank : Variable      : Separation\n",
      "                         : --------------------------------------\n",
      "                         :    1 : m_FJNbtagJets : 5.303e-01\n",
      "                         :    2 : m_FJm         : 3.150e-01\n",
      "                         :    3 : EventNumber   : 3.074e-01\n",
      "                         :    4 : m_region      : 2.543e-01\n",
      "                         :    5 : sample        : 2.531e-01\n",
      "                         :    6 : m_FJpt        : 2.169e-01\n",
      "                         :    7 : m_hhm         : 1.720e-01\n",
      "                         :    8 : m_MET         : 1.635e-01\n",
      "                         :    9 : m_bbttpt      : 1.069e-01\n",
      "                         :   10 : m_DTpt        : 9.299e-02\n",
      "                         :   11 : m_dPhiDTwMET  : 6.738e-02\n",
      "                         :   12 : m_DTeta       : 5.033e-02\n",
      "                         :   13 : m_dRFJwDT     : 3.192e-02\n",
      "                         :   14 : m_FJeta       : 2.162e-02\n",
      "                         :   15 : m_DTm         : 2.109e-02\n",
      "                         :   16 : EventWeight   : 2.050e-02\n",
      "                         :   17 : m_dPhiFTwDT   : 1.301e-02\n",
      "                         :   18 : m_DTphi       : 1.226e-03\n",
      "                         :   19 : m_FJphi       : 1.170e-03\n",
      "                         : --------------------------------------\n",
      "Factory                  : Train method: BDT for Classification\n",
      "                         : \n",
      "BDT                      : #events: (reweighted) sig: 20000 bkg: 20000\n",
      "                         : #events: (unweighted) sig: 20000 bkg: 20000\n",
      "                         : Training 2000 Decision Trees ... patience please\n",
      "                         : Elapsed time for training with 40000 events: 37 sec         \n",
      "BDT                      : [dataset] : Evaluation of BDT on training sample (40000 events)\n",
      "                         : Elapsed time for evaluation of 40000 events: 6.34 sec       \n",
      "                         : Creating xml weight file: \u001b[0;36mdataset/weights/TMVA_Higgs_Classification_BDT.weights.xml\u001b[0m\n",
      "                         : Creating standalone class: \u001b[0;36mdataset/weights/TMVA_Higgs_Classification_BDT.class.C\u001b[0m\n",
      "                         : Higgs_ClassificationOutput.root:/dataset/Method_BDT/BDT\n",
      "Factory                  : Training finished\n",
      "                         : \n",
      "                         : Ranking input variables (method specific)...\n",
      "BDT                      : Ranking result (top variable is best ranked)\n",
      "                         : -----------------------------------------------\n",
      "                         : Rank : Variable      : Variable Importance\n",
      "                         : -----------------------------------------------\n",
      "                         :    1 : m_region      : 1.760e-01\n",
      "                         :    2 : sample        : 1.481e-01\n",
      "                         :    3 : EventWeight   : 6.382e-02\n",
      "                         :    4 : m_dPhiDTwMET  : 4.981e-02\n",
      "                         :    5 : m_FJm         : 4.319e-02\n",
      "                         :    6 : m_FJNbtagJets : 4.217e-02\n",
      "                         :    7 : m_FJphi       : 4.195e-02\n",
      "                         :    8 : m_DTm         : 4.040e-02\n",
      "                         :    9 : m_DTeta       : 4.027e-02\n",
      "                         :   10 : m_FJeta       : 4.009e-02\n",
      "                         :   11 : m_DTpt        : 4.001e-02\n",
      "                         :   12 : m_hhm         : 3.965e-02\n",
      "                         :   13 : m_DTphi       : 3.938e-02\n",
      "                         :   14 : EventNumber   : 3.784e-02\n",
      "                         :   15 : m_FJpt        : 3.584e-02\n",
      "                         :   16 : m_dRFJwDT     : 3.278e-02\n",
      "                         :   17 : m_bbttpt      : 3.087e-02\n",
      "                         :   18 : m_MET         : 2.939e-02\n",
      "                         :   19 : m_dPhiFTwDT   : 2.838e-02\n",
      "                         : -----------------------------------------------\n",
      "Factory                  : === Destroy and recreate all methods via weight files for testing ===\n",
      "                         : \n",
      "                         : Reading weight file: \u001b[0;36mdataset/weights/TMVA_Higgs_Classification_BDT.weights.xml\u001b[0m\n"
     ]
    }
   ],
   "source": [
    "factory.TrainAllMethods()"
   ]
  },
  {
   "cell_type": "markdown",
   "metadata": {},
   "source": [
    "## Test  all methods\n",
    "\n",
    "Here we test all methods using the test data set"
   ]
  },
  {
   "cell_type": "code",
   "execution_count": 7,
   "metadata": {},
   "outputs": [
    {
     "name": "stdout",
     "output_type": "stream",
     "text": [
      "Factory                  : \u001b[1mTest all methods\u001b[0m\n",
      "Factory                  : Test method: BDT for Classification performance\n",
      "                         : \n",
      "BDT                      : [dataset] : Evaluation of BDT on testing sample (44157 events)\n",
      "                         : Elapsed time for evaluation of 44157 events: 6.15 sec       \n"
     ]
    }
   ],
   "source": [
    "factory.TestAllMethods()"
   ]
  },
  {
   "cell_type": "markdown",
   "metadata": {},
   "source": [
    "## Evaluate all methods\n",
    "\n",
    "Here we evaluate all methods and compare their performances, computing efficiencies, ROC curves etc.. using both training and tetsing data sets. Several histograms are produced which can be examined with the TMVAGui or directly using the output file"
   ]
  },
  {
   "cell_type": "code",
   "execution_count": 8,
   "metadata": {},
   "outputs": [
    {
     "name": "stdout",
     "output_type": "stream",
     "text": [
      "Factory                  : \u001b[1mEvaluate all methods\u001b[0m\n",
      "Factory                  : Evaluate classifier: BDT\n",
      "                         : \n",
      "BDT                      : [dataset] : Loop over test events and fill histograms with classifier response...\n",
      "                         : \n",
      "TFHandler_BDT            :      Variable             Mean             RMS     [        Min             Max ]\n",
      "                         : ------------------------------------------------------------------------------------\n",
      "                         :        sample:     1.3088e+08     1.9651e+07   [     1.1215e+08     1.6061e+08 ]\n",
      "                         :   EventWeight:       0.013686       0.088333   [       -0.74930         5.6033 ]\n",
      "                         :   EventNumber:     6.3585e+08     9.6124e+08   [         60044.     5.9965e+09 ]\n",
      "                         :      m_region:     1.1998e+08     7.5119e+06   [     1.1215e+08     1.5244e+08 ]\n",
      "                         : m_FJNbtagJets:        0.30149        0.58196   [         0.0000         2.0000 ]\n",
      "                         :        m_FJpt:         558.60         163.69   [         250.02         2381.5 ]\n",
      "                         :       m_FJeta:      0.0081465        0.93774   [        -2.0000         1.9998 ]\n",
      "                         :       m_FJphi:       0.018629         1.8117   [        -3.1415         3.1415 ]\n",
      "                         :         m_FJm:         75167.         67776.   [      -0.015625     7.7804e+05 ]\n",
      "                         :        m_DTpt:         530.42         124.25   [         311.65         1824.8 ]\n",
      "                         :       m_DTeta:     -0.0015758        0.92929   [        -2.3484         2.3018 ]\n",
      "                         :       m_DTphi:      -0.018365         1.8097   [        -3.1416         3.1415 ]\n",
      "                         :         m_DTm:     1.6511e+05         43361.   [         48512.     6.4584e+05 ]\n",
      "                         :   m_dPhiFTwDT:         2.9815        0.22857   [       0.020806         3.1416 ]\n",
      "                         :     m_dRFJwDT:         3.2060        0.33949   [         1.0891         4.9019 ]\n",
      "                         :  m_dPhiDTwMET:       0.010585         1.5567   [        -3.1415         3.1415 ]\n",
      "                         :         m_MET:         114.34         113.74   [         10.004         1222.6 ]\n",
      "                         :         m_hhm:         1308.6         383.18   [         487.02         4905.9 ]\n",
      "                         :      m_bbttpt:         164.10         141.04   [        0.34051         2556.7 ]\n",
      "                         : ------------------------------------------------------------------------------------\n",
      "                         : \n",
      "                         : Evaluation results ranked by best signal efficiency and purity (area)\n",
      "                         : -------------------------------------------------------------------------------------------------------------------\n",
      "                         : DataSet       MVA                       \n",
      "                         : Name:         Method:          ROC-integ\n",
      "                         : dataset       BDT            : 1.000\n",
      "                         : -------------------------------------------------------------------------------------------------------------------\n",
      "                         : \n",
      "                         : Testing efficiency compared to training efficiency (overtraining check)\n",
      "                         : -------------------------------------------------------------------------------------------------------------------\n",
      "                         : DataSet              MVA              Signal efficiency: from test sample (from training sample) \n",
      "                         : Name:                Method:          @B=0.01             @B=0.10            @B=0.30   \n",
      "                         : -------------------------------------------------------------------------------------------------------------------\n",
      "                         : dataset              BDT            : 1.000 (1.000)       1.000 (1.000)      1.000 (1.000)\n",
      "                         : -------------------------------------------------------------------------------------------------------------------\n",
      "                         : \n",
      "Dataset:dataset          : Created tree 'TestTree' with 44157 events\n",
      "                         : \n",
      "Dataset:dataset          : Created tree 'TrainTree' with 40000 events\n",
      "                         : \n",
      "Factory                  : \u001b[1mThank you for using TMVA!\u001b[0m\n",
      "                         : \u001b[1mFor citation information, please visit: http://tmva.sf.net/citeTMVA.html\u001b[0m\n"
     ]
    }
   ],
   "source": [
    "factory.EvaluateAllMethods()"
   ]
  },
  {
   "cell_type": "markdown",
   "metadata": {},
   "source": [
    "## Plot ROC Curve\n",
    "We enable JavaScript visualisation for the plots"
   ]
  },
  {
   "cell_type": "code",
   "execution_count": 9,
   "metadata": {},
   "outputs": [
    {
     "data": {
      "image/png": "[encoded data removed]",
      "text/plain": [
       "<IPython.core.display.Image object>"
      ]
     },
     "metadata": {},
     "output_type": "display_data"
    }
   ],
   "source": [
    "c1 = factory.GetROCCurve(loader)\n",
    "c1.Draw()"
   ]
  },
  {
   "cell_type": "code",
   "execution_count": null,
   "metadata": {},
   "outputs": [],
   "source": []
  }
 ],
 "metadata": {
  "kernelspec": {
   "display_name": "Python 3",
   "language": "python",
   "name": "python3"
  },
  "language_info": {
   "codemirror_mode": {
    "name": "ipython",
    "version": 3
   },
   "file_extension": ".py",
   "mimetype": "text/x-python",
   "name": "python",
   "nbconvert_exporter": "python",
   "pygments_lexer": "ipython3",
   "version": "3.5.5"
  }
 },
 "nbformat": 4,
 "nbformat_minor": 2
}
