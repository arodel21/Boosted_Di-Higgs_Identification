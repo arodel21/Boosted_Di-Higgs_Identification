{
 "cells": [
  {
   "cell_type": "markdown",
   "metadata": {},
   "source": [
    "# <center>TMVA Classification Using BDT</center>\n",
    "\n",
    "In this notebook we still classify di-Higgs new data with Boosted Decision Trees meethod."
   ]
  },
  {
   "cell_type": "code",
   "execution_count": 5,
   "metadata": {},
   "outputs": [],
   "source": [
    "import ROOT\n",
    "from ROOT import TMVA, TTree\n",
    "\n",
    "\n",
    "ROOT.TMVA.Tools.Instance()\n",
    "## For PYMVA methods\n",
    "TMVA.PyMethodBase.PyInitialize()"
   ]
  },
  {
   "cell_type": "markdown",
   "metadata": {},
   "source": [
    "### Filter dataset by region.\n",
    "\n",
    "This function will let you filter your dataset by region. It's known that SR_1tag is very signal poor, while SR_2tag has a lot a signal."
   ]
  },
  {
   "cell_type": "code",
   "execution_count": 8,
   "metadata": {},
   "outputs": [],
   "source": [
    "def filter_region(file, region, signal, newfile):\n",
    "    oldfile = ROOT.TFile(file)\n",
    "    oldtree = oldfile.Nominal\n",
    "    signal_file = ROOT.TFile(newfile+\"_s.root\",\"recreate\")\n",
    "    signal_tree = oldtree.CloneTree(0)\n",
    "    backg_file = ROOT.TFile(newfile+\"_b.root\",\"recreate\")\n",
    "    backg_tree = oldtree.CloneTree(0)\n",
    "    for entry in oldtree:\n",
    "        if (entry.m_region == region):\n",
    "            if (entry.sample == \"data\"):\n",
    "                continue\n",
    "            elif (entry.sample == signal):\n",
    "                signal_tree.Fill()\n",
    "            else:\n",
    "                backg_tree.Fill()\n",
    "    signal_tree.AutoSave()   \n",
    "    backg_tree.AutoSave()\n",
    "    return signal_tree, signal_file, backg_tree, backg_file\n",
    "\n",
    "#Use as\n",
    "#tree, file = filter_region(\"data.root\", \"SR_1tag\", \"small.root\")"
   ]
  },
  {
   "cell_type": "markdown",
   "metadata": {},
   "source": [
    "## Declare Factory and Input Data"
   ]
  },
  {
   "cell_type": "markdown",
   "metadata": {},
   "source": [
    "data.root has unlabeled data points (called data) and fakes points. For the background training we'll use only the fakes points."
   ]
  },
  {
   "cell_type": "code",
   "execution_count": 9,
   "metadata": {},
   "outputs": [],
   "source": [
    "signal_tree, signal_file, backg_tree, backg_file = filter_region(\"all_1000.root\", \"SR_2tag\", \"Xtohh1000\", \"new\")"
   ]
  },
  {
   "cell_type": "code",
   "execution_count": 10,
   "metadata": {},
   "outputs": [
    {
     "name": "stdout",
     "output_type": "stream",
     "text": [
      "******************************************************************************\n",
      "*Tree    :Nominal   : Nominal                                                *\n",
      "*Entries :     3177 : Total =          324656 bytes  File  Size =     190987 *\n",
      "*        :          : Tree compression factor =   9.26                       *\n",
      "******************************************************************************\n",
      "*Br    0 :sample    : string                                                 *\n",
      "*Entries :     3177 : Total  Size=      45231 bytes  File Size  =       2768 *\n",
      "*Baskets :        1 : Basket Size=      32000 bytes  Compression=   9.00     *\n",
      "*............................................................................*\n",
      "*Br    1 :EventWeight : EventWeight/F                                        *\n",
      "*Entries :     3177 : Total  Size=      13395 bytes  One basket in memory    *\n",
      "*Baskets :        0 : Basket Size=      32000 bytes  Compression=   1.00     *\n",
      "*............................................................................*\n",
      "*Br    2 :EventNumber : EventNumber/l                                        *\n",
      "*Entries :     3177 : Total  Size=      26111 bytes  One basket in memory    *\n",
      "*Baskets :        0 : Basket Size=      32000 bytes  Compression=   1.00     *\n",
      "*............................................................................*\n",
      "*Br    3 :m_region  : string                                                 *\n",
      "*Entries :     3177 : Total  Size=      38891 bytes  File Size  =       2514 *\n",
      "*Baskets :        1 : Basket Size=      32000 bytes  Compression=   9.56     *\n",
      "*............................................................................*\n",
      "*Br    4 :m_FJNbtagJets : m_FJNbtagJets/I                                    *\n",
      "*Entries :     3177 : Total  Size=      13407 bytes  One basket in memory    *\n",
      "*Baskets :        0 : Basket Size=      32000 bytes  Compression=   1.00     *\n",
      "*............................................................................*\n",
      "*Br    5 :m_FJpt    : m_FJpt/F                                               *\n",
      "*Entries :     3177 : Total  Size=      13365 bytes  One basket in memory    *\n",
      "*Baskets :        0 : Basket Size=      32000 bytes  Compression=   1.00     *\n",
      "*............................................................................*\n",
      "*Br    6 :m_FJeta   : m_FJeta/F                                              *\n",
      "*Entries :     3177 : Total  Size=      13371 bytes  One basket in memory    *\n",
      "*Baskets :        0 : Basket Size=      32000 bytes  Compression=   1.00     *\n",
      "*............................................................................*\n",
      "*Br    7 :m_FJphi   : m_FJphi/F                                              *\n",
      "*Entries :     3177 : Total  Size=      13371 bytes  One basket in memory    *\n",
      "*Baskets :        0 : Basket Size=      32000 bytes  Compression=   1.00     *\n",
      "*............................................................................*\n",
      "*Br    8 :m_FJm     : m_FJm/F                                                *\n",
      "*Entries :     3177 : Total  Size=      13359 bytes  One basket in memory    *\n",
      "*Baskets :        0 : Basket Size=      32000 bytes  Compression=   1.00     *\n",
      "*............................................................................*\n",
      "*Br    9 :m_DTpt    : m_DTpt/F                                               *\n",
      "*Entries :     3177 : Total  Size=      13365 bytes  One basket in memory    *\n",
      "*Baskets :        0 : Basket Size=      32000 bytes  Compression=   1.00     *\n",
      "*............................................................................*\n",
      "*Br   10 :m_DTeta   : m_DTeta/F                                              *\n",
      "*Entries :     3177 : Total  Size=      13371 bytes  One basket in memory    *\n",
      "*Baskets :        0 : Basket Size=      32000 bytes  Compression=   1.00     *\n",
      "*............................................................................*\n",
      "*Br   11 :m_DTphi   : m_DTphi/F                                              *\n",
      "*Entries :     3177 : Total  Size=      13371 bytes  One basket in memory    *\n",
      "*Baskets :        0 : Basket Size=      32000 bytes  Compression=   1.00     *\n",
      "*............................................................................*\n",
      "*Br   12 :m_DTm     : m_DTm/F                                                *\n",
      "*Entries :     3177 : Total  Size=      13359 bytes  One basket in memory    *\n",
      "*Baskets :        0 : Basket Size=      32000 bytes  Compression=   1.00     *\n",
      "*............................................................................*\n",
      "*Br   13 :m_dPhiFTwDT : m_dPhiFTwDT/F                                        *\n",
      "*Entries :     3177 : Total  Size=      13395 bytes  One basket in memory    *\n",
      "*Baskets :        0 : Basket Size=      32000 bytes  Compression=   1.00     *\n",
      "*............................................................................*\n",
      "*Br   14 :m_dRFJwDT : m_dRFJwDT/F                                            *\n",
      "*Entries :     3177 : Total  Size=      13383 bytes  One basket in memory    *\n",
      "*Baskets :        0 : Basket Size=      32000 bytes  Compression=   1.00     *\n",
      "*............................................................................*\n",
      "*Br   15 :m_dPhiDTwMET : m_dPhiDTwMET/F                                      *\n",
      "*Entries :     3177 : Total  Size=      13401 bytes  One basket in memory    *\n",
      "*Baskets :        0 : Basket Size=      32000 bytes  Compression=   1.00     *\n",
      "*............................................................................*\n",
      "*Br   16 :m_MET     : m_MET/F                                                *\n",
      "*Entries :     3177 : Total  Size=      13359 bytes  One basket in memory    *\n",
      "*Baskets :        0 : Basket Size=      32000 bytes  Compression=   1.00     *\n",
      "*............................................................................*\n",
      "*Br   17 :m_hhm     : m_hhm/F                                                *\n",
      "*Entries :     3177 : Total  Size=      13359 bytes  One basket in memory    *\n",
      "*Baskets :        0 : Basket Size=      32000 bytes  Compression=   1.00     *\n",
      "*............................................................................*\n",
      "*Br   18 :m_bbttpt  : m_bbttpt/F                                             *\n",
      "*Entries :     3177 : Total  Size=      13377 bytes  One basket in memory    *\n",
      "*Baskets :        0 : Basket Size=      32000 bytes  Compression=   1.00     *\n",
      "*............................................................................*\n"
     ]
    }
   ],
   "source": [
    "outputFile = ROOT.TFile.Open(\"Higgs_ClassificationOutput.root\", \"RECREATE\")\n",
    "\n",
    "# Factory\n",
    "factory = ROOT.TMVA.Factory(\"TMVA_Higgs_Classification\", outputFile,\n",
    "                      \"!V:ROC:!Silent:Color:!DrawProgressBar:AnalysisType=Classification\" )\n",
    "\n",
    "signal_tree.Print()"
   ]
  },
  {
   "cell_type": "markdown",
   "metadata": {},
   "source": [
    "## Declare DataLoader(s)\n",
    "\n",
    "The next step is to declare the DataLoader class that deals with input data abd variables \n",
    "\n",
    "We add first the signal and background trees in the data loader and then we\n",
    "define the input variables that shall be used for the MVA training\n",
    "note that you may also use variable expressions, which can be parsed by TTree::Draw( \"expression\" )]"
   ]
  },
  {
   "cell_type": "code",
   "execution_count": 11,
   "metadata": {},
   "outputs": [
    {
     "name": "stdout",
     "output_type": "stream",
     "text": [
      "DataSetInfo              : [dataset] : Added class \"Signal\"\n",
      "                         : Add Tree Nominal of type Signal with 3177 events\n",
      "DataSetInfo              : [dataset] : Added class \"Background\"\n",
      "                         : Add Tree Nominal of type Background with 439 events\n"
     ]
    }
   ],
   "source": [
    "loader = ROOT.TMVA.DataLoader(\"dataset\")\n",
    "\n",
    "### global event weights per tree (see below for setting event-wise weights)\n",
    "signalWeight     = 1.0\n",
    "backgroundWeight = 1.0\n",
    "   \n",
    "### You can add an arbitrary number of signal or background trees\n",
    "loader.AddSignalTree    ( signal_tree,     signalWeight     )\n",
    "loader.AddBackgroundTree( backg_tree, backgroundWeight )\n",
    "\n",
    "not_cons = ['sample', 'EventWeight', 'EventNumber', 'm_region', 'm_FJNbtagJets', 'm_FJphi', 'm_FJeta', 'm_DTeta', 'm_DTphi']\n",
    "\n",
    "## Define input variables \n",
    "for branch in backg_tree.GetListOfBranches():\n",
    "    if branch.GetName() in not_cons:\n",
    "        continue\n",
    "    loader.AddVariable(branch.GetName())"
   ]
  },
  {
   "cell_type": "markdown",
   "metadata": {},
   "source": [
    "There are:\n",
    "- 79336 signal events\n",
    "- 231046 background events"
   ]
  },
  {
   "cell_type": "markdown",
   "metadata": {},
   "source": [
    "## Setup Dataset(s)\n",
    "\n",
    "Setup the DataLoader by splitting events in training and test samples. \n",
    "Here we use a random split and a fixed number of training and test events.\n"
   ]
  },
  {
   "cell_type": "code",
   "execution_count": 12,
   "metadata": {},
   "outputs": [],
   "source": [
    "## Apply additional cuts on the signal and background samples (can be different)\n",
    "mycuts = ROOT.TCut(\"\")   ## for example: TCut mycuts = \"abs(var1)<0.5 && abs(var2-0.5)<1\";\n",
    "mycutb = ROOT.TCut(\"\")   ## for example: TCut mycutb = \"abs(var1)<0.5\";\n",
    "\n",
    "\n",
    "loader.PrepareTrainingAndTestTree(mycuts, mycutb,\n",
    "                                  \"nTrain_Signal=2000:nTrain_Background=300:SplitMode=Random:\"\n",
    "                                   \"NormMode=NumEvents:!V\" )"
   ]
  },
  {
   "cell_type": "markdown",
   "metadata": {},
   "source": [
    "## BDT"
   ]
  },
  {
   "cell_type": "code",
   "execution_count": 13,
   "metadata": {},
   "outputs": [
    {
     "data": {
      "text/plain": [
       "<ROOT.TMVA::MethodBDT object (\"BDT\") at 0x7e2f7c0>"
      ]
     },
     "execution_count": 13,
     "metadata": {},
     "output_type": "execute_result"
    },
    {
     "name": "stdout",
     "output_type": "stream",
     "text": [
      "Factory                  : Booking method: \u001b[1mBDT\u001b[0m\n",
      "                         : \n",
      "DataSetFactory           : [dataset] : Number of events in input trees\n",
      "                         : \n",
      "                         : \n",
      "                         : Number of training and testing events\n",
      "                         : ---------------------------------------------------------------------------\n",
      "                         : Signal     -- training events            : 2000\n",
      "                         : Signal     -- testing events             : 1177\n",
      "                         : Signal     -- training and testing events: 3177\n",
      "                         : Background -- training events            : 300\n",
      "                         : Background -- testing events             : 139\n",
      "                         : Background -- training and testing events: 439\n",
      "                         : \n",
      "DataSetInfo              : Correlation matrix (Signal):\n",
      "                         : ---------------------------------------------------------------------------------------------------------\n",
      "                         :                m_FJpt   m_FJm  m_DTpt   m_DTm m_dPhiFTwDT m_dRFJwDT m_dPhiDTwMET   m_MET   m_hhm m_bbttpt\n",
      "                         :       m_FJpt:  +1.000  +0.315  -0.116  -0.066      -0.232    -0.256       -0.004  +0.310  +0.428   +0.414\n",
      "                         :        m_FJm:  +0.315  +1.000  +0.123  +0.014      +0.100    +0.127       -0.026  +0.194  +0.476   -0.021\n",
      "                         :       m_DTpt:  -0.116  +0.123  +1.000  +0.642      -0.053    -0.061       -0.006  -0.170  +0.561   +0.088\n",
      "                         :        m_DTm:  -0.066  +0.014  +0.642  +1.000      +0.094    +0.094       -0.019  -0.218  +0.470   -0.102\n",
      "                         :  m_dPhiFTwDT:  -0.232  +0.100  -0.053  +0.094      +1.000    +0.963       -0.006  -0.283  +0.214   -0.921\n",
      "                         :    m_dRFJwDT:  -0.256  +0.127  -0.061  +0.094      +0.963    +1.000       -0.012  -0.286  +0.291   -0.908\n",
      "                         : m_dPhiDTwMET:  -0.004  -0.026  -0.006  -0.019      -0.006    -0.012       +1.000  +0.007  -0.010   -0.008\n",
      "                         :        m_MET:  +0.310  +0.194  -0.170  -0.218      -0.283    -0.286       +0.007  +1.000  -0.024   +0.342\n",
      "                         :        m_hhm:  +0.428  +0.476  +0.561  +0.470      +0.214    +0.291       -0.010  -0.024  +1.000   -0.106\n",
      "                         :     m_bbttpt:  +0.414  -0.021  +0.088  -0.102      -0.921    -0.908       -0.008  +0.342  -0.106   +1.000\n",
      "                         : ---------------------------------------------------------------------------------------------------------\n",
      "DataSetInfo              : Correlation matrix (Background):\n",
      "                         : ---------------------------------------------------------------------------------------------------------\n",
      "                         :                m_FJpt   m_FJm  m_DTpt   m_DTm m_dPhiFTwDT m_dRFJwDT m_dPhiDTwMET   m_MET   m_hhm m_bbttpt\n",
      "                         :       m_FJpt:  +1.000  +0.307  +0.436  +0.077      +0.070    +0.002       -0.014  +0.649  +0.603   +0.515\n",
      "                         :        m_FJm:  +0.307  +1.000  +0.123  +0.034      -0.039    -0.111       +0.021  +0.223  +0.131   +0.170\n",
      "                         :       m_DTpt:  +0.436  +0.123  +1.000  +0.534      +0.214    +0.106       -0.005  +0.013  +0.555   -0.109\n",
      "                         :        m_DTm:  +0.077  +0.034  +0.534  +1.000      +0.090    +0.063       -0.036  -0.072  +0.253   -0.114\n",
      "                         :  m_dPhiFTwDT:  +0.070  -0.039  +0.214  +0.090      +1.000    +0.649       -0.029  -0.124  +0.167   -0.668\n",
      "                         :    m_dRFJwDT:  +0.002  -0.111  +0.106  +0.063      +0.649    +1.000       -0.008  -0.142  +0.604   -0.477\n",
      "                         : m_dPhiDTwMET:  -0.014  +0.021  -0.005  -0.036      -0.029    -0.008       +1.000  -0.010  -0.004   +0.029\n",
      "                         :        m_MET:  +0.649  +0.223  +0.013  -0.072      -0.124    -0.142       -0.010  +1.000  +0.235   +0.578\n",
      "                         :        m_hhm:  +0.603  +0.131  +0.555  +0.253      +0.167    +0.604       -0.004  +0.235  +1.000   +0.121\n",
      "                         :     m_bbttpt:  +0.515  +0.170  -0.109  -0.114      -0.668    -0.477       +0.029  +0.578  +0.121   +1.000\n",
      "                         : ---------------------------------------------------------------------------------------------------------\n",
      "DataSetFactory           : [dataset] :  \n",
      "                         : \n"
     ]
    }
   ],
   "source": [
    "## Boosted Decision Trees\n",
    "factory.BookMethod(loader,ROOT.TMVA.Types.kBDT, \"BDT\",\n",
    "                   \"!V:NTrees=3000:MinNodeSize=5%:MaxDepth=1:BoostType=AdaBoost:AdaBoostBeta=0.5:UseBaggedBoost:\"\n",
    "                   \"BaggedSampleFraction=0.5:SeparationType=GiniIndex:nCuts=20\" )"
   ]
  },
  {
   "cell_type": "markdown",
   "metadata": {},
   "source": [
    "## Train Methods"
   ]
  },
  {
   "cell_type": "code",
   "execution_count": 14,
   "metadata": {},
   "outputs": [
    {
     "name": "stdout",
     "output_type": "stream",
     "text": [
      "Factory                  : \u001b[1mTrain all methods\u001b[0m\n",
      "Factory                  : [dataset] : Create Transformation \"I\" with events from all classes.\n",
      "                         : \n",
      "                         : Transformation, Variable selection : \n",
      "                         : Input : variable 'm_FJpt' <---> Output : variable 'm_FJpt'\n",
      "                         : Input : variable 'm_FJm' <---> Output : variable 'm_FJm'\n",
      "                         : Input : variable 'm_DTpt' <---> Output : variable 'm_DTpt'\n",
      "                         : Input : variable 'm_DTm' <---> Output : variable 'm_DTm'\n",
      "                         : Input : variable 'm_dPhiFTwDT' <---> Output : variable 'm_dPhiFTwDT'\n",
      "                         : Input : variable 'm_dRFJwDT' <---> Output : variable 'm_dRFJwDT'\n",
      "                         : Input : variable 'm_dPhiDTwMET' <---> Output : variable 'm_dPhiDTwMET'\n",
      "                         : Input : variable 'm_MET' <---> Output : variable 'm_MET'\n",
      "                         : Input : variable 'm_hhm' <---> Output : variable 'm_hhm'\n",
      "                         : Input : variable 'm_bbttpt' <---> Output : variable 'm_bbttpt'\n",
      "TFHandler_Factory        :     Variable            Mean            RMS    [        Min            Max ]\n",
      "                         : -------------------------------------------------------------------------------\n",
      "                         :       m_FJpt:        499.66        106.45   [        257.18        1776.3 ]\n",
      "                         :        m_FJm:    1.2973e+05        44854.   [        8574.9    4.6250e+05 ]\n",
      "                         :       m_DTpt:        440.51        81.824   [        317.07        1128.0 ]\n",
      "                         :        m_DTm:    1.5278e+05        33215.   [        64141.    3.3107e+05 ]\n",
      "                         :  m_dPhiFTwDT:        2.8653       0.40556   [      0.098329        3.1416 ]\n",
      "                         :    m_dRFJwDT:        2.9454       0.37307   [        1.1776        4.3342 ]\n",
      "                         : m_dPhiDTwMET:     0.0011522       0.36293   [       -1.0150        1.0202 ]\n",
      "                         :        m_MET:        120.46        83.261   [        10.092        1076.8 ]\n",
      "                         :        m_hhm:        1008.1        209.88   [        616.80        2978.4 ]\n",
      "                         :     m_bbttpt:        183.70        177.53   [       0.96082        1461.6 ]\n",
      "                         : -------------------------------------------------------------------------------\n",
      "                         : Ranking input variables (method unspecific)...\n",
      "IdTransformation         : Ranking result (top variable is best ranked)\n",
      "                         : -------------------------------------\n",
      "                         : Rank : Variable     : Separation\n",
      "                         : -------------------------------------\n",
      "                         :    1 : m_hhm        : 4.351e-01\n",
      "                         :    2 : m_FJm        : 3.498e-01\n",
      "                         :    3 : m_dRFJwDT    : 2.112e-01\n",
      "                         :    4 : m_FJpt       : 1.855e-01\n",
      "                         :    5 : m_DTpt       : 1.481e-01\n",
      "                         :    6 : m_MET        : 1.072e-01\n",
      "                         :    7 : m_DTm        : 6.410e-02\n",
      "                         :    8 : m_dPhiDTwMET : 4.849e-02\n",
      "                         :    9 : m_dPhiFTwDT  : 3.873e-02\n",
      "                         :   10 : m_bbttpt     : 3.536e-02\n",
      "                         : -------------------------------------\n",
      "Factory                  : Train method: BDT for Classification\n",
      "                         : \n",
      "BDT                      : #events: (reweighted) sig: 1150 bkg: 1150\n",
      "                         : #events: (unweighted) sig: 2000 bkg: 300\n",
      "                         : Training 3000 Decision Trees ... patience please\n",
      "                         : Elapsed time for training with 2300 events: 2.09 sec         \n",
      "BDT                      : [dataset] : Evaluation of BDT on training sample (2300 events)\n",
      "                         : Elapsed time for evaluation of 2300 events: 0.333 sec       \n",
      "                         : Creating xml weight file: \u001b[0;36mdataset/weights/TMVA_Higgs_Classification_BDT.weights.xml\u001b[0m\n",
      "                         : Creating standalone class: \u001b[0;36mdataset/weights/TMVA_Higgs_Classification_BDT.class.C\u001b[0m\n",
      "                         : Higgs_ClassificationOutput.root:/dataset/Method_BDT/BDT\n",
      "Factory                  : Training finished\n",
      "                         : \n",
      "                         : Ranking input variables (method specific)...\n",
      "BDT                      : Ranking result (top variable is best ranked)\n",
      "                         : ----------------------------------------------\n",
      "                         : Rank : Variable     : Variable Importance\n",
      "                         : ----------------------------------------------\n",
      "                         :    1 : m_FJm        : 1.338e-01\n",
      "                         :    2 : m_DTm        : 1.180e-01\n",
      "                         :    3 : m_dPhiDTwMET : 1.174e-01\n",
      "                         :    4 : m_hhm        : 1.113e-01\n",
      "                         :    5 : m_DTpt       : 9.946e-02\n",
      "                         :    6 : m_dRFJwDT    : 9.163e-02\n",
      "                         :    7 : m_MET        : 9.155e-02\n",
      "                         :    8 : m_bbttpt     : 8.656e-02\n",
      "                         :    9 : m_FJpt       : 7.960e-02\n",
      "                         :   10 : m_dPhiFTwDT  : 7.070e-02\n",
      "                         : ----------------------------------------------\n",
      "Factory                  : === Destroy and recreate all methods via weight files for testing ===\n",
      "                         : \n",
      "                         : Reading weight file: \u001b[0;36mdataset/weights/TMVA_Higgs_Classification_BDT.weights.xml\u001b[0m\n"
     ]
    }
   ],
   "source": [
    "factory.TrainAllMethods()"
   ]
  },
  {
   "cell_type": "markdown",
   "metadata": {},
   "source": [
    "## Test  all methods\n",
    "\n",
    "Here we test all methods using the test data set"
   ]
  },
  {
   "cell_type": "code",
   "execution_count": 15,
   "metadata": {},
   "outputs": [
    {
     "name": "stdout",
     "output_type": "stream",
     "text": [
      "Factory                  : \u001b[1mTest all methods\u001b[0m\n",
      "Factory                  : Test method: BDT for Classification performance\n",
      "                         : \n",
      "BDT                      : [dataset] : Evaluation of BDT on testing sample (1316 events)\n",
      "                         : Elapsed time for evaluation of 1316 events: 0.172 sec       \n"
     ]
    }
   ],
   "source": [
    "factory.TestAllMethods()"
   ]
  },
  {
   "cell_type": "markdown",
   "metadata": {},
   "source": [
    "## Evaluate all methods\n",
    "\n",
    "Here we evaluate all methods and compare their performances, computing efficiencies, ROC curves etc.. using both training and tetsing data sets. Several histograms are produced which can be examined with the TMVAGui or directly using the output file"
   ]
  },
  {
   "cell_type": "code",
   "execution_count": 16,
   "metadata": {},
   "outputs": [
    {
     "name": "stdout",
     "output_type": "stream",
     "text": [
      "Factory                  : \u001b[1mEvaluate all methods\u001b[0m\n",
      "Factory                  : Evaluate classifier: BDT\n",
      "                         : \n",
      "BDT                      : [dataset] : Loop over test events and fill histograms with classifier response...\n",
      "                         : \n",
      "TFHandler_BDT            :     Variable            Mean            RMS    [        Min            Max ]\n",
      "                         : -------------------------------------------------------------------------------\n",
      "                         :       m_FJpt:        503.98        100.66   [        262.65        1263.1 ]\n",
      "                         :        m_FJm:    1.2795e+05        43203.   [        0.0000    4.3556e+05 ]\n",
      "                         :       m_DTpt:        438.83        81.893   [        311.12        909.04 ]\n",
      "                         :        m_DTm:    1.5297e+05        33864.   [        58002.    3.6946e+05 ]\n",
      "                         :  m_dPhiFTwDT:        2.8344       0.45603   [      0.028513        3.1414 ]\n",
      "                         :    m_dRFJwDT:        2.9125       0.41440   [        1.1346        4.2869 ]\n",
      "                         : m_dPhiDTwMET:    -0.0094542       0.36606   [      -0.99701       0.99412 ]\n",
      "                         :        m_MET:        117.14        77.660   [        10.786        613.30 ]\n",
      "                         :        m_hhm:        1000.8        216.85   [        607.83        3737.6 ]\n",
      "                         :     m_bbttpt:        201.14        207.88   [        3.9439        1511.6 ]\n",
      "                         : -------------------------------------------------------------------------------\n",
      "                         : \n",
      "                         : Evaluation results ranked by best signal efficiency and purity (area)\n",
      "                         : -------------------------------------------------------------------------------------------------------------------\n",
      "                         : DataSet       MVA                       \n",
      "                         : Name:         Method:          ROC-integ\n",
      "                         : dataset       BDT            : 0.929\n",
      "                         : -------------------------------------------------------------------------------------------------------------------\n",
      "                         : \n",
      "                         : Testing efficiency compared to training efficiency (overtraining check)\n",
      "                         : -------------------------------------------------------------------------------------------------------------------\n",
      "                         : DataSet              MVA              Signal efficiency: from test sample (from training sample) \n",
      "                         : Name:                Method:          @B=0.01             @B=0.10            @B=0.30   \n",
      "                         : -------------------------------------------------------------------------------------------------------------------\n",
      "                         : dataset              BDT            : 0.129 (0.315)       0.792 (0.840)      0.960 (0.975)\n",
      "                         : -------------------------------------------------------------------------------------------------------------------\n",
      "                         : \n",
      "Dataset:dataset          : Created tree 'TestTree' with 1316 events\n",
      "                         : \n",
      "Dataset:dataset          : Created tree 'TrainTree' with 2300 events\n",
      "                         : \n",
      "Factory                  : \u001b[1mThank you for using TMVA!\u001b[0m\n",
      "                         : \u001b[1mFor citation information, please visit: http://tmva.sf.net/citeTMVA.html\u001b[0m\n"
     ]
    }
   ],
   "source": [
    "factory.EvaluateAllMethods()"
   ]
  },
  {
   "cell_type": "markdown",
   "metadata": {},
   "source": [
    "## Plot ROC Curve\n",
    "We enable JavaScript visualisation for the plots"
   ]
  },
  {
   "cell_type": "code",
   "execution_count": 17,
   "metadata": {},
   "outputs": [
    {
     "data": {
      "image/png": "[encoded data removed]",
      "text/plain": [
       "<IPython.core.display.Image object>"
      ]
     },
     "metadata": {},
     "output_type": "display_data"
    }
   ],
   "source": [
    "c1 = factory.GetROCCurve(loader)\n",
    "c1.Draw()"
   ]
  },
  {
   "cell_type": "code",
   "execution_count": 18,
   "metadata": {},
   "outputs": [],
   "source": [
    "outputFile.Close()"
   ]
  },
  {
   "cell_type": "code",
   "execution_count": null,
   "metadata": {},
   "outputs": [],
   "source": []
  }
 ],
 "metadata": {
  "kernelspec": {
   "display_name": "Python 3",
   "language": "python",
   "name": "python3"
  },
  "language_info": {
   "codemirror_mode": {
    "name": "ipython",
    "version": 3
   },
   "file_extension": ".py",
   "mimetype": "text/x-python",
   "name": "python",
   "nbconvert_exporter": "python",
   "pygments_lexer": "ipython3",
   "version": "3.5.5"
  }
 },
 "nbformat": 4,
 "nbformat_minor": 2
}
