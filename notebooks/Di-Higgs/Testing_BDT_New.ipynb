{
 "cells": [
  {
   "cell_type": "markdown",
   "metadata": {},
   "source": [
    "# <center>TMVA Classification Using BDT</center>\n",
    "\n",
    "In this notebook we still classify di-Higgs new data with Boosted Decision Trees meethod."
   ]
  },
  {
   "cell_type": "code",
   "execution_count": 63,
   "metadata": {},
   "outputs": [],
   "source": [
    "import ROOT\n",
    "from ROOT import TMVA, TTree\n",
    "from ROOT import TCanvas, TColor, TGaxis, TH1F, TPad\n",
    "\n",
    "ROOT.TMVA.Tools.Instance()\n",
    "## For PYMVA methods\n",
    "TMVA.PyMethodBase.PyInitialize()\n",
    "\n",
    "import itertools\n",
    "\n",
    "from sklearn.metrics import classification_report\n",
    "from sklearn.metrics import accuracy_score\n",
    "\n",
    "from array import array\n",
    "import numpy as np\n",
    "\n",
    "from IPython.display import Image, display\n"
   ]
  },
  {
   "cell_type": "markdown",
   "metadata": {},
   "source": [
    "### Filter dataset by region.\n",
    "\n",
    "This function will let you filter your dataset by region. It's known that SR_1tag is very signal poor, while SR_2tag has a lot a signal."
   ]
  },
  {
   "cell_type": "code",
   "execution_count": 29,
   "metadata": {},
   "outputs": [],
   "source": [
    "def filter_region(file, region, signal):\n",
    "    oldfile = ROOT.TFile(file)\n",
    "    oldtree = oldfile.Nominal\n",
    "    signal_file = ROOT.TFile(region+\"_\"+signal+\"_s.root\",\"recreate\")\n",
    "    signal_tree = oldtree.CloneTree(0)\n",
    "    backg_file = ROOT.TFile(region+\"_\"+signal+\"_b.root\",\"recreate\")\n",
    "    backg_tree = oldtree.CloneTree(0)\n",
    "    data_file = ROOT.TFile(region+\"_\"+signal+\"_d.root\",\"recreate\")\n",
    "    data_tree = oldtree.CloneTree(0)\n",
    "    for entry in oldtree:\n",
    "        if (entry.m_region == region):\n",
    "            if (entry.sample == \"data\"):\n",
    "                data_tree.Fill()\n",
    "            elif (entry.sample == \"Xtohh1000\"): #signal\n",
    "                signal_tree.Fill()\n",
    "            else:\n",
    "                backg_tree.Fill()\n",
    "    signal_tree.AutoSave()   \n",
    "    backg_tree.AutoSave()\n",
    "    data_tree.AutoSave()\n",
    "    return signal_tree, signal_file, backg_tree, backg_file, data_tree, data_file\n",
    "\n",
    "#Use as\n",
    "#tree, file = filter_region(\"data.root\", \"SR_1tag\", \"small.root\")"
   ]
  },
  {
   "cell_type": "markdown",
   "metadata": {},
   "source": [
    "## Declare Factory and Input Data"
   ]
  },
  {
   "cell_type": "markdown",
   "metadata": {},
   "source": [
    "data.root has unlabeled data points (called data) and fakes points. For the background training we'll use only the fakes points."
   ]
  },
  {
   "cell_type": "code",
   "execution_count": 30,
   "metadata": {},
   "outputs": [],
   "source": [
    "signal_tree, signal_file, backg_tree, backg_file, data_tree, data_file = filter_region(\"all_1000.root\", \"SR_1tag\", \"Xtohh1000\")\n",
    "\n",
    "outputFile = ROOT.TFile.Open(\"Higgs_ClassificationOutput.root\", \"RECREATE\")\n",
    "\n",
    "# Factory\n",
    "factory = ROOT.TMVA.Factory(\"TMVA_Higgs_Classification_SR_1tag_Xtohh1000\", outputFile,\n",
    "                      \"!V:ROC:Silent:Color:!DrawProgressBar:AnalysisType=Classification\" )\n",
    "\n",
    "#signal_tree.Print()"
   ]
  },
  {
   "cell_type": "markdown",
   "metadata": {},
   "source": [
    "## Declare DataLoader(s)\n",
    "\n",
    "The next step is to declare the DataLoader class that deals with input data abd variables \n",
    "\n",
    "We add first the signal and background trees in the data loader and then we\n",
    "define the input variables that shall be used for the MVA training\n",
    "note that you may also use variable expressions, which can be parsed by TTree::Draw( \"expression\" )]"
   ]
  },
  {
   "cell_type": "code",
   "execution_count": 31,
   "metadata": {},
   "outputs": [],
   "source": [
    "loader = ROOT.TMVA.DataLoader(\"dataset\")\n",
    "\n",
    "### global event weights per tree (see below for setting event-wise weights)\n",
    "signalWeight     = 1.0\n",
    "backgroundWeight = 1.0\n",
    "   \n",
    "### You can add an arbitrary number of signal or background trees\n",
    "loader.AddSignalTree    ( signal_tree )\n",
    "loader.AddBackgroundTree( backg_tree )\n",
    "loader.SetWeightExpression(\"EventWeight\")\n",
    "\n",
    "not_cons = ['sample', 'EventWeight', 'EventNumber', 'm_region', 'm_FJNbtagJets', 'm_FJphi', 'm_FJeta', 'm_DTeta', 'm_DTphi']\n",
    "\n",
    "## Define input variables \n",
    "for branch in backg_tree.GetListOfBranches():\n",
    "    if branch.GetName() in not_cons:\n",
    "        continue\n",
    "    loader.AddVariable(branch.GetName())"
   ]
  },
  {
   "cell_type": "markdown",
   "metadata": {},
   "source": [
    "There are:\n",
    "- 79336 signal events\n",
    "- 231046 background events"
   ]
  },
  {
   "cell_type": "markdown",
   "metadata": {},
   "source": [
    "## Setup Dataset(s)\n",
    "\n",
    "Setup the DataLoader by splitting events in training and test samples. \n",
    "Here we use a random split and a fixed number of training and test events.\n"
   ]
  },
  {
   "cell_type": "code",
   "execution_count": 32,
   "metadata": {},
   "outputs": [],
   "source": [
    "## Apply additional cuts on the signal and background samples (can be different)\n",
    "mycuts = ROOT.TCut(\"\")   ## for example: TCut mycuts = \"abs(var1)<0.5 && abs(var2-0.5)<1\";\n",
    "mycutb = ROOT.TCut(\"\")   ## for example: TCut mycutb = \"abs(var1)<0.5\";\n",
    "\n",
    "\n",
    "loader.PrepareTrainingAndTestTree(mycuts, mycutb,\n",
    "                                  \"nTrain_Signal=70%:nTrain_Background=70%:SplitMode=Random:\"\n",
    "                                   \"NormMode=NumEvents:!V\")"
   ]
  },
  {
   "cell_type": "markdown",
   "metadata": {},
   "source": [
    "## BDT"
   ]
  },
  {
   "cell_type": "code",
   "execution_count": 33,
   "metadata": {},
   "outputs": [
    {
     "data": {
      "text/plain": [
       "<ROOT.TMVA::MethodBDT object (\"BDT\") at 0xb9cfae0>"
      ]
     },
     "execution_count": 33,
     "metadata": {},
     "output_type": "execute_result"
    }
   ],
   "source": [
    "## Boosted Decision Trees\n",
    "factory.BookMethod(loader, ROOT.TMVA.Types.kBDT, \"BDT\",\n",
    "                   \"!V:NTrees=3000:MinNodeSize=5%:MaxDepth=1:BoostType=AdaBoost:AdaBoostBeta=0.5:UseBaggedBoost:BaggedSampleFraction=0.5:SeparationType=GiniIndex:nCuts=20:VarTransform=N_AllClasses\")"
   ]
  },
  {
   "cell_type": "markdown",
   "metadata": {},
   "source": [
    "## Train, Test and Evaluate Methods"
   ]
  },
  {
   "cell_type": "code",
   "execution_count": 34,
   "metadata": {},
   "outputs": [
    {
     "name": "stdout",
     "output_type": "stream",
     "text": [
      "                         : \n",
      "                         : Evaluation results ranked by best signal efficiency and purity (area)\n",
      "                         : -------------------------------------------------------------------------------------------------------------------\n",
      "                         : DataSet       MVA                       \n",
      "                         : Name:         Method:          ROC-integ\n",
      "                         : dataset       BDT            : 0.788\n",
      "                         : -------------------------------------------------------------------------------------------------------------------\n",
      "                         : \n",
      "                         : Testing efficiency compared to training efficiency (overtraining check)\n",
      "                         : -------------------------------------------------------------------------------------------------------------------\n",
      "                         : DataSet              MVA              Signal efficiency: from test sample (from training sample) \n",
      "                         : Name:                Method:          @B=0.01             @B=0.10            @B=0.30   \n",
      "                         : -------------------------------------------------------------------------------------------------------------------\n",
      "                         : dataset              BDT            : 0.066 (0.617)       0.398 (0.777)      0.727 (0.785)\n",
      "                         : -------------------------------------------------------------------------------------------------------------------\n",
      "                         : \n"
     ]
    }
   ],
   "source": [
    "factory.TrainAllMethods()\n",
    "\n",
    "# Here we test all methods using the test data set\n",
    "factory.TestAllMethods()\n",
    "\n",
    "# Here we evaluate all methods and compare their performances, computing efficiencies, \n",
    "# ROC curves etc.. using both training and tetsing data sets. Several histograms are \n",
    "#produced which can be examined with the TMVAGui or directly using the output file\n",
    "factory.EvaluateAllMethods()"
   ]
  },
  {
   "cell_type": "markdown",
   "metadata": {},
   "source": [
    "## Plot ROC Curve\n",
    "We enable JavaScript visualisation for the plots"
   ]
  },
  {
   "cell_type": "code",
   "execution_count": 35,
   "metadata": {},
   "outputs": [
    {
     "name": "stderr",
     "output_type": "stream",
     "text": [
      "Warning in <TCanvas::Constructor>: Deleting canvas with same name: ROCCurve dataset class 0\n"
     ]
    },
    {
     "data": {
      "image/png": "[encoded data removed]",
      "text/plain": [
       "<IPython.core.display.Image object>"
      ]
     },
     "metadata": {},
     "output_type": "display_data"
    }
   ],
   "source": [
    "c1 = factory.GetROCCurve(loader)\n",
    "c1.Draw()"
   ]
  },
  {
   "cell_type": "markdown",
   "metadata": {},
   "source": [
    "## BDT Complete Function"
   ]
  },
  {
   "cell_type": "code",
   "execution_count": 19,
   "metadata": {},
   "outputs": [],
   "source": [
    "def get_params(file):\n",
    "    params = []\n",
    "    with open(file, 'r') as fp:\n",
    "        line = fp.readline().rstrip()\n",
    "        while line:\n",
    "            params.append(line)\n",
    "            line = fp.readline().rstrip()       \n",
    "    return params"
   ]
  },
  {
   "cell_type": "code",
   "execution_count": 20,
   "metadata": {},
   "outputs": [],
   "source": [
    "def BDT(params, training, config):\n",
    "    \n",
    "    signal_file = config+\"_s.root\"\n",
    "    backg_file = config+\"_b.root\"\n",
    "    output_file = config+\"_BDT_Classification.root\"\n",
    "    \n",
    "    signal_input = ROOT.TFile(signal_file)\n",
    "    signal_tree = signal_input.Nominal\n",
    "    \n",
    "    backg_input = ROOT.TFile(backg_file)\n",
    "    backg_tree = backg_input.Nominal\n",
    "    \n",
    "    outputFile = ROOT.TFile.Open(output_file, \"RECREATE\")\n",
    "\n",
    "    # Factory\n",
    "    factory = ROOT.TMVA.Factory(\"TMVA_Higgs_Classification_\"+config, outputFile,\n",
    "                          \"!V:ROC:Silent:Color:!DrawProgressBar:AnalysisType=Classification\" )\n",
    "\n",
    "    loader = ROOT.TMVA.DataLoader(\"dataset\")\n",
    "\n",
    "    ### global event weights per tree (see below for setting event-wise weights)\n",
    "    signalWeight     = 1.0\n",
    "    backgroundWeight = 1.0\n",
    "\n",
    "    ### You can add an arbitrary number of signal or background trees\n",
    "    loader.AddSignalTree    ( signal_tree )\n",
    "    loader.AddBackgroundTree( backg_tree )\n",
    "    loader.SetWeightExpression(\"EventWeight\")\n",
    "\n",
    "    not_cons = ['sample', 'EventWeight', 'EventNumber', 'm_region', 'm_FJNbtagJets', 'm_FJphi', 'm_FJeta', 'm_DTeta', 'm_DTphi']\n",
    "\n",
    "    ## Define input variables \n",
    "    for branch in backg_tree.GetListOfBranches():\n",
    "        if branch.GetName() in not_cons:\n",
    "            continue\n",
    "        loader.AddVariable(branch.GetName())\n",
    "        \n",
    "    mycuts = ROOT.TCut(\"\")   ## for example: TCut mycuts = \"abs(var1)<0.5 && abs(var2-0.5)<1\";\n",
    "    mycutb = ROOT.TCut(\"\")   ## for example: TCut mycutb = \"abs(var1)<0.5\";\n",
    "\n",
    "\n",
    "    loader.PrepareTrainingAndTestTree(mycuts, mycutb, training)\n",
    "    \n",
    "    ## Boosted Decision Trees\n",
    "    factory.BookMethod(loader,ROOT.TMVA.Types.kBDT, \"BDT\", params)\n",
    "    \n",
    "    #loader.OptimizeTuningParameters(\"ROCIntegral\",\"FitGA\")\n",
    "    \n",
    "    factory.TrainAllMethods()\n",
    "    \n",
    "    factory.TestAllMethods()\n",
    "    \n",
    "    factory.EvaluateAllMethods()\n",
    "    \n",
    "    #c1 = factory.GetROCCurve(loader)\n",
    "    #c1.Draw()\n",
    "    \n",
    "    integ = factory.GetROCIntegral(loader, \"BDT\")\n",
    "    \n",
    "    # print(\"ROC integral:\", integ)\n",
    "    \n",
    "    outputFile.Close()\n",
    "    signal_input.Close()\n",
    "    backg_input.Close()\n",
    "    \n",
    "    return integ"
   ]
  },
  {
   "cell_type": "markdown",
   "metadata": {},
   "source": [
    "## Parameters Combination"
   ]
  },
  {
   "cell_type": "code",
   "execution_count": 21,
   "metadata": {},
   "outputs": [],
   "source": [
    "def write_combs_params(file_params, file_training, arr_NTrees, arr_MinNodeSize, arr_MaxDepth, arr_BoostType, arr_AdaBoostBeta, arr_BaggedSampleFraction, arr_SeparationType, arr_nCuts, arr_nTrain_Signal, arr_nTrain_Background):\n",
    "    comb_params = list(itertools.product(arr_NTrees, arr_MinNodeSize, arr_MaxDepth, arr_BoostType, arr_AdaBoostBeta, arr_BaggedSampleFraction, arr_SeparationType, arr_nCuts, arr_nTrain_Signal, arr_nTrain_Background))\n",
    "    with open(file_params, 'w') as params, open(file_training, 'w') as training:\n",
    "        for cp in comb_params:\n",
    "            string1 = \"!V:NTrees=\"+str(cp[0])+\":MinNodeSize=\"+str(cp[1])+\"%:MaxDepth=\"+str(cp[2])+\":BoostType=\"+cp[3]+\":AdaBoostBeta=\"+str(cp[4])+\":UseBaggedBoost:BaggedSampleFraction=\"+str(cp[5])+\":SeparationType=\"+cp[6]+\":nCuts=\"+str(cp[7])+\":VarTransform=N_AllClasses\\n\"\n",
    "            params.write(string1)\n",
    "            string2 = \"nTrain_Signal=\"+str(cp[8])+\"%:nTrain_Background=\"+str(cp[9])+\"%:SplitMode=Random:NormMode=NumEvents:!V\\n\"\n",
    "            training.write(string2)"
   ]
  },
  {
   "cell_type": "code",
   "execution_count": 22,
   "metadata": {},
   "outputs": [],
   "source": [
    "file_params = \"bdt_params2.txt\"\n",
    "file_training = \"bdt_training2.txt\"\n",
    "arr_NTrees = [4000]\n",
    "arr_MinNodeSize = [7]\n",
    "arr_MaxDepth = [3]\n",
    "arr_BoostType = [\"AdaBoost\"]#, \"Bagging\", \"Grad\"]\n",
    "arr_AdaBoostBeta = [0.2, 0.5, 0.7]\n",
    "arr_BaggedSampleFraction = [0.2, 0.5, 0.7]\n",
    "arr_SeparationType = [\"GiniIndexWithLaplace\"] #\"GiniIndexWithLaplace\", \"MisClassificationError\", \"SDivSqrtSPlusB\", \"RegressionVariance\"]\n",
    "arr_nCuts = [10, 20]\n",
    "arr_nTrain_Signal = [70, 80]\n",
    "arr_nTrain_Background = [70, 80]"
   ]
  },
  {
   "cell_type": "code",
   "execution_count": 23,
   "metadata": {},
   "outputs": [],
   "source": [
    "write_combs_params(file_params, file_training, arr_NTrees, arr_MinNodeSize, arr_MaxDepth, arr_BoostType, arr_AdaBoostBeta, arr_BaggedSampleFraction, arr_SeparationType, arr_nCuts, arr_nTrain_Signal, arr_nTrain_Background)"
   ]
  },
  {
   "cell_type": "markdown",
   "metadata": {},
   "source": [
    "## Hyperparameter Optimization"
   ]
  },
  {
   "cell_type": "code",
   "execution_count": 28,
   "metadata": {},
   "outputs": [],
   "source": [
    "def param_opt(config, params, training):\n",
    "    max_roc = 0\n",
    "    best_params = \"\"\n",
    "    best_train = \"\"\n",
    "    print(config)\n",
    "    print(\"===============\")\n",
    "    for i in range(len(params)):\n",
    "        roc = BDT(params[i], training[i], config)\n",
    "        if roc > max_roc:\n",
    "            max_roc = roc\n",
    "            best_params = params[i]\n",
    "            best_train = training[i]\n",
    "    print(\"best parameters:\", best_params)\n",
    "    print(\"best training:\", best_train)\n",
    "    print(\"ROC integral:\", max_roc)\n",
    "    return"
   ]
  },
  {
   "cell_type": "code",
   "execution_count": 29,
   "metadata": {},
   "outputs": [],
   "source": [
    "params_path = \"bdt_params2.txt\"\n",
    "params = get_params(params_path)\n",
    "training_path = \"bdt_training2.txt\"\n",
    "training = get_params(training_path)\n",
    "configs = [\"PreSel_0tag_Xtohh1000\", \"PreSel_1tag_Xtohh1000\", \"PreSel_2tag_Xtohh1000\", \n",
    "           \"QCDCR_0tag_Xtohh1000\", \"QCDCR_1tag_Xtohh1000\", \"QCDCR_2tag_Xtohh1000\",\n",
    "           \"SR_0tag_Xtohh1000\", \"SR_1tag_Xtohh1000\", \"SR_2tag_Xtohh1000\",\n",
    "           \"PreSel_0tag_Xtohh2000\", \"PreSel_1tag_Xtohh2000\", \"PreSel_2tag_Xtohh2000\",\n",
    "           \"QCDCR_0tag_Xtohh2000\", \"QCDCR_1tag_Xtohh2000\", \"QCDCR_2tag_Xtohh2000\",\n",
    "           \"SR_0tag_Xtohh2000\", \"SR_1tag_Xtohh2000\", \"SR_2tag_Xtohh2000\"]\n",
    "s_end = \"_s.root\"\n",
    "b_end = \"_b.root\""
   ]
  },
  {
   "cell_type": "code",
   "execution_count": null,
   "metadata": {
    "scrolled": false
   },
   "outputs": [
    {
     "name": "stdout",
     "output_type": "stream",
     "text": [
      "SR_2tag_Xtohh1000\n",
      "===============\n"
     ]
    }
   ],
   "source": [
    "param_opt(configs[8], params, training)"
   ]
  },
  {
   "cell_type": "markdown",
   "metadata": {},
   "source": [
    "# Prediction\n",
    "\n",
    "### Declare Reader"
   ]
  },
  {
   "cell_type": "code",
   "execution_count": 145,
   "metadata": {},
   "outputs": [],
   "source": [
    "# Add weights\n",
    "def v_out(tree, not_cons, variables, reader, hname, title):\n",
    "    \n",
    "    h = ROOT.TH1D(\"\",\"\",60,-1,1)\n",
    "    \n",
    "    nevt = tree.GetEntries()\n",
    "\n",
    "    vout = np.arange(nevt, dtype='float').reshape(1, nevt)\n",
    "\n",
    "    for ievt, entry in enumerate(tree):\n",
    "        i = 0    \n",
    "        for branch in tree.GetListOfBranches():\n",
    "            name = branch.GetName()\n",
    "            if name in not_cons:\n",
    "                continue\n",
    "            variables[i][0] = getattr(entry,name)\n",
    "            i += 1\n",
    "\n",
    "        vout[0,ievt] = reader.EvaluateMVA(methodName)\n",
    "        h.Fill(vout[0,ievt])\n",
    "    \n",
    "    return h, vout, variables"
   ]
  },
  {
   "cell_type": "code",
   "execution_count": 146,
   "metadata": {},
   "outputs": [],
   "source": [
    "def gen_report_pred(background, signal, data, sep):\n",
    "    background = list(background[0])\n",
    "    signal = list(signal[0])\n",
    "    data = list(data[0])\n",
    "    bakg_t = [0]*len(background)\n",
    "    signal_t = [1]*len(signal)\n",
    "    y_predicted = background + signal\n",
    "    y_test = bakg_t + signal_t\n",
    "    for i in range(len(y_predicted)):\n",
    "        if (y_predicted[i] < sep):\n",
    "            y_predicted[i] = 0\n",
    "        else:\n",
    "            y_predicted[i] = 1\n",
    "    for j in range(len(data)):\n",
    "        if (data[j] < sep):\n",
    "            data[j] = 0\n",
    "        else:\n",
    "            data[j] = 1\n",
    "    print(classification_report(y_test, y_predicted, target_names=[\"background\", \"signal\"]))\n",
    "    return data"
   ]
  },
  {
   "cell_type": "code",
   "execution_count": 147,
   "metadata": {},
   "outputs": [],
   "source": [
    "def predict(config, type_signal, methodName, sep):\n",
    "    reader = TMVA.Reader( \"!Color:!Silent\" )\n",
    "    \n",
    "    dataPath = config + \"_\" + type_signal + \"_d.root\"\n",
    "    bkgPath = config + \"_\" + type_signal + \"_b.root\"\n",
    "    sigPath = config + \"_\" + type_signal + \"_s.root\"\n",
    "    \n",
    "    print(dataPath)\n",
    "    \n",
    "    dataFile = ROOT.TFile(dataPath)\n",
    "    bkgFile = ROOT.TFile(bkgPath)\n",
    "    sigFile = ROOT.TFile(sigPath)\n",
    "\n",
    "    dataTree = dataFile.Nominal\n",
    "    bkgTree = bkgFile.Nominal\n",
    "    sigTree = sigFile.Nominal\n",
    "    \n",
    "    # Add Variables: We add variables to the reader exactly in the same way we did for the **DataLoader** during the training\n",
    "    # We need to specify the address of the variable in order to pass it to TMVA when we iterate on the TTree\n",
    "    variables = []\n",
    "    i = 0\n",
    "    \n",
    "    not_cons = ['sample', 'EventWeight', 'EventNumber', 'm_region', 'm_FJNbtagJets', 'm_FJphi', 'm_FJeta', 'm_DTeta', 'm_DTphi']\n",
    "    \n",
    "    for branch in dataTree.GetListOfBranches():\n",
    "        if branch.GetName() in not_cons:\n",
    "            continue\n",
    "        aux = array('f',[0])\n",
    "        variables.append(aux)\n",
    "        reader.AddVariable(branch.GetName(),variables[i])\n",
    "        i = i+1\n",
    "    \n",
    "    # Setup Classifiers: We set up the classifiers by reading the input weights from the appropriate files\n",
    "    # The file is stored for example as *dataset/weights/TMVAClassification_BDT.weights.xml\n",
    "    output_file = \"dataset/weights/TMVA_Higgs_Classification_\" + config + \"_\" + type_signal + \"_\" + methodName\n",
    "    weightfile = output_file + \".weights.xml\"\n",
    "    name = ROOT.TString(methodName)\n",
    "    reader.BookMVA( name, weightfile )\n",
    "    \n",
    "    # We iterate on the input event in the given TTree. We provide as input first the background tree \n",
    "    # We return the output results for the various methods in big numpy array [ number of methods x \n",
    "    # number of events]\n",
    "    # We also fill an histogram for each method.\n",
    "    # Note that is important to fill the arrays with the tree entries in order to pass the values to \n",
    "    # the TMVA::Reader\n",
    "    hd, d_vout, variables = v_out(dataTree, not_cons, variables, reader, \"data\", config+\"_\"+type_signal)\n",
    "    hs, s_vout, variables = v_out(sigTree, not_cons, variables, reader, \"signal\", config+\"_\"+type_signal)\n",
    "    hb, b_vout, variables = v_out(bkgTree, not_cons, variables, reader, \"backgd\", config+\"_\"+type_signal)\n",
    "    \n",
    "    # Classification report\n",
    "    prediction = gen_report_pred(b_vout, s_vout, d_vout, sep)\n",
    "    \n",
    "    # Histogram\n",
    "    c1 = ROOT.TCanvas(\"c1\", \"c1\")\n",
    "    c1.cd()\n",
    "    c1.SetTitle(\"Hola\")\n",
    "    hs.SetLineColor(ROOT.kRed)\n",
    "    hd.SetFillColor(ROOT.kGreen)\n",
    "    hb.SetFillColor(ROOT.kBlue)\n",
    "    hb.Draw(\"\")\n",
    "    hs.Draw('Same')\n",
    "    hd.Draw('Same')\n",
    "    hb.SetTitle(\"background\")\n",
    "    hs.SetTitle(\"signal\")\n",
    "    hd.SetTitle(\"data\")\n",
    "    \n",
    "    ROOT.gStyle.SetOptStat(0)\n",
    "    \n",
    "    c1.BuildLegend() \n",
    "    \n",
    "    img_file = config + \"_\" + type_signal + \"_\" + methodName + \"_hist.png\"\n",
    "    c1.SaveAs(img_file)\n",
    "    \n",
    "    dataFile.Close()\n",
    "    sigFile.Close()\n",
    "    bkgFile.Close()\n",
    "    \n",
    "    display(Image(filename=img_file)) \n",
    "    \n",
    "    return prediction"
   ]
  },
  {
   "cell_type": "code",
   "execution_count": 148,
   "metadata": {},
   "outputs": [
    {
     "name": "stdout",
     "output_type": "stream",
     "text": [
      "SR_1tag_Xtohh1000_d.root\n",
      "              precision    recall  f1-score   support\n",
      "\n",
      "  background       0.87      0.83      0.85      9262\n",
      "      signal       0.60      0.67      0.63      3553\n",
      "\n",
      "    accuracy                           0.79     12815\n",
      "   macro avg       0.74      0.75      0.74     12815\n",
      "weighted avg       0.79      0.79      0.79     12815\n",
      "\n"
     ]
    },
    {
     "data": {
      "image/png": "[encoded data removed]",
      "text/plain": [
       "<IPython.core.display.Image object>"
      ]
     },
     "metadata": {},
     "output_type": "display_data"
    },
    {
     "name": "stdout",
     "output_type": "stream",
     "text": [
      "                         : Booking \"BDT\" of type \"BDT\" from dataset/weights/TMVA_Higgs_Classification_SR_1tag_Xtohh1000_BDT.weights.xml.\n",
      "                         : Reading weight file: dataset/weights/TMVA_Higgs_Classification_SR_1tag_Xtohh1000_BDT.weights.xml\n",
      "<HEADER> DataSetInfo              : [Default] : Added class \"Signal\"\n",
      "<HEADER> DataSetInfo              : [Default] : Added class \"Background\"\n",
      "                         : Booked classifier \"BDT\" of type: \"BDT\"\n"
     ]
    },
    {
     "name": "stderr",
     "output_type": "stream",
     "text": [
      "Info in <TCanvas::Print>: png file SR_1tag_Xtohh1000_BDT_hist.png has been created\n"
     ]
    }
   ],
   "source": [
    "config = \"SR_1tag\"\n",
    "type_signal = \"Xtohh1000\"\n",
    "methodName = \"BDT\"\n",
    "sep = 0.15\n",
    "asd = predict(config, type_signal, methodName, sep)"
   ]
  },
  {
   "cell_type": "code",
   "execution_count": null,
   "metadata": {},
   "outputs": [],
   "source": []
  }
 ],
 "metadata": {
  "kernelspec": {
   "display_name": "Python 3",
   "language": "python",
   "name": "python3"
  },
  "language_info": {
   "codemirror_mode": {
    "name": "ipython",
    "version": 3
   },
   "file_extension": ".py",
   "mimetype": "text/x-python",
   "name": "python",
   "nbconvert_exporter": "python",
   "pygments_lexer": "ipython3",
   "version": "3.6.8"
  }
 },
 "nbformat": 4,
 "nbformat_minor": 2
}
