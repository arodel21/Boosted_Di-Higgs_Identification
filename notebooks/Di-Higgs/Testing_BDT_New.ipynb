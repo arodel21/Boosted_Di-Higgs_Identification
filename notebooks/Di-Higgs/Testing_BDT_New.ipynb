{
 "cells": [
  {
   "cell_type": "markdown",
   "metadata": {},
   "source": [
    "# <center>TMVA Classification Using BDT</center>\n",
    "\n",
    "In this notebook we still classify di-Higgs new data with Boosted Decision Trees meethod."
   ]
  },
  {
   "cell_type": "code",
   "execution_count": 1,
   "metadata": {},
   "outputs": [
    {
     "name": "stdout",
     "output_type": "stream",
     "text": [
      "Welcome to JupyROOT 6.14/04\n"
     ]
    }
   ],
   "source": [
    "import ROOT\n",
    "from ROOT import TMVA, TTree\n",
    "\n",
    "\n",
    "ROOT.TMVA.Tools.Instance()\n",
    "## For PYMVA methods\n",
    "TMVA.PyMethodBase.PyInitialize()"
   ]
  },
  {
   "cell_type": "markdown",
   "metadata": {},
   "source": [
    "## Declare Factory and Input Data"
   ]
  },
  {
   "cell_type": "markdown",
   "metadata": {},
   "source": [
    "#### Separate data from fakes"
   ]
  },
  {
   "cell_type": "code",
   "execution_count": 2,
   "metadata": {},
   "outputs": [
    {
     "data": {
      "text/plain": [
       "13758"
      ]
     },
     "execution_count": 2,
     "metadata": {},
     "output_type": "execute_result"
    }
   ],
   "source": [
    "oldfile = ROOT.TFile(\"data.root\")\n",
    "oldtree = oldfile.Get(\"Nominal\")\n",
    "nentries = oldtree.GetEntries()\n",
    "\n",
    "newfile = ROOT.TFile(\"small.root\",\"recreate\")\n",
    "backgroundTreeB1 = oldtree.CloneTree(0)\n",
    "\n",
    "for i in range(nentries):\n",
    "    sample = oldtree.GetBranch('sample').GetEntry(i)\n",
    "    if (sample == 6):\n",
    "        backgroundTreeB1.Fill()\n",
    "    \n",
    "backgroundTreeB1.AutoSave()"
   ]
  },
  {
   "cell_type": "code",
   "execution_count": 3,
   "metadata": {},
   "outputs": [
    {
     "name": "stdout",
     "output_type": "stream",
     "text": [
      "******************************************************************************\n",
      "*Tree    :Nominal   : Nominal                                                *\n",
      "*Entries :    23148 : Total =         2341482 bytes  File  Size =     894529 *\n",
      "*        :          : Tree compression factor =   2.61                       *\n",
      "******************************************************************************\n",
      "*Br    0 :sample    : string                                                 *\n",
      "*Entries :    23148 : Total  Size=     325841 bytes  File Size  =      36319 *\n",
      "*Baskets :       14 : Basket Size=      32000 bytes  Compression=   8.96     *\n",
      "*............................................................................*\n",
      "*Br    1 :EventWeight : EventWeight/F                                        *\n",
      "*Entries :    23148 : Total  Size=      93425 bytes  File Size  =      18889 *\n",
      "*Baskets :        4 : Basket Size=      32000 bytes  Compression=   4.92     *\n",
      "*............................................................................*\n",
      "*Br    2 :EventNumber : EventNumber/l                                        *\n",
      "*Entries :    23148 : Total  Size=     186268 bytes  File Size  =      46894 *\n",
      "*Baskets :        7 : Basket Size=      32000 bytes  Compression=   3.96     *\n",
      "*............................................................................*\n",
      "*Br    3 :m_region  : string                                                 *\n",
      "*Entries :    23148 : Total  Size=     334430 bytes  File Size  =      69590 *\n",
      "*Baskets :       14 : Basket Size=      32000 bytes  Compression=   4.80     *\n",
      "*............................................................................*\n",
      "*Br    4 :m_FJNbtagJets : m_FJNbtagJets/I                                    *\n",
      "*Entries :    23148 : Total  Size=      93441 bytes  File Size  =       8078 *\n",
      "*Baskets :        4 : Basket Size=      32000 bytes  Compression=  11.50     *\n",
      "*............................................................................*\n",
      "*Br    5 :m_FJpt    : m_FJpt/F                                               *\n",
      "*Entries :    23148 : Total  Size=      93385 bytes  File Size  =      50923 *\n",
      "*Baskets :        4 : Basket Size=      32000 bytes  Compression=   1.82     *\n",
      "*............................................................................*\n",
      "*Br    6 :m_FJeta   : m_FJeta/F                                              *\n",
      "*Entries :    23148 : Total  Size=      93393 bytes  File Size  =      51680 *\n",
      "*Baskets :        4 : Basket Size=      32000 bytes  Compression=   1.80     *\n",
      "*............................................................................*\n",
      "*Br    7 :m_FJphi   : m_FJphi/F                                              *\n",
      "*Entries :    23148 : Total  Size=      93393 bytes  File Size  =      51972 *\n",
      "*Baskets :        4 : Basket Size=      32000 bytes  Compression=   1.79     *\n",
      "*............................................................................*\n",
      "*Br    8 :m_FJm     : m_FJm/F                                                *\n",
      "*Entries :    23148 : Total  Size=      93377 bytes  File Size  =      51076 *\n",
      "*Baskets :        4 : Basket Size=      32000 bytes  Compression=   1.82     *\n",
      "*............................................................................*\n",
      "*Br    9 :m_DTpt    : m_DTpt/F                                               *\n",
      "*Entries :    23148 : Total  Size=      93385 bytes  File Size  =      50737 *\n",
      "*Baskets :        4 : Basket Size=      32000 bytes  Compression=   1.83     *\n",
      "*............................................................................*\n",
      "*Br   10 :m_DTeta   : m_DTeta/F                                              *\n",
      "*Entries :    23148 : Total  Size=      93393 bytes  File Size  =      51799 *\n",
      "*Baskets :        4 : Basket Size=      32000 bytes  Compression=   1.79     *\n",
      "*............................................................................*\n",
      "*Br   11 :m_DTphi   : m_DTphi/F                                              *\n",
      "*Entries :    23148 : Total  Size=      93393 bytes  File Size  =      52102 *\n",
      "*Baskets :        4 : Basket Size=      32000 bytes  Compression=   1.78     *\n",
      "*............................................................................*\n",
      "*Br   12 :m_DTm     : m_DTm/F                                                *\n",
      "*Entries :    23148 : Total  Size=      93377 bytes  File Size  =      50364 *\n",
      "*Baskets :        4 : Basket Size=      32000 bytes  Compression=   1.84     *\n",
      "*............................................................................*\n",
      "*Br   13 :m_dPhiFTwDT : m_dPhiFTwDT/F                                        *\n",
      "*Entries :    23148 : Total  Size=      93425 bytes  File Size  =      49560 *\n",
      "*Baskets :        4 : Basket Size=      32000 bytes  Compression=   1.87     *\n",
      "*............................................................................*\n",
      "*Br   14 :m_dRFJwDT : m_dRFJwDT/F                                            *\n",
      "*Entries :    23148 : Total  Size=      93409 bytes  File Size  =      49352 *\n",
      "*Baskets :        4 : Basket Size=      32000 bytes  Compression=   1.88     *\n",
      "*............................................................................*\n",
      "*Br   15 :m_dPhiDTwMET : m_dPhiDTwMET/F                                      *\n",
      "*Entries :    23148 : Total  Size=      93433 bytes  File Size  =      52340 *\n",
      "*Baskets :        4 : Basket Size=      32000 bytes  Compression=   1.78     *\n",
      "*............................................................................*\n",
      "*Br   16 :m_MET     : m_MET/F                                                *\n",
      "*Entries :    23148 : Total  Size=      93377 bytes  File Size  =      50748 *\n",
      "*Baskets :        4 : Basket Size=      32000 bytes  Compression=   1.83     *\n",
      "*............................................................................*\n",
      "*Br   17 :m_hhm     : m_hhm/F                                                *\n",
      "*Entries :    23148 : Total  Size=      93377 bytes  File Size  =      48731 *\n",
      "*Baskets :        4 : Basket Size=      32000 bytes  Compression=   1.91     *\n",
      "*............................................................................*\n",
      "*Br   18 :m_bbttpt  : m_bbttpt/F                                             *\n",
      "*Entries :    23148 : Total  Size=      93401 bytes  File Size  =      50845 *\n",
      "*Baskets :        4 : Basket Size=      32000 bytes  Compression=   1.83     *\n",
      "*............................................................................*\n"
     ]
    }
   ],
   "source": [
    "outputFile = ROOT.TFile.Open(\"Higgs_ClassificationOutput.root\", \"RECREATE\")\n",
    "\n",
    "# Factory\n",
    "factory = ROOT.TMVA.Factory(\"TMVA_Higgs_Classification\", outputFile,\n",
    "                      \"!V:ROC:!Silent:Color:!DrawProgressBar:AnalysisType=Classification\" )\n",
    "\n",
    "# Input data\n",
    "# We define now the input data file and we retrieve the ROOT TTree objects with the signal and background input events\n",
    "inputFileS1 = ROOT.TFile.Open(\"Xtohh1000.root\")\n",
    "inputFileS2 = ROOT.TFile.Open(\"Xtohh2000.root\")\n",
    "inputFileB2 = ROOT.TFile.Open(\"stop.root\")\n",
    "inputFileB3 = ROOT.TFile.Open(\"ttbar.root\")\n",
    "inputFileB4 = ROOT.TFile.Open(\"W+jets.root\")\n",
    "inputFileB5 = ROOT.TFile.Open(\"Zee_221.root\")\n",
    "inputFileB6 = ROOT.TFile.Open(\"Ztautau_221.root\")\n",
    "inputFileB7 = ROOT.TFile.Open(\"ZZ_Pw.root\")\n",
    "\n",
    "# retrieve input trees\n",
    "signalTree1     = inputFileS1.Get(\"Nominal\")\n",
    "signalTree2     = inputFileS2.Get(\"Nominal\")\n",
    "backgroundTreeB2 = inputFileB2.Get(\"Nominal\")\n",
    "backgroundTreeB3 = inputFileB3.Get(\"Nominal\")\n",
    "backgroundTreeB4 = inputFileB4.Get(\"Nominal\")\n",
    "backgroundTreeB5 = inputFileB5.Get(\"Nominal\")\n",
    "backgroundTreeB6 = inputFileB6.Get(\"Nominal\")\n",
    "backgroundTreeB7 = inputFileB7.Get(\"Nominal\")\n",
    "\n",
    "signalTree1.Print()"
   ]
  },
  {
   "cell_type": "markdown",
   "metadata": {},
   "source": [
    "## Declare DataLoader(s)\n",
    "\n",
    "The next step is to declare the DataLoader class that deals with input data abd variables \n",
    "\n",
    "We add first the signal and background trees in the data loader and then we\n",
    "define the input variables that shall be used for the MVA training\n",
    "note that you may also use variable expressions, which can be parsed by TTree::Draw( \"expression\" )]"
   ]
  },
  {
   "cell_type": "code",
   "execution_count": 4,
   "metadata": {},
   "outputs": [
    {
     "name": "stdout",
     "output_type": "stream",
     "text": [
      "DataSetInfo              : [dataset] : Added class \"Signal\"\n",
      "                         : Add Tree Nominal of type Signal with 23148 events\n",
      "                         : Add Tree Nominal of type Signal with 56188 events\n",
      "DataSetInfo              : [dataset] : Added class \"Background\"\n",
      "                         : Add Tree Nominal of type Background with 101752 events\n",
      "                         : Add Tree Nominal of type Background with 1096 events\n",
      "                         : Add Tree Nominal of type Background with 5480 events\n",
      "                         : Add Tree Nominal of type Background with 22618 events\n",
      "                         : Add Tree Nominal of type Background with 14740 events\n",
      "                         : Add Tree Nominal of type Background with 84726 events\n",
      "                         : Add Tree Nominal of type Background with 634 events\n"
     ]
    }
   ],
   "source": [
    "loader = ROOT.TMVA.DataLoader(\"dataset\")\n",
    "\n",
    "### global event weights per tree (see below for setting event-wise weights)\n",
    "signalWeight     = 1.0\n",
    "backgroundWeight = 1.0\n",
    "   \n",
    "### You can add an arbitrary number of signal or background trees\n",
    "loader.AddSignalTree    ( signalTree1,     signalWeight     )\n",
    "loader.AddSignalTree    ( signalTree2,     signalWeight     )\n",
    "loader.AddBackgroundTree( backgroundTreeB1, backgroundWeight )\n",
    "loader.AddBackgroundTree( backgroundTreeB2, backgroundWeight )\n",
    "loader.AddBackgroundTree( backgroundTreeB3, backgroundWeight )\n",
    "loader.AddBackgroundTree( backgroundTreeB4, backgroundWeight )\n",
    "loader.AddBackgroundTree( backgroundTreeB5, backgroundWeight )\n",
    "loader.AddBackgroundTree( backgroundTreeB6, backgroundWeight )\n",
    "loader.AddBackgroundTree( backgroundTreeB7, backgroundWeight )\n",
    "\n",
    "## Define input variables \n",
    "for branch in signalTree1.GetListOfBranches():\n",
    "    loader.AddVariable(branch.GetName())"
   ]
  },
  {
   "cell_type": "markdown",
   "metadata": {},
   "source": [
    "There are:\n",
    "- 79336 signal events\n",
    "- 231046 background events"
   ]
  },
  {
   "cell_type": "markdown",
   "metadata": {},
   "source": [
    "## Setup Dataset(s)\n",
    "\n",
    "Setup the DataLoader by splitting events in training and test samples. \n",
    "Here we use a random split and a fixed number of training and test events.\n"
   ]
  },
  {
   "cell_type": "code",
   "execution_count": 5,
   "metadata": {},
   "outputs": [],
   "source": [
    "## Apply additional cuts on the signal and background samples (can be different)\n",
    "mycuts = ROOT.TCut(\"\")   ## for example: TCut mycuts = \"abs(var1)<0.5 && abs(var2-0.5)<1\";\n",
    "mycutb = ROOT.TCut(\"\")   ## for example: TCut mycutb = \"abs(var1)<0.5\";\n",
    "\n",
    "\n",
    "loader.PrepareTrainingAndTestTree(mycuts, mycutb,\n",
    "                                  \"nTrain_Signal=60000:nTrain_Background=60000:SplitMode=Random:\"\n",
    "                                   \"NormMode=NumEvents:!V\" )"
   ]
  },
  {
   "cell_type": "markdown",
   "metadata": {},
   "source": [
    "## BDT"
   ]
  },
  {
   "cell_type": "code",
   "execution_count": 6,
   "metadata": {},
   "outputs": [
    {
     "data": {
      "text/plain": [
       "<ROOT.TMVA::MethodBDT object (\"BDT\") at 0x65cc380>"
      ]
     },
     "execution_count": 6,
     "metadata": {},
     "output_type": "execute_result"
    },
    {
     "name": "stdout",
     "output_type": "stream",
     "text": [
      "Factory                  : Booking method: \u001b[1mBDT\u001b[0m\n",
      "                         : \n",
      "DataSetFactory           : [dataset] : Number of events in input trees\n",
      "                         : \n",
      "                         : \n",
      "                         : Number of training and testing events\n",
      "                         : ---------------------------------------------------------------------------\n",
      "                         : Signal     -- training events            : 60000\n",
      "                         : Signal     -- testing events             : 19336\n",
      "                         : Signal     -- training and testing events: 79336\n",
      "                         : Background -- training events            : 60000\n",
      "                         : Background -- testing events             : 171046\n",
      "                         : Background -- training and testing events: 231046\n",
      "                         : \n",
      "DataSetInfo              : Correlation matrix (Signal):\n",
      "                         : -------------------------------------------------------------------------------------------------------------------------------------------------------------------------------------------------\n",
      "                         :                 sample EventWeight EventNumber m_region m_FJNbtagJets  m_FJpt m_FJeta m_FJphi   m_FJm  m_DTpt m_DTeta m_DTphi   m_DTm m_dPhiFTwDT m_dRFJwDT m_dPhiDTwMET   m_MET   m_hhm m_bbttpt\n",
      "                         :        sample:  +1.000      -0.492      +0.495   +1.000        -0.152  -0.614  +0.006  +0.008  -0.002  -0.422  +0.003  -0.006  -0.011      -0.223    -0.344       -0.006  -0.356  -0.712   -0.163\n",
      "                         :   EventWeight:  -0.492      +1.000      -0.184   -0.492        +0.078  +0.295  -0.007  -0.005  -0.006  +0.195  -0.003  +0.002  -0.042      +0.109    +0.172       +0.002  +0.169  +0.340   +0.083\n",
      "                         :   EventNumber:  +0.495      -0.184      +1.000   +0.495        -0.077  -0.310  +0.009  +0.002  -0.006  -0.162  +0.008  -0.003  +0.214      -0.109    -0.165       -0.003  -0.178  -0.322   -0.093\n",
      "                         :      m_region:  +1.000      -0.492      +0.495   +1.000        -0.152  -0.614  +0.006  +0.008  -0.002  -0.422  +0.003  -0.006  -0.011      -0.223    -0.344       -0.006  -0.356  -0.712   -0.163\n",
      "                         : m_FJNbtagJets:  -0.152      +0.078      -0.077   -0.152        +1.000  +0.038  +0.002  -0.004  +0.077  -0.014  -0.002  +0.002  -0.011      +0.095    +0.068       +0.003  +0.005  +0.014   -0.063\n",
      "                         :        m_FJpt:  -0.614      +0.295      -0.310   -0.614        +0.038  +1.000  -0.006  -0.008  +0.217  +0.399  -0.004  -0.003  +0.040      +0.070    -0.080       +0.007  +0.462  +0.650   +0.484\n",
      "                         :       m_FJeta:  +0.006      -0.007      +0.009   +0.006        +0.002  -0.006  +1.000  +0.008  +0.003  +0.006  +0.089  -0.001  +0.010      -0.002    -0.005       +0.006  -0.008  -0.007   -0.006\n",
      "                         :       m_FJphi:  +0.008      -0.005      +0.002   +0.008        -0.004  -0.008  +0.008  +1.000  -0.001  -0.017  -0.006  -0.481  -0.020      +0.004    +0.001       -0.001  +0.010  -0.017   -0.003\n",
      "                         :         m_FJm:  -0.002      -0.006      -0.006   -0.002        +0.077  +0.217  +0.003  -0.001  +1.000  +0.076  +0.001  -0.009  +0.022      +0.071    +0.034       -0.004  +0.110  +0.194   +0.050\n",
      "                         :        m_DTpt:  -0.422      +0.195      -0.162   -0.422        -0.014  +0.399  +0.006  -0.017  +0.076  +1.000  +0.003  +0.007  +0.558      +0.115    -0.010       -0.004  -0.147  +0.691   -0.107\n",
      "                         :       m_DTeta:  +0.003      -0.003      +0.008   +0.003        -0.002  -0.004  +0.089  -0.006  +0.001  +0.003  +1.000  +0.016  +0.009      -0.010    -0.007       +0.002  -0.005  -0.001   +0.003\n",
      "                         :       m_DTphi:  -0.006      +0.002      -0.003   -0.006        +0.002  -0.003  -0.001  -0.481  -0.009  +0.007  +0.016  +1.000  +0.010      -0.004    -0.001       +0.005  -0.005  +0.004   +0.001\n",
      "                         :         m_DTm:  -0.011      -0.042      +0.214   -0.011        -0.011  +0.040  +0.010  -0.020  +0.022  +0.558  +0.009  +0.010  +1.000      +0.039    -0.015       -0.009  -0.256  +0.320   -0.179\n",
      "                         :   m_dPhiFTwDT:  -0.223      +0.109      -0.109   -0.223        +0.095  +0.070  -0.002  +0.004  +0.071  +0.115  -0.010  -0.004  +0.039      +1.000    +0.742       +0.009  +0.017  +0.186   -0.623\n",
      "                         :     m_dRFJwDT:  -0.344      +0.172      -0.165   -0.344        +0.068  -0.080  -0.005  +0.001  +0.034  -0.010  -0.007  -0.001  -0.015      +0.742    +1.000       +0.008  -0.051  +0.401   -0.534\n",
      "                         :  m_dPhiDTwMET:  -0.006      +0.002      -0.003   -0.006        +0.003  +0.007  +0.006  -0.001  -0.004  -0.004  +0.002  +0.005  -0.009      +0.009    +0.008       +1.000  -0.001  +0.004   -0.012\n",
      "                         :         m_MET:  -0.356      +0.169      -0.178   -0.356        +0.005  +0.462  -0.008  +0.010  +0.110  -0.147  -0.005  -0.005  -0.256      +0.017    -0.051       -0.001  +1.000  +0.093   +0.468\n",
      "                         :         m_hhm:  -0.712      +0.340      -0.322   -0.712        +0.014  +0.650  -0.007  -0.017  +0.194  +0.691  -0.001  +0.004  +0.320      +0.186    +0.401       +0.004  +0.093  +1.000   +0.055\n",
      "                         :      m_bbttpt:  -0.163      +0.083      -0.093   -0.163        -0.063  +0.484  -0.006  -0.003  +0.050  -0.107  +0.003  +0.001  -0.179      -0.623    -0.534       -0.012  +0.468  +0.055   +1.000\n",
      "                         : -------------------------------------------------------------------------------------------------------------------------------------------------------------------------------------------------\n",
      "DataSetInfo              : Correlation matrix (Background):\n",
      "                         : -------------------------------------------------------------------------------------------------------------------------------------------------------------------------------------------------\n",
      "                         :                 sample EventWeight EventNumber m_region m_FJNbtagJets  m_FJpt m_FJeta m_FJphi   m_FJm  m_DTpt m_DTeta m_DTphi   m_DTm m_dPhiFTwDT m_dRFJwDT m_dPhiDTwMET   m_MET   m_hhm m_bbttpt\n",
      "                         :        sample:  +1.000      +0.030      +0.697   -0.068        +0.177  -0.121  -0.001  +0.002  +0.070  -0.072  -0.005  +0.001  -0.035      -0.096    -0.094       -0.002  -0.109  -0.093   -0.063\n",
      "                         :   EventWeight:  +0.030      +1.000      +0.097   +0.067        +0.055  +0.157  -0.006  -0.001  +0.125  +0.165  -0.007  -0.003  +0.156      +0.198    +0.194       -0.002  +0.113  +0.152   +0.109\n",
      "                         :   EventNumber:  +0.697      +0.097      +1.000   +0.018        +0.207  +0.204  -0.003  -0.003  +0.220  +0.234  -0.001  -0.000  +0.279      +0.252    +0.251       -0.013  +0.157  +0.215   +0.146\n",
      "                         :      m_region:  -0.068      +0.067      +0.018   +1.000        +0.083  +0.369  -0.004  -0.010  +0.223  +0.495  -0.013  +0.015  +0.458      +0.405    +0.416       -0.008  +0.142  +0.449   +0.230\n",
      "                         : m_FJNbtagJets:  +0.177      +0.055      +0.207   +0.083        +1.000  +0.242  -0.005  -0.005  +0.220  +0.251  -0.003  +0.003  +0.254      +0.253    +0.254       +0.002  +0.175  +0.242   +0.207\n",
      "                         :        m_FJpt:  -0.121      +0.157      +0.204   +0.369        +0.242  +1.000  -0.000  +0.002  +0.560  +0.916  -0.004  -0.001  +0.865      +0.918    +0.913       -0.001  +0.730  +0.930   +0.716\n",
      "                         :       m_FJeta:  -0.001      -0.006      -0.003   -0.004        -0.005  -0.000  +1.000  +0.011  +0.004  -0.004  +0.243  +0.004  -0.005      -0.000    -0.002       -0.002  -0.009  -0.007   -0.007\n",
      "                         :       m_FJphi:  +0.002      -0.001      -0.003   -0.010        -0.005  +0.002  +0.011  +1.000  -0.002  -0.006  +0.006  -0.488  -0.004      +0.000    +0.001       -0.006  +0.014  -0.000   +0.003\n",
      "                         :         m_FJm:  +0.070      +0.125      +0.220   +0.223        +0.220  +0.560  +0.004  -0.002  +1.000  +0.543  +0.001  +0.001  +0.529      +0.540    +0.541       -0.008  +0.406  +0.553   +0.414\n",
      "                         :        m_DTpt:  -0.072      +0.165      +0.234   +0.495        +0.251  +0.916  -0.004  -0.006  +0.543  +1.000  -0.003  +0.006  +0.940      +0.929    +0.924       -0.005  +0.559  +0.935   +0.563\n",
      "                         :       m_DTeta:  -0.005      -0.007      -0.001   -0.013        -0.003  -0.004  +0.243  +0.006  +0.001  -0.003  +1.000  +0.002  -0.003      -0.003    -0.001       -0.012  -0.001  +0.002   -0.006\n",
      "                         :       m_DTphi:  +0.001      -0.003      -0.000   +0.015        +0.003  -0.001  +0.004  -0.488  +0.001  +0.006  +0.002  +1.000  +0.005      +0.002    +0.002       +0.007  -0.017  +0.003   -0.000\n",
      "                         :         m_DTm:  -0.035      +0.156      +0.279   +0.458        +0.254  +0.865  -0.005  -0.004  +0.529  +0.940  -0.003  +0.005  +1.000      +0.912    +0.910       -0.007  +0.544  +0.891   +0.542\n",
      "                         :   m_dPhiFTwDT:  -0.096      +0.198      +0.252   +0.405        +0.253  +0.918  -0.000  +0.000  +0.540  +0.929  -0.003  +0.002  +0.912      +1.000    +0.992       -0.002  +0.638  +0.903   +0.562\n",
      "                         :     m_dRFJwDT:  -0.094      +0.194      +0.251   +0.416        +0.254  +0.913  -0.002  +0.001  +0.541  +0.924  -0.001  +0.002  +0.910      +0.992    +1.000       -0.001  +0.632  +0.934   +0.574\n",
      "                         :  m_dPhiDTwMET:  -0.002      -0.002      -0.013   -0.008        +0.002  -0.001  -0.002  -0.006  -0.008  -0.005  -0.012  +0.007  -0.007      -0.002    -0.001       +1.000  -0.000  -0.001   -0.003\n",
      "                         :         m_MET:  -0.109      +0.113      +0.157   +0.142        +0.175  +0.730  -0.009  +0.014  +0.406  +0.559  -0.001  -0.017  +0.544      +0.638    +0.632       -0.000  +1.000  +0.615   +0.666\n",
      "                         :         m_hhm:  -0.093      +0.152      +0.215   +0.449        +0.242  +0.930  -0.007  -0.000  +0.553  +0.935  +0.002  +0.003  +0.891      +0.903    +0.934       -0.001  +0.615  +1.000   +0.610\n",
      "                         :      m_bbttpt:  -0.063      +0.109      +0.146   +0.230        +0.207  +0.716  -0.007  +0.003  +0.414  +0.563  -0.006  -0.000  +0.542      +0.562    +0.574       -0.003  +0.666  +0.610   +1.000\n",
      "                         : -------------------------------------------------------------------------------------------------------------------------------------------------------------------------------------------------\n",
      "DataSetFactory           : [dataset] :  \n",
      "                         : \n"
     ]
    }
   ],
   "source": [
    "## Boosted Decision Trees\n",
    "factory.BookMethod(loader,ROOT.TMVA.Types.kBDT, \"BDT\",\n",
    "                   \"!V:NTrees=2000:MinNodeSize=2.5%:MaxDepth=2:BoostType=AdaBoost:AdaBoostBeta=0.5:UseBaggedBoost:\"\n",
    "                   \"BaggedSampleFraction=0.5:SeparationType=GiniIndex:nCuts=20\" )"
   ]
  },
  {
   "cell_type": "markdown",
   "metadata": {},
   "source": [
    "## Train Methods"
   ]
  },
  {
   "cell_type": "code",
   "execution_count": 7,
   "metadata": {},
   "outputs": [
    {
     "name": "stdout",
     "output_type": "stream",
     "text": [
      "Factory                  : \u001b[1mTrain all methods\u001b[0m\n",
      "Factory                  : [dataset] : Create Transformation \"I\" with events from all classes.\n",
      "                         : \n",
      "                         : Transformation, Variable selection : \n",
      "                         : Input : variable 'sample' <---> Output : variable 'sample'\n",
      "                         : Input : variable 'EventWeight' <---> Output : variable 'EventWeight'\n",
      "                         : Input : variable 'EventNumber' <---> Output : variable 'EventNumber'\n",
      "                         : Input : variable 'm_region' <---> Output : variable 'm_region'\n",
      "                         : Input : variable 'm_FJNbtagJets' <---> Output : variable 'm_FJNbtagJets'\n",
      "                         : Input : variable 'm_FJpt' <---> Output : variable 'm_FJpt'\n",
      "                         : Input : variable 'm_FJeta' <---> Output : variable 'm_FJeta'\n",
      "                         : Input : variable 'm_FJphi' <---> Output : variable 'm_FJphi'\n",
      "                         : Input : variable 'm_FJm' <---> Output : variable 'm_FJm'\n",
      "                         : Input : variable 'm_DTpt' <---> Output : variable 'm_DTpt'\n",
      "                         : Input : variable 'm_DTeta' <---> Output : variable 'm_DTeta'\n",
      "                         : Input : variable 'm_DTphi' <---> Output : variable 'm_DTphi'\n",
      "                         : Input : variable 'm_DTm' <---> Output : variable 'm_DTm'\n",
      "                         : Input : variable 'm_dPhiFTwDT' <---> Output : variable 'm_dPhiFTwDT'\n",
      "                         : Input : variable 'm_dRFJwDT' <---> Output : variable 'm_dRFJwDT'\n",
      "                         : Input : variable 'm_dPhiDTwMET' <---> Output : variable 'm_dPhiDTwMET'\n",
      "                         : Input : variable 'm_MET' <---> Output : variable 'm_MET'\n",
      "                         : Input : variable 'm_hhm' <---> Output : variable 'm_hhm'\n",
      "                         : Input : variable 'm_bbttpt' <---> Output : variable 'm_bbttpt'\n",
      "TFHandler_Factory        :      Variable             Mean             RMS     [        Min             Max ]\n",
      "                         : ------------------------------------------------------------------------------------\n",
      "                         :        sample:     1.0655e+08     3.6154e+06   [     1.0410e+08     1.3786e+08 ]\n",
      "                         :   EventWeight:      0.0032738       0.017234   [       -0.74930        0.94195 ]\n",
      "                         :   EventNumber:     1.4798e+06     7.1935e+06   [         0.0000     1.3468e+08 ]\n",
      "                         :      m_region:     1.1095e+08     1.3629e+07   [     1.0659e+08     1.7644e+08 ]\n",
      "                         : m_FJNbtagJets:        0.70254        0.81642   [         0.0000         2.0000 ]\n",
      "                         :        m_FJpt:         529.91         338.45   [         0.0000         2389.9 ]\n",
      "                         :       m_FJeta:     0.00035921        0.74470   [        -2.0000         1.9997 ]\n",
      "                         :       m_FJphi:      0.0038531         1.6036   [        -3.1415         3.1416 ]\n",
      "                         :         m_FJm:         78689.         76830.   [      -0.015625     9.1402e+05 ]\n",
      "                         :        m_DTpt:         436.75         271.81   [         0.0000         2211.2 ]\n",
      "                         :       m_DTeta:     0.00035046        0.70539   [        -2.3007         2.2011 ]\n",
      "                         :       m_DTphi:      0.0060137         1.5995   [        -3.1415         3.1415 ]\n",
      "                         :         m_DTm:     1.2169e+05         74558.   [         0.0000     5.7297e+05 ]\n",
      "                         :   m_dPhiFTwDT:         2.3025         1.2471   [         0.0000         3.1416 ]\n",
      "                         :     m_dRFJwDT:         2.4437         1.3309   [         0.0000         4.9152 ]\n",
      "                         :  m_dPhiDTwMET:     -0.0026528         1.0252   [        -3.1415         3.1415 ]\n",
      "                         :         m_MET:         149.04         155.36   [         0.0000         7348.4 ]\n",
      "                         :         m_hhm:         1101.6         678.75   [         0.0000         5465.6 ]\n",
      "                         :      m_bbttpt:         183.58         191.29   [         0.0000         2556.7 ]\n",
      "                         : ------------------------------------------------------------------------------------\n",
      "                         : Ranking input variables (method unspecific)...\n",
      "IdTransformation         : Ranking result (top variable is best ranked)\n",
      "                         : --------------------------------------\n",
      "                         : Rank : Variable      : Separation\n",
      "                         : --------------------------------------\n",
      "                         :    1 : m_FJNbtagJets : 6.203e-01\n",
      "                         :    2 : m_FJm         : 4.868e-01\n",
      "                         :    3 : m_hhm         : 3.928e-01\n",
      "                         :    4 : m_FJpt        : 3.812e-01\n",
      "                         :    5 : m_region      : 3.661e-01\n",
      "                         :    6 : m_DTpt        : 3.229e-01\n",
      "                         :    7 : sample        : 3.119e-01\n",
      "                         :    8 : m_DTm         : 2.942e-01\n",
      "                         :    9 : m_dRFJwDT     : 2.938e-01\n",
      "                         :   10 : m_dPhiFTwDT   : 2.895e-01\n",
      "                         :   11 : m_bbttpt      : 2.860e-01\n",
      "                         :   12 : m_MET         : 2.609e-01\n",
      "                         :   13 : m_DTphi       : 2.556e-01\n",
      "                         :   14 : m_FJphi       : 2.528e-01\n",
      "                         :   15 : m_DTeta       : 2.467e-01\n",
      "                         :   16 : m_FJeta       : 2.369e-01\n",
      "                         :   17 : EventNumber   : 2.345e-01\n",
      "                         :   18 : EventWeight   : 1.882e-01\n",
      "                         :   19 : m_dPhiDTwMET  : 8.299e-02\n",
      "                         : --------------------------------------\n",
      "Factory                  : Train method: BDT for Classification\n",
      "                         : \n",
      "BDT                      : #events: (reweighted) sig: 60000 bkg: 60000\n",
      "                         : #events: (unweighted) sig: 60000 bkg: 60000\n",
      "                         : Training 2000 Decision Trees ... patience please\n",
      "                         : Elapsed time for training with 120000 events: 144 sec         \n",
      "BDT                      : [dataset] : Evaluation of BDT on training sample (120000 events)\n",
      "                         : Elapsed time for evaluation of 120000 events: 19.9 sec       \n",
      "                         : Creating xml weight file: \u001b[0;36mdataset/weights/TMVA_Higgs_Classification_BDT.weights.xml\u001b[0m\n",
      "                         : Creating standalone class: \u001b[0;36mdataset/weights/TMVA_Higgs_Classification_BDT.class.C\u001b[0m\n",
      "                         : Higgs_ClassificationOutput.root:/dataset/Method_BDT/BDT\n",
      "Factory                  : Training finished\n",
      "                         : \n",
      "                         : Ranking input variables (method specific)...\n",
      "BDT                      : Ranking result (top variable is best ranked)\n",
      "                         : -----------------------------------------------\n",
      "                         : Rank : Variable      : Variable Importance\n",
      "                         : -----------------------------------------------\n",
      "                         :    1 : m_region      : 1.470e-01\n",
      "                         :    2 : EventNumber   : 1.445e-01\n",
      "                         :    3 : sample        : 9.556e-02\n",
      "                         :    4 : m_FJpt        : 8.153e-02\n",
      "                         :    5 : EventWeight   : 6.360e-02\n",
      "                         :    6 : m_hhm         : 6.250e-02\n",
      "                         :    7 : m_DTm         : 4.222e-02\n",
      "                         :    8 : m_DTpt        : 3.989e-02\n",
      "                         :    9 : m_FJm         : 3.515e-02\n",
      "                         :   10 : m_FJphi       : 3.512e-02\n",
      "                         :   11 : m_dRFJwDT     : 3.444e-02\n",
      "                         :   12 : m_DTphi       : 3.419e-02\n",
      "                         :   13 : m_FJNbtagJets : 3.413e-02\n",
      "                         :   14 : m_dPhiFTwDT   : 2.962e-02\n",
      "                         :   15 : m_MET         : 2.584e-02\n",
      "                         :   16 : m_bbttpt      : 2.578e-02\n",
      "                         :   17 : m_DTeta       : 2.576e-02\n",
      "                         :   18 : m_FJeta       : 2.441e-02\n",
      "                         :   19 : m_dPhiDTwMET  : 1.880e-02\n",
      "                         : -----------------------------------------------\n",
      "Factory                  : === Destroy and recreate all methods via weight files for testing ===\n",
      "                         : \n",
      "                         : Reading weight file: \u001b[0;36mdataset/weights/TMVA_Higgs_Classification_BDT.weights.xml\u001b[0m\n"
     ]
    }
   ],
   "source": [
    "factory.TrainAllMethods()"
   ]
  },
  {
   "cell_type": "markdown",
   "metadata": {},
   "source": [
    "## Test  all methods\n",
    "\n",
    "Here we test all methods using the test data set"
   ]
  },
  {
   "cell_type": "code",
   "execution_count": 8,
   "metadata": {},
   "outputs": [
    {
     "name": "stdout",
     "output_type": "stream",
     "text": [
      "Factory                  : \u001b[1mTest all methods\u001b[0m\n",
      "Factory                  : Test method: BDT for Classification performance\n",
      "                         : \n",
      "BDT                      : [dataset] : Evaluation of BDT on testing sample (190382 events)\n",
      "                         : Elapsed time for evaluation of 190382 events: 20.2 sec       \n"
     ]
    }
   ],
   "source": [
    "factory.TestAllMethods()"
   ]
  },
  {
   "cell_type": "markdown",
   "metadata": {},
   "source": [
    "## Evaluate all methods\n",
    "\n",
    "Here we evaluate all methods and compare their performances, computing efficiencies, ROC curves etc.. using both training and tetsing data sets. Several histograms are produced which can be examined with the TMVAGui or directly using the output file"
   ]
  },
  {
   "cell_type": "code",
   "execution_count": 9,
   "metadata": {},
   "outputs": [
    {
     "name": "stdout",
     "output_type": "stream",
     "text": [
      "Factory                  : \u001b[1mEvaluate all methods\u001b[0m\n",
      "Factory                  : Evaluate classifier: BDT\n",
      "                         : \n",
      "BDT                      : [dataset] : Loop over test events and fill histograms with classifier response...\n",
      "                         : \n",
      "TFHandler_BDT            :      Variable             Mean             RMS     [        Min             Max ]\n",
      "                         : ------------------------------------------------------------------------------------\n",
      "                         :        sample:     1.0634e+08     4.8387e+06   [     1.0410e+08     1.3786e+08 ]\n",
      "                         :   EventWeight:      0.0050198       0.022820   [        -1.2210         1.2020 ]\n",
      "                         :   EventNumber:     2.5773e+06     9.3769e+06   [         0.0000     1.3499e+08 ]\n",
      "                         :      m_region:     1.1429e+08     1.7576e+07   [     1.0659e+08     1.7644e+08 ]\n",
      "                         : m_FJNbtagJets:        0.21428        0.51959   [         0.0000         2.0000 ]\n",
      "                         :        m_FJpt:         374.27         334.61   [         0.0000         2381.5 ]\n",
      "                         :       m_FJeta:      0.0028226        0.69460   [        -2.0000         1.9997 ]\n",
      "                         :       m_FJphi:      0.0056628         1.4106   [        -3.1415         3.1416 ]\n",
      "                         :         m_FJm:         47678.         68585.   [      -0.015625     9.1402e+05 ]\n",
      "                         :        m_DTpt:         318.14         280.37   [         0.0000         2211.2 ]\n",
      "                         :       m_DTeta:     -0.0011578        0.69558   [        -2.1930         2.3018 ]\n",
      "                         :       m_DTphi:      0.0026853         1.4088   [        -3.1415         3.1415 ]\n",
      "                         :         m_DTm:         92514.         82258.   [         0.0000     5.9110e+05 ]\n",
      "                         :   m_dPhiFTwDT:         1.7958         1.4663   [         0.0000         3.1416 ]\n",
      "                         :     m_dRFJwDT:         1.9132         1.5694   [         0.0000         4.9152 ]\n",
      "                         :  m_dPhiDTwMET:      0.0032200        0.92496   [        -3.1415         3.1415 ]\n",
      "                         :         m_MET:         97.179         129.09   [         0.0000         7348.4 ]\n",
      "                         :         m_hhm:         806.44         724.16   [         0.0000         5465.6 ]\n",
      "                         :      m_bbttpt:         118.74         158.98   [         0.0000         2556.7 ]\n",
      "                         : ------------------------------------------------------------------------------------\n",
      "                         : \n",
      "                         : Evaluation results ranked by best signal efficiency and purity (area)\n",
      "                         : -------------------------------------------------------------------------------------------------------------------\n",
      "                         : DataSet       MVA                       \n",
      "                         : Name:         Method:          ROC-integ\n",
      "                         : dataset       BDT            : 1.000\n",
      "                         : -------------------------------------------------------------------------------------------------------------------\n",
      "                         : \n",
      "                         : Testing efficiency compared to training efficiency (overtraining check)\n",
      "                         : -------------------------------------------------------------------------------------------------------------------\n",
      "                         : DataSet              MVA              Signal efficiency: from test sample (from training sample) \n",
      "                         : Name:                Method:          @B=0.01             @B=0.10            @B=0.30   \n",
      "                         : -------------------------------------------------------------------------------------------------------------------\n",
      "                         : dataset              BDT            : 1.000 (1.000)       1.000 (1.000)      1.000 (1.000)\n",
      "                         : -------------------------------------------------------------------------------------------------------------------\n",
      "                         : \n",
      "Dataset:dataset          : Created tree 'TestTree' with 190382 events\n",
      "                         : \n",
      "Dataset:dataset          : Created tree 'TrainTree' with 120000 events\n",
      "                         : \n",
      "Factory                  : \u001b[1mThank you for using TMVA!\u001b[0m\n",
      "                         : \u001b[1mFor citation information, please visit: http://tmva.sf.net/citeTMVA.html\u001b[0m\n"
     ]
    }
   ],
   "source": [
    "factory.EvaluateAllMethods()"
   ]
  },
  {
   "cell_type": "markdown",
   "metadata": {},
   "source": [
    "## Plot ROC Curve\n",
    "We enable JavaScript visualisation for the plots"
   ]
  },
  {
   "cell_type": "code",
   "execution_count": 10,
   "metadata": {},
   "outputs": [
    {
     "data": {
      "image/png": "[encoded data removed]",
      "text/plain": [
       "<IPython.core.display.Image object>"
      ]
     },
     "metadata": {},
     "output_type": "display_data"
    }
   ],
   "source": [
    "c1 = factory.GetROCCurve(loader)\n",
    "c1.Draw()"
   ]
  }
 ],
 "metadata": {
  "kernelspec": {
   "display_name": "Python 3",
   "language": "python",
   "name": "python3"
  },
  "language_info": {
   "codemirror_mode": {
    "name": "ipython",
    "version": 3
   },
   "file_extension": ".py",
   "mimetype": "text/x-python",
   "name": "python",
   "nbconvert_exporter": "python",
   "pygments_lexer": "ipython3",
   "version": "3.5.5"
  }
 },
 "nbformat": 4,
 "nbformat_minor": 2
}
