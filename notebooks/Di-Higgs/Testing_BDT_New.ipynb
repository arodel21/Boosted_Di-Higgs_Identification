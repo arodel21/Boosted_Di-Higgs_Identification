{
 "cells": [
  {
   "cell_type": "markdown",
   "metadata": {},
   "source": [
    "# <center>TMVA Classification Using BDT</center>\n",
    "\n",
    "In this notebook we still classify di-Higgs new data with Boosted Decision Trees meethod."
   ]
  },
  {
   "cell_type": "code",
   "execution_count": 1,
   "metadata": {},
   "outputs": [
    {
     "name": "stdout",
     "output_type": "stream",
     "text": [
      "Welcome to JupyROOT 6.14/04\n"
     ]
    }
   ],
   "source": [
    "import ROOT\n",
    "from ROOT import TMVA, TTree\n",
    "import array\n",
    "\n",
    "ROOT.TMVA.Tools.Instance()\n",
    "## For PYMVA methods\n",
    "TMVA.PyMethodBase.PyInitialize()"
   ]
  },
  {
   "cell_type": "markdown",
   "metadata": {},
   "source": [
    "### Filter dataset by region.\n",
    "\n",
    "This function will let you filter your dataset by region. It's known that SR_1tag is very signal poor, while SR_2tag has a lot a signal."
   ]
  },
  {
   "cell_type": "code",
   "execution_count": 2,
   "metadata": {},
   "outputs": [],
   "source": [
    "def filter_region(file, region, signal):\n",
    "    oldfile = ROOT.TFile(file)\n",
    "    oldtree = oldfile.Nominal\n",
    "    signal_file = ROOT.TFile(region+\"_\"+signal+\"_s.root\",\"recreate\")\n",
    "    signal_tree = oldtree.CloneTree(0)\n",
    "    backg_file = ROOT.TFile(region+\"_\"+signal+\"_b.root\",\"recreate\")\n",
    "    backg_tree = oldtree.CloneTree(0)\n",
    "    data_file = ROOT.TFile(region+\"_\"+signal+\"_d.root\",\"recreate\")\n",
    "    data_tree = oldtree.CloneTree(0)\n",
    "    for entry in oldtree:\n",
    "        if (entry.m_region == region):\n",
    "            if (entry.sample == \"data\"):\n",
    "                data_tree.Fill()\n",
    "            elif (entry.sample == \"Xtohh1000\"): #signal\n",
    "                signal_tree.Fill()\n",
    "            else:\n",
    "                backg_tree.Fill()\n",
    "    signal_tree.AutoSave()   \n",
    "    backg_tree.AutoSave()\n",
    "    data_tree.AutoSave()\n",
    "    return signal_tree, signal_file, backg_tree, backg_file, data_tree, data_file\n",
    "\n",
    "#Use as\n",
    "#tree, file = filter_region(\"data.root\", \"SR_1tag\", \"small.root\")"
   ]
  },
  {
   "cell_type": "markdown",
   "metadata": {},
   "source": [
    "## Declare Factory and Input Data"
   ]
  },
  {
   "cell_type": "markdown",
   "metadata": {},
   "source": [
    "data.root has unlabeled data points (called data) and fakes points. For the background training we'll use only the fakes points."
   ]
  },
  {
   "cell_type": "code",
   "execution_count": 3,
   "metadata": {},
   "outputs": [],
   "source": [
    "signal_tree, signal_file, backg_tree, backg_file, data_tree, data_file = filter_region(\"all_1000.root\", \"SR_1tag\", \"Xtohh1000\")"
   ]
  },
  {
   "cell_type": "code",
   "execution_count": 4,
   "metadata": {},
   "outputs": [
    {
     "name": "stdout",
     "output_type": "stream",
     "text": [
      "******************************************************************************\n",
      "*Tree    :Nominal   : Nominal                                                *\n",
      "*Entries :     3553 : Total =          361592 bytes  File  Size =     212786 *\n",
      "*        :          : Tree compression factor =   9.17                       *\n",
      "******************************************************************************\n",
      "*Br    0 :sample    : string                                                 *\n",
      "*Entries :     3553 : Total  Size=      50583 bytes  File Size  =       5536 *\n",
      "*Baskets :        2 : Basket Size=      32000 bytes  Compression=   9.00     *\n",
      "*............................................................................*\n",
      "*Br    1 :EventWeight : EventWeight/F                                        *\n",
      "*Entries :     3553 : Total  Size=      14899 bytes  One basket in memory    *\n",
      "*Baskets :        0 : Basket Size=      32000 bytes  Compression=   1.00     *\n",
      "*............................................................................*\n",
      "*Br    2 :EventNumber : EventNumber/l                                        *\n",
      "*Entries :     3553 : Total  Size=      29119 bytes  One basket in memory    *\n",
      "*Baskets :        0 : Basket Size=      32000 bytes  Compression=   1.00     *\n",
      "*............................................................................*\n",
      "*Br    3 :m_region  : string                                                 *\n",
      "*Entries :     3553 : Total  Size=      43403 bytes  File Size  =       2514 *\n",
      "*Baskets :        1 : Basket Size=      32000 bytes  Compression=   9.56     *\n",
      "*............................................................................*\n",
      "*Br    4 :m_FJNbtagJets : m_FJNbtagJets/I                                    *\n",
      "*Entries :     3553 : Total  Size=      14911 bytes  One basket in memory    *\n",
      "*Baskets :        0 : Basket Size=      32000 bytes  Compression=   1.00     *\n",
      "*............................................................................*\n",
      "*Br    5 :m_FJpt    : m_FJpt/F                                               *\n",
      "*Entries :     3553 : Total  Size=      14869 bytes  One basket in memory    *\n",
      "*Baskets :        0 : Basket Size=      32000 bytes  Compression=   1.00     *\n",
      "*............................................................................*\n",
      "*Br    6 :m_FJeta   : m_FJeta/F                                              *\n",
      "*Entries :     3553 : Total  Size=      14875 bytes  One basket in memory    *\n",
      "*Baskets :        0 : Basket Size=      32000 bytes  Compression=   1.00     *\n",
      "*............................................................................*\n",
      "*Br    7 :m_FJphi   : m_FJphi/F                                              *\n",
      "*Entries :     3553 : Total  Size=      14875 bytes  One basket in memory    *\n",
      "*Baskets :        0 : Basket Size=      32000 bytes  Compression=   1.00     *\n",
      "*............................................................................*\n",
      "*Br    8 :m_FJm     : m_FJm/F                                                *\n",
      "*Entries :     3553 : Total  Size=      14863 bytes  One basket in memory    *\n",
      "*Baskets :        0 : Basket Size=      32000 bytes  Compression=   1.00     *\n",
      "*............................................................................*\n",
      "*Br    9 :m_DTpt    : m_DTpt/F                                               *\n",
      "*Entries :     3553 : Total  Size=      14869 bytes  One basket in memory    *\n",
      "*Baskets :        0 : Basket Size=      32000 bytes  Compression=   1.00     *\n",
      "*............................................................................*\n",
      "*Br   10 :m_DTeta   : m_DTeta/F                                              *\n",
      "*Entries :     3553 : Total  Size=      14875 bytes  One basket in memory    *\n",
      "*Baskets :        0 : Basket Size=      32000 bytes  Compression=   1.00     *\n",
      "*............................................................................*\n",
      "*Br   11 :m_DTphi   : m_DTphi/F                                              *\n",
      "*Entries :     3553 : Total  Size=      14875 bytes  One basket in memory    *\n",
      "*Baskets :        0 : Basket Size=      32000 bytes  Compression=   1.00     *\n",
      "*............................................................................*\n",
      "*Br   12 :m_DTm     : m_DTm/F                                                *\n",
      "*Entries :     3553 : Total  Size=      14863 bytes  One basket in memory    *\n",
      "*Baskets :        0 : Basket Size=      32000 bytes  Compression=   1.00     *\n",
      "*............................................................................*\n",
      "*Br   13 :m_dPhiFTwDT : m_dPhiFTwDT/F                                        *\n",
      "*Entries :     3553 : Total  Size=      14899 bytes  One basket in memory    *\n",
      "*Baskets :        0 : Basket Size=      32000 bytes  Compression=   1.00     *\n",
      "*............................................................................*\n",
      "*Br   14 :m_dRFJwDT : m_dRFJwDT/F                                            *\n",
      "*Entries :     3553 : Total  Size=      14887 bytes  One basket in memory    *\n",
      "*Baskets :        0 : Basket Size=      32000 bytes  Compression=   1.00     *\n",
      "*............................................................................*\n",
      "*Br   15 :m_dPhiDTwMET : m_dPhiDTwMET/F                                      *\n",
      "*Entries :     3553 : Total  Size=      14905 bytes  One basket in memory    *\n",
      "*Baskets :        0 : Basket Size=      32000 bytes  Compression=   1.00     *\n",
      "*............................................................................*\n",
      "*Br   16 :m_MET     : m_MET/F                                                *\n",
      "*Entries :     3553 : Total  Size=      14863 bytes  One basket in memory    *\n",
      "*Baskets :        0 : Basket Size=      32000 bytes  Compression=   1.00     *\n",
      "*............................................................................*\n",
      "*Br   17 :m_hhm     : m_hhm/F                                                *\n",
      "*Entries :     3553 : Total  Size=      14863 bytes  One basket in memory    *\n",
      "*Baskets :        0 : Basket Size=      32000 bytes  Compression=   1.00     *\n",
      "*............................................................................*\n",
      "*Br   18 :m_bbttpt  : m_bbttpt/F                                             *\n",
      "*Entries :     3553 : Total  Size=      14881 bytes  One basket in memory    *\n",
      "*Baskets :        0 : Basket Size=      32000 bytes  Compression=   1.00     *\n",
      "*............................................................................*\n"
     ]
    }
   ],
   "source": [
    "outputFile = ROOT.TFile.Open(\"Higgs_ClassificationOutput.root\", \"RECREATE\")\n",
    "\n",
    "# Factory\n",
    "factory = ROOT.TMVA.Factory(\"TMVA_Higgs_Classification\", outputFile,\n",
    "                      \"!V:ROC:!Silent:Color:!DrawProgressBar:AnalysisType=Classification\" )\n",
    "\n",
    "signal_tree.Print()"
   ]
  },
  {
   "cell_type": "markdown",
   "metadata": {},
   "source": [
    "## Declare DataLoader(s)\n",
    "\n",
    "The next step is to declare the DataLoader class that deals with input data abd variables \n",
    "\n",
    "We add first the signal and background trees in the data loader and then we\n",
    "define the input variables that shall be used for the MVA training\n",
    "note that you may also use variable expressions, which can be parsed by TTree::Draw( \"expression\" )]"
   ]
  },
  {
   "cell_type": "code",
   "execution_count": 5,
   "metadata": {},
   "outputs": [
    {
     "name": "stdout",
     "output_type": "stream",
     "text": [
      "DataSetInfo              : [dataset] : Added class \"Signal\"\n",
      "                         : Add Tree Nominal of type Signal with 3553 events\n",
      "DataSetInfo              : [dataset] : Added class \"Background\"\n",
      "                         : Add Tree Nominal of type Background with 9262 events\n"
     ]
    }
   ],
   "source": [
    "loader = ROOT.TMVA.DataLoader(\"dataset\")\n",
    "\n",
    "### global event weights per tree (see below for setting event-wise weights)\n",
    "signalWeight     = 1.0\n",
    "backgroundWeight = 1.0\n",
    "   \n",
    "### You can add an arbitrary number of signal or background trees\n",
    "loader.AddSignalTree    ( signal_tree,     signalWeight     )\n",
    "loader.AddBackgroundTree( backg_tree, backgroundWeight )\n",
    "\n",
    "not_cons = ['sample', 'EventWeight', 'EventNumber', 'm_region', 'm_FJNbtagJets', 'm_FJphi', 'm_FJeta', 'm_DTeta', 'm_DTphi']\n",
    "\n",
    "## Define input variables \n",
    "for branch in backg_tree.GetListOfBranches():\n",
    "    if branch.GetName() in not_cons:\n",
    "        continue\n",
    "    loader.AddVariable(branch.GetName())"
   ]
  },
  {
   "cell_type": "markdown",
   "metadata": {},
   "source": [
    "There are:\n",
    "- 79336 signal events\n",
    "- 231046 background events"
   ]
  },
  {
   "cell_type": "markdown",
   "metadata": {},
   "source": [
    "## Setup Dataset(s)\n",
    "\n",
    "Setup the DataLoader by splitting events in training and test samples. \n",
    "Here we use a random split and a fixed number of training and test events.\n"
   ]
  },
  {
   "cell_type": "code",
   "execution_count": 6,
   "metadata": {},
   "outputs": [],
   "source": [
    "## Apply additional cuts on the signal and background samples (can be different)\n",
    "mycuts = ROOT.TCut(\"\")   ## for example: TCut mycuts = \"abs(var1)<0.5 && abs(var2-0.5)<1\";\n",
    "mycutb = ROOT.TCut(\"\")   ## for example: TCut mycutb = \"abs(var1)<0.5\";\n",
    "\n",
    "\n",
    "loader.PrepareTrainingAndTestTree(mycuts, mycutb,\n",
    "                                  \"nTrain_Signal=2000:nTrain_Background=800:SplitMode=Random:\"\n",
    "                                   \"NormMode=NumEvents:!V\" )"
   ]
  },
  {
   "cell_type": "markdown",
   "metadata": {},
   "source": [
    "## BDT"
   ]
  },
  {
   "cell_type": "code",
   "execution_count": 7,
   "metadata": {},
   "outputs": [
    {
     "data": {
      "text/plain": [
       "<ROOT.TMVA::MethodBDT object (\"BDT\") at 0x77386f0>"
      ]
     },
     "execution_count": 7,
     "metadata": {},
     "output_type": "execute_result"
    },
    {
     "name": "stdout",
     "output_type": "stream",
     "text": [
      "Factory                  : Booking method: \u001b[1mBDT\u001b[0m\n",
      "                         : \n",
      "DataSetFactory           : [dataset] : Number of events in input trees\n",
      "                         : \n",
      "                         : \n",
      "                         : Number of training and testing events\n",
      "                         : ---------------------------------------------------------------------------\n",
      "                         : Signal     -- training events            : 2000\n",
      "                         : Signal     -- testing events             : 1553\n",
      "                         : Signal     -- training and testing events: 3553\n",
      "                         : Background -- training events            : 800\n",
      "                         : Background -- testing events             : 8462\n",
      "                         : Background -- training and testing events: 9262\n",
      "                         : \n",
      "DataSetInfo              : Correlation matrix (Signal):\n",
      "                         : ---------------------------------------------------------------------------------------------------------\n",
      "                         :                m_FJpt   m_FJm  m_DTpt   m_DTm m_dPhiFTwDT m_dRFJwDT m_dPhiDTwMET   m_MET   m_hhm m_bbttpt\n",
      "                         :       m_FJpt:  +1.000  +0.294  +0.293  -0.023      -0.166    -0.109       -0.004  +0.533  +0.698   +0.505\n",
      "                         :        m_FJm:  +0.294  +1.000  +0.168  -0.021      +0.118    +0.131       -0.011  +0.209  +0.323   -0.021\n",
      "                         :       m_DTpt:  +0.293  +0.168  +1.000  +0.511      -0.024    +0.036       -0.009  +0.066  +0.664   +0.139\n",
      "                         :        m_DTm:  -0.023  -0.021  +0.511  +1.000      +0.073    +0.096       +0.040  -0.193  +0.273   -0.091\n",
      "                         :  m_dPhiFTwDT:  -0.166  +0.118  -0.024  +0.073      +1.000    +0.924       +0.022  -0.160  +0.110   -0.857\n",
      "                         :    m_dRFJwDT:  -0.109  +0.131  +0.036  +0.096      +0.924    +1.000       +0.026  -0.119  +0.317   -0.776\n",
      "                         : m_dPhiDTwMET:  -0.004  -0.011  -0.009  +0.040      +0.022    +0.026       +1.000  +0.008  +0.008   -0.020\n",
      "                         :        m_MET:  +0.533  +0.209  +0.066  -0.193      -0.160    -0.119       +0.008  +1.000  +0.336   +0.366\n",
      "                         :        m_hhm:  +0.698  +0.323  +0.664  +0.273      +0.110    +0.317       +0.008  +0.336  +1.000   +0.150\n",
      "                         :     m_bbttpt:  +0.505  -0.021  +0.139  -0.091      -0.857    -0.776       -0.020  +0.366  +0.150   +1.000\n",
      "                         : ---------------------------------------------------------------------------------------------------------\n",
      "DataSetInfo              : Correlation matrix (Background):\n",
      "                         : ---------------------------------------------------------------------------------------------------------\n",
      "                         :                m_FJpt   m_FJm  m_DTpt   m_DTm m_dPhiFTwDT m_dRFJwDT m_dPhiDTwMET   m_MET   m_hhm m_bbttpt\n",
      "                         :       m_FJpt:  +1.000  +0.106  +0.428  +0.156      +0.043    +0.035       +0.009  +0.516  +0.605   +0.536\n",
      "                         :        m_FJm:  +0.106  +1.000  +0.122  +0.162      -0.074    -0.053       -0.008  +0.066  +0.112   +0.079\n",
      "                         :       m_DTpt:  +0.428  +0.122  +1.000  +0.608      +0.139    +0.131       -0.035  -0.120  +0.624   -0.122\n",
      "                         :        m_DTm:  +0.156  +0.162  +0.608  +1.000      +0.107    +0.115       -0.030  -0.154  +0.365   -0.168\n",
      "                         :  m_dPhiFTwDT:  +0.043  -0.074  +0.139  +0.107      +1.000    +0.699       -0.017  -0.051  +0.133   -0.657\n",
      "                         :    m_dRFJwDT:  +0.035  -0.053  +0.131  +0.115      +0.699    +1.000       +0.006  -0.061  +0.566   -0.473\n",
      "                         : m_dPhiDTwMET:  +0.009  -0.008  -0.035  -0.030      -0.017    +0.006       +1.000  +0.007  -0.015   +0.022\n",
      "                         :        m_MET:  +0.516  +0.066  -0.120  -0.154      -0.051    -0.061       +0.007  +1.000  +0.134   +0.493\n",
      "                         :        m_hhm:  +0.605  +0.112  +0.624  +0.365      +0.133    +0.566       -0.015  +0.134  +1.000   +0.117\n",
      "                         :     m_bbttpt:  +0.536  +0.079  -0.122  -0.168      -0.657    -0.473       +0.022  +0.493  +0.117   +1.000\n",
      "                         : ---------------------------------------------------------------------------------------------------------\n",
      "DataSetFactory           : [dataset] :  \n",
      "                         : \n"
     ]
    }
   ],
   "source": [
    "## Boosted Decision Trees\n",
    "factory.BookMethod(loader,ROOT.TMVA.Types.kBDT, \"BDT\",\n",
    "                   \"!V:NTrees=3000:MinNodeSize=5%:MaxDepth=1:BoostType=AdaBoost:AdaBoostBeta=0.5:UseBaggedBoost:\"\n",
    "                   \"BaggedSampleFraction=0.5:SeparationType=GiniIndex:nCuts=20\" )"
   ]
  },
  {
   "cell_type": "markdown",
   "metadata": {},
   "source": [
    "## Train Methods"
   ]
  },
  {
   "cell_type": "code",
   "execution_count": 8,
   "metadata": {},
   "outputs": [
    {
     "name": "stdout",
     "output_type": "stream",
     "text": [
      "Factory                  : \u001b[1mTrain all methods\u001b[0m\n",
      "Factory                  : [dataset] : Create Transformation \"I\" with events from all classes.\n",
      "                         : \n",
      "                         : Transformation, Variable selection : \n",
      "                         : Input : variable 'm_FJpt' <---> Output : variable 'm_FJpt'\n",
      "                         : Input : variable 'm_FJm' <---> Output : variable 'm_FJm'\n",
      "                         : Input : variable 'm_DTpt' <---> Output : variable 'm_DTpt'\n",
      "                         : Input : variable 'm_DTm' <---> Output : variable 'm_DTm'\n",
      "                         : Input : variable 'm_dPhiFTwDT' <---> Output : variable 'm_dPhiFTwDT'\n",
      "                         : Input : variable 'm_dRFJwDT' <---> Output : variable 'm_dRFJwDT'\n",
      "                         : Input : variable 'm_dPhiDTwMET' <---> Output : variable 'm_dPhiDTwMET'\n",
      "                         : Input : variable 'm_MET' <---> Output : variable 'm_MET'\n",
      "                         : Input : variable 'm_hhm' <---> Output : variable 'm_hhm'\n",
      "                         : Input : variable 'm_bbttpt' <---> Output : variable 'm_bbttpt'\n",
      "TFHandler_Factory        :     Variable            Mean            RMS    [        Min            Max ]\n",
      "                         : -------------------------------------------------------------------------------\n",
      "                         :       m_FJpt:        546.78        164.55   [        250.91        1973.5 ]\n",
      "                         :        m_FJm:    1.1445e+05        81595.   [        0.0000    5.1727e+05 ]\n",
      "                         :       m_DTpt:        472.43        110.38   [        312.77        1123.8 ]\n",
      "                         :        m_DTm:    1.5242e+05        36890.   [        60966.    4.4187e+05 ]\n",
      "                         :  m_dPhiFTwDT:        2.8867       0.36520   [      0.025805        3.1415 ]\n",
      "                         :    m_dRFJwDT:        3.0025       0.37738   [        1.0171        4.8621 ]\n",
      "                         : m_dPhiDTwMET:    -0.0046364       0.35222   [       -1.1187        1.0697 ]\n",
      "                         :        m_MET:        139.68        110.24   [        10.104        1071.3 ]\n",
      "                         :        m_hhm:        1125.6        343.59   [        444.21        4329.3 ]\n",
      "                         :     m_bbttpt:        199.05        190.66   [       0.70018        1850.9 ]\n",
      "                         : -------------------------------------------------------------------------------\n",
      "                         : Ranking input variables (method unspecific)...\n",
      "IdTransformation         : Ranking result (top variable is best ranked)\n",
      "                         : -------------------------------------\n",
      "                         : Rank : Variable     : Separation\n",
      "                         : -------------------------------------\n",
      "                         :    1 : m_hhm        : 2.181e-01\n",
      "                         :    2 : m_FJm        : 1.904e-01\n",
      "                         :    3 : m_dRFJwDT    : 1.621e-01\n",
      "                         :    4 : m_FJpt       : 1.027e-01\n",
      "                         :    5 : m_MET        : 5.667e-02\n",
      "                         :    6 : m_DTpt       : 5.450e-02\n",
      "                         :    7 : m_dPhiFTwDT  : 5.164e-02\n",
      "                         :    8 : m_DTm        : 4.688e-02\n",
      "                         :    9 : m_bbttpt     : 2.713e-02\n",
      "                         :   10 : m_dPhiDTwMET : 1.808e-02\n",
      "                         : -------------------------------------\n",
      "Factory                  : Train method: BDT for Classification\n",
      "                         : \n",
      "BDT                      : #events: (reweighted) sig: 1400 bkg: 1400\n",
      "                         : #events: (unweighted) sig: 2000 bkg: 800\n",
      "                         : Training 3000 Decision Trees ... patience please\n",
      "                         : Elapsed time for training with 2800 events: 2.13 sec         \n",
      "BDT                      : [dataset] : Evaluation of BDT on training sample (2800 events)\n",
      "                         : Elapsed time for evaluation of 2800 events: 0.396 sec       \n",
      "                         : Creating xml weight file: \u001b[0;36mdataset/weights/TMVA_Higgs_Classification_BDT.weights.xml\u001b[0m\n",
      "                         : Creating standalone class: \u001b[0;36mdataset/weights/TMVA_Higgs_Classification_BDT.class.C\u001b[0m\n",
      "                         : Higgs_ClassificationOutput.root:/dataset/Method_BDT/BDT\n",
      "Factory                  : Training finished\n",
      "                         : \n",
      "                         : Ranking input variables (method specific)...\n",
      "BDT                      : Ranking result (top variable is best ranked)\n",
      "                         : ----------------------------------------------\n",
      "                         : Rank : Variable     : Variable Importance\n",
      "                         : ----------------------------------------------\n",
      "                         :    1 : m_FJm        : 1.320e-01\n",
      "                         :    2 : m_dPhiDTwMET : 1.174e-01\n",
      "                         :    3 : m_DTm        : 1.162e-01\n",
      "                         :    4 : m_MET        : 1.011e-01\n",
      "                         :    5 : m_hhm        : 9.978e-02\n",
      "                         :    6 : m_DTpt       : 9.334e-02\n",
      "                         :    7 : m_dRFJwDT    : 9.253e-02\n",
      "                         :    8 : m_FJpt       : 8.451e-02\n",
      "                         :    9 : m_bbttpt     : 8.331e-02\n",
      "                         :   10 : m_dPhiFTwDT  : 7.978e-02\n",
      "                         : ----------------------------------------------\n",
      "Factory                  : === Destroy and recreate all methods via weight files for testing ===\n",
      "                         : \n",
      "                         : Reading weight file: \u001b[0;36mdataset/weights/TMVA_Higgs_Classification_BDT.weights.xml\u001b[0m\n"
     ]
    }
   ],
   "source": [
    "factory.TrainAllMethods()"
   ]
  },
  {
   "cell_type": "markdown",
   "metadata": {},
   "source": [
    "## Test  all methods\n",
    "\n",
    "Here we test all methods using the test data set"
   ]
  },
  {
   "cell_type": "code",
   "execution_count": 9,
   "metadata": {},
   "outputs": [
    {
     "name": "stdout",
     "output_type": "stream",
     "text": [
      "Factory                  : \u001b[1mTest all methods\u001b[0m\n",
      "Factory                  : Test method: BDT for Classification performance\n",
      "                         : \n",
      "BDT                      : [dataset] : Evaluation of BDT on testing sample (10015 events)\n",
      "                         : Elapsed time for evaluation of 10015 events: 1.12 sec       \n"
     ]
    }
   ],
   "source": [
    "factory.TestAllMethods()"
   ]
  },
  {
   "cell_type": "markdown",
   "metadata": {},
   "source": [
    "## Evaluate all methods\n",
    "\n",
    "Here we evaluate all methods and compare their performances, computing efficiencies, ROC curves etc.. using both training and tetsing data sets. Several histograms are produced which can be examined with the TMVAGui or directly using the output file"
   ]
  },
  {
   "cell_type": "code",
   "execution_count": 10,
   "metadata": {},
   "outputs": [
    {
     "name": "stdout",
     "output_type": "stream",
     "text": [
      "Factory                  : \u001b[1mEvaluate all methods\u001b[0m\n",
      "Factory                  : Evaluate classifier: BDT\n",
      "                         : \n",
      "BDT                      : [dataset] : Loop over test events and fill histograms with classifier response...\n",
      "                         : \n",
      "TFHandler_BDT            :     Variable            Mean            RMS    [        Min            Max ]\n",
      "                         : -------------------------------------------------------------------------------\n",
      "                         :       m_FJpt:        589.02        170.23   [        254.51        2069.4 ]\n",
      "                         :        m_FJm:        89573.        77698.   [     -0.015625    6.6023e+05 ]\n",
      "                         :       m_DTpt:        494.40        122.25   [        310.56        1822.9 ]\n",
      "                         :        m_DTm:    1.5163e+05        42904.   [        38735.    5.3948e+05 ]\n",
      "                         :  m_dPhiFTwDT:        2.9450       0.32418   [     0.0092845        3.1416 ]\n",
      "                         :    m_dRFJwDT:        3.1458       0.38644   [        1.0334        4.8582 ]\n",
      "                         : m_dPhiDTwMET:   -0.00079692       0.36636   [       -1.0542        1.0494 ]\n",
      "                         :        m_MET:        145.42        125.82   [        10.022        1355.8 ]\n",
      "                         :        m_hhm:        1273.9        409.85   [        426.11        4598.2 ]\n",
      "                         :     m_bbttpt:        187.99        173.96   [        1.9393        1729.9 ]\n",
      "                         : -------------------------------------------------------------------------------\n",
      "                         : \n",
      "                         : Evaluation results ranked by best signal efficiency and purity (area)\n",
      "                         : -------------------------------------------------------------------------------------------------------------------\n",
      "                         : DataSet       MVA                       \n",
      "                         : Name:         Method:          ROC-integ\n",
      "                         : dataset       BDT            : 0.883\n",
      "                         : -------------------------------------------------------------------------------------------------------------------\n",
      "                         : \n",
      "                         : Testing efficiency compared to training efficiency (overtraining check)\n",
      "                         : -------------------------------------------------------------------------------------------------------------------\n",
      "                         : DataSet              MVA              Signal efficiency: from test sample (from training sample) \n",
      "                         : Name:                Method:          @B=0.01             @B=0.10            @B=0.30   \n",
      "                         : -------------------------------------------------------------------------------------------------------------------\n",
      "                         : dataset              BDT            : 0.140 (0.165)       0.629 (0.695)      0.897 (0.908)\n",
      "                         : -------------------------------------------------------------------------------------------------------------------\n",
      "                         : \n",
      "Dataset:dataset          : Created tree 'TestTree' with 10015 events\n",
      "                         : \n",
      "Dataset:dataset          : Created tree 'TrainTree' with 2800 events\n",
      "                         : \n",
      "Factory                  : \u001b[1mThank you for using TMVA!\u001b[0m\n",
      "                         : \u001b[1mFor citation information, please visit: http://tmva.sf.net/citeTMVA.html\u001b[0m\n"
     ]
    }
   ],
   "source": [
    "factory.EvaluateAllMethods()"
   ]
  },
  {
   "cell_type": "markdown",
   "metadata": {},
   "source": [
    "## Plot ROC Curve\n",
    "We enable JavaScript visualisation for the plots"
   ]
  },
  {
   "cell_type": "code",
   "execution_count": 11,
   "metadata": {},
   "outputs": [
    {
     "data": {
      "image/png": "[encoded data removed]",
      "text/plain": [
       "<IPython.core.display.Image object>"
      ]
     },
     "metadata": {},
     "output_type": "display_data"
    }
   ],
   "source": [
    "c1 = factory.GetROCCurve(loader)\n",
    "c1.Draw()"
   ]
  },
  {
   "cell_type": "markdown",
   "metadata": {},
   "source": [
    "## Prediction\n",
    "\n",
    "### Declare Reader"
   ]
  },
  {
   "cell_type": "code",
   "execution_count": 12,
   "metadata": {},
   "outputs": [],
   "source": [
    "TMVA.Tools.Instance()\n",
    "TMVA.PyMethodBase.PyInitialize();\n",
    "\n",
    "reader = TMVA.Reader( \"!Color:!Silent\" )"
   ]
  },
  {
   "cell_type": "code",
   "execution_count": 13,
   "metadata": {},
   "outputs": [
    {
     "name": "stderr",
     "output_type": "stream",
     "text": [
      "Warning in <TFile::Init>: file SR_1tag_Xtohh1000_d.root probably not closed, trying to recover\n",
      "Info in <TFile::Recover>: SR_1tag_Xtohh1000_d.root, recovered key TTree:Nominal at address 244\n",
      "Warning in <TFile::Init>: successfully recovered 1 keys\n",
      "Warning in <TFile::Init>: file SR_1tag_Xtohh1000_b.root probably not closed, trying to recover\n",
      "Info in <TFile::Recover>: SR_1tag_Xtohh1000_b.root, recovered key TTree:Nominal at address 480267\n",
      "Warning in <TFile::Init>: successfully recovered 1 keys\n",
      "Warning in <TFile::Init>: file SR_1tag_Xtohh1000_s.root probably not closed, trying to recover\n",
      "Info in <TFile::Recover>: SR_1tag_Xtohh1000_s.root, recovered key TTree:Nominal at address 8294\n",
      "Warning in <TFile::Init>: successfully recovered 1 keys\n"
     ]
    }
   ],
   "source": [
    "methodNames = [\"BDT\"]\n",
    "\n",
    "dataFile = ROOT.TFile(\"SR_1tag_Xtohh1000_d.root\")\n",
    "bkgFile = ROOT.TFile(\"SR_1tag_Xtohh1000_b.root\")\n",
    "sigFile = ROOT.TFile(\"SR_1tag_Xtohh1000_s.root\")\n",
    "\n",
    "dataTree = dataFile.Nominal\n",
    "bkgTree = bkgFile.Nominal\n",
    "sigTree = sigFile.Nominal"
   ]
  },
  {
   "cell_type": "markdown",
   "metadata": {},
   "source": [
    "### Add Variable\n",
    "\n",
    "We add variables to the reader exactly in the same way we did for the **DataLoader** during the training\n",
    "\n",
    "We need to specify the address of the variable in order to pass it to TMVA when we iterate on the TTree"
   ]
  },
  {
   "cell_type": "code",
   "execution_count": 15,
   "metadata": {},
   "outputs": [],
   "source": [
    "variables = []\n",
    "i = 0\n",
    "from array import array\n",
    "\n",
    "for branch in dataTree.GetListOfBranches():\n",
    "    if branch.GetName() in not_cons:\n",
    "        continue\n",
    "    aux = array('f',[0])\n",
    "    variables.append(aux)\n",
    "    reader.AddVariable(branch.GetName(),variables[i])\n",
    "    i = i+1\n"
   ]
  },
  {
   "cell_type": "markdown",
   "metadata": {},
   "source": [
    "### Setup Classifiers\n",
    "\n",
    "We set up the classifiers by reading the input weights from the appropriate files\n",
    "\n",
    "The file is stored for example as \n",
    "\n",
    "####  *dataset/weights/TMVAClassification_BDT.weights.xml"
   ]
  },
  {
   "cell_type": "code",
   "execution_count": 16,
   "metadata": {},
   "outputs": [
    {
     "name": "stdout",
     "output_type": "stream",
     "text": [
      "                         : Booking \"BDT\" of type \"BDT\" from dataset/weights/TMVA_Higgs_Classification_BDT.weights.xml.\n",
      "                         : Reading weight file: dataset/weights/TMVA_Higgs_Classification_BDT.weights.xml\n",
      "<HEADER> DataSetInfo              : [Default] : Added class \"Signal\"\n",
      "<HEADER> DataSetInfo              : [Default] : Added class \"Background\"\n",
      "                         : Booked classifier \"BDT\" of type: \"BDT\"\n"
     ]
    }
   ],
   "source": [
    "for methodName in methodNames: \n",
    "    weightfile = \"dataset/weights/TMVA_Higgs_Classification_\" + methodName + \".weights.xml\"\n",
    "    name = ROOT.TString(methodName)\n",
    "    reader.BookMVA( name, weightfile );"
   ]
  },
  {
   "cell_type": "markdown",
   "metadata": {},
   "source": [
    "### Evaluation of the classifier on the given input events\n",
    "\n",
    "We iterate on the input event in the given TTree. We provide as input first the background tree \n",
    "We return the output results for the various methods in big numpy array [ number of methods x number of events]\n",
    "We also fill an histogram for each method.\n",
    "Note that is important to fill the arrays with the tree entries in order to pass the values to the TMVA::Reader"
   ]
  },
  {
   "cell_type": "code",
   "execution_count": 19,
   "metadata": {},
   "outputs": [],
   "source": [
    "import numpy as np\n",
    "\n",
    "# Add weights\n",
    "def v_out(tree, weights):\n",
    "    h = {}\n",
    "    hname = \"hdata_BDT\"\n",
    "    h['BDT'] = (ROOT.TH1D(hname,\"htitle\",60,-1,1))\n",
    "    \n",
    "    nevt = tree.GetEntries()\n",
    "\n",
    "    vout = np.arange(nevt * len(methodNames), dtype='float').reshape( len(methodNames), nevt)\n",
    "\n",
    "    for ievt, entry in enumerate(tree):\n",
    "        i = 0    \n",
    "        for branch in tree.GetListOfBranches():\n",
    "            name = branch.GetName()\n",
    "            if name in not_cons:\n",
    "                continue\n",
    "            variables[i][0] = getattr(entry,name)\n",
    "            i += 1\n",
    "\n",
    "        for j, methodName in enumerate(methodNames): \n",
    "            vout[j,ievt] = reader.EvaluateMVA(methodName)\n",
    "            h[methodName].Fill(vout[j,ievt])\n",
    "    \n",
    "    return h, vout"
   ]
  },
  {
   "cell_type": "code",
   "execution_count": 20,
   "metadata": {},
   "outputs": [
    {
     "name": "stderr",
     "output_type": "stream",
     "text": [
      "Warning in <TFile::Append>: Replacing existing TH1: hdata_BDT (Potential memory leak).\n",
      "Warning in <TFile::Append>: Replacing existing TH1: hdata_BDT (Potential memory leak).\n"
     ]
    }
   ],
   "source": [
    "hd, d_vout = v_out(dataTree)\n",
    "hs, s_vout = v_out(sigTree)\n",
    "hb, b_vout = v_out(bkgTree)"
   ]
  },
  {
   "cell_type": "code",
   "execution_count": 21,
   "metadata": {},
   "outputs": [
    {
     "name": "stdout",
     "output_type": "stream",
     "text": [
      "[[0.09918389 0.07203822 0.06206694 ... 0.08206859 0.0406342  0.06418041]]\n"
     ]
    }
   ],
   "source": [
    "print(s_vout)"
   ]
  },
  {
   "cell_type": "code",
   "execution_count": 22,
   "metadata": {},
   "outputs": [
    {
     "name": "stdout",
     "output_type": "stream",
     "text": [
      "[[-0.12120506 -0.09624326 -0.11923205 ... -0.1198842  -0.03364457\n",
      "  -0.04347635]]\n"
     ]
    }
   ],
   "source": [
    "print(b_vout)"
   ]
  },
  {
   "cell_type": "markdown",
   "metadata": {},
   "source": [
    "### Plot Histogram of output variables"
   ]
  },
  {
   "cell_type": "code",
   "execution_count": 30,
   "metadata": {},
   "outputs": [
    {
     "data": {
      "image/png": "[encoded data removed]",
      "text/plain": [
       "<IPython.core.display.Image object>"
      ]
     },
     "metadata": {},
     "output_type": "display_data"
    }
   ],
   "source": [
    "c1 = ROOT.TCanvas()\n",
    "#c1.DivideSquare( len(hs))\n",
    "ipad = 0\n",
    "for name in methodNames: \n",
    "    ipad += 1\n",
    "    pad = c1.cd(ipad)\n",
    "    h1 = hb[name]\n",
    "    h1.Draw()\n",
    "    h2 = hs[name]\n",
    "    h2.SetLineColor(ROOT.kRed)\n",
    "    h3 = hd[name]\n",
    "    h3.SetFillColor(ROOT.kGreen)\n",
    "    h1.SetFillColor(ROOT.kBlue)\n",
    "    h2.Draw('Same')\n",
    "    h3.Draw('Same')\n",
    "    pad.BuildLegend()\n",
    "\n",
    "c1.Draw()"
   ]
  },
  {
   "cell_type": "code",
   "execution_count": null,
   "metadata": {},
   "outputs": [],
   "source": [
    "dataFile.Close()\n",
    "sigFile.Close()\n",
    "bkgFile.Close()"
   ]
  }
 ],
 "metadata": {
  "kernelspec": {
   "display_name": "Python 3",
   "language": "python",
   "name": "python3"
  },
  "language_info": {
   "codemirror_mode": {
    "name": "ipython",
    "version": 3
   },
   "file_extension": ".py",
   "mimetype": "text/x-python",
   "name": "python",
   "nbconvert_exporter": "python",
   "pygments_lexer": "ipython3",
   "version": "3.5.5"
  }
 },
 "nbformat": 4,
 "nbformat_minor": 2
}
