{
 "cells": [
  {
   "cell_type": "code",
   "execution_count": 30,
   "metadata": {},
   "outputs": [],
   "source": [
    "from root_numpy import root2array, tree2array\n",
    "from root_numpy import testdata\n",
    "import numpy as np\n",
    "import ROOT"
   ]
  },
  {
   "cell_type": "code",
   "execution_count": 54,
   "metadata": {},
   "outputs": [],
   "source": [
    "# Insert .root filepath \n",
    "filename = \"/home/andrea/Escritorio/Tutorial ROOT/Datos lxplus/ZtautauB_221.root\"\n",
    "\n",
    "# Convert a TTree in a ROOT file into a NumPy structured array\n",
    "arr = root2array(filename, 'Nominal')\n",
    "# The TTree name is always optional if there is only one TTree in the file\n",
    "\n",
    "# Or first get the TTree from the ROOT file\n",
    "rfile = ROOT.TFile(filename)\n",
    "intree = rfile.Get('Nominal')\n",
    "\n",
    "# and convert the TTree into an array\n",
    "#array = tree2array(intree)\n",
    "\n",
    "#Include specific branches or expressions and only entries passing a selection:\n",
    "array = tree2array(intree,\n",
    "    branches=['sample', 'EventWeight', 'EventNumber', 'BDT', 'NJets', 'NJetsbtagged', 'Tau1Pt', 'Tau1Eta', \n",
    "              'Tau1Phi', 'Tau1M', 'Tau2Pt', 'Tau2Eta', 'Tau2Phi', 'Tau2M', 'diTauVisM', 'diTauVisPt', \n",
    "              'diTauVisEta', 'diTauVisPhi', 'diTauMMCM', 'diTauMMCPt', 'diTauMMCEta', 'diTauMMCPhi', 'diTauDR', \n",
    "              'diTauDEta', 'diTauDPhi', 'Jet1Pt'])"
   ]
  },
  {
   "cell_type": "code",
   "execution_count": 61,
   "metadata": {},
   "outputs": [
    {
     "data": {
      "text/plain": [
       "numpy.ndarray"
      ]
     },
     "execution_count": 61,
     "metadata": {},
     "output_type": "execute_result"
    }
   ],
   "source": [
    "type(array)"
   ]
  },
  {
   "cell_type": "code",
   "execution_count": 75,
   "metadata": {},
   "outputs": [
    {
     "data": {
      "text/plain": [
       "6.941541"
      ]
     },
     "execution_count": 75,
     "metadata": {},
     "output_type": "execute_result"
    }
   ],
   "source": [
    "array[0][1]"
   ]
  },
  {
   "cell_type": "code",
   "execution_count": null,
   "metadata": {},
   "outputs": [],
   "source": []
  }
 ],
 "metadata": {
  "kernelspec": {
   "display_name": "Python 3",
   "language": "python",
   "name": "python3"
  },
  "language_info": {
   "codemirror_mode": {
    "name": "ipython",
    "version": 3
   },
   "file_extension": ".py",
   "mimetype": "text/x-python",
   "name": "python",
   "nbconvert_exporter": "python",
   "pygments_lexer": "ipython3",
   "version": "3.5.5"
  }
 },
 "nbformat": 4,
 "nbformat_minor": 2
}
