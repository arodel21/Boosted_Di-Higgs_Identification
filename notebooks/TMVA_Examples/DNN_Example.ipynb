{
 "cells": [
  {
   "cell_type": "markdown",
   "metadata": {},
   "source": [
    "# <center>Deep Neural Network Example</center>"
   ]
  },
  {
   "cell_type": "markdown",
   "metadata": {},
   "source": [
    "### Declare Factory\n",
    "\n",
    "factory will be the object that executes the training and testing."
   ]
  },
  {
   "cell_type": "code",
   "execution_count": 1,
   "metadata": {},
   "outputs": [
    {
     "name": "stdout",
     "output_type": "stream",
     "text": [
      "Welcome to JupyROOT 6.14/04\n"
     ]
    }
   ],
   "source": [
    "from ROOT import TMVA, TFile, TTree, TCut, TString"
   ]
  },
  {
   "cell_type": "markdown",
   "metadata": {},
   "source": [
    "We will get the data from the file *inputdata.root*, which it's placed in the same folder as this notebook."
   ]
  },
  {
   "cell_type": "code",
   "execution_count": 2,
   "metadata": {},
   "outputs": [],
   "source": [
    "TMVA.Tools.Instance()\n",
    "\n",
    "inputFile = TFile.Open(\"inputdata.root\")\n",
    "outputFile = TFile.Open(\"TMVAOutputDNN.root\", \"RECREATE\")\n",
    "\n",
    "factory = TMVA.Factory(\"TMVAClassification\", outputFile,\n",
    "        \"!V:!Silent:Color:!DrawProgressBar:AnalysisType=Classification\")"
   ]
  },
  {
   "cell_type": "markdown",
   "metadata": {},
   "source": [
    "### Setup Dataset(s)"
   ]
  },
  {
   "cell_type": "code",
   "execution_count": 3,
   "metadata": {},
   "outputs": [],
   "source": [
    "tsignal = inputFile.Get(\"Sig\")\n",
    "tbackground = inputFile.Get(\"Bkg\")"
   ]
  },
  {
   "cell_type": "code",
   "execution_count": 4,
   "metadata": {},
   "outputs": [
    {
     "name": "stdout",
     "output_type": "stream",
     "text": [
      "******************************************************************************\n",
      "*Tree    :Sig       : TreeS                                                  *\n",
      "*Entries :     6000 : Total =           98564 bytes  File  Size =      89799 *\n",
      "*        :          : Tree compression factor =   1.08                       *\n",
      "******************************************************************************\n",
      "*Br    0 :var1      : var1/F                                                 *\n",
      "*Entries :     6000 : Total  Size=      24553 bytes  File Size  =      22365 *\n",
      "*Baskets :        1 : Basket Size=      32000 bytes  Compression=   1.08     *\n",
      "*............................................................................*\n",
      "*Br    1 :var2      : var2/F                                                 *\n",
      "*Entries :     6000 : Total  Size=      24553 bytes  File Size  =      22361 *\n",
      "*Baskets :        1 : Basket Size=      32000 bytes  Compression=   1.08     *\n",
      "*............................................................................*\n",
      "*Br    2 :var3      : var3/F                                                 *\n",
      "*Entries :     6000 : Total  Size=      24553 bytes  File Size  =      22335 *\n",
      "*Baskets :        1 : Basket Size=      32000 bytes  Compression=   1.08     *\n",
      "*............................................................................*\n",
      "*Br    3 :var4      : var4/F                                                 *\n",
      "*Entries :     6000 : Total  Size=      24553 bytes  File Size  =      22215 *\n",
      "*Baskets :        1 : Basket Size=      32000 bytes  Compression=   1.08     *\n",
      "*............................................................................*\n"
     ]
    }
   ],
   "source": [
    "tsignal.Print()"
   ]
  },
  {
   "cell_type": "code",
   "execution_count": 5,
   "metadata": {},
   "outputs": [
    {
     "name": "stdout",
     "output_type": "stream",
     "text": [
      "******************************************************************************\n",
      "*Tree    :Bkg       : TreeB                                                  *\n",
      "*Entries :     6000 : Total =          123132 bytes  File  Size =     112331 *\n",
      "*        :          : Tree compression factor =   1.08                       *\n",
      "******************************************************************************\n",
      "*Br    0 :var1      : var1/F                                                 *\n",
      "*Entries :     6000 : Total  Size=      24553 bytes  File Size  =      22322 *\n",
      "*Baskets :        1 : Basket Size=      32000 bytes  Compression=   1.08     *\n",
      "*............................................................................*\n",
      "*Br    1 :var2      : var2/F                                                 *\n",
      "*Entries :     6000 : Total  Size=      24553 bytes  File Size  =      22382 *\n",
      "*Baskets :        1 : Basket Size=      32000 bytes  Compression=   1.08     *\n",
      "*............................................................................*\n",
      "*Br    2 :var3      : var3/F                                                 *\n",
      "*Entries :     6000 : Total  Size=      24553 bytes  File Size  =      22339 *\n",
      "*Baskets :        1 : Basket Size=      32000 bytes  Compression=   1.08     *\n",
      "*............................................................................*\n",
      "*Br    3 :var4      : var4/F                                                 *\n",
      "*Entries :     6000 : Total  Size=      24553 bytes  File Size  =      22281 *\n",
      "*Baskets :        1 : Basket Size=      32000 bytes  Compression=   1.08     *\n",
      "*............................................................................*\n",
      "*Br    4 :weight    : weight/F                                               *\n",
      "*Entries :     6000 : Total  Size=      24563 bytes  File Size  =      22409 *\n",
      "*Baskets :        1 : Basket Size=      32000 bytes  Compression=   1.07     *\n",
      "*............................................................................*\n"
     ]
    }
   ],
   "source": [
    "tbackground.Print()"
   ]
  },
  {
   "cell_type": "markdown",
   "metadata": {},
   "source": [
    "As you can see, we have 4 variables. In the background tree there's also a column for the weights."
   ]
  },
  {
   "cell_type": "markdown",
   "metadata": {},
   "source": [
    "### Declare Variables in DataLoader"
   ]
  },
  {
   "cell_type": "markdown",
   "metadata": {},
   "source": [
    "We will add those 4 variables to out loader object, but we'll incorporate 2 more variables, which depend on the others.\n",
    "\n",
    "Loader is the object that will be processed by the factory."
   ]
  },
  {
   "cell_type": "code",
   "execution_count": 6,
   "metadata": {},
   "outputs": [],
   "source": [
    "loader = TMVA.DataLoader(\"dataset_dnn\") # For ANN we use just \"dataset\"\n",
    "\n",
    "loader.AddVariable(\"var1\")\n",
    "loader.AddVariable(\"var2\")\n",
    "loader.AddVariable(\"var3\")\n",
    "loader.AddVariable(\"var4\")\n",
    "loader.AddVariable(\"var5 := var1-var3\")\n",
    "loader.AddVariable(\"var6 := var1+var2\")"
   ]
  },
  {
   "cell_type": "code",
   "execution_count": 7,
   "metadata": {},
   "outputs": [
    {
     "name": "stdout",
     "output_type": "stream",
     "text": [
      "DataSetInfo              : [dataset_dnn] : Added class \"Signal\"\n",
      "                         : Add Tree Sig of type Signal with 6000 events\n",
      "DataSetInfo              : [dataset_dnn] : Added class \"Background\"\n",
      "                         : Add Tree Bkg of type Background with 6000 events\n",
      "                         : Dataset[dataset_dnn] : Class index : 0  name : Signal\n",
      "                         : Dataset[dataset_dnn] : Class index : 1  name : Background\n"
     ]
    }
   ],
   "source": [
    "loader.AddSignalTree(tsignal)\n",
    "loader.AddBackgroundTree(tbackground) \n",
    "loader.PrepareTrainingAndTestTree(TCut(\"\"),\n",
    "        \"nTrain_Signal=1000:nTrain_Background=1000:SplitMode=Random:NormMode=NumEvents:!V\")"
   ]
  },
  {
   "cell_type": "markdown",
   "metadata": {},
   "source": [
    "### Configure Network Layout"
   ]
  },
  {
   "cell_type": "markdown",
   "metadata": {},
   "source": [
    "General setup for out dnn"
   ]
  },
  {
   "cell_type": "code",
   "execution_count": 8,
   "metadata": {},
   "outputs": [
    {
     "data": {
      "text/plain": [
       "'!H:!V:ErrorStrategy=CROSSENTROPY:VarTransform=N:WeightInitialization=XAVIERUNIFORM:Layout=TANH|128,TANH|128,TANH|128,LINEAR:TrainingStrategy=LearningRate=1e-1,Momentum=0.9,Repetitions=1,ConvergenceSteps=2,BatchSize=256,TestRepetitions=10,WeightDecay=1e-4,Regularization=L2,DropConfig=0.0+0.5+0.5+0.5, Multithreading=True|LearningRate=1e-2,Momentum=0.9,Repetitions=1,ConvergenceSteps=2,BatchSize=256,TestRepetitions=10,WeightDecay=1e-4,Regularization=L2,DropConfig=0.0+0.0+0.0+0.0, Multithreading=True'"
      ]
     },
     "execution_count": 8,
     "metadata": {},
     "output_type": "execute_result"
    }
   ],
   "source": [
    "# General layout\n",
    "layoutString = TString(\"Layout=TANH|128,TANH|128,TANH|128,LINEAR\");\n",
    "\n",
    "# Training strategies\n",
    "training0 = TString(\"LearningRate=1e-1,Momentum=0.9,Repetitions=1,\"\n",
    "                        \"ConvergenceSteps=2,BatchSize=256,TestRepetitions=10,\"\n",
    "                        \"WeightDecay=1e-4,Regularization=L2,\"\n",
    "                        \"DropConfig=0.0+0.5+0.5+0.5, Multithreading=True\")\n",
    "training1 = TString(\"LearningRate=1e-2,Momentum=0.9,Repetitions=1,\"\n",
    "                        \"ConvergenceSteps=2,BatchSize=256,TestRepetitions=10,\"\n",
    "                        \"WeightDecay=1e-4,Regularization=L2,\"\n",
    "                        \"DropConfig=0.0+0.0+0.0+0.0, Multithreading=True\")\n",
    "trainingStrategyString = TString(\"TrainingStrategy=\")\n",
    "trainingStrategyString += training0 + TString(\"|\") + training1\n",
    "\n",
    "# General Options\n",
    "dnnOptions = TString(\"!H:!V:ErrorStrategy=CROSSENTROPY:VarTransform=N:\"\n",
    "        \"WeightInitialization=XAVIERUNIFORM\")\n",
    "dnnOptions.Append(\":\")\n",
    "dnnOptions.Append(layoutString)\n",
    "dnnOptions.Append(\":\")\n",
    "dnnOptions.Append(trainingStrategyString)"
   ]
  },
  {
   "cell_type": "markdown",
   "metadata": {},
   "source": [
    "### Booking Methods"
   ]
  },
  {
   "cell_type": "markdown",
   "metadata": {},
   "source": [
    "Define the method that will be used by the factory object"
   ]
  },
  {
   "cell_type": "code",
   "execution_count": 9,
   "metadata": {},
   "outputs": [
    {
     "data": {
      "text/plain": [
       "<ROOT.TMVA::MethodDNN object (\"DNN\") at 0x6a51a50>"
      ]
     },
     "execution_count": 9,
     "metadata": {},
     "output_type": "execute_result"
    },
    {
     "name": "stdout",
     "output_type": "stream",
     "text": [
      "Factory                  : Booking method: \u001b[1mDNN\u001b[0m\n",
      "                         : \n",
      "DNN                      : [dataset_dnn] : Create Transformation \"N\" with events from all classes.\n",
      "                         : \n",
      "                         : Transformation, Variable selection : \n",
      "                         : Input : variable 'var1' <---> Output : variable 'var1'\n",
      "                         : Input : variable 'var2' <---> Output : variable 'var2'\n",
      "                         : Input : variable 'var3' <---> Output : variable 'var3'\n",
      "                         : Input : variable 'var4' <---> Output : variable 'var4'\n",
      "                         : Input : variable 'var5' <---> Output : variable 'var5'\n",
      "                         : Input : variable 'var6' <---> Output : variable 'var6'\n",
      "DataSetFactory           : [dataset_dnn] : Number of events in input trees\n",
      "                         : \n",
      "                         : \n",
      "                         : Number of training and testing events\n",
      "                         : ---------------------------------------------------------------------------\n",
      "                         : Signal     -- training events            : 1000\n",
      "                         : Signal     -- testing events             : 5000\n",
      "                         : Signal     -- training and testing events: 6000\n",
      "                         : Background -- training events            : 1000\n",
      "                         : Background -- testing events             : 5000\n",
      "                         : Background -- training and testing events: 6000\n",
      "                         : \n",
      "DataSetInfo              : Correlation matrix (Signal):\n",
      "                         : --------------------------------------------------------------\n",
      "                         :               var1    var2    var3    var4 var1-var3 var1+var2\n",
      "                         :      var1:  +1.000  +0.368  +0.576  +0.820    +0.495    +0.834\n",
      "                         :      var2:  +0.368  +1.000  +0.663  +0.704    -0.297    +0.820\n",
      "                         :      var3:  +0.576  +0.663  +1.000  +0.831    -0.425    +0.748\n",
      "                         :      var4:  +0.820  +0.704  +0.831  +1.000    +0.026    +0.922\n",
      "                         : var1-var3:  +0.495  -0.297  -0.425  +0.026    +1.000    +0.129\n",
      "                         : var1+var2:  +0.834  +0.820  +0.748  +0.922    +0.129    +1.000\n",
      "                         : --------------------------------------------------------------\n",
      "DataSetInfo              : Correlation matrix (Background):\n",
      "                         : --------------------------------------------------------------\n",
      "                         :               var1    var2    var3    var4 var1-var3 var1+var2\n",
      "                         :      var1:  +1.000  +0.858  +0.913  +0.965    +0.156    +0.967\n",
      "                         :      var2:  +0.858  +1.000  +0.927  +0.938    -0.215    +0.960\n",
      "                         :      var3:  +0.913  +0.927  +1.000  +0.969    -0.260    +0.954\n",
      "                         :      var4:  +0.965  +0.938  +0.969  +1.000    -0.063    +0.988\n",
      "                         : var1-var3:  +0.156  -0.215  -0.260  -0.063    +1.000    -0.023\n",
      "                         : var1+var2:  +0.967  +0.960  +0.954  +0.988    -0.023    +1.000\n",
      "                         : --------------------------------------------------------------\n",
      "DataSetFactory           : [dataset_dnn] :  \n",
      "                         : \n",
      "TFHandler_DNN            : Variable        Mean        RMS   [        Min        Max ]\n",
      "                         : -----------------------------------------------------------\n",
      "                         :     var1:   0.074284    0.35741   [    -1.0000     1.0000 ]\n",
      "                         :     var2:   0.048643    0.31747   [    -1.0000     1.0000 ]\n",
      "                         :     var3:   0.068687    0.34692   [    -1.0000     1.0000 ]\n",
      "                         :     var4:    0.12551    0.41781   [    -1.0000     1.0000 ]\n",
      "                         :     var5: -0.0013840    0.30650   [    -1.0000     1.0000 ]\n",
      "                         :     var6:    0.10033    0.35560   [    -1.0000     1.0000 ]\n",
      "                         : -----------------------------------------------------------\n",
      "Parsed Training DNN string LearningRate=1e-1,Momentum=0.9,Repetitions=1,ConvergenceSteps=2,BatchSize=256,TestRepetitions=10,WeightDecay=1e-4,Regularization=L2,DropConfig=0.0+0.5+0.5+0.5,\n",
      "STring has size 1\n"
     ]
    }
   ],
   "source": [
    "# Standard implementation, no dependencies.\n",
    "stdOptions =  dnnOptions + \":Architecture=CPU\"\n",
    "factory.BookMethod(loader, TMVA.Types.kDNN, \"DNN\", stdOptions)\n",
    "\n",
    "# CPU implementation, using BLAS\n",
    "#cpuOptions = dnnOptions + \":Architecture=CPU\"\n",
    "#factory.BookMethod(loader, TMVA.Types.kDNN, \"DNN CPU\", cpuOptions)"
   ]
  },
  {
   "cell_type": "markdown",
   "metadata": {},
   "source": [
    "### Train Methods"
   ]
  },
  {
   "cell_type": "code",
   "execution_count": 10,
   "metadata": {},
   "outputs": [
    {
     "name": "stdout",
     "output_type": "stream",
     "text": [
      "Factory                  : \u001b[1mTrain all methods\u001b[0m\n",
      "Factory                  : [dataset_dnn] : Create Transformation \"I\" with events from all classes.\n",
      "                         : \n",
      "                         : Transformation, Variable selection : \n",
      "                         : Input : variable 'var1' <---> Output : variable 'var1'\n",
      "                         : Input : variable 'var2' <---> Output : variable 'var2'\n",
      "                         : Input : variable 'var3' <---> Output : variable 'var3'\n",
      "                         : Input : variable 'var4' <---> Output : variable 'var4'\n",
      "                         : Input : variable 'var5' <---> Output : variable 'var5'\n",
      "                         : Input : variable 'var6' <---> Output : variable 'var6'\n",
      "TFHandler_Factory        : Variable        Mean        RMS   [        Min        Max ]\n",
      "                         : -----------------------------------------------------------\n",
      "                         :     var1:   0.042398     1.6637   [    -4.9583     4.3515 ]\n",
      "                         :     var2:  -0.010500     1.5555   [    -5.1485     4.6508 ]\n",
      "                         :     var3:   0.023333     1.7208   [    -5.2777     4.6430 ]\n",
      "                         :     var4:    0.18162     2.1465   [    -5.6007     4.6744 ]\n",
      "                         :     var5:   0.019065    0.92096   [    -2.9816     3.0280 ]\n",
      "                         :     var6:   0.031898     3.0281   [    -9.3380     7.6931 ]\n",
      "                         : -----------------------------------------------------------\n",
      "                         : Ranking input variables (method unspecific)...\n",
      "IdTransformation         : Ranking result (top variable is best ranked)\n",
      "                         : -----------------------------\n",
      "                         : Rank : Variable  : Separation\n",
      "                         : -----------------------------\n",
      "                         :    1 : var4      : 3.663e-01\n",
      "                         :    2 : var6      : 3.428e-01\n",
      "                         :    3 : var3      : 3.125e-01\n",
      "                         :    4 : var1      : 2.737e-01\n",
      "                         :    5 : var2      : 2.551e-01\n",
      "                         :    6 : var5      : 7.589e-02\n",
      "                         : -----------------------------\n",
      "Factory                  : Train method: DNN for Classification\n",
      "                         : \n",
      "TFHandler_DNN            : Variable        Mean        RMS   [        Min        Max ]\n",
      "                         : -----------------------------------------------------------\n",
      "                         :     var1:   0.074284    0.35741   [    -1.0000     1.0000 ]\n",
      "                         :     var2:   0.048643    0.31747   [    -1.0000     1.0000 ]\n",
      "                         :     var3:   0.068687    0.34692   [    -1.0000     1.0000 ]\n",
      "                         :     var4:    0.12551    0.41781   [    -1.0000     1.0000 ]\n",
      "                         :     var5: -0.0013840    0.30650   [    -1.0000     1.0000 ]\n",
      "                         :     var6:    0.10033    0.35560   [    -1.0000     1.0000 ]\n",
      "                         : -----------------------------------------------------------\n",
      "                         : Start of neural network training on CPU.\n",
      "                         : \n",
      "                         : Training phase 1 of 1:\n",
      "                         :      Epoch |   Train Err.  Test  Err.     GFLOP/s Conv. Steps\n",
      "                         : --------------------------------------------------------------\n",
      "                         :         10 |      0.34145      0.3313     1.19042           0\n",
      "                         :         20 |     0.342805    0.333177     1.15158          10\n",
      "                         : \n",
      "                         : Elapsed time for training with 2000 events: 5.48 sec         \n",
      "DNN                      : [dataset_dnn] : Evaluation of DNN on training sample (2000 events)\n",
      "                         : Elapsed time for evaluation of 2000 events: 0.179 sec       \n",
      "                         : Creating xml weight file: \u001b[0;36mdataset_dnn/weights/TMVAClassification_DNN.weights.xml\u001b[0m\n",
      "                         : Creating standalone class: \u001b[0;36mdataset_dnn/weights/TMVAClassification_DNN.class.C\u001b[0m\n",
      "Factory                  : Training finished\n",
      "                         : \n",
      "                         : Ranking input variables (method specific)...\n",
      "DNN                      : Ranking result (top variable is best ranked)\n",
      "                         : -----------------------------\n",
      "                         : Rank : Variable  : Importance\n",
      "                         : -----------------------------\n",
      "                         :    1 : var1      : 1.000e+00\n",
      "                         :    2 : var2      : 1.000e+00\n",
      "                         :    3 : var3      : 1.000e+00\n",
      "                         :    4 : var4      : 1.000e+00\n",
      "                         :    5 : var5      : 1.000e+00\n",
      "                         :    6 : var6      : 1.000e+00\n",
      "                         : -----------------------------\n",
      "Factory                  : === Destroy and recreate all methods via weight files for testing ===\n",
      "                         : \n",
      "                         : Reading weight file: \u001b[0;36mdataset_dnn/weights/TMVAClassification_DNN.weights.xml\u001b[0m\n"
     ]
    }
   ],
   "source": [
    "factory.TrainAllMethods()"
   ]
  },
  {
   "cell_type": "markdown",
   "metadata": {},
   "source": [
    "### Test and Evaluate Methods"
   ]
  },
  {
   "cell_type": "code",
   "execution_count": 11,
   "metadata": {},
   "outputs": [
    {
     "name": "stdout",
     "output_type": "stream",
     "text": [
      "Factory                  : \u001b[1mTest all methods\u001b[0m\n",
      "Factory                  : Test method: DNN for Classification performance\n",
      "                         : \n",
      "DNN                      : [dataset_dnn] : Evaluation of DNN on testing sample (10000 events)\n",
      "                         : Elapsed time for evaluation of 10000 events: 0.719 sec       \n",
      "Factory                  : \u001b[1mEvaluate all methods\u001b[0m\n",
      "Factory                  : Evaluate classifier: DNN\n",
      "                         : \n",
      "TFHandler_DNN            : Variable        Mean        RMS   [        Min        Max ]\n",
      "                         : -----------------------------------------------------------\n",
      "                         :     var1:   0.067343    0.35861   [    -1.2021     1.0886 ]\n",
      "                         :     var2:   0.053830    0.32258   [    -1.0198     1.0366 ]\n",
      "                         :     var3:   0.065106    0.35083   [    -1.0158    0.99984 ]\n",
      "                         :     var4:    0.12225    0.42095   [    -1.2661     1.0694 ]\n",
      "                         :     var5: -0.0062232    0.30608   [    -1.0870     1.1585 ]\n",
      "                         :     var6:   0.099522    0.35842   [    -1.0614     1.0246 ]\n",
      "                         : -----------------------------------------------------------\n",
      "DNN                      : [dataset_dnn] : Loop over test events and fill histograms with classifier response...\n",
      "                         : \n",
      "TFHandler_DNN            : Variable        Mean        RMS   [        Min        Max ]\n",
      "                         : -----------------------------------------------------------\n",
      "                         :     var1:   0.067343    0.35861   [    -1.2021     1.0886 ]\n",
      "                         :     var2:   0.053830    0.32258   [    -1.0198     1.0366 ]\n",
      "                         :     var3:   0.065106    0.35083   [    -1.0158    0.99984 ]\n",
      "                         :     var4:    0.12225    0.42095   [    -1.2661     1.0694 ]\n",
      "                         :     var5: -0.0062232    0.30608   [    -1.0870     1.1585 ]\n",
      "                         :     var6:   0.099522    0.35842   [    -1.0614     1.0246 ]\n",
      "                         : -----------------------------------------------------------\n",
      "                         : \n",
      "                         : Evaluation results ranked by best signal efficiency and purity (area)\n",
      "                         : -------------------------------------------------------------------------------------------------------------------\n",
      "                         : DataSet       MVA                       \n",
      "                         : Name:         Method:          ROC-integ\n",
      "                         : dataset_dnn   DNN            : 0.933\n",
      "                         : -------------------------------------------------------------------------------------------------------------------\n",
      "                         : \n",
      "                         : Testing efficiency compared to training efficiency (overtraining check)\n",
      "                         : -------------------------------------------------------------------------------------------------------------------\n",
      "                         : DataSet              MVA              Signal efficiency: from test sample (from training sample) \n",
      "                         : Name:                Method:          @B=0.01             @B=0.10            @B=0.30   \n",
      "                         : -------------------------------------------------------------------------------------------------------------------\n",
      "                         : dataset_dnn          DNN            : 0.345 (0.425)       0.779 (0.795)      0.956 (0.959)\n",
      "                         : -------------------------------------------------------------------------------------------------------------------\n",
      "                         : \n",
      "Dataset:dataset_dnn      : Created tree 'TestTree' with 10000 events\n",
      "                         : \n",
      "Dataset:dataset_dnn      : Created tree 'TrainTree' with 2000 events\n",
      "                         : \n",
      "Factory                  : \u001b[1mThank you for using TMVA!\u001b[0m\n",
      "                         : \u001b[1mFor citation information, please visit: http://tmva.sf.net/citeTMVA.html\u001b[0m\n"
     ]
    }
   ],
   "source": [
    "factory.TestAllMethods()\n",
    "factory.EvaluateAllMethods()"
   ]
  },
  {
   "cell_type": "markdown",
   "metadata": {},
   "source": [
    "### Plot ROC Curve"
   ]
  },
  {
   "cell_type": "code",
   "execution_count": 12,
   "metadata": {},
   "outputs": [
    {
     "data": {
      "image/png": "[encoded data removed]",
      "text/plain": [
       "<IPython.core.display.Image object>"
      ]
     },
     "metadata": {},
     "output_type": "display_data"
    }
   ],
   "source": [
    "c = factory.GetROCCurve(loader)\n",
    "c.Draw()"
   ]
  },
  {
   "cell_type": "markdown",
   "metadata": {},
   "source": [
    "We can see the classifier gives good outcomes according to the evaluation and the ROC curve."
   ]
  }
 ],
 "metadata": {
  "kernelspec": {
   "display_name": "Python 3",
   "language": "python",
   "name": "python3"
  },
  "language_info": {
   "codemirror_mode": {
    "name": "ipython",
    "version": 3
   },
   "file_extension": ".py",
   "mimetype": "text/x-python",
   "name": "python",
   "nbconvert_exporter": "python",
   "pygments_lexer": "ipython3",
   "version": "3.5.5"
  }
 },
 "nbformat": 4,
 "nbformat_minor": 2
}
