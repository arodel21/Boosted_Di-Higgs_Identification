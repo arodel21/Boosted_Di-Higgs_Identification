{
 "cells": [
  {
   "cell_type": "markdown",
   "metadata": {},
   "source": [
    "# <center>Binary Classification with PyMVA</center>"
   ]
  },
  {
   "cell_type": "markdown",
   "metadata": {},
   "source": [
    "**PyMVA** is a set of plugins for TMVA package based on Python (SciKit learn) that consist in a set of classes that engage TMVA and allows new methods of classification and regression using by example SciKit’s modules. "
   ]
  },
  {
   "cell_type": "code",
   "execution_count": 1,
   "metadata": {},
   "outputs": [
    {
     "name": "stdout",
     "output_type": "stream",
     "text": [
      "Welcome to JupyROOT 6.14/04\n"
     ]
    }
   ],
   "source": [
    "import ROOT"
   ]
  },
  {
   "cell_type": "markdown",
   "metadata": {},
   "source": [
    "## Settings"
   ]
  },
  {
   "cell_type": "markdown",
   "metadata": {},
   "source": [
    "Select Theano as backend for Keras"
   ]
  },
  {
   "cell_type": "code",
   "execution_count": 2,
   "metadata": {},
   "outputs": [],
   "source": [
    "from os import environ\n",
    "environ['KERAS_BACKEND'] = 'theano'"
   ]
  },
  {
   "cell_type": "markdown",
   "metadata": {},
   "source": [
    "Set architecture of system"
   ]
  },
  {
   "cell_type": "code",
   "execution_count": 3,
   "metadata": {},
   "outputs": [],
   "source": [
    "environ['THEANO_FLAGS'] = 'gcc.cxxflags=-march=corei7'"
   ]
  },
  {
   "cell_type": "markdown",
   "metadata": {},
   "source": [
    "Keras imports"
   ]
  },
  {
   "cell_type": "code",
   "execution_count": 4,
   "metadata": {},
   "outputs": [
    {
     "name": "stderr",
     "output_type": "stream",
     "text": [
      "/home/andrea/anaconda3/lib/python3.5/importlib/_bootstrap.py:222: RuntimeWarning: numpy.dtype size changed, may indicate binary incompatibility. Expected 96, got 88\n",
      "  return f(*args, **kwds)\n",
      "Using Theano backend.\n",
      "/home/andrea/anaconda3/lib/python3.5/importlib/_bootstrap.py:222: RuntimeWarning: numpy.dtype size changed, may indicate binary incompatibility. Expected 96, got 88\n",
      "  return f(*args, **kwds)\n"
     ]
    }
   ],
   "source": [
    "from keras.models import Sequential # Sequential builder\n",
    "from keras.layers.core import Dense, Dropout\n",
    "from keras.optimizers import Adam"
   ]
  },
  {
   "cell_type": "markdown",
   "metadata": {},
   "source": [
    "The **Sequential** API allows you to create models layer-by-layer for most problems. It is limited in that it does not allow you to create models that share layers or have multiple inputs or outputs.\n",
    "\n",
    "Alternatively, the **Functional** API allows you to create models that have a lot more flexibility as you can easily define models where layers connect to more than just the previous and next layers. In fact, you can connect layers to (literally) any other layer. As a result, creating complex networks such as siamese networks and residual networks become possible."
   ]
  },
  {
   "cell_type": "markdown",
   "metadata": {},
   "source": [
    "## Load data"
   ]
  },
  {
   "cell_type": "code",
   "execution_count": 5,
   "metadata": {},
   "outputs": [
    {
     "name": "stdout",
     "output_type": "stream",
     "text": [
      "DataSetInfo              : [dataset_pymva] : Added class \"Signal\"\n",
      "                         : Add Tree TreeS of type Signal with 6000 events\n",
      "DataSetInfo              : [dataset_pymva] : Added class \"Background\"\n",
      "                         : Add Tree TreeB of type Background with 6000 events\n",
      "                         : Dataset[dataset_pymva] : Class index : 0  name : Signal\n",
      "                         : Dataset[dataset_pymva] : Class index : 1  name : Background\n"
     ]
    }
   ],
   "source": [
    "# Open file \"inputdata.root\" placed in the same directory as this notebook\n",
    "data = ROOT.TFile.Open(\"inputdata.root\")\n",
    "\n",
    "# Get signal and background trees from file\n",
    "signal = data.Get('TreeS')\n",
    "background = data.Get('TreeB')\n",
    "\n",
    "# Add variables to dataloader\n",
    "dataloader = ROOT.TMVA.DataLoader('dataset_pymva')\n",
    "numVariables = len(signal.GetListOfBranches())\n",
    "\n",
    "for branch in signal.GetListOfBranches():\n",
    "    dataloader.AddVariable(branch.GetName())\n",
    "    \n",
    "# Add trees to dataloader\n",
    "dataloader.AddSignalTree(signal, 1.0)\n",
    "dataloader.AddBackgroundTree(background, 1.0)\n",
    "\n",
    "trainTestSplit = 0.8\n",
    "dataloader.PrepareTrainingAndTestTree(ROOT.TCut(''),\n",
    "                                      'TrainTestSplit_Signal={}:'.format(trainTestSplit)+\\\n",
    "                                      'TrainTestSplit_Background={}:'.format(trainTestSplit)+\\\n",
    "                                      'SplitMode=Random')"
   ]
  },
  {
   "cell_type": "markdown",
   "metadata": {},
   "source": [
    "## Set up TMVA"
   ]
  },
  {
   "cell_type": "code",
   "execution_count": 6,
   "metadata": {},
   "outputs": [],
   "source": [
    "# Setup TMVA\n",
    "ROOT.TMVA.Tools.Instance()\n",
    "ROOT.TMVA.PyMethodBase.PyInitialize()\n",
    "\n",
    "outputFile = ROOT.TFile.Open('TMVAOutputPyMVA.root', 'RECREATE')\n",
    "factory = ROOT.TMVA.Factory('TMVAClassification', outputFile,\n",
    "        '!V:!Silent:Color:DrawProgressBar:Transformations=I,G:'+\\\n",
    "        'AnalysisType=Classification')"
   ]
  },
  {
   "cell_type": "markdown",
   "metadata": {},
   "source": [
    "## Define model for Keras"
   ]
  },
  {
   "cell_type": "markdown",
   "metadata": {},
   "source": [
    "**Dense layers:** Regular densely-connected NN layer, a linear stack of layers.\n",
    "\n",
    "**Dropout**: Applies Dropout to the input. It consists in randomly setting a fraction of input units to 0 at each update during training time, which helps prevent overfitting."
   ]
  },
  {
   "cell_type": "code",
   "execution_count": 7,
   "metadata": {},
   "outputs": [
    {
     "name": "stdout",
     "output_type": "stream",
     "text": [
      "_________________________________________________________________\n",
      "Layer (type)                 Output Shape              Param #   \n",
      "=================================================================\n",
      "dense_1 (Dense)              (None, 32)                160       \n",
      "_________________________________________________________________\n",
      "dropout_1 (Dropout)          (None, 32)                0         \n",
      "_________________________________________________________________\n",
      "dense_2 (Dense)              (None, 32)                1056      \n",
      "_________________________________________________________________\n",
      "dropout_2 (Dropout)          (None, 32)                0         \n",
      "_________________________________________________________________\n",
      "dense_3 (Dense)              (None, 2)                 66        \n",
      "=================================================================\n",
      "Total params: 1,282\n",
      "Trainable params: 1,282\n",
      "Non-trainable params: 0\n",
      "_________________________________________________________________\n"
     ]
    }
   ],
   "source": [
    "# Define a sequential model\n",
    "model = Sequential()\n",
    "\n",
    "# Passing a list of layer instances to the constructor\n",
    "model.add(Dense(32, activation=\"relu\", kernel_initializer=\"glorot_normal\", input_dim=numVariables))\n",
    "model.add(Dropout(0.5))\n",
    "model.add(Dense(32, activation=\"relu\", kernel_initializer=\"glorot_normal\"))\n",
    "model.add(Dropout(0.5))\n",
    "model.add(Dense(2, activation=\"softmax\", kernel_initializer=\"glorot_uniform\"))\n",
    "\n",
    "# Set loss and optimizer\n",
    "model.compile(loss='categorical_crossentropy', optimizer=Adam(),\n",
    "        metrics=['categorical_accuracy',])\n",
    "\n",
    "# Store model to file\n",
    "model.save('model.h5')\n",
    "\n",
    "# Print summary of model\n",
    "model.summary()"
   ]
  },
  {
   "cell_type": "markdown",
   "metadata": {},
   "source": [
    "## Book methods"
   ]
  },
  {
   "cell_type": "markdown",
   "metadata": {},
   "source": [
    "Just run the cells that contain the classifiers you want to try."
   ]
  },
  {
   "cell_type": "code",
   "execution_count": 8,
   "metadata": {},
   "outputs": [
    {
     "name": "stderr",
     "output_type": "stream",
     "text": [
      "/home/andrea/anaconda3/lib/python3.5/importlib/_bootstrap.py:222: RuntimeWarning: numpy.dtype size changed, may indicate binary incompatibility. Expected 96, got 88\n",
      "  return f(*args, **kwds)\n",
      "/home/andrea/anaconda3/lib/python3.5/importlib/_bootstrap.py:222: RuntimeWarning: numpy.dtype size changed, may indicate binary incompatibility. Expected 96, got 88\n",
      "  return f(*args, **kwds)\n"
     ]
    },
    {
     "data": {
      "text/plain": [
       "<ROOT.TMVA::MethodPyGTB object (\"GTB\") at 0x8e28f50>"
      ]
     },
     "execution_count": 8,
     "metadata": {},
     "output_type": "execute_result"
    },
    {
     "name": "stdout",
     "output_type": "stream",
     "text": [
      "Factory                  : Booking method: \u001b[1mPyKeras\u001b[0m\n",
      "                         : \n",
      "PyKeras                  : [dataset_pymva] : Create Transformation \"G\" with events from all classes.\n",
      "                         : \n",
      "                         : Transformation, Variable selection : \n",
      "                         : Input : variable 'var1' <---> Output : variable 'var1'\n",
      "                         : Input : variable 'var2' <---> Output : variable 'var2'\n",
      "                         : Input : variable 'var3' <---> Output : variable 'var3'\n",
      "                         : Input : variable 'var4' <---> Output : variable 'var4'\n",
      "                         : Load model from file: model.h5\n",
      "Factory                  : Booking method: \u001b[1mGTB\u001b[0m\n",
      "                         : \n"
     ]
    }
   ],
   "source": [
    "# Keras interface with previously defined model\n",
    "factory.BookMethod(dataloader, ROOT.TMVA.Types.kPyKeras, 'PyKeras',\n",
    "        'H:!V:VarTransform=G:FilenameModel=model.h5:'+\\\n",
    "        'NumEpochs=10:BatchSize=32:'+\\\n",
    "        'TriesEarlyStopping=3')\n",
    "\n",
    "# Gradient tree boosting from scikit-learn package\n",
    "factory.BookMethod(dataloader, ROOT.TMVA.Types.kPyGTB, 'GTB',\n",
    "        'H:!V:VarTransform=None:'+\\\n",
    "        'NEstimators=100:LearningRate=0.1:MaxDepth=3')"
   ]
  },
  {
   "cell_type": "markdown",
   "metadata": {},
   "source": [
    "## Run training, testing and evaluation"
   ]
  },
  {
   "cell_type": "code",
   "execution_count": 9,
   "metadata": {},
   "outputs": [
    {
     "name": "stderr",
     "output_type": "stream",
     "text": [
      "/home/andrea/anaconda3/lib/python3.5/site-packages/keras/models.py:981: UserWarning: The `nb_epoch` argument in `fit` has been renamed `epochs`.\n",
      "  warnings.warn('The `nb_epoch` argument in `fit` '\n"
     ]
    },
    {
     "name": "stdout",
     "output_type": "stream",
     "text": [
      "Train on 9600 samples, validate on 2400 samples\n",
      "Epoch 1/10\n",
      "9600/9600 [==============================] - 1s 58us/step - loss: 0.5921 - categorical_accuracy: 0.6747 - val_loss: 0.4974 - val_categorical_accuracy: 0.7779\n",
      "\n",
      "Epoch 00001: val_loss improved from inf to 0.49745, saving model to dataset_pymva/weights/TrainedModel_PyKeras.h5\n",
      "Epoch 2/10\n",
      "9600/9600 [==============================] - 1s 66us/step - loss: 0.5055 - categorical_accuracy: 0.7520 - val_loss: 0.4342 - val_categorical_accuracy: 0.7925\n",
      "\n",
      "Epoch 00002: val_loss improved from 0.49745 to 0.43423, saving model to dataset_pymva/weights/TrainedModel_PyKeras.h5\n",
      "Epoch 3/10\n",
      "9600/9600 [==============================] - 1s 61us/step - loss: 0.4632 - categorical_accuracy: 0.7748 - val_loss: 0.4035 - val_categorical_accuracy: 0.8225\n",
      "\n",
      "Epoch 00003: val_loss improved from 0.43423 to 0.40347, saving model to dataset_pymva/weights/TrainedModel_PyKeras.h5\n",
      "Epoch 4/10\n",
      "9600/9600 [==============================] - 1s 72us/step - loss: 0.4415 - categorical_accuracy: 0.7898 - val_loss: 0.3820 - val_categorical_accuracy: 0.8254\n",
      "\n",
      "Epoch 00004: val_loss improved from 0.40347 to 0.38198, saving model to dataset_pymva/weights/TrainedModel_PyKeras.h5\n",
      "Epoch 5/10\n",
      "9600/9600 [==============================] - 1s 65us/step - loss: 0.4208 - categorical_accuracy: 0.8087 - val_loss: 0.3666 - val_categorical_accuracy: 0.8379\n",
      "\n",
      "Epoch 00005: val_loss improved from 0.38198 to 0.36656, saving model to dataset_pymva/weights/TrainedModel_PyKeras.h5\n",
      "Epoch 6/10\n",
      "9600/9600 [==============================] - 1s 64us/step - loss: 0.4146 - categorical_accuracy: 0.8105 - val_loss: 0.3675 - val_categorical_accuracy: 0.8367\n",
      "\n",
      "Epoch 00006: val_loss did not improve from 0.36656\n",
      "Epoch 7/10\n",
      "9600/9600 [==============================] - 1s 62us/step - loss: 0.3998 - categorical_accuracy: 0.8181 - val_loss: 0.3581 - val_categorical_accuracy: 0.8450\n",
      "\n",
      "Epoch 00007: val_loss improved from 0.36656 to 0.35808, saving model to dataset_pymva/weights/TrainedModel_PyKeras.h5\n",
      "Epoch 8/10\n",
      "9600/9600 [==============================] - 1s 62us/step - loss: 0.3907 - categorical_accuracy: 0.8253 - val_loss: 0.3541 - val_categorical_accuracy: 0.8458\n",
      "\n",
      "Epoch 00008: val_loss improved from 0.35808 to 0.35406, saving model to dataset_pymva/weights/TrainedModel_PyKeras.h5\n",
      "Epoch 9/10\n",
      "9600/9600 [==============================] - 1s 59us/step - loss: 0.3881 - categorical_accuracy: 0.8270 - val_loss: 0.3487 - val_categorical_accuracy: 0.8454\n",
      "\n",
      "Epoch 00009: val_loss improved from 0.35406 to 0.34872, saving model to dataset_pymva/weights/TrainedModel_PyKeras.h5\n",
      "Epoch 10/10\n",
      "9600/9600 [==============================] - 1s 60us/step - loss: 0.3855 - categorical_accuracy: 0.8309 - val_loss: 0.3499 - val_categorical_accuracy: 0.8488\n",
      "\n",
      "Epoch 00010: val_loss did not improve from 0.34872\n",
      "Factory                  : \u001b[1mTrain all methods\u001b[0m\n",
      "DataSetFactory           : [dataset_pymva] : Number of events in input trees\n",
      "                         : \n",
      "                         : \n",
      "                         : Dataset[dataset_pymva] : Weight renormalisation mode: \"EqualNumEvents\": renormalises all event classes ...\n",
      "                         : Dataset[dataset_pymva] :  such that the effective (weighted) number of events in each class is the same \n",
      "                         : Dataset[dataset_pymva] :  (and equals the number of events (entries) given for class=0 )\n",
      "                         : Dataset[dataset_pymva] : ... i.e. such that Sum[i=1..N_j]{w_i} = N_classA, j=classA, classB, ...\n",
      "                         : Dataset[dataset_pymva] : ... (note that N_j is the sum of TRAINING events\n",
      "                         : Dataset[dataset_pymva] :  ..... Testing events are not renormalised nor included in the renormalisation factor!)\n",
      "                         : Number of training and testing events\n",
      "                         : ---------------------------------------------------------------------------\n",
      "                         : Signal     -- training events            : 4800\n",
      "                         : Signal     -- testing events             : 1200\n",
      "                         : Signal     -- training and testing events: 6000\n",
      "                         : Background -- training events            : 4800\n",
      "                         : Background -- testing events             : 1200\n",
      "                         : Background -- training and testing events: 6000\n",
      "                         : \n",
      "DataSetInfo              : Correlation matrix (Signal):\n",
      "                         : ----------------------------------------\n",
      "                         :             var1    var2    var3    var4\n",
      "                         :    var1:  +1.000  +0.384  +0.587  +0.815\n",
      "                         :    var2:  +0.384  +1.000  +0.686  +0.725\n",
      "                         :    var3:  +0.587  +0.686  +1.000  +0.847\n",
      "                         :    var4:  +0.815  +0.725  +0.847  +1.000\n",
      "                         : ----------------------------------------\n",
      "DataSetInfo              : Correlation matrix (Background):\n",
      "                         : ----------------------------------------\n",
      "                         :             var1    var2    var3    var4\n",
      "                         :    var1:  +1.000  +0.851  +0.914  +0.964\n",
      "                         :    var2:  +0.851  +1.000  +0.926  +0.934\n",
      "                         :    var3:  +0.914  +0.926  +1.000  +0.971\n",
      "                         :    var4:  +0.964  +0.934  +0.971  +1.000\n",
      "                         : ----------------------------------------\n",
      "DataSetFactory           : [dataset_pymva] :  \n",
      "                         : \n",
      "Factory                  : [dataset_pymva] : Create Transformation \"I\" with events from all classes.\n",
      "                         : \n",
      "                         : Transformation, Variable selection : \n",
      "                         : Input : variable 'var1' <---> Output : variable 'var1'\n",
      "                         : Input : variable 'var2' <---> Output : variable 'var2'\n",
      "                         : Input : variable 'var3' <---> Output : variable 'var3'\n",
      "                         : Input : variable 'var4' <---> Output : variable 'var4'\n",
      "Factory                  : [dataset_pymva] : Create Transformation \"G\" with events from all classes.\n",
      "                         : \n",
      "                         : Transformation, Variable selection : \n",
      "                         : Input : variable 'var1' <---> Output : variable 'var1'\n",
      "                         : Input : variable 'var2' <---> Output : variable 'var2'\n",
      "                         : Input : variable 'var3' <---> Output : variable 'var3'\n",
      "                         : Input : variable 'var4' <---> Output : variable 'var4'\n",
      "                         : Preparing the Gaussian transformation...\n",
      "TFHandler_Factory        : Variable        Mean        RMS   [        Min        Max ]\n",
      "                         : -----------------------------------------------------------\n",
      "                         :     var1:  0.0064488    0.99831   [    -3.1728     5.7307 ]\n",
      "                         :     var2:  0.0067101     1.0006   [    -3.1728     5.7307 ]\n",
      "                         :     var3:  0.0071275     1.0018   [    -3.1728     5.7307 ]\n",
      "                         :     var4:  0.0069203     1.0005   [    -3.1728     5.7307 ]\n",
      "                         : -----------------------------------------------------------\n",
      "                         : Ranking input variables (method unspecific)...\n",
      "Id_GaussTransformation   : Ranking result (top variable is best ranked)\n",
      "                         : -----------------------------\n",
      "                         : Rank : Variable  : Separation\n",
      "                         : -----------------------------\n",
      "                         :    1 : var4      : 3.467e-01\n",
      "                         :    2 : var3      : 2.840e-01\n",
      "                         :    3 : var1      : 2.667e-01\n",
      "                         :    4 : var2      : 2.149e-01\n",
      "                         : -----------------------------\n",
      "Factory                  : Train method: PyKeras for Classification\n",
      "                         : \n",
      "                         : \n",
      "                         : \u001b[1m================================================================\u001b[0m\n",
      "                         : \u001b[1mH e l p   f o r   M V A   m e t h o d   [ PyKeras ] :\u001b[0m\n",
      "                         : \n",
      "                         : Keras is a high-level API for the Theano and Tensorflow packages.\n",
      "                         : This method wraps the training and predictions steps of the Keras\n",
      "                         : Python package for TMVA, so that dataloading, preprocessing and\n",
      "                         : evaluation can be done within the TMVA system. To use this Keras\n",
      "                         : interface, you have to generate a model with Keras first. Then,\n",
      "                         : this model can be loaded and trained in TMVA.\n",
      "                         : \n",
      "                         : \n",
      "                         : <Suppress this message by specifying \"!H\" in the booking option>\n",
      "                         : \u001b[1m================================================================\u001b[0m\n",
      "                         : \n",
      "                         : Preparing the Gaussian transformation...\n",
      "TFHandler_PyKeras        : Variable        Mean        RMS   [        Min        Max ]\n",
      "                         : -----------------------------------------------------------\n",
      "                         :     var1:  0.0064488    0.99831   [    -3.1728     5.7307 ]\n",
      "                         :     var2:  0.0067101     1.0006   [    -3.1728     5.7307 ]\n",
      "                         :     var3:  0.0071275     1.0018   [    -3.1728     5.7307 ]\n",
      "                         :     var4:  0.0069203     1.0005   [    -3.1728     5.7307 ]\n",
      "                         : -----------------------------------------------------------\n",
      "                         : Option SaveBestOnly: Only model weights with smallest validation loss will be stored\n",
      "                         : Option TriesEarlyStopping: Training will stop after 3 number of epochs with no improvement of validation loss\n",
      "                         : Elapsed time for training with 9600 events: 13.4 sec         \n",
      "                         : Creating xml weight file: \u001b[0;36mdataset_pymva/weights/TMVAClassification_PyKeras.weights.xml\u001b[0m\n",
      "                         : Creating standalone class: \u001b[0;36mdataset_pymva/weights/TMVAClassification_PyKeras.class.C\u001b[0m\n",
      "Factory                  : Training finished\n",
      "                         : \n",
      "Factory                  : Train method: GTB for Classification\n",
      "                         : \n",
      "                         : \n",
      "                         : \u001b[1m================================================================\u001b[0m\n",
      "                         : \u001b[1mH e l p   f o r   M V A   m e t h o d   [ GTB ] :\u001b[0m\n",
      "                         : A gradient tree boosting classifier builds a model from an ensemble\n",
      "                         : of decision trees, which are adapted each boosting step to fit better\n",
      "                         : to previously misclassified events.\n",
      "                         : \n",
      "                         : Check out the scikit-learn documentation for more information.\n",
      "                         : \n",
      "                         : <Suppress this message by specifying \"!H\" in the booking option>\n",
      "                         : \u001b[1m================================================================\u001b[0m\n",
      "                         : \n",
      "                         : \n",
      "                         : \u001b[1mSaving state file: \u001b[0mdataset_pymva/weights/PyGTBModel_GTB.PyData\n",
      "                         : \n",
      "                         : Elapsed time for training with 9600 events: 0.837 sec         \n",
      "                         : Creating xml weight file: \u001b[0;36mdataset_pymva/weights/TMVAClassification_GTB.weights.xml\u001b[0m\n",
      "                         : Creating standalone class: \u001b[0;36mdataset_pymva/weights/TMVAClassification_GTB.class.C\u001b[0m\n",
      "Factory                  : Training finished\n",
      "                         : \n",
      "                         : Ranking input variables (method specific)...\n",
      "                         : No variable ranking supplied by classifier: PyKeras\n",
      "GTB                      : Ranking result (top variable is best ranked)\n",
      "                         : --------------------------------------\n",
      "                         : Rank : Variable  : Variable Importance\n",
      "                         : --------------------------------------\n",
      "                         :    1 : var1      : 3.820e-01\n",
      "                         :    2 : var4      : 3.429e-01\n",
      "                         :    3 : var2      : 1.422e-01\n",
      "                         :    4 : var3      : 1.329e-01\n",
      "                         : --------------------------------------\n",
      "Factory                  : === Destroy and recreate all methods via weight files for testing ===\n",
      "                         : \n",
      "                         : Reading weight file: \u001b[0;36mdataset_pymva/weights/TMVAClassification_PyKeras.weights.xml\u001b[0m\n",
      "                         : Reading weight file: \u001b[0;36mdataset_pymva/weights/TMVAClassification_GTB.weights.xml\u001b[0m\n"
     ]
    }
   ],
   "source": [
    "factory.TrainAllMethods()"
   ]
  },
  {
   "cell_type": "code",
   "execution_count": 10,
   "metadata": {},
   "outputs": [
    {
     "name": "stdout",
     "output_type": "stream",
     "text": [
      "Factory                  : \u001b[1mTest all methods\u001b[0m\n",
      "Factory                  : Test method: PyKeras for Classification performance\n",
      "                         : \n",
      "                         : Load model from file: dataset_pymva/weights/TrainedModel_PyKeras.h5\n",
      "Factory                  : Test method: GTB for Classification performance\n",
      "                         : \n",
      "                         : \n",
      "                         : \u001b[1mLoading state file: \u001b[0mdataset_pymva/weights/PyGTBModel_GTB.PyData\n",
      "                         : \n"
     ]
    }
   ],
   "source": [
    "factory.TestAllMethods()"
   ]
  },
  {
   "cell_type": "code",
   "execution_count": 11,
   "metadata": {},
   "outputs": [
    {
     "name": "stdout",
     "output_type": "stream",
     "text": [
      "Factory                  : \u001b[1mEvaluate all methods\u001b[0m\n",
      "Factory                  : Evaluate classifier: PyKeras\n",
      "                         : \n",
      "TFHandler_PyKeras        : Variable        Mean        RMS   [        Min        Max ]\n",
      "                         : -----------------------------------------------------------\n",
      "                         :     var1:   0.021502     1.0002   [    -2.8156     5.7307 ]\n",
      "                         :     var2:   0.017676     1.0066   [    -2.8597     2.9384 ]\n",
      "                         :     var3:   0.016944    0.99606   [    -2.9303     3.4026 ]\n",
      "                         :     var4:   0.014696    0.99725   [    -2.9557     2.8578 ]\n",
      "                         : -----------------------------------------------------------\n",
      "PyKeras                  : [dataset_pymva] : Loop over test events and fill histograms with classifier response...\n",
      "                         : \n",
      "TFHandler_PyKeras        : Variable        Mean        RMS   [        Min        Max ]\n",
      "                         : -----------------------------------------------------------\n",
      "                         :     var1:   0.021502     1.0002   [    -2.8156     5.7307 ]\n",
      "                         :     var2:   0.017676     1.0066   [    -2.8597     2.9384 ]\n",
      "                         :     var3:   0.016944    0.99606   [    -2.9303     3.4026 ]\n",
      "                         :     var4:   0.014696    0.99725   [    -2.9557     2.8578 ]\n",
      "                         : -----------------------------------------------------------\n",
      "Factory                  : Evaluate classifier: GTB\n",
      "                         : \n",
      "GTB                      : [dataset_pymva] : Loop over test events and fill histograms with classifier response...\n",
      "                         : \n",
      "TFHandler_GTB            : Variable        Mean        RMS   [        Min        Max ]\n",
      "                         : -----------------------------------------------------------\n",
      "                         :     var1:   0.035044     1.6634   [    -4.8056     4.5758 ]\n",
      "                         :     var2:   0.024182     1.5892   [    -4.8610     3.8902 ]\n",
      "                         :     var3:   0.025523     1.7331   [    -5.1570     4.2785 ]\n",
      "                         :     var4:    0.18442     2.1576   [    -6.3160     4.3402 ]\n",
      "                         : -----------------------------------------------------------\n",
      "                         : \n",
      "                         : Evaluation results ranked by best signal efficiency and purity (area)\n",
      "                         : -------------------------------------------------------------------------------------------------------------------\n",
      "                         : DataSet       MVA                       \n",
      "                         : Name:         Method:          ROC-integ\n",
      "                         : dataset_pymva PyKeras        : 0.928\n",
      "                         : dataset_pymva GTB            : 0.916\n",
      "                         : -------------------------------------------------------------------------------------------------------------------\n",
      "                         : \n",
      "                         : Testing efficiency compared to training efficiency (overtraining check)\n",
      "                         : -------------------------------------------------------------------------------------------------------------------\n",
      "                         : DataSet              MVA              Signal efficiency: from test sample (from training sample) \n",
      "                         : Name:                Method:          @B=0.01             @B=0.10            @B=0.30   \n",
      "                         : -------------------------------------------------------------------------------------------------------------------\n",
      "                         : dataset_pymva        PyKeras        : 0.315 (0.325)       0.770 (0.785)      0.940 (0.945)\n",
      "                         : dataset_pymva        GTB            : 0.285 (0.415)       0.738 (0.793)      0.921 (0.942)\n",
      "                         : -------------------------------------------------------------------------------------------------------------------\n",
      "                         : \n",
      "Dataset:dataset_pymva    : Created tree 'TestTree' with 2400 events\n",
      "                         : \n",
      "Dataset:dataset_pymva    : Created tree 'TrainTree' with 9600 events\n",
      "                         : \n",
      "Factory                  : \u001b[1mThank you for using TMVA!\u001b[0m\n",
      "                         : \u001b[1mFor citation information, please visit: http://tmva.sf.net/citeTMVA.html\u001b[0m\n"
     ]
    }
   ],
   "source": [
    "factory.EvaluateAllMethods()"
   ]
  },
  {
   "cell_type": "code",
   "execution_count": 12,
   "metadata": {},
   "outputs": [
    {
     "data": {
      "image/png": "[encoded data removed]",
      "text/plain": [
       "<IPython.core.display.Image object>"
      ]
     },
     "metadata": {},
     "output_type": "display_data"
    }
   ],
   "source": [
    "# Print ROC\n",
    "canvas = factory.GetROCCurve(dataloader)\n",
    "canvas.Draw()"
   ]
  },
  {
   "cell_type": "markdown",
   "metadata": {},
   "source": [
    "Both present very good outcomes. PyKeras has a performance slightly better than GTB."
   ]
  }
 ],
 "metadata": {
  "kernelspec": {
   "display_name": "Python 3",
   "language": "python",
   "name": "python3"
  },
  "language_info": {
   "codemirror_mode": {
    "name": "ipython",
    "version": 3
   },
   "file_extension": ".py",
   "mimetype": "text/x-python",
   "name": "python",
   "nbconvert_exporter": "python",
   "pygments_lexer": "ipython3",
   "version": "3.5.5"
  }
 },
 "nbformat": 4,
 "nbformat_minor": 2
}
